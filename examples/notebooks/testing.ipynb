{
 "cells": [
  {
   "cell_type": "code",
   "execution_count": 1,
   "id": "b2fda7e8",
   "metadata": {},
   "outputs": [],
   "source": [
    "import opal\n",
    "import kglab\n",
    "import rdflib\n",
    "import z3\n",
    "import dateutil.parser\n",
    "import re"
   ]
  },
  {
   "cell_type": "code",
   "execution_count": 2,
   "id": "99cdd9c8",
   "metadata": {},
   "outputs": [],
   "source": [
    "from opal.logic.z3.z3_literal import Z3Literal\n",
    "from opal.data.event_data import EventData\n",
    "from opal.data.mapper import LogMapper\n",
    "from opal.data.processor import LogProcessor\n",
    "\n",
    "from rdflib import Graph\n",
    "\n",
    "from z3 import RealSort"
   ]
  },
  {
   "cell_type": "code",
   "execution_count": 3,
   "id": "681b557e",
   "metadata": {},
   "outputs": [],
   "source": [
    "data_dir = '../data/'\n",
    "ttl_data_file = data_dir + 'P1_log_instances.ttl'\n",
    "sample_log_file = data_dir + 'sample_log.csv'\n",
    "bpic2017_file = data_dir + 'BPI Challenge 2017.xes.gz'"
   ]
  },
  {
   "cell_type": "markdown",
   "id": "264b3e46",
   "metadata": {},
   "source": [
    "## Testing Mapping"
   ]
  },
  {
   "cell_type": "code",
   "execution_count": 4,
   "id": "d3acd55a",
   "metadata": {},
   "outputs": [],
   "source": [
    "# load the log\n",
    "col_dict = {'caseID' : 'caseID', 'activityID' : 'activityID', 'timestamp' : 'timestamp', 'eventID' : None}\n",
    "processor = LogProcessor(col_dict=col_dict, log_path=sample_log_file, batch_size=1)\n",
    "event_data = processor.load_log()"
   ]
  },
  {
   "cell_type": "code",
   "execution_count": 5,
   "id": "22e0d7c0",
   "metadata": {},
   "outputs": [
    {
     "data": {
      "text/html": [
       "<div>\n",
       "<style scoped>\n",
       "    .dataframe tbody tr th:only-of-type {\n",
       "        vertical-align: middle;\n",
       "    }\n",
       "\n",
       "    .dataframe tbody tr th {\n",
       "        vertical-align: top;\n",
       "    }\n",
       "\n",
       "    .dataframe thead th {\n",
       "        text-align: right;\n",
       "    }\n",
       "</style>\n",
       "<table border=\"1\" class=\"dataframe\">\n",
       "  <thead>\n",
       "    <tr style=\"text-align: right;\">\n",
       "      <th></th>\n",
       "      <th>caseID</th>\n",
       "      <th>activityID</th>\n",
       "      <th>eventID</th>\n",
       "      <th>timestamp</th>\n",
       "      <th>resourceID</th>\n",
       "      <th>processID</th>\n",
       "      <th>batch</th>\n",
       "    </tr>\n",
       "  </thead>\n",
       "  <tbody>\n",
       "    <tr>\n",
       "      <th>0</th>\n",
       "      <td>C_case_0</td>\n",
       "      <td>A_activity_A</td>\n",
       "      <td>E_0</td>\n",
       "      <td>2016-01-01 09:00:00+00:00</td>\n",
       "      <td>R_user_1</td>\n",
       "      <td>P1</td>\n",
       "      <td>1</td>\n",
       "    </tr>\n",
       "    <tr>\n",
       "      <th>1</th>\n",
       "      <td>C_case_0</td>\n",
       "      <td>A_activity_A</td>\n",
       "      <td>E_1</td>\n",
       "      <td>2016-01-01 09:15:00+00:00</td>\n",
       "      <td>R_user_1</td>\n",
       "      <td>P1</td>\n",
       "      <td>1</td>\n",
       "    </tr>\n",
       "    <tr>\n",
       "      <th>2</th>\n",
       "      <td>C_case_0</td>\n",
       "      <td>A_activity_C</td>\n",
       "      <td>E_2</td>\n",
       "      <td>2016-01-01 09:35:00+00:00</td>\n",
       "      <td>R_user_1</td>\n",
       "      <td>P1</td>\n",
       "      <td>1</td>\n",
       "    </tr>\n",
       "    <tr>\n",
       "      <th>3</th>\n",
       "      <td>C_case_1</td>\n",
       "      <td>A_activity_A</td>\n",
       "      <td>E_3</td>\n",
       "      <td>2016-01-02 09:00:00+00:00</td>\n",
       "      <td>R_user_1</td>\n",
       "      <td>P1</td>\n",
       "      <td>2</td>\n",
       "    </tr>\n",
       "    <tr>\n",
       "      <th>4</th>\n",
       "      <td>C_case_1</td>\n",
       "      <td>A_activity_B</td>\n",
       "      <td>E_4</td>\n",
       "      <td>2016-01-02 09:00:00+00:00</td>\n",
       "      <td>R_user_0</td>\n",
       "      <td>P1</td>\n",
       "      <td>2</td>\n",
       "    </tr>\n",
       "    <tr>\n",
       "      <th>5</th>\n",
       "      <td>C_case_1</td>\n",
       "      <td>A_activity_C</td>\n",
       "      <td>E_5</td>\n",
       "      <td>2016-01-03 09:00:00+00:00</td>\n",
       "      <td>R_user_0</td>\n",
       "      <td>P1</td>\n",
       "      <td>2</td>\n",
       "    </tr>\n",
       "    <tr>\n",
       "      <th>6</th>\n",
       "      <td>C_case_2</td>\n",
       "      <td>A_activity_A</td>\n",
       "      <td>E_6</td>\n",
       "      <td>2016-01-01 09:00:00+00:00</td>\n",
       "      <td>R_user_1</td>\n",
       "      <td>P1</td>\n",
       "      <td>3</td>\n",
       "    </tr>\n",
       "    <tr>\n",
       "      <th>7</th>\n",
       "      <td>C_case_2</td>\n",
       "      <td>A_activity_B</td>\n",
       "      <td>E_7</td>\n",
       "      <td>2016-01-01 09:10:00+00:00</td>\n",
       "      <td>R_user_1</td>\n",
       "      <td>P1</td>\n",
       "      <td>3</td>\n",
       "    </tr>\n",
       "    <tr>\n",
       "      <th>8</th>\n",
       "      <td>C_case_2</td>\n",
       "      <td>A_activity_C</td>\n",
       "      <td>E_8</td>\n",
       "      <td>2016-01-01 09:15:00+00:00</td>\n",
       "      <td>R_user_2</td>\n",
       "      <td>P1</td>\n",
       "      <td>3</td>\n",
       "    </tr>\n",
       "    <tr>\n",
       "      <th>9</th>\n",
       "      <td>C_case_2</td>\n",
       "      <td>A_activity_D</td>\n",
       "      <td>E_9</td>\n",
       "      <td>2017-01-06 10:35:00+00:00</td>\n",
       "      <td>R_user_1</td>\n",
       "      <td>P1</td>\n",
       "      <td>3</td>\n",
       "    </tr>\n",
       "  </tbody>\n",
       "</table>\n",
       "</div>"
      ],
      "text/plain": [
       "     caseID    activityID eventID                 timestamp resourceID  \\\n",
       "0  C_case_0  A_activity_A     E_0 2016-01-01 09:00:00+00:00   R_user_1   \n",
       "1  C_case_0  A_activity_A     E_1 2016-01-01 09:15:00+00:00   R_user_1   \n",
       "2  C_case_0  A_activity_C     E_2 2016-01-01 09:35:00+00:00   R_user_1   \n",
       "3  C_case_1  A_activity_A     E_3 2016-01-02 09:00:00+00:00   R_user_1   \n",
       "4  C_case_1  A_activity_B     E_4 2016-01-02 09:00:00+00:00   R_user_0   \n",
       "5  C_case_1  A_activity_C     E_5 2016-01-03 09:00:00+00:00   R_user_0   \n",
       "6  C_case_2  A_activity_A     E_6 2016-01-01 09:00:00+00:00   R_user_1   \n",
       "7  C_case_2  A_activity_B     E_7 2016-01-01 09:10:00+00:00   R_user_1   \n",
       "8  C_case_2  A_activity_C     E_8 2016-01-01 09:15:00+00:00   R_user_2   \n",
       "9  C_case_2  A_activity_D     E_9 2017-01-06 10:35:00+00:00   R_user_1   \n",
       "\n",
       "  processID  batch  \n",
       "0        P1      1  \n",
       "1        P1      1  \n",
       "2        P1      1  \n",
       "3        P1      2  \n",
       "4        P1      2  \n",
       "5        P1      2  \n",
       "6        P1      3  \n",
       "7        P1      3  \n",
       "8        P1      3  \n",
       "9        P1      3  "
      ]
     },
     "execution_count": 5,
     "metadata": {},
     "output_type": "execute_result"
    }
   ],
   "source": [
    "event_data.data"
   ]
  },
  {
   "cell_type": "code",
   "execution_count": 6,
   "id": "f731e6a9",
   "metadata": {},
   "outputs": [
    {
     "data": {
      "text/plain": [
       "{'log_paths': ['/tmp/tmpra50x1zj.csv',\n",
       "  '/tmp/tmp8jc42utk.csv',\n",
       "  '/tmp/tmpr2v5nx76.csv'],\n",
       " 'process_name': 'P1',\n",
       " 'batches': 3}"
      ]
     },
     "execution_count": 6,
     "metadata": {},
     "output_type": "execute_result"
    }
   ],
   "source": [
    "event_data.metadata"
   ]
  },
  {
   "cell_type": "code",
   "execution_count": 7,
   "id": "ab3895b9",
   "metadata": {},
   "outputs": [
    {
     "name": "stdout",
     "output_type": "stream",
     "text": [
      "Building mappings for logs...\n"
     ]
    },
    {
     "name": "stderr",
     "output_type": "stream",
     "text": [
      "  0%|          | 0/3 [00:00<?, ?it/s]2025-06-27 15:58:24,652 | INFO: Translating YARRRML mapping to [R2]RML\n",
      "2025-06-27 15:58:24,654 | INFO: RML content is created!\n",
      "2025-06-27 15:58:24,662 | INFO: Mapping has been syntactically validated.\n",
      "2025-06-27 15:58:24,663 | INFO: Translation has finished successfully.\n",
      "2025-06-27 15:58:24,669 | INFO: Translating YARRRML mapping to [R2]RML\n",
      "2025-06-27 15:58:24,671 | INFO: RML content is created!\n",
      "2025-06-27 15:58:24,676 | INFO: Mapping has been syntactically validated.\n",
      "2025-06-27 15:58:24,677 | INFO: Translation has finished successfully.\n",
      "2025-06-27 15:58:24,683 | INFO: Translating YARRRML mapping to [R2]RML\n",
      "2025-06-27 15:58:24,684 | INFO: RML content is created!\n",
      "2025-06-27 15:58:24,689 | INFO: Mapping has been syntactically validated.\n",
      "2025-06-27 15:58:24,690 | INFO: Translation has finished successfully.\n",
      "100%|██████████| 3/3 [00:00<00:00, 64.20it/s]"
     ]
    },
    {
     "name": "stdout",
     "output_type": "stream",
     "text": [
      "Mappings built.\n",
      "Generating knowledge graph...\n"
     ]
    },
    {
     "name": "stderr",
     "output_type": "stream",
     "text": [
      "\n",
      "INFO | 2025-06-27 15:58:25,161 | 9 mapping rules retrieved.\n",
      "INFO | 2025-06-27 15:58:25,173 | Mapping partition with 9 groups generated.\n",
      "INFO | 2025-06-27 15:58:25,174 | Maximum number of rules within mapping group: 1.\n",
      "INFO | 2025-06-27 15:58:25,174 | Mappings processed in 0.479 seconds.\n",
      "INFO | 2025-06-27 15:58:25,556 | Number of triples generated in total: 20.\n"
     ]
    },
    {
     "name": "stdout",
     "output_type": "stream",
     "text": [
      "Knowledge graph generated.\n",
      "Knowledge graph 1/3 generated.\n",
      "Generating knowledge graph...\n"
     ]
    },
    {
     "name": "stderr",
     "output_type": "stream",
     "text": [
      "INFO | 2025-06-27 15:58:26,008 | 9 mapping rules retrieved.\n",
      "INFO | 2025-06-27 15:58:26,019 | Mapping partition with 9 groups generated.\n",
      "INFO | 2025-06-27 15:58:26,020 | Maximum number of rules within mapping group: 1.\n",
      "INFO | 2025-06-27 15:58:26,020 | Mappings processed in 0.454 seconds.\n",
      "INFO | 2025-06-27 15:58:27,367 | Number of triples generated in total: 22.\n"
     ]
    },
    {
     "name": "stdout",
     "output_type": "stream",
     "text": [
      "Knowledge graph generated.\n",
      "Knowledge graph 2/3 generated.\n",
      "Generating knowledge graph...\n"
     ]
    },
    {
     "name": "stderr",
     "output_type": "stream",
     "text": [
      "INFO | 2025-06-27 15:58:27,818 | 9 mapping rules retrieved.\n",
      "INFO | 2025-06-27 15:58:27,829 | Mapping partition with 9 groups generated.\n",
      "INFO | 2025-06-27 15:58:27,830 | Maximum number of rules within mapping group: 1.\n",
      "INFO | 2025-06-27 15:58:27,831 | Mappings processed in 0.457 seconds.\n",
      "INFO | 2025-06-27 15:58:28,179 | Number of triples generated in total: 28.\n"
     ]
    },
    {
     "name": "stdout",
     "output_type": "stream",
     "text": [
      "Knowledge graph generated.\n",
      "Knowledge graph 3/3 generated.\n"
     ]
    }
   ],
   "source": [
    "mapper = LogMapper(data=event_data, output_encoding='z3')\n",
    "z3_data = mapper.get_mapped_data()"
   ]
  },
  {
   "cell_type": "code",
   "execution_count": 8,
   "id": "db02cd40",
   "metadata": {},
   "outputs": [
    {
     "name": "stdout",
     "output_type": "stream",
     "text": [
      "hasResource(E_2, R_user_1)\n",
      "Event(E_0)\n",
      "hasProcess(C_case_0, P1)\n",
      "hasCase(E_2, C_case_0)\n",
      "Event(E_2)\n",
      "hasActivity(E_1, A_activity_A)\n",
      "hasCase(E_1, C_case_0)\n",
      "hasActivity(E_2, A_activity_C)\n",
      "hasRecordedTime(E_0) == 1451638800\n",
      "Activity(A_activity_A)\n",
      "Event(E_1)\n",
      "Activity(A_activity_C)\n",
      "hasResource(E_1, R_user_1)\n",
      "Resource(R_user_1)\n",
      "hasRecordedTime(E_2) == 1451640900\n",
      "hasResource(E_0, R_user_1)\n",
      "Case(C_case_0)\n",
      "hasCase(E_0, C_case_0)\n",
      "hasRecordedTime(E_1) == 1451639700\n",
      "hasActivity(E_0, A_activity_A)\n",
      "hasCase(E_3, C_case_1)\n",
      "Event(E_4)\n",
      "hasRecordedTime(E_4) == 1451725200\n",
      "hasResource(E_4, R_user_0)\n",
      "hasCase(E_4, C_case_1)\n",
      "Case(C_case_1)\n",
      "Event(E_5)\n",
      "hasActivity(E_5, A_activity_C)\n",
      "Activity(A_activity_B)\n",
      "hasActivity(E_4, A_activity_B)\n",
      "hasCase(E_5, C_case_1)\n",
      "hasResource(E_5, R_user_0)\n",
      "Activity(A_activity_A)\n",
      "Activity(A_activity_C)\n",
      "Resource(R_user_1)\n",
      "Resource(R_user_0)\n",
      "hasRecordedTime(E_5) == 1451811600\n",
      "hasRecordedTime(E_3) == 1451725200\n",
      "hasResource(E_3, R_user_1)\n",
      "hasActivity(E_3, A_activity_A)\n",
      "hasProcess(C_case_1, P1)\n",
      "Event(E_3)\n",
      "hasResource(E_6, R_user_1)\n",
      "hasActivity(E_9, A_activity_D)\n",
      "hasResource(E_7, R_user_1)\n",
      "hasActivity(E_7, A_activity_B)\n",
      "Activity(A_activity_D)\n",
      "Activity(A_activity_B)\n",
      "hasCase(E_9, C_case_2)\n",
      "Activity(A_activity_A)\n",
      "hasRecordedTime(E_9) == 1483698900\n",
      "Activity(A_activity_C)\n",
      "hasRecordedTime(E_6) == 1451638800\n",
      "Event(E_8)\n",
      "hasResource(E_9, R_user_1)\n",
      "hasActivity(E_8, A_activity_C)\n",
      "Resource(R_user_1)\n",
      "Resource(R_user_2)\n",
      "hasCase(E_6, C_case_2)\n",
      "hasProcess(C_case_2, P1)\n",
      "hasCase(E_7, C_case_2)\n",
      "hasRecordedTime(E_7) == 1451639400\n",
      "Event(E_9)\n",
      "hasRecordedTime(E_8) == 1451639700\n",
      "Case(C_case_2)\n",
      "hasCase(E_8, C_case_2)\n",
      "hasResource(E_8, R_user_2)\n",
      "Event(E_6)\n",
      "hasActivity(E_6, A_activity_A)\n",
      "Event(E_7)\n"
     ]
    }
   ],
   "source": [
    "for z3_expr in z3_data:\n",
    "    print(z3_expr)"
   ]
  },
  {
   "cell_type": "markdown",
   "id": "21407a2f",
   "metadata": {},
   "source": [
    "# Test on BPIC 2017 data"
   ]
  },
  {
   "cell_type": "code",
   "execution_count": null,
   "id": "ea2887df",
   "metadata": {},
   "outputs": [
    {
     "name": "stderr",
     "output_type": "stream",
     "text": [
      "/home/vscode/.local/lib/python3.9/site-packages/pm4py/util/dt_parsing/parser.py:82: UserWarning: ISO8601 strings are not fully supported with strpfromiso for Python versions below 3.11\n",
      "  warnings.warn(\n",
      "/opt/conda/lib/python3.9/site-packages/tqdm/auto.py:21: TqdmWarning: IProgress not found. Please update jupyter and ipywidgets. See https://ipywidgets.readthedocs.io/en/stable/user_install.html\n",
      "  from .autonotebook import tqdm as notebook_tqdm\n",
      "parsing log, completed traces :: 100%|██████████| 31509/31509 [00:57<00:00, 552.12it/s]\n"
     ]
    }
   ],
   "source": [
    "processor = LogProcessor(log_path=bpic2017_file, batch_size=100)\n",
    "event_data = processor.load_log(downsample_rate=0.2)"
   ]
  },
  {
   "cell_type": "code",
   "execution_count": null,
   "id": "844e52fb",
   "metadata": {},
   "outputs": [
    {
     "name": "stdout",
     "output_type": "stream",
     "text": [
      "Building mappings for logs...\n"
     ]
    },
    {
     "name": "stderr",
     "output_type": "stream",
     "text": [
      "  0%|          | 0/316 [00:00<?, ?it/s]2025-06-27 16:01:00,445 | INFO: Translating YARRRML mapping to [R2]RML\n",
      "INFO | 2025-06-27 16:01:00,445 | Translating YARRRML mapping to [R2]RML\n",
      "2025-06-27 16:01:00,448 | INFO: RML content is created!\n",
      "INFO | 2025-06-27 16:01:00,448 | RML content is created!\n",
      "2025-06-27 16:01:00,457 | INFO: Mapping has been syntactically validated.\n",
      "INFO | 2025-06-27 16:01:00,457 | Mapping has been syntactically validated.\n",
      "2025-06-27 16:01:00,459 | INFO: Translation has finished successfully.\n",
      "INFO | 2025-06-27 16:01:00,459 | Translation has finished successfully.\n",
      "2025-06-27 16:01:00,469 | INFO: Translating YARRRML mapping to [R2]RML\n",
      "INFO | 2025-06-27 16:01:00,469 | Translating YARRRML mapping to [R2]RML\n",
      "2025-06-27 16:01:00,471 | INFO: RML content is created!\n",
      "INFO | 2025-06-27 16:01:00,471 | RML content is created!\n",
      "2025-06-27 16:01:00,477 | INFO: Mapping has been syntactically validated.\n",
      "INFO | 2025-06-27 16:01:00,477 | Mapping has been syntactically validated.\n",
      "2025-06-27 16:01:00,479 | INFO: Translation has finished successfully.\n",
      "INFO | 2025-06-27 16:01:00,479 | Translation has finished successfully.\n",
      "2025-06-27 16:01:00,489 | INFO: Translating YARRRML mapping to [R2]RML\n",
      "INFO | 2025-06-27 16:01:00,489 | Translating YARRRML mapping to [R2]RML\n",
      "2025-06-27 16:01:00,490 | INFO: RML content is created!\n",
      "INFO | 2025-06-27 16:01:00,490 | RML content is created!\n",
      "2025-06-27 16:01:00,496 | INFO: Mapping has been syntactically validated.\n",
      "INFO | 2025-06-27 16:01:00,496 | Mapping has been syntactically validated.\n",
      "2025-06-27 16:01:00,499 | INFO: Translation has finished successfully.\n",
      "INFO | 2025-06-27 16:01:00,499 | Translation has finished successfully.\n",
      "2025-06-27 16:01:00,507 | INFO: Translating YARRRML mapping to [R2]RML\n",
      "INFO | 2025-06-27 16:01:00,507 | Translating YARRRML mapping to [R2]RML\n",
      "2025-06-27 16:01:00,509 | INFO: RML content is created!\n",
      "INFO | 2025-06-27 16:01:00,509 | RML content is created!\n",
      "2025-06-27 16:01:00,516 | INFO: Mapping has been syntactically validated.\n",
      "INFO | 2025-06-27 16:01:00,516 | Mapping has been syntactically validated.\n",
      "2025-06-27 16:01:00,518 | INFO: Translation has finished successfully.\n",
      "INFO | 2025-06-27 16:01:00,518 | Translation has finished successfully.\n",
      "2025-06-27 16:01:00,527 | INFO: Translating YARRRML mapping to [R2]RML\n",
      "INFO | 2025-06-27 16:01:00,527 | Translating YARRRML mapping to [R2]RML\n",
      "2025-06-27 16:01:00,529 | INFO: RML content is created!\n",
      "INFO | 2025-06-27 16:01:00,529 | RML content is created!\n",
      "2025-06-27 16:01:00,534 | INFO: Mapping has been syntactically validated.\n",
      "INFO | 2025-06-27 16:01:00,534 | Mapping has been syntactically validated.\n",
      "2025-06-27 16:01:00,536 | INFO: Translation has finished successfully.\n",
      "INFO | 2025-06-27 16:01:00,536 | Translation has finished successfully.\n",
      "  2%|▏         | 5/316 [00:00<00:06, 49.45it/s]2025-06-27 16:01:00,545 | INFO: Translating YARRRML mapping to [R2]RML\n",
      "INFO | 2025-06-27 16:01:00,545 | Translating YARRRML mapping to [R2]RML\n",
      "2025-06-27 16:01:00,547 | INFO: RML content is created!\n",
      "INFO | 2025-06-27 16:01:00,547 | RML content is created!\n",
      "2025-06-27 16:01:00,552 | INFO: Mapping has been syntactically validated.\n",
      "INFO | 2025-06-27 16:01:00,552 | Mapping has been syntactically validated.\n",
      "2025-06-27 16:01:00,553 | INFO: Translation has finished successfully.\n",
      "INFO | 2025-06-27 16:01:00,553 | Translation has finished successfully.\n",
      "2025-06-27 16:01:00,562 | INFO: Translating YARRRML mapping to [R2]RML\n",
      "INFO | 2025-06-27 16:01:00,562 | Translating YARRRML mapping to [R2]RML\n",
      "2025-06-27 16:01:00,564 | INFO: RML content is created!\n",
      "INFO | 2025-06-27 16:01:00,564 | RML content is created!\n",
      "2025-06-27 16:01:00,570 | INFO: Mapping has been syntactically validated.\n",
      "INFO | 2025-06-27 16:01:00,570 | Mapping has been syntactically validated.\n",
      "2025-06-27 16:01:00,571 | INFO: Translation has finished successfully.\n",
      "INFO | 2025-06-27 16:01:00,571 | Translation has finished successfully.\n",
      "2025-06-27 16:01:00,579 | INFO: Translating YARRRML mapping to [R2]RML\n",
      "INFO | 2025-06-27 16:01:00,579 | Translating YARRRML mapping to [R2]RML\n",
      "2025-06-27 16:01:00,581 | INFO: RML content is created!\n",
      "INFO | 2025-06-27 16:01:00,581 | RML content is created!\n",
      "2025-06-27 16:01:00,586 | INFO: Mapping has been syntactically validated.\n",
      "INFO | 2025-06-27 16:01:00,586 | Mapping has been syntactically validated.\n",
      "2025-06-27 16:01:00,587 | INFO: Translation has finished successfully.\n",
      "INFO | 2025-06-27 16:01:00,587 | Translation has finished successfully.\n",
      "2025-06-27 16:01:00,595 | INFO: Translating YARRRML mapping to [R2]RML\n",
      "INFO | 2025-06-27 16:01:00,595 | Translating YARRRML mapping to [R2]RML\n",
      "2025-06-27 16:01:00,597 | INFO: RML content is created!\n",
      "INFO | 2025-06-27 16:01:00,597 | RML content is created!\n",
      "2025-06-27 16:01:00,603 | INFO: Mapping has been syntactically validated.\n",
      "INFO | 2025-06-27 16:01:00,603 | Mapping has been syntactically validated.\n",
      "2025-06-27 16:01:00,604 | INFO: Translation has finished successfully.\n",
      "INFO | 2025-06-27 16:01:00,604 | Translation has finished successfully.\n",
      "2025-06-27 16:01:00,613 | INFO: Translating YARRRML mapping to [R2]RML\n",
      "INFO | 2025-06-27 16:01:00,613 | Translating YARRRML mapping to [R2]RML\n",
      "2025-06-27 16:01:00,615 | INFO: RML content is created!\n",
      "INFO | 2025-06-27 16:01:00,615 | RML content is created!\n",
      "2025-06-27 16:01:00,621 | INFO: Mapping has been syntactically validated.\n",
      "INFO | 2025-06-27 16:01:00,621 | Mapping has been syntactically validated.\n",
      "2025-06-27 16:01:00,623 | INFO: Translation has finished successfully.\n",
      "INFO | 2025-06-27 16:01:00,623 | Translation has finished successfully.\n",
      "2025-06-27 16:01:00,631 | INFO: Translating YARRRML mapping to [R2]RML\n",
      "INFO | 2025-06-27 16:01:00,631 | Translating YARRRML mapping to [R2]RML\n",
      "2025-06-27 16:01:00,633 | INFO: RML content is created!\n",
      "INFO | 2025-06-27 16:01:00,633 | RML content is created!\n",
      "2025-06-27 16:01:00,639 | INFO: Mapping has been syntactically validated.\n",
      "INFO | 2025-06-27 16:01:00,639 | Mapping has been syntactically validated.\n",
      "2025-06-27 16:01:00,642 | INFO: Translation has finished successfully.\n",
      "INFO | 2025-06-27 16:01:00,642 | Translation has finished successfully.\n",
      "  3%|▎         | 11/316 [00:00<00:05, 53.63it/s]2025-06-27 16:01:00,651 | INFO: Translating YARRRML mapping to [R2]RML\n",
      "INFO | 2025-06-27 16:01:00,651 | Translating YARRRML mapping to [R2]RML\n",
      "2025-06-27 16:01:00,653 | INFO: RML content is created!\n",
      "INFO | 2025-06-27 16:01:00,653 | RML content is created!\n",
      "2025-06-27 16:01:00,661 | INFO: Mapping has been syntactically validated.\n",
      "INFO | 2025-06-27 16:01:00,661 | Mapping has been syntactically validated.\n",
      "2025-06-27 16:01:00,663 | INFO: Translation has finished successfully.\n",
      "INFO | 2025-06-27 16:01:00,663 | Translation has finished successfully.\n",
      "2025-06-27 16:01:00,673 | INFO: Translating YARRRML mapping to [R2]RML\n",
      "INFO | 2025-06-27 16:01:00,673 | Translating YARRRML mapping to [R2]RML\n",
      "2025-06-27 16:01:00,675 | INFO: RML content is created!\n",
      "INFO | 2025-06-27 16:01:00,675 | RML content is created!\n",
      "2025-06-27 16:01:00,682 | INFO: Mapping has been syntactically validated.\n",
      "INFO | 2025-06-27 16:01:00,682 | Mapping has been syntactically validated.\n",
      "2025-06-27 16:01:00,683 | INFO: Translation has finished successfully.\n",
      "INFO | 2025-06-27 16:01:00,683 | Translation has finished successfully.\n",
      "2025-06-27 16:01:00,696 | INFO: Translating YARRRML mapping to [R2]RML\n",
      "INFO | 2025-06-27 16:01:00,696 | Translating YARRRML mapping to [R2]RML\n",
      "2025-06-27 16:01:00,698 | INFO: RML content is created!\n",
      "INFO | 2025-06-27 16:01:00,698 | RML content is created!\n",
      "2025-06-27 16:01:00,706 | INFO: Mapping has been syntactically validated.\n",
      "INFO | 2025-06-27 16:01:00,706 | Mapping has been syntactically validated.\n",
      "2025-06-27 16:01:00,708 | INFO: Translation has finished successfully.\n",
      "INFO | 2025-06-27 16:01:00,708 | Translation has finished successfully.\n",
      "2025-06-27 16:01:00,722 | INFO: Translating YARRRML mapping to [R2]RML\n",
      "INFO | 2025-06-27 16:01:00,722 | Translating YARRRML mapping to [R2]RML\n",
      "2025-06-27 16:01:00,725 | INFO: RML content is created!\n",
      "INFO | 2025-06-27 16:01:00,725 | RML content is created!\n",
      "2025-06-27 16:01:00,735 | INFO: Mapping has been syntactically validated.\n",
      "INFO | 2025-06-27 16:01:00,735 | Mapping has been syntactically validated.\n",
      "2025-06-27 16:01:00,739 | INFO: Translation has finished successfully.\n",
      "INFO | 2025-06-27 16:01:00,739 | Translation has finished successfully.\n",
      "2025-06-27 16:01:00,753 | INFO: Translating YARRRML mapping to [R2]RML\n",
      "INFO | 2025-06-27 16:01:00,753 | Translating YARRRML mapping to [R2]RML\n",
      "2025-06-27 16:01:00,756 | INFO: RML content is created!\n",
      "INFO | 2025-06-27 16:01:00,756 | RML content is created!\n",
      "2025-06-27 16:01:00,761 | INFO: Mapping has been syntactically validated.\n",
      "INFO | 2025-06-27 16:01:00,761 | Mapping has been syntactically validated.\n",
      "2025-06-27 16:01:00,763 | INFO: Translation has finished successfully.\n",
      "INFO | 2025-06-27 16:01:00,763 | Translation has finished successfully.\n",
      "2025-06-27 16:01:00,773 | INFO: Translating YARRRML mapping to [R2]RML\n",
      "INFO | 2025-06-27 16:01:00,773 | Translating YARRRML mapping to [R2]RML\n",
      "2025-06-27 16:01:00,775 | INFO: RML content is created!\n",
      "INFO | 2025-06-27 16:01:00,775 | RML content is created!\n",
      "2025-06-27 16:01:00,780 | INFO: Mapping has been syntactically validated.\n",
      "INFO | 2025-06-27 16:01:00,780 | Mapping has been syntactically validated.\n",
      "2025-06-27 16:01:00,781 | INFO: Translation has finished successfully.\n",
      "INFO | 2025-06-27 16:01:00,781 | Translation has finished successfully.\n",
      "  5%|▌         | 17/316 [00:00<00:06, 48.01it/s]2025-06-27 16:01:00,790 | INFO: Translating YARRRML mapping to [R2]RML\n",
      "INFO | 2025-06-27 16:01:00,790 | Translating YARRRML mapping to [R2]RML\n",
      "2025-06-27 16:01:00,792 | INFO: RML content is created!\n",
      "INFO | 2025-06-27 16:01:00,792 | RML content is created!\n",
      "2025-06-27 16:01:00,797 | INFO: Mapping has been syntactically validated.\n",
      "INFO | 2025-06-27 16:01:00,797 | Mapping has been syntactically validated.\n",
      "2025-06-27 16:01:00,798 | INFO: Translation has finished successfully.\n",
      "INFO | 2025-06-27 16:01:00,798 | Translation has finished successfully.\n",
      "2025-06-27 16:01:00,807 | INFO: Translating YARRRML mapping to [R2]RML\n",
      "INFO | 2025-06-27 16:01:00,807 | Translating YARRRML mapping to [R2]RML\n",
      "2025-06-27 16:01:00,808 | INFO: RML content is created!\n",
      "INFO | 2025-06-27 16:01:00,808 | RML content is created!\n",
      "2025-06-27 16:01:00,814 | INFO: Mapping has been syntactically validated.\n",
      "INFO | 2025-06-27 16:01:00,814 | Mapping has been syntactically validated.\n",
      "2025-06-27 16:01:00,815 | INFO: Translation has finished successfully.\n",
      "INFO | 2025-06-27 16:01:00,815 | Translation has finished successfully.\n",
      "2025-06-27 16:01:00,823 | INFO: Translating YARRRML mapping to [R2]RML\n",
      "INFO | 2025-06-27 16:01:00,823 | Translating YARRRML mapping to [R2]RML\n",
      "2025-06-27 16:01:00,825 | INFO: RML content is created!\n",
      "INFO | 2025-06-27 16:01:00,825 | RML content is created!\n",
      "2025-06-27 16:01:00,831 | INFO: Mapping has been syntactically validated.\n",
      "INFO | 2025-06-27 16:01:00,831 | Mapping has been syntactically validated.\n",
      "2025-06-27 16:01:00,832 | INFO: Translation has finished successfully.\n",
      "INFO | 2025-06-27 16:01:00,832 | Translation has finished successfully.\n",
      "2025-06-27 16:01:00,841 | INFO: Translating YARRRML mapping to [R2]RML\n",
      "INFO | 2025-06-27 16:01:00,841 | Translating YARRRML mapping to [R2]RML\n",
      "2025-06-27 16:01:00,843 | INFO: RML content is created!\n",
      "INFO | 2025-06-27 16:01:00,843 | RML content is created!\n",
      "2025-06-27 16:01:00,849 | INFO: Mapping has been syntactically validated.\n",
      "INFO | 2025-06-27 16:01:00,849 | Mapping has been syntactically validated.\n",
      "2025-06-27 16:01:00,850 | INFO: Translation has finished successfully.\n",
      "INFO | 2025-06-27 16:01:00,850 | Translation has finished successfully.\n",
      "2025-06-27 16:01:00,859 | INFO: Translating YARRRML mapping to [R2]RML\n",
      "INFO | 2025-06-27 16:01:00,859 | Translating YARRRML mapping to [R2]RML\n",
      "2025-06-27 16:01:00,862 | INFO: RML content is created!\n",
      "INFO | 2025-06-27 16:01:00,862 | RML content is created!\n",
      "2025-06-27 16:01:00,869 | INFO: Mapping has been syntactically validated.\n",
      "INFO | 2025-06-27 16:01:00,869 | Mapping has been syntactically validated.\n",
      "2025-06-27 16:01:00,870 | INFO: Translation has finished successfully.\n",
      "INFO | 2025-06-27 16:01:00,870 | Translation has finished successfully.\n",
      "2025-06-27 16:01:00,880 | INFO: Translating YARRRML mapping to [R2]RML\n",
      "INFO | 2025-06-27 16:01:00,880 | Translating YARRRML mapping to [R2]RML\n",
      "2025-06-27 16:01:00,882 | INFO: RML content is created!\n",
      "INFO | 2025-06-27 16:01:00,882 | RML content is created!\n",
      "2025-06-27 16:01:00,888 | INFO: Mapping has been syntactically validated.\n",
      "INFO | 2025-06-27 16:01:00,888 | Mapping has been syntactically validated.\n",
      "2025-06-27 16:01:00,890 | INFO: Translation has finished successfully.\n",
      "INFO | 2025-06-27 16:01:00,890 | Translation has finished successfully.\n",
      "  7%|▋         | 23/316 [00:00<00:05, 50.72it/s]2025-06-27 16:01:00,899 | INFO: Translating YARRRML mapping to [R2]RML\n",
      "INFO | 2025-06-27 16:01:00,899 | Translating YARRRML mapping to [R2]RML\n",
      "2025-06-27 16:01:00,902 | INFO: RML content is created!\n",
      "INFO | 2025-06-27 16:01:00,902 | RML content is created!\n",
      "2025-06-27 16:01:00,910 | INFO: Mapping has been syntactically validated.\n",
      "INFO | 2025-06-27 16:01:00,910 | Mapping has been syntactically validated.\n",
      "2025-06-27 16:01:00,912 | INFO: Translation has finished successfully.\n",
      "INFO | 2025-06-27 16:01:00,912 | Translation has finished successfully.\n",
      "2025-06-27 16:01:00,920 | INFO: Translating YARRRML mapping to [R2]RML\n",
      "INFO | 2025-06-27 16:01:00,920 | Translating YARRRML mapping to [R2]RML\n",
      "2025-06-27 16:01:00,922 | INFO: RML content is created!\n",
      "INFO | 2025-06-27 16:01:00,922 | RML content is created!\n",
      "2025-06-27 16:01:00,930 | INFO: Mapping has been syntactically validated.\n",
      "INFO | 2025-06-27 16:01:00,930 | Mapping has been syntactically validated.\n",
      "2025-06-27 16:01:00,932 | INFO: Translation has finished successfully.\n",
      "INFO | 2025-06-27 16:01:00,932 | Translation has finished successfully.\n",
      "2025-06-27 16:01:00,940 | INFO: Translating YARRRML mapping to [R2]RML\n",
      "INFO | 2025-06-27 16:01:00,940 | Translating YARRRML mapping to [R2]RML\n",
      "2025-06-27 16:01:00,941 | INFO: RML content is created!\n",
      "INFO | 2025-06-27 16:01:00,941 | RML content is created!\n",
      "2025-06-27 16:01:00,947 | INFO: Mapping has been syntactically validated.\n",
      "INFO | 2025-06-27 16:01:00,947 | Mapping has been syntactically validated.\n",
      "2025-06-27 16:01:00,948 | INFO: Translation has finished successfully.\n",
      "INFO | 2025-06-27 16:01:00,948 | Translation has finished successfully.\n",
      "2025-06-27 16:01:00,956 | INFO: Translating YARRRML mapping to [R2]RML\n",
      "INFO | 2025-06-27 16:01:00,956 | Translating YARRRML mapping to [R2]RML\n",
      "2025-06-27 16:01:00,958 | INFO: RML content is created!\n",
      "INFO | 2025-06-27 16:01:00,958 | RML content is created!\n",
      "2025-06-27 16:01:00,963 | INFO: Mapping has been syntactically validated.\n",
      "INFO | 2025-06-27 16:01:00,963 | Mapping has been syntactically validated.\n",
      "2025-06-27 16:01:00,965 | INFO: Translation has finished successfully.\n",
      "INFO | 2025-06-27 16:01:00,965 | Translation has finished successfully.\n",
      "2025-06-27 16:01:00,973 | INFO: Translating YARRRML mapping to [R2]RML\n",
      "INFO | 2025-06-27 16:01:00,973 | Translating YARRRML mapping to [R2]RML\n",
      "2025-06-27 16:01:00,975 | INFO: RML content is created!\n",
      "INFO | 2025-06-27 16:01:00,975 | RML content is created!\n",
      "2025-06-27 16:01:00,981 | INFO: Mapping has been syntactically validated.\n",
      "INFO | 2025-06-27 16:01:00,981 | Mapping has been syntactically validated.\n",
      "2025-06-27 16:01:00,982 | INFO: Translation has finished successfully.\n",
      "INFO | 2025-06-27 16:01:00,982 | Translation has finished successfully.\n",
      "2025-06-27 16:01:00,990 | INFO: Translating YARRRML mapping to [R2]RML\n",
      "INFO | 2025-06-27 16:01:00,990 | Translating YARRRML mapping to [R2]RML\n",
      "2025-06-27 16:01:00,991 | INFO: RML content is created!\n",
      "INFO | 2025-06-27 16:01:00,991 | RML content is created!\n",
      "2025-06-27 16:01:00,997 | INFO: Mapping has been syntactically validated.\n",
      "INFO | 2025-06-27 16:01:00,997 | Mapping has been syntactically validated.\n",
      "2025-06-27 16:01:00,998 | INFO: Translation has finished successfully.\n",
      "INFO | 2025-06-27 16:01:00,998 | Translation has finished successfully.\n",
      "  9%|▉         | 29/316 [00:00<00:05, 52.29it/s]2025-06-27 16:01:01,009 | INFO: Translating YARRRML mapping to [R2]RML\n",
      "INFO | 2025-06-27 16:01:01,009 | Translating YARRRML mapping to [R2]RML\n",
      "2025-06-27 16:01:01,011 | INFO: RML content is created!\n",
      "INFO | 2025-06-27 16:01:01,011 | RML content is created!\n",
      "2025-06-27 16:01:01,016 | INFO: Mapping has been syntactically validated.\n",
      "INFO | 2025-06-27 16:01:01,016 | Mapping has been syntactically validated.\n",
      "2025-06-27 16:01:01,018 | INFO: Translation has finished successfully.\n",
      "INFO | 2025-06-27 16:01:01,018 | Translation has finished successfully.\n",
      "2025-06-27 16:01:01,026 | INFO: Translating YARRRML mapping to [R2]RML\n",
      "INFO | 2025-06-27 16:01:01,026 | Translating YARRRML mapping to [R2]RML\n",
      "2025-06-27 16:01:01,028 | INFO: RML content is created!\n",
      "INFO | 2025-06-27 16:01:01,028 | RML content is created!\n",
      "2025-06-27 16:01:01,034 | INFO: Mapping has been syntactically validated.\n",
      "INFO | 2025-06-27 16:01:01,034 | Mapping has been syntactically validated.\n",
      "2025-06-27 16:01:01,035 | INFO: Translation has finished successfully.\n",
      "INFO | 2025-06-27 16:01:01,035 | Translation has finished successfully.\n",
      "2025-06-27 16:01:01,043 | INFO: Translating YARRRML mapping to [R2]RML\n",
      "INFO | 2025-06-27 16:01:01,043 | Translating YARRRML mapping to [R2]RML\n",
      "2025-06-27 16:01:01,045 | INFO: RML content is created!\n",
      "INFO | 2025-06-27 16:01:01,045 | RML content is created!\n",
      "2025-06-27 16:01:01,050 | INFO: Mapping has been syntactically validated.\n",
      "INFO | 2025-06-27 16:01:01,050 | Mapping has been syntactically validated.\n",
      "2025-06-27 16:01:01,052 | INFO: Translation has finished successfully.\n",
      "INFO | 2025-06-27 16:01:01,052 | Translation has finished successfully.\n",
      "2025-06-27 16:01:01,061 | INFO: Translating YARRRML mapping to [R2]RML\n",
      "INFO | 2025-06-27 16:01:01,061 | Translating YARRRML mapping to [R2]RML\n",
      "2025-06-27 16:01:01,063 | INFO: RML content is created!\n",
      "INFO | 2025-06-27 16:01:01,063 | RML content is created!\n",
      "2025-06-27 16:01:01,068 | INFO: Mapping has been syntactically validated.\n",
      "INFO | 2025-06-27 16:01:01,068 | Mapping has been syntactically validated.\n",
      "2025-06-27 16:01:01,070 | INFO: Translation has finished successfully.\n",
      "INFO | 2025-06-27 16:01:01,070 | Translation has finished successfully.\n",
      "2025-06-27 16:01:01,078 | INFO: Translating YARRRML mapping to [R2]RML\n",
      "INFO | 2025-06-27 16:01:01,078 | Translating YARRRML mapping to [R2]RML\n",
      "2025-06-27 16:01:01,079 | INFO: RML content is created!\n",
      "INFO | 2025-06-27 16:01:01,079 | RML content is created!\n",
      "2025-06-27 16:01:01,085 | INFO: Mapping has been syntactically validated.\n",
      "INFO | 2025-06-27 16:01:01,085 | Mapping has been syntactically validated.\n",
      "2025-06-27 16:01:01,086 | INFO: Translation has finished successfully.\n",
      "INFO | 2025-06-27 16:01:01,086 | Translation has finished successfully.\n",
      "2025-06-27 16:01:01,094 | INFO: Translating YARRRML mapping to [R2]RML\n",
      "INFO | 2025-06-27 16:01:01,094 | Translating YARRRML mapping to [R2]RML\n",
      "2025-06-27 16:01:01,096 | INFO: RML content is created!\n",
      "INFO | 2025-06-27 16:01:01,096 | RML content is created!\n",
      "2025-06-27 16:01:01,102 | INFO: Mapping has been syntactically validated.\n",
      "INFO | 2025-06-27 16:01:01,102 | Mapping has been syntactically validated.\n",
      "2025-06-27 16:01:01,103 | INFO: Translation has finished successfully.\n",
      "INFO | 2025-06-27 16:01:01,103 | Translation has finished successfully.\n",
      " 11%|█         | 35/316 [00:00<00:05, 53.91it/s]2025-06-27 16:01:01,112 | INFO: Translating YARRRML mapping to [R2]RML\n",
      "INFO | 2025-06-27 16:01:01,112 | Translating YARRRML mapping to [R2]RML\n",
      "2025-06-27 16:01:01,114 | INFO: RML content is created!\n",
      "INFO | 2025-06-27 16:01:01,114 | RML content is created!\n",
      "2025-06-27 16:01:01,120 | INFO: Mapping has been syntactically validated.\n",
      "INFO | 2025-06-27 16:01:01,120 | Mapping has been syntactically validated.\n",
      "2025-06-27 16:01:01,122 | INFO: Translation has finished successfully.\n",
      "INFO | 2025-06-27 16:01:01,122 | Translation has finished successfully.\n",
      "2025-06-27 16:01:01,134 | INFO: Translating YARRRML mapping to [R2]RML\n",
      "INFO | 2025-06-27 16:01:01,134 | Translating YARRRML mapping to [R2]RML\n",
      "2025-06-27 16:01:01,136 | INFO: RML content is created!\n",
      "INFO | 2025-06-27 16:01:01,136 | RML content is created!\n",
      "2025-06-27 16:01:01,141 | INFO: Mapping has been syntactically validated.\n",
      "INFO | 2025-06-27 16:01:01,141 | Mapping has been syntactically validated.\n",
      "2025-06-27 16:01:01,143 | INFO: Translation has finished successfully.\n",
      "INFO | 2025-06-27 16:01:01,143 | Translation has finished successfully.\n",
      "2025-06-27 16:01:01,150 | INFO: Translating YARRRML mapping to [R2]RML\n",
      "INFO | 2025-06-27 16:01:01,150 | Translating YARRRML mapping to [R2]RML\n",
      "2025-06-27 16:01:01,152 | INFO: RML content is created!\n",
      "INFO | 2025-06-27 16:01:01,152 | RML content is created!\n",
      "2025-06-27 16:01:01,157 | INFO: Mapping has been syntactically validated.\n",
      "INFO | 2025-06-27 16:01:01,157 | Mapping has been syntactically validated.\n",
      "2025-06-27 16:01:01,159 | INFO: Translation has finished successfully.\n",
      "INFO | 2025-06-27 16:01:01,159 | Translation has finished successfully.\n",
      "2025-06-27 16:01:01,166 | INFO: Translating YARRRML mapping to [R2]RML\n",
      "INFO | 2025-06-27 16:01:01,166 | Translating YARRRML mapping to [R2]RML\n",
      "2025-06-27 16:01:01,168 | INFO: RML content is created!\n",
      "INFO | 2025-06-27 16:01:01,168 | RML content is created!\n",
      "2025-06-27 16:01:01,174 | INFO: Mapping has been syntactically validated.\n",
      "INFO | 2025-06-27 16:01:01,174 | Mapping has been syntactically validated.\n",
      "2025-06-27 16:01:01,175 | INFO: Translation has finished successfully.\n",
      "INFO | 2025-06-27 16:01:01,175 | Translation has finished successfully.\n",
      "2025-06-27 16:01:01,184 | INFO: Translating YARRRML mapping to [R2]RML\n",
      "INFO | 2025-06-27 16:01:01,184 | Translating YARRRML mapping to [R2]RML\n",
      "2025-06-27 16:01:01,185 | INFO: RML content is created!\n",
      "INFO | 2025-06-27 16:01:01,185 | RML content is created!\n",
      "2025-06-27 16:01:01,192 | INFO: Mapping has been syntactically validated.\n",
      "INFO | 2025-06-27 16:01:01,192 | Mapping has been syntactically validated.\n",
      "2025-06-27 16:01:01,193 | INFO: Translation has finished successfully.\n",
      "INFO | 2025-06-27 16:01:01,193 | Translation has finished successfully.\n",
      "2025-06-27 16:01:01,201 | INFO: Translating YARRRML mapping to [R2]RML\n",
      "INFO | 2025-06-27 16:01:01,201 | Translating YARRRML mapping to [R2]RML\n",
      "2025-06-27 16:01:01,205 | INFO: RML content is created!\n",
      "INFO | 2025-06-27 16:01:01,205 | RML content is created!\n",
      "2025-06-27 16:01:01,211 | INFO: Mapping has been syntactically validated.\n",
      "INFO | 2025-06-27 16:01:01,211 | Mapping has been syntactically validated.\n",
      "2025-06-27 16:01:01,212 | INFO: Translation has finished successfully.\n",
      "INFO | 2025-06-27 16:01:01,212 | Translation has finished successfully.\n",
      " 13%|█▎        | 41/316 [00:00<00:05, 54.34it/s]2025-06-27 16:01:01,221 | INFO: Translating YARRRML mapping to [R2]RML\n",
      "INFO | 2025-06-27 16:01:01,221 | Translating YARRRML mapping to [R2]RML\n",
      "2025-06-27 16:01:01,223 | INFO: RML content is created!\n",
      "INFO | 2025-06-27 16:01:01,223 | RML content is created!\n",
      "2025-06-27 16:01:01,228 | INFO: Mapping has been syntactically validated.\n",
      "INFO | 2025-06-27 16:01:01,228 | Mapping has been syntactically validated.\n",
      "2025-06-27 16:01:01,231 | INFO: Translation has finished successfully.\n",
      "INFO | 2025-06-27 16:01:01,231 | Translation has finished successfully.\n",
      "2025-06-27 16:01:01,239 | INFO: Translating YARRRML mapping to [R2]RML\n",
      "INFO | 2025-06-27 16:01:01,239 | Translating YARRRML mapping to [R2]RML\n",
      "2025-06-27 16:01:01,241 | INFO: RML content is created!\n",
      "INFO | 2025-06-27 16:01:01,241 | RML content is created!\n",
      "2025-06-27 16:01:01,248 | INFO: Mapping has been syntactically validated.\n",
      "INFO | 2025-06-27 16:01:01,248 | Mapping has been syntactically validated.\n",
      "2025-06-27 16:01:01,249 | INFO: Translation has finished successfully.\n",
      "INFO | 2025-06-27 16:01:01,249 | Translation has finished successfully.\n",
      "2025-06-27 16:01:01,257 | INFO: Translating YARRRML mapping to [R2]RML\n",
      "INFO | 2025-06-27 16:01:01,257 | Translating YARRRML mapping to [R2]RML\n",
      "2025-06-27 16:01:01,259 | INFO: RML content is created!\n",
      "INFO | 2025-06-27 16:01:01,259 | RML content is created!\n",
      "2025-06-27 16:01:01,264 | INFO: Mapping has been syntactically validated.\n",
      "INFO | 2025-06-27 16:01:01,264 | Mapping has been syntactically validated.\n",
      "2025-06-27 16:01:01,266 | INFO: Translation has finished successfully.\n",
      "INFO | 2025-06-27 16:01:01,266 | Translation has finished successfully.\n",
      "2025-06-27 16:01:01,274 | INFO: Translating YARRRML mapping to [R2]RML\n",
      "INFO | 2025-06-27 16:01:01,274 | Translating YARRRML mapping to [R2]RML\n",
      "2025-06-27 16:01:01,276 | INFO: RML content is created!\n",
      "INFO | 2025-06-27 16:01:01,276 | RML content is created!\n",
      "2025-06-27 16:01:01,282 | INFO: Mapping has been syntactically validated.\n",
      "INFO | 2025-06-27 16:01:01,282 | Mapping has been syntactically validated.\n",
      "2025-06-27 16:01:01,283 | INFO: Translation has finished successfully.\n",
      "INFO | 2025-06-27 16:01:01,283 | Translation has finished successfully.\n",
      "2025-06-27 16:01:01,292 | INFO: Translating YARRRML mapping to [R2]RML\n",
      "INFO | 2025-06-27 16:01:01,292 | Translating YARRRML mapping to [R2]RML\n",
      "2025-06-27 16:01:01,295 | INFO: RML content is created!\n",
      "INFO | 2025-06-27 16:01:01,295 | RML content is created!\n",
      "2025-06-27 16:01:01,300 | INFO: Mapping has been syntactically validated.\n",
      "INFO | 2025-06-27 16:01:01,300 | Mapping has been syntactically validated.\n",
      "2025-06-27 16:01:01,301 | INFO: Translation has finished successfully.\n",
      "INFO | 2025-06-27 16:01:01,301 | Translation has finished successfully.\n",
      "2025-06-27 16:01:01,310 | INFO: Translating YARRRML mapping to [R2]RML\n",
      "INFO | 2025-06-27 16:01:01,310 | Translating YARRRML mapping to [R2]RML\n",
      "2025-06-27 16:01:01,312 | INFO: RML content is created!\n",
      "INFO | 2025-06-27 16:01:01,312 | RML content is created!\n",
      "2025-06-27 16:01:01,319 | INFO: Mapping has been syntactically validated.\n",
      "INFO | 2025-06-27 16:01:01,319 | Mapping has been syntactically validated.\n",
      "2025-06-27 16:01:01,321 | INFO: Translation has finished successfully.\n",
      "INFO | 2025-06-27 16:01:01,321 | Translation has finished successfully.\n",
      " 15%|█▍        | 47/316 [00:00<00:04, 54.65it/s]2025-06-27 16:01:01,330 | INFO: Translating YARRRML mapping to [R2]RML\n",
      "INFO | 2025-06-27 16:01:01,330 | Translating YARRRML mapping to [R2]RML\n",
      "2025-06-27 16:01:01,332 | INFO: RML content is created!\n",
      "INFO | 2025-06-27 16:01:01,332 | RML content is created!\n",
      "2025-06-27 16:01:01,343 | INFO: Mapping has been syntactically validated.\n",
      "INFO | 2025-06-27 16:01:01,343 | Mapping has been syntactically validated.\n",
      "2025-06-27 16:01:01,344 | INFO: Translation has finished successfully.\n",
      "INFO | 2025-06-27 16:01:01,344 | Translation has finished successfully.\n",
      "2025-06-27 16:01:01,352 | INFO: Translating YARRRML mapping to [R2]RML\n",
      "INFO | 2025-06-27 16:01:01,352 | Translating YARRRML mapping to [R2]RML\n",
      "2025-06-27 16:01:01,355 | INFO: RML content is created!\n",
      "INFO | 2025-06-27 16:01:01,355 | RML content is created!\n",
      "2025-06-27 16:01:01,360 | INFO: Mapping has been syntactically validated.\n",
      "INFO | 2025-06-27 16:01:01,360 | Mapping has been syntactically validated.\n",
      "2025-06-27 16:01:01,362 | INFO: Translation has finished successfully.\n",
      "INFO | 2025-06-27 16:01:01,362 | Translation has finished successfully.\n",
      "2025-06-27 16:01:01,372 | INFO: Translating YARRRML mapping to [R2]RML\n",
      "INFO | 2025-06-27 16:01:01,372 | Translating YARRRML mapping to [R2]RML\n",
      "2025-06-27 16:01:01,374 | INFO: RML content is created!\n",
      "INFO | 2025-06-27 16:01:01,374 | RML content is created!\n",
      "2025-06-27 16:01:01,382 | INFO: Mapping has been syntactically validated.\n",
      "INFO | 2025-06-27 16:01:01,382 | Mapping has been syntactically validated.\n",
      "2025-06-27 16:01:01,384 | INFO: Translation has finished successfully.\n",
      "INFO | 2025-06-27 16:01:01,384 | Translation has finished successfully.\n",
      "2025-06-27 16:01:01,394 | INFO: Translating YARRRML mapping to [R2]RML\n",
      "INFO | 2025-06-27 16:01:01,394 | Translating YARRRML mapping to [R2]RML\n",
      "2025-06-27 16:01:01,396 | INFO: RML content is created!\n",
      "INFO | 2025-06-27 16:01:01,396 | RML content is created!\n",
      "2025-06-27 16:01:01,403 | INFO: Mapping has been syntactically validated.\n",
      "INFO | 2025-06-27 16:01:01,403 | Mapping has been syntactically validated.\n",
      "2025-06-27 16:01:01,405 | INFO: Translation has finished successfully.\n",
      "INFO | 2025-06-27 16:01:01,405 | Translation has finished successfully.\n",
      "2025-06-27 16:01:01,416 | INFO: Translating YARRRML mapping to [R2]RML\n",
      "INFO | 2025-06-27 16:01:01,416 | Translating YARRRML mapping to [R2]RML\n",
      "2025-06-27 16:01:01,419 | INFO: RML content is created!\n",
      "INFO | 2025-06-27 16:01:01,419 | RML content is created!\n",
      "2025-06-27 16:01:01,425 | INFO: Mapping has been syntactically validated.\n",
      "INFO | 2025-06-27 16:01:01,425 | Mapping has been syntactically validated.\n",
      "2025-06-27 16:01:01,427 | INFO: Translation has finished successfully.\n",
      "INFO | 2025-06-27 16:01:01,427 | Translation has finished successfully.\n",
      "2025-06-27 16:01:01,435 | INFO: Translating YARRRML mapping to [R2]RML\n",
      "INFO | 2025-06-27 16:01:01,435 | Translating YARRRML mapping to [R2]RML\n",
      "2025-06-27 16:01:01,438 | INFO: RML content is created!\n",
      "INFO | 2025-06-27 16:01:01,438 | RML content is created!\n",
      "2025-06-27 16:01:01,444 | INFO: Mapping has been syntactically validated.\n",
      "INFO | 2025-06-27 16:01:01,444 | Mapping has been syntactically validated.\n",
      "2025-06-27 16:01:01,445 | INFO: Translation has finished successfully.\n",
      "INFO | 2025-06-27 16:01:01,445 | Translation has finished successfully.\n",
      " 17%|█▋        | 53/316 [00:01<00:05, 52.25it/s]2025-06-27 16:01:01,455 | INFO: Translating YARRRML mapping to [R2]RML\n",
      "INFO | 2025-06-27 16:01:01,455 | Translating YARRRML mapping to [R2]RML\n",
      "2025-06-27 16:01:01,458 | INFO: RML content is created!\n",
      "INFO | 2025-06-27 16:01:01,458 | RML content is created!\n",
      "2025-06-27 16:01:01,465 | INFO: Mapping has been syntactically validated.\n",
      "INFO | 2025-06-27 16:01:01,465 | Mapping has been syntactically validated.\n",
      "2025-06-27 16:01:01,467 | INFO: Translation has finished successfully.\n",
      "INFO | 2025-06-27 16:01:01,467 | Translation has finished successfully.\n",
      "2025-06-27 16:01:01,476 | INFO: Translating YARRRML mapping to [R2]RML\n",
      "INFO | 2025-06-27 16:01:01,476 | Translating YARRRML mapping to [R2]RML\n",
      "2025-06-27 16:01:01,478 | INFO: RML content is created!\n",
      "INFO | 2025-06-27 16:01:01,478 | RML content is created!\n",
      "2025-06-27 16:01:01,485 | INFO: Mapping has been syntactically validated.\n",
      "INFO | 2025-06-27 16:01:01,485 | Mapping has been syntactically validated.\n",
      "2025-06-27 16:01:01,486 | INFO: Translation has finished successfully.\n",
      "INFO | 2025-06-27 16:01:01,486 | Translation has finished successfully.\n",
      "2025-06-27 16:01:01,496 | INFO: Translating YARRRML mapping to [R2]RML\n",
      "INFO | 2025-06-27 16:01:01,496 | Translating YARRRML mapping to [R2]RML\n",
      "2025-06-27 16:01:01,498 | INFO: RML content is created!\n",
      "INFO | 2025-06-27 16:01:01,498 | RML content is created!\n",
      "2025-06-27 16:01:01,504 | INFO: Mapping has been syntactically validated.\n",
      "INFO | 2025-06-27 16:01:01,504 | Mapping has been syntactically validated.\n",
      "2025-06-27 16:01:01,505 | INFO: Translation has finished successfully.\n",
      "INFO | 2025-06-27 16:01:01,505 | Translation has finished successfully.\n",
      "2025-06-27 16:01:01,513 | INFO: Translating YARRRML mapping to [R2]RML\n",
      "INFO | 2025-06-27 16:01:01,513 | Translating YARRRML mapping to [R2]RML\n",
      "2025-06-27 16:01:01,515 | INFO: RML content is created!\n",
      "INFO | 2025-06-27 16:01:01,515 | RML content is created!\n",
      "2025-06-27 16:01:01,521 | INFO: Mapping has been syntactically validated.\n",
      "INFO | 2025-06-27 16:01:01,521 | Mapping has been syntactically validated.\n",
      "2025-06-27 16:01:01,524 | INFO: Translation has finished successfully.\n",
      "INFO | 2025-06-27 16:01:01,524 | Translation has finished successfully.\n",
      "2025-06-27 16:01:01,533 | INFO: Translating YARRRML mapping to [R2]RML\n",
      "INFO | 2025-06-27 16:01:01,533 | Translating YARRRML mapping to [R2]RML\n",
      "2025-06-27 16:01:01,536 | INFO: RML content is created!\n",
      "INFO | 2025-06-27 16:01:01,536 | RML content is created!\n",
      "2025-06-27 16:01:01,543 | INFO: Mapping has been syntactically validated.\n",
      "INFO | 2025-06-27 16:01:01,543 | Mapping has been syntactically validated.\n",
      "2025-06-27 16:01:01,545 | INFO: Translation has finished successfully.\n",
      "INFO | 2025-06-27 16:01:01,545 | Translation has finished successfully.\n",
      "2025-06-27 16:01:01,556 | INFO: Translating YARRRML mapping to [R2]RML\n",
      "INFO | 2025-06-27 16:01:01,556 | Translating YARRRML mapping to [R2]RML\n",
      "2025-06-27 16:01:01,558 | INFO: RML content is created!\n",
      "INFO | 2025-06-27 16:01:01,558 | RML content is created!\n",
      "2025-06-27 16:01:01,568 | INFO: Mapping has been syntactically validated.\n",
      "INFO | 2025-06-27 16:01:01,568 | Mapping has been syntactically validated.\n",
      "2025-06-27 16:01:01,569 | INFO: Translation has finished successfully.\n",
      "INFO | 2025-06-27 16:01:01,569 | Translation has finished successfully.\n",
      " 19%|█▊        | 59/316 [00:01<00:05, 50.92it/s]2025-06-27 16:01:01,581 | INFO: Translating YARRRML mapping to [R2]RML\n",
      "INFO | 2025-06-27 16:01:01,581 | Translating YARRRML mapping to [R2]RML\n",
      "2025-06-27 16:01:01,583 | INFO: RML content is created!\n",
      "INFO | 2025-06-27 16:01:01,583 | RML content is created!\n",
      "2025-06-27 16:01:01,595 | INFO: Mapping has been syntactically validated.\n",
      "INFO | 2025-06-27 16:01:01,595 | Mapping has been syntactically validated.\n",
      "2025-06-27 16:01:01,597 | INFO: Translation has finished successfully.\n",
      "INFO | 2025-06-27 16:01:01,597 | Translation has finished successfully.\n",
      "2025-06-27 16:01:01,607 | INFO: Translating YARRRML mapping to [R2]RML\n",
      "INFO | 2025-06-27 16:01:01,607 | Translating YARRRML mapping to [R2]RML\n",
      "2025-06-27 16:01:01,609 | INFO: RML content is created!\n",
      "INFO | 2025-06-27 16:01:01,609 | RML content is created!\n",
      "2025-06-27 16:01:01,619 | INFO: Mapping has been syntactically validated.\n",
      "INFO | 2025-06-27 16:01:01,619 | Mapping has been syntactically validated.\n",
      "2025-06-27 16:01:01,622 | INFO: Translation has finished successfully.\n",
      "INFO | 2025-06-27 16:01:01,622 | Translation has finished successfully.\n",
      "2025-06-27 16:01:01,632 | INFO: Translating YARRRML mapping to [R2]RML\n",
      "INFO | 2025-06-27 16:01:01,632 | Translating YARRRML mapping to [R2]RML\n",
      "2025-06-27 16:01:01,634 | INFO: RML content is created!\n",
      "INFO | 2025-06-27 16:01:01,634 | RML content is created!\n",
      "2025-06-27 16:01:01,641 | INFO: Mapping has been syntactically validated.\n",
      "INFO | 2025-06-27 16:01:01,641 | Mapping has been syntactically validated.\n",
      "2025-06-27 16:01:01,643 | INFO: Translation has finished successfully.\n",
      "INFO | 2025-06-27 16:01:01,643 | Translation has finished successfully.\n",
      "2025-06-27 16:01:01,652 | INFO: Translating YARRRML mapping to [R2]RML\n",
      "INFO | 2025-06-27 16:01:01,652 | Translating YARRRML mapping to [R2]RML\n",
      "2025-06-27 16:01:01,654 | INFO: RML content is created!\n",
      "INFO | 2025-06-27 16:01:01,654 | RML content is created!\n",
      "2025-06-27 16:01:01,663 | INFO: Mapping has been syntactically validated.\n",
      "INFO | 2025-06-27 16:01:01,663 | Mapping has been syntactically validated.\n",
      "2025-06-27 16:01:01,665 | INFO: Translation has finished successfully.\n",
      "INFO | 2025-06-27 16:01:01,665 | Translation has finished successfully.\n",
      "2025-06-27 16:01:01,675 | INFO: Translating YARRRML mapping to [R2]RML\n",
      "INFO | 2025-06-27 16:01:01,675 | Translating YARRRML mapping to [R2]RML\n",
      "2025-06-27 16:01:01,678 | INFO: RML content is created!\n",
      "INFO | 2025-06-27 16:01:01,678 | RML content is created!\n",
      "2025-06-27 16:01:01,684 | INFO: Mapping has been syntactically validated.\n",
      "INFO | 2025-06-27 16:01:01,684 | Mapping has been syntactically validated.\n",
      "2025-06-27 16:01:01,686 | INFO: Translation has finished successfully.\n",
      "INFO | 2025-06-27 16:01:01,686 | Translation has finished successfully.\n",
      "2025-06-27 16:01:01,695 | INFO: Translating YARRRML mapping to [R2]RML\n",
      "INFO | 2025-06-27 16:01:01,695 | Translating YARRRML mapping to [R2]RML\n",
      "2025-06-27 16:01:01,698 | INFO: RML content is created!\n",
      "INFO | 2025-06-27 16:01:01,698 | RML content is created!\n",
      "2025-06-27 16:01:01,704 | INFO: Mapping has been syntactically validated.\n",
      "INFO | 2025-06-27 16:01:01,704 | Mapping has been syntactically validated.\n",
      "2025-06-27 16:01:01,706 | INFO: Translation has finished successfully.\n",
      "INFO | 2025-06-27 16:01:01,706 | Translation has finished successfully.\n",
      " 21%|██        | 65/316 [00:01<00:05, 48.65it/s]2025-06-27 16:01:01,717 | INFO: Translating YARRRML mapping to [R2]RML\n",
      "INFO | 2025-06-27 16:01:01,717 | Translating YARRRML mapping to [R2]RML\n",
      "2025-06-27 16:01:01,719 | INFO: RML content is created!\n",
      "INFO | 2025-06-27 16:01:01,719 | RML content is created!\n",
      "2025-06-27 16:01:01,724 | INFO: Mapping has been syntactically validated.\n",
      "INFO | 2025-06-27 16:01:01,724 | Mapping has been syntactically validated.\n",
      "2025-06-27 16:01:01,726 | INFO: Translation has finished successfully.\n",
      "INFO | 2025-06-27 16:01:01,726 | Translation has finished successfully.\n",
      "2025-06-27 16:01:01,736 | INFO: Translating YARRRML mapping to [R2]RML\n",
      "INFO | 2025-06-27 16:01:01,736 | Translating YARRRML mapping to [R2]RML\n",
      "2025-06-27 16:01:01,738 | INFO: RML content is created!\n",
      "INFO | 2025-06-27 16:01:01,738 | RML content is created!\n",
      "2025-06-27 16:01:01,743 | INFO: Mapping has been syntactically validated.\n",
      "INFO | 2025-06-27 16:01:01,743 | Mapping has been syntactically validated.\n",
      "2025-06-27 16:01:01,745 | INFO: Translation has finished successfully.\n",
      "INFO | 2025-06-27 16:01:01,745 | Translation has finished successfully.\n",
      "2025-06-27 16:01:01,753 | INFO: Translating YARRRML mapping to [R2]RML\n",
      "INFO | 2025-06-27 16:01:01,753 | Translating YARRRML mapping to [R2]RML\n",
      "2025-06-27 16:01:01,755 | INFO: RML content is created!\n",
      "INFO | 2025-06-27 16:01:01,755 | RML content is created!\n",
      "2025-06-27 16:01:01,762 | INFO: Mapping has been syntactically validated.\n",
      "INFO | 2025-06-27 16:01:01,762 | Mapping has been syntactically validated.\n",
      "2025-06-27 16:01:01,763 | INFO: Translation has finished successfully.\n",
      "INFO | 2025-06-27 16:01:01,763 | Translation has finished successfully.\n",
      "2025-06-27 16:01:01,771 | INFO: Translating YARRRML mapping to [R2]RML\n",
      "INFO | 2025-06-27 16:01:01,771 | Translating YARRRML mapping to [R2]RML\n",
      "2025-06-27 16:01:01,773 | INFO: RML content is created!\n",
      "INFO | 2025-06-27 16:01:01,773 | RML content is created!\n",
      "2025-06-27 16:01:01,778 | INFO: Mapping has been syntactically validated.\n",
      "INFO | 2025-06-27 16:01:01,778 | Mapping has been syntactically validated.\n",
      "2025-06-27 16:01:01,780 | INFO: Translation has finished successfully.\n",
      "INFO | 2025-06-27 16:01:01,780 | Translation has finished successfully.\n",
      "2025-06-27 16:01:01,790 | INFO: Translating YARRRML mapping to [R2]RML\n",
      "INFO | 2025-06-27 16:01:01,790 | Translating YARRRML mapping to [R2]RML\n",
      "2025-06-27 16:01:01,792 | INFO: RML content is created!\n",
      "INFO | 2025-06-27 16:01:01,792 | RML content is created!\n",
      "2025-06-27 16:01:01,798 | INFO: Mapping has been syntactically validated.\n",
      "INFO | 2025-06-27 16:01:01,798 | Mapping has been syntactically validated.\n",
      "2025-06-27 16:01:01,799 | INFO: Translation has finished successfully.\n",
      "INFO | 2025-06-27 16:01:01,799 | Translation has finished successfully.\n",
      " 22%|██▏       | 70/316 [00:01<00:05, 48.85it/s]2025-06-27 16:01:01,818 | INFO: Translating YARRRML mapping to [R2]RML\n",
      "INFO | 2025-06-27 16:01:01,818 | Translating YARRRML mapping to [R2]RML\n",
      "2025-06-27 16:01:01,820 | INFO: RML content is created!\n",
      "INFO | 2025-06-27 16:01:01,820 | RML content is created!\n",
      "2025-06-27 16:01:01,835 | INFO: Mapping has been syntactically validated.\n",
      "INFO | 2025-06-27 16:01:01,835 | Mapping has been syntactically validated.\n",
      "2025-06-27 16:01:01,837 | INFO: Translation has finished successfully.\n",
      "INFO | 2025-06-27 16:01:01,837 | Translation has finished successfully.\n",
      "2025-06-27 16:01:01,846 | INFO: Translating YARRRML mapping to [R2]RML\n",
      "INFO | 2025-06-27 16:01:01,846 | Translating YARRRML mapping to [R2]RML\n",
      "2025-06-27 16:01:01,848 | INFO: RML content is created!\n",
      "INFO | 2025-06-27 16:01:01,848 | RML content is created!\n",
      "2025-06-27 16:01:01,856 | INFO: Mapping has been syntactically validated.\n",
      "INFO | 2025-06-27 16:01:01,856 | Mapping has been syntactically validated.\n",
      "2025-06-27 16:01:01,858 | INFO: Translation has finished successfully.\n",
      "INFO | 2025-06-27 16:01:01,858 | Translation has finished successfully.\n",
      "2025-06-27 16:01:01,868 | INFO: Translating YARRRML mapping to [R2]RML\n",
      "INFO | 2025-06-27 16:01:01,868 | Translating YARRRML mapping to [R2]RML\n",
      "2025-06-27 16:01:01,870 | INFO: RML content is created!\n",
      "INFO | 2025-06-27 16:01:01,870 | RML content is created!\n",
      "2025-06-27 16:01:01,880 | INFO: Mapping has been syntactically validated.\n",
      "INFO | 2025-06-27 16:01:01,880 | Mapping has been syntactically validated.\n",
      "2025-06-27 16:01:01,882 | INFO: Translation has finished successfully.\n",
      "INFO | 2025-06-27 16:01:01,882 | Translation has finished successfully.\n",
      "2025-06-27 16:01:01,895 | INFO: Translating YARRRML mapping to [R2]RML\n",
      "INFO | 2025-06-27 16:01:01,895 | Translating YARRRML mapping to [R2]RML\n",
      "2025-06-27 16:01:01,900 | INFO: RML content is created!\n",
      "INFO | 2025-06-27 16:01:01,900 | RML content is created!\n",
      "2025-06-27 16:01:01,907 | INFO: Mapping has been syntactically validated.\n",
      "INFO | 2025-06-27 16:01:01,907 | Mapping has been syntactically validated.\n",
      "2025-06-27 16:01:01,908 | INFO: Translation has finished successfully.\n",
      "INFO | 2025-06-27 16:01:01,908 | Translation has finished successfully.\n",
      "2025-06-27 16:01:01,921 | INFO: Translating YARRRML mapping to [R2]RML\n",
      "INFO | 2025-06-27 16:01:01,921 | Translating YARRRML mapping to [R2]RML\n",
      "2025-06-27 16:01:01,923 | INFO: RML content is created!\n",
      "INFO | 2025-06-27 16:01:01,923 | RML content is created!\n",
      "2025-06-27 16:01:01,940 | INFO: Mapping has been syntactically validated.\n",
      "INFO | 2025-06-27 16:01:01,940 | Mapping has been syntactically validated.\n",
      "2025-06-27 16:01:01,942 | INFO: Translation has finished successfully.\n",
      "INFO | 2025-06-27 16:01:01,942 | Translation has finished successfully.\n",
      " 24%|██▎       | 75/316 [00:01<00:05, 44.98it/s]2025-06-27 16:01:01,951 | INFO: Translating YARRRML mapping to [R2]RML\n",
      "INFO | 2025-06-27 16:01:01,951 | Translating YARRRML mapping to [R2]RML\n",
      "2025-06-27 16:01:01,953 | INFO: RML content is created!\n",
      "INFO | 2025-06-27 16:01:01,953 | RML content is created!\n",
      "2025-06-27 16:01:01,959 | INFO: Mapping has been syntactically validated.\n",
      "INFO | 2025-06-27 16:01:01,959 | Mapping has been syntactically validated.\n",
      "2025-06-27 16:01:01,963 | INFO: Translation has finished successfully.\n",
      "INFO | 2025-06-27 16:01:01,963 | Translation has finished successfully.\n",
      "2025-06-27 16:01:01,972 | INFO: Translating YARRRML mapping to [R2]RML\n",
      "INFO | 2025-06-27 16:01:01,972 | Translating YARRRML mapping to [R2]RML\n",
      "2025-06-27 16:01:01,975 | INFO: RML content is created!\n",
      "INFO | 2025-06-27 16:01:01,975 | RML content is created!\n",
      "2025-06-27 16:01:01,985 | INFO: Mapping has been syntactically validated.\n",
      "INFO | 2025-06-27 16:01:01,985 | Mapping has been syntactically validated.\n",
      "2025-06-27 16:01:01,987 | INFO: Translation has finished successfully.\n",
      "INFO | 2025-06-27 16:01:01,987 | Translation has finished successfully.\n",
      "2025-06-27 16:01:02,002 | INFO: Translating YARRRML mapping to [R2]RML\n",
      "INFO | 2025-06-27 16:01:02,002 | Translating YARRRML mapping to [R2]RML\n",
      "2025-06-27 16:01:02,005 | INFO: RML content is created!\n",
      "INFO | 2025-06-27 16:01:02,005 | RML content is created!\n",
      "2025-06-27 16:01:02,014 | INFO: Mapping has been syntactically validated.\n",
      "INFO | 2025-06-27 16:01:02,014 | Mapping has been syntactically validated.\n",
      "2025-06-27 16:01:02,015 | INFO: Translation has finished successfully.\n",
      "INFO | 2025-06-27 16:01:02,015 | Translation has finished successfully.\n",
      "2025-06-27 16:01:02,027 | INFO: Translating YARRRML mapping to [R2]RML\n",
      "INFO | 2025-06-27 16:01:02,027 | Translating YARRRML mapping to [R2]RML\n",
      "2025-06-27 16:01:02,029 | INFO: RML content is created!\n",
      "INFO | 2025-06-27 16:01:02,029 | RML content is created!\n",
      "2025-06-27 16:01:02,038 | INFO: Mapping has been syntactically validated.\n",
      "INFO | 2025-06-27 16:01:02,038 | Mapping has been syntactically validated.\n",
      "2025-06-27 16:01:02,040 | INFO: Translation has finished successfully.\n",
      "INFO | 2025-06-27 16:01:02,040 | Translation has finished successfully.\n",
      "2025-06-27 16:01:02,051 | INFO: Translating YARRRML mapping to [R2]RML\n",
      "INFO | 2025-06-27 16:01:02,051 | Translating YARRRML mapping to [R2]RML\n",
      "2025-06-27 16:01:02,054 | INFO: RML content is created!\n",
      "INFO | 2025-06-27 16:01:02,054 | RML content is created!\n",
      "2025-06-27 16:01:02,061 | INFO: Mapping has been syntactically validated.\n",
      "INFO | 2025-06-27 16:01:02,061 | Mapping has been syntactically validated.\n",
      "2025-06-27 16:01:02,062 | INFO: Translation has finished successfully.\n",
      "INFO | 2025-06-27 16:01:02,062 | Translation has finished successfully.\n",
      " 25%|██▌       | 80/316 [00:01<00:05, 43.79it/s]2025-06-27 16:01:02,075 | INFO: Translating YARRRML mapping to [R2]RML\n",
      "INFO | 2025-06-27 16:01:02,075 | Translating YARRRML mapping to [R2]RML\n",
      "2025-06-27 16:01:02,077 | INFO: RML content is created!\n",
      "INFO | 2025-06-27 16:01:02,077 | RML content is created!\n",
      "2025-06-27 16:01:02,084 | INFO: Mapping has been syntactically validated.\n",
      "INFO | 2025-06-27 16:01:02,084 | Mapping has been syntactically validated.\n",
      "2025-06-27 16:01:02,087 | INFO: Translation has finished successfully.\n",
      "INFO | 2025-06-27 16:01:02,087 | Translation has finished successfully.\n",
      "2025-06-27 16:01:02,095 | INFO: Translating YARRRML mapping to [R2]RML\n",
      "INFO | 2025-06-27 16:01:02,095 | Translating YARRRML mapping to [R2]RML\n",
      "2025-06-27 16:01:02,097 | INFO: RML content is created!\n",
      "INFO | 2025-06-27 16:01:02,097 | RML content is created!\n",
      "2025-06-27 16:01:02,104 | INFO: Mapping has been syntactically validated.\n",
      "INFO | 2025-06-27 16:01:02,104 | Mapping has been syntactically validated.\n",
      "2025-06-27 16:01:02,105 | INFO: Translation has finished successfully.\n",
      "INFO | 2025-06-27 16:01:02,105 | Translation has finished successfully.\n",
      "2025-06-27 16:01:02,116 | INFO: Translating YARRRML mapping to [R2]RML\n",
      "INFO | 2025-06-27 16:01:02,116 | Translating YARRRML mapping to [R2]RML\n",
      "2025-06-27 16:01:02,118 | INFO: RML content is created!\n",
      "INFO | 2025-06-27 16:01:02,118 | RML content is created!\n",
      "2025-06-27 16:01:02,128 | INFO: Mapping has been syntactically validated.\n",
      "INFO | 2025-06-27 16:01:02,128 | Mapping has been syntactically validated.\n",
      "2025-06-27 16:01:02,130 | INFO: Translation has finished successfully.\n",
      "INFO | 2025-06-27 16:01:02,130 | Translation has finished successfully.\n",
      "2025-06-27 16:01:02,139 | INFO: Translating YARRRML mapping to [R2]RML\n",
      "INFO | 2025-06-27 16:01:02,139 | Translating YARRRML mapping to [R2]RML\n",
      "2025-06-27 16:01:02,141 | INFO: RML content is created!\n",
      "INFO | 2025-06-27 16:01:02,141 | RML content is created!\n",
      "2025-06-27 16:01:02,147 | INFO: Mapping has been syntactically validated.\n",
      "INFO | 2025-06-27 16:01:02,147 | Mapping has been syntactically validated.\n",
      "2025-06-27 16:01:02,149 | INFO: Translation has finished successfully.\n",
      "INFO | 2025-06-27 16:01:02,149 | Translation has finished successfully.\n",
      "2025-06-27 16:01:02,158 | INFO: Translating YARRRML mapping to [R2]RML\n",
      "INFO | 2025-06-27 16:01:02,158 | Translating YARRRML mapping to [R2]RML\n",
      "2025-06-27 16:01:02,160 | INFO: RML content is created!\n",
      "INFO | 2025-06-27 16:01:02,160 | RML content is created!\n",
      "2025-06-27 16:01:02,166 | INFO: Mapping has been syntactically validated.\n",
      "INFO | 2025-06-27 16:01:02,166 | Mapping has been syntactically validated.\n",
      "2025-06-27 16:01:02,167 | INFO: Translation has finished successfully.\n",
      "INFO | 2025-06-27 16:01:02,167 | Translation has finished successfully.\n",
      " 27%|██▋       | 85/316 [00:01<00:05, 44.91it/s]2025-06-27 16:01:02,176 | INFO: Translating YARRRML mapping to [R2]RML\n",
      "INFO | 2025-06-27 16:01:02,176 | Translating YARRRML mapping to [R2]RML\n",
      "2025-06-27 16:01:02,178 | INFO: RML content is created!\n",
      "INFO | 2025-06-27 16:01:02,178 | RML content is created!\n",
      "2025-06-27 16:01:02,185 | INFO: Mapping has been syntactically validated.\n",
      "INFO | 2025-06-27 16:01:02,185 | Mapping has been syntactically validated.\n",
      "2025-06-27 16:01:02,186 | INFO: Translation has finished successfully.\n",
      "INFO | 2025-06-27 16:01:02,186 | Translation has finished successfully.\n",
      "2025-06-27 16:01:02,194 | INFO: Translating YARRRML mapping to [R2]RML\n",
      "INFO | 2025-06-27 16:01:02,194 | Translating YARRRML mapping to [R2]RML\n",
      "2025-06-27 16:01:02,196 | INFO: RML content is created!\n",
      "INFO | 2025-06-27 16:01:02,196 | RML content is created!\n",
      "2025-06-27 16:01:02,202 | INFO: Mapping has been syntactically validated.\n",
      "INFO | 2025-06-27 16:01:02,202 | Mapping has been syntactically validated.\n",
      "2025-06-27 16:01:02,204 | INFO: Translation has finished successfully.\n",
      "INFO | 2025-06-27 16:01:02,204 | Translation has finished successfully.\n",
      "2025-06-27 16:01:02,214 | INFO: Translating YARRRML mapping to [R2]RML\n",
      "INFO | 2025-06-27 16:01:02,214 | Translating YARRRML mapping to [R2]RML\n",
      "2025-06-27 16:01:02,216 | INFO: RML content is created!\n",
      "INFO | 2025-06-27 16:01:02,216 | RML content is created!\n",
      "2025-06-27 16:01:02,222 | INFO: Mapping has been syntactically validated.\n",
      "INFO | 2025-06-27 16:01:02,222 | Mapping has been syntactically validated.\n",
      "2025-06-27 16:01:02,223 | INFO: Translation has finished successfully.\n",
      "INFO | 2025-06-27 16:01:02,223 | Translation has finished successfully.\n",
      "2025-06-27 16:01:02,232 | INFO: Translating YARRRML mapping to [R2]RML\n",
      "INFO | 2025-06-27 16:01:02,232 | Translating YARRRML mapping to [R2]RML\n",
      "2025-06-27 16:01:02,233 | INFO: RML content is created!\n",
      "INFO | 2025-06-27 16:01:02,233 | RML content is created!\n",
      "2025-06-27 16:01:02,239 | INFO: Mapping has been syntactically validated.\n",
      "INFO | 2025-06-27 16:01:02,239 | Mapping has been syntactically validated.\n",
      "2025-06-27 16:01:02,240 | INFO: Translation has finished successfully.\n",
      "INFO | 2025-06-27 16:01:02,240 | Translation has finished successfully.\n",
      "2025-06-27 16:01:02,248 | INFO: Translating YARRRML mapping to [R2]RML\n",
      "INFO | 2025-06-27 16:01:02,248 | Translating YARRRML mapping to [R2]RML\n",
      "2025-06-27 16:01:02,250 | INFO: RML content is created!\n",
      "INFO | 2025-06-27 16:01:02,250 | RML content is created!\n",
      "2025-06-27 16:01:02,255 | INFO: Mapping has been syntactically validated.\n",
      "INFO | 2025-06-27 16:01:02,255 | Mapping has been syntactically validated.\n",
      "2025-06-27 16:01:02,257 | INFO: Translation has finished successfully.\n",
      "INFO | 2025-06-27 16:01:02,257 | Translation has finished successfully.\n",
      "2025-06-27 16:01:02,264 | INFO: Translating YARRRML mapping to [R2]RML\n",
      "INFO | 2025-06-27 16:01:02,264 | Translating YARRRML mapping to [R2]RML\n",
      "2025-06-27 16:01:02,266 | INFO: RML content is created!\n",
      "INFO | 2025-06-27 16:01:02,266 | RML content is created!\n",
      "2025-06-27 16:01:02,272 | INFO: Mapping has been syntactically validated.\n",
      "INFO | 2025-06-27 16:01:02,272 | Mapping has been syntactically validated.\n",
      "2025-06-27 16:01:02,273 | INFO: Translation has finished successfully.\n",
      "INFO | 2025-06-27 16:01:02,273 | Translation has finished successfully.\n",
      " 29%|██▉       | 91/316 [00:01<00:04, 48.31it/s]2025-06-27 16:01:02,281 | INFO: Translating YARRRML mapping to [R2]RML\n",
      "INFO | 2025-06-27 16:01:02,281 | Translating YARRRML mapping to [R2]RML\n",
      "2025-06-27 16:01:02,283 | INFO: RML content is created!\n",
      "INFO | 2025-06-27 16:01:02,283 | RML content is created!\n",
      "2025-06-27 16:01:02,288 | INFO: Mapping has been syntactically validated.\n",
      "INFO | 2025-06-27 16:01:02,288 | Mapping has been syntactically validated.\n",
      "2025-06-27 16:01:02,290 | INFO: Translation has finished successfully.\n",
      "INFO | 2025-06-27 16:01:02,290 | Translation has finished successfully.\n",
      "2025-06-27 16:01:02,299 | INFO: Translating YARRRML mapping to [R2]RML\n",
      "INFO | 2025-06-27 16:01:02,299 | Translating YARRRML mapping to [R2]RML\n",
      "2025-06-27 16:01:02,301 | INFO: RML content is created!\n",
      "INFO | 2025-06-27 16:01:02,301 | RML content is created!\n",
      "2025-06-27 16:01:02,308 | INFO: Mapping has been syntactically validated.\n",
      "INFO | 2025-06-27 16:01:02,308 | Mapping has been syntactically validated.\n",
      "2025-06-27 16:01:02,311 | INFO: Translation has finished successfully.\n",
      "INFO | 2025-06-27 16:01:02,311 | Translation has finished successfully.\n",
      "2025-06-27 16:01:02,322 | INFO: Translating YARRRML mapping to [R2]RML\n",
      "INFO | 2025-06-27 16:01:02,322 | Translating YARRRML mapping to [R2]RML\n",
      "2025-06-27 16:01:02,324 | INFO: RML content is created!\n",
      "INFO | 2025-06-27 16:01:02,324 | RML content is created!\n",
      "2025-06-27 16:01:02,335 | INFO: Mapping has been syntactically validated.\n",
      "INFO | 2025-06-27 16:01:02,335 | Mapping has been syntactically validated.\n",
      "2025-06-27 16:01:02,336 | INFO: Translation has finished successfully.\n",
      "INFO | 2025-06-27 16:01:02,336 | Translation has finished successfully.\n",
      "2025-06-27 16:01:02,346 | INFO: Translating YARRRML mapping to [R2]RML\n",
      "INFO | 2025-06-27 16:01:02,346 | Translating YARRRML mapping to [R2]RML\n",
      "2025-06-27 16:01:02,347 | INFO: RML content is created!\n",
      "INFO | 2025-06-27 16:01:02,347 | RML content is created!\n",
      "2025-06-27 16:01:02,352 | INFO: Mapping has been syntactically validated.\n",
      "INFO | 2025-06-27 16:01:02,352 | Mapping has been syntactically validated.\n",
      "2025-06-27 16:01:02,353 | INFO: Translation has finished successfully.\n",
      "INFO | 2025-06-27 16:01:02,353 | Translation has finished successfully.\n",
      "2025-06-27 16:01:02,362 | INFO: Translating YARRRML mapping to [R2]RML\n",
      "INFO | 2025-06-27 16:01:02,362 | Translating YARRRML mapping to [R2]RML\n",
      "2025-06-27 16:01:02,363 | INFO: RML content is created!\n",
      "INFO | 2025-06-27 16:01:02,363 | RML content is created!\n",
      "2025-06-27 16:01:02,368 | INFO: Mapping has been syntactically validated.\n",
      "INFO | 2025-06-27 16:01:02,368 | Mapping has been syntactically validated.\n",
      "2025-06-27 16:01:02,370 | INFO: Translation has finished successfully.\n",
      "INFO | 2025-06-27 16:01:02,370 | Translation has finished successfully.\n",
      "2025-06-27 16:01:02,377 | INFO: Translating YARRRML mapping to [R2]RML\n",
      "INFO | 2025-06-27 16:01:02,377 | Translating YARRRML mapping to [R2]RML\n",
      "2025-06-27 16:01:02,379 | INFO: RML content is created!\n",
      "INFO | 2025-06-27 16:01:02,379 | RML content is created!\n",
      "2025-06-27 16:01:02,385 | INFO: Mapping has been syntactically validated.\n",
      "INFO | 2025-06-27 16:01:02,385 | Mapping has been syntactically validated.\n",
      "2025-06-27 16:01:02,387 | INFO: Translation has finished successfully.\n",
      "INFO | 2025-06-27 16:01:02,387 | Translation has finished successfully.\n",
      " 31%|███       | 97/316 [00:01<00:04, 49.64it/s]2025-06-27 16:01:02,395 | INFO: Translating YARRRML mapping to [R2]RML\n",
      "INFO | 2025-06-27 16:01:02,395 | Translating YARRRML mapping to [R2]RML\n",
      "2025-06-27 16:01:02,396 | INFO: RML content is created!\n",
      "INFO | 2025-06-27 16:01:02,396 | RML content is created!\n",
      "2025-06-27 16:01:02,404 | INFO: Mapping has been syntactically validated.\n",
      "INFO | 2025-06-27 16:01:02,404 | Mapping has been syntactically validated.\n",
      "2025-06-27 16:01:02,405 | INFO: Translation has finished successfully.\n",
      "INFO | 2025-06-27 16:01:02,405 | Translation has finished successfully.\n",
      "2025-06-27 16:01:02,417 | INFO: Translating YARRRML mapping to [R2]RML\n",
      "INFO | 2025-06-27 16:01:02,417 | Translating YARRRML mapping to [R2]RML\n",
      "2025-06-27 16:01:02,419 | INFO: RML content is created!\n",
      "INFO | 2025-06-27 16:01:02,419 | RML content is created!\n",
      "2025-06-27 16:01:02,425 | INFO: Mapping has been syntactically validated.\n",
      "INFO | 2025-06-27 16:01:02,425 | Mapping has been syntactically validated.\n",
      "2025-06-27 16:01:02,427 | INFO: Translation has finished successfully.\n",
      "INFO | 2025-06-27 16:01:02,427 | Translation has finished successfully.\n",
      "2025-06-27 16:01:02,437 | INFO: Translating YARRRML mapping to [R2]RML\n",
      "INFO | 2025-06-27 16:01:02,437 | Translating YARRRML mapping to [R2]RML\n",
      "2025-06-27 16:01:02,439 | INFO: RML content is created!\n",
      "INFO | 2025-06-27 16:01:02,439 | RML content is created!\n",
      "2025-06-27 16:01:02,444 | INFO: Mapping has been syntactically validated.\n",
      "INFO | 2025-06-27 16:01:02,444 | Mapping has been syntactically validated.\n",
      "2025-06-27 16:01:02,445 | INFO: Translation has finished successfully.\n",
      "INFO | 2025-06-27 16:01:02,445 | Translation has finished successfully.\n",
      "2025-06-27 16:01:02,455 | INFO: Translating YARRRML mapping to [R2]RML\n",
      "INFO | 2025-06-27 16:01:02,455 | Translating YARRRML mapping to [R2]RML\n",
      "2025-06-27 16:01:02,457 | INFO: RML content is created!\n",
      "INFO | 2025-06-27 16:01:02,457 | RML content is created!\n",
      "2025-06-27 16:01:02,466 | INFO: Mapping has been syntactically validated.\n",
      "INFO | 2025-06-27 16:01:02,466 | Mapping has been syntactically validated.\n",
      "2025-06-27 16:01:02,467 | INFO: Translation has finished successfully.\n",
      "INFO | 2025-06-27 16:01:02,467 | Translation has finished successfully.\n",
      "2025-06-27 16:01:02,474 | INFO: Translating YARRRML mapping to [R2]RML\n",
      "INFO | 2025-06-27 16:01:02,474 | Translating YARRRML mapping to [R2]RML\n",
      "2025-06-27 16:01:02,476 | INFO: RML content is created!\n",
      "INFO | 2025-06-27 16:01:02,476 | RML content is created!\n",
      "2025-06-27 16:01:02,483 | INFO: Mapping has been syntactically validated.\n",
      "INFO | 2025-06-27 16:01:02,483 | Mapping has been syntactically validated.\n",
      "2025-06-27 16:01:02,485 | INFO: Translation has finished successfully.\n",
      "INFO | 2025-06-27 16:01:02,485 | Translation has finished successfully.\n",
      "2025-06-27 16:01:02,494 | INFO: Translating YARRRML mapping to [R2]RML\n",
      "INFO | 2025-06-27 16:01:02,494 | Translating YARRRML mapping to [R2]RML\n",
      "2025-06-27 16:01:02,495 | INFO: RML content is created!\n",
      "INFO | 2025-06-27 16:01:02,495 | RML content is created!\n",
      "2025-06-27 16:01:02,502 | INFO: Mapping has been syntactically validated.\n",
      "INFO | 2025-06-27 16:01:02,502 | Mapping has been syntactically validated.\n",
      "2025-06-27 16:01:02,503 | INFO: Translation has finished successfully.\n",
      "INFO | 2025-06-27 16:01:02,503 | Translation has finished successfully.\n",
      " 33%|███▎      | 103/316 [00:02<00:04, 50.15it/s]2025-06-27 16:01:02,512 | INFO: Translating YARRRML mapping to [R2]RML\n",
      "INFO | 2025-06-27 16:01:02,512 | Translating YARRRML mapping to [R2]RML\n",
      "2025-06-27 16:01:02,514 | INFO: RML content is created!\n",
      "INFO | 2025-06-27 16:01:02,514 | RML content is created!\n",
      "2025-06-27 16:01:02,520 | INFO: Mapping has been syntactically validated.\n",
      "INFO | 2025-06-27 16:01:02,520 | Mapping has been syntactically validated.\n",
      "2025-06-27 16:01:02,521 | INFO: Translation has finished successfully.\n",
      "INFO | 2025-06-27 16:01:02,521 | Translation has finished successfully.\n",
      "2025-06-27 16:01:02,531 | INFO: Translating YARRRML mapping to [R2]RML\n",
      "INFO | 2025-06-27 16:01:02,531 | Translating YARRRML mapping to [R2]RML\n",
      "2025-06-27 16:01:02,533 | INFO: RML content is created!\n",
      "INFO | 2025-06-27 16:01:02,533 | RML content is created!\n",
      "2025-06-27 16:01:02,540 | INFO: Mapping has been syntactically validated.\n",
      "INFO | 2025-06-27 16:01:02,540 | Mapping has been syntactically validated.\n",
      "2025-06-27 16:01:02,542 | INFO: Translation has finished successfully.\n",
      "INFO | 2025-06-27 16:01:02,542 | Translation has finished successfully.\n",
      "2025-06-27 16:01:02,555 | INFO: Translating YARRRML mapping to [R2]RML\n",
      "INFO | 2025-06-27 16:01:02,555 | Translating YARRRML mapping to [R2]RML\n",
      "2025-06-27 16:01:02,558 | INFO: RML content is created!\n",
      "INFO | 2025-06-27 16:01:02,558 | RML content is created!\n",
      "2025-06-27 16:01:02,566 | INFO: Mapping has been syntactically validated.\n",
      "INFO | 2025-06-27 16:01:02,566 | Mapping has been syntactically validated.\n",
      "2025-06-27 16:01:02,568 | INFO: Translation has finished successfully.\n",
      "INFO | 2025-06-27 16:01:02,568 | Translation has finished successfully.\n",
      "2025-06-27 16:01:02,577 | INFO: Translating YARRRML mapping to [R2]RML\n",
      "INFO | 2025-06-27 16:01:02,577 | Translating YARRRML mapping to [R2]RML\n",
      "2025-06-27 16:01:02,578 | INFO: RML content is created!\n",
      "INFO | 2025-06-27 16:01:02,578 | RML content is created!\n",
      "2025-06-27 16:01:02,585 | INFO: Mapping has been syntactically validated.\n",
      "INFO | 2025-06-27 16:01:02,585 | Mapping has been syntactically validated.\n",
      "2025-06-27 16:01:02,588 | INFO: Translation has finished successfully.\n",
      "INFO | 2025-06-27 16:01:02,588 | Translation has finished successfully.\n",
      "2025-06-27 16:01:02,596 | INFO: Translating YARRRML mapping to [R2]RML\n",
      "INFO | 2025-06-27 16:01:02,596 | Translating YARRRML mapping to [R2]RML\n",
      "2025-06-27 16:01:02,597 | INFO: RML content is created!\n",
      "INFO | 2025-06-27 16:01:02,597 | RML content is created!\n",
      "2025-06-27 16:01:02,608 | INFO: Mapping has been syntactically validated.\n",
      "INFO | 2025-06-27 16:01:02,608 | Mapping has been syntactically validated.\n",
      "2025-06-27 16:01:02,610 | INFO: Translation has finished successfully.\n",
      "INFO | 2025-06-27 16:01:02,610 | Translation has finished successfully.\n",
      "2025-06-27 16:01:02,618 | INFO: Translating YARRRML mapping to [R2]RML\n",
      "INFO | 2025-06-27 16:01:02,618 | Translating YARRRML mapping to [R2]RML\n",
      "2025-06-27 16:01:02,620 | INFO: RML content is created!\n",
      "INFO | 2025-06-27 16:01:02,620 | RML content is created!\n",
      "2025-06-27 16:01:02,626 | INFO: Mapping has been syntactically validated.\n",
      "INFO | 2025-06-27 16:01:02,626 | Mapping has been syntactically validated.\n",
      "2025-06-27 16:01:02,627 | INFO: Translation has finished successfully.\n",
      "INFO | 2025-06-27 16:01:02,627 | Translation has finished successfully.\n",
      " 34%|███▍      | 109/316 [00:02<00:04, 49.64it/s]2025-06-27 16:01:02,637 | INFO: Translating YARRRML mapping to [R2]RML\n",
      "INFO | 2025-06-27 16:01:02,637 | Translating YARRRML mapping to [R2]RML\n",
      "2025-06-27 16:01:02,638 | INFO: RML content is created!\n",
      "INFO | 2025-06-27 16:01:02,638 | RML content is created!\n",
      "2025-06-27 16:01:02,645 | INFO: Mapping has been syntactically validated.\n",
      "INFO | 2025-06-27 16:01:02,645 | Mapping has been syntactically validated.\n",
      "2025-06-27 16:01:02,645 | INFO: Translation has finished successfully.\n",
      "INFO | 2025-06-27 16:01:02,645 | Translation has finished successfully.\n",
      "2025-06-27 16:01:02,653 | INFO: Translating YARRRML mapping to [R2]RML\n",
      "INFO | 2025-06-27 16:01:02,653 | Translating YARRRML mapping to [R2]RML\n",
      "2025-06-27 16:01:02,655 | INFO: RML content is created!\n",
      "INFO | 2025-06-27 16:01:02,655 | RML content is created!\n",
      "2025-06-27 16:01:02,660 | INFO: Mapping has been syntactically validated.\n",
      "INFO | 2025-06-27 16:01:02,660 | Mapping has been syntactically validated.\n",
      "2025-06-27 16:01:02,662 | INFO: Translation has finished successfully.\n",
      "INFO | 2025-06-27 16:01:02,662 | Translation has finished successfully.\n",
      "2025-06-27 16:01:02,672 | INFO: Translating YARRRML mapping to [R2]RML\n",
      "INFO | 2025-06-27 16:01:02,672 | Translating YARRRML mapping to [R2]RML\n",
      "2025-06-27 16:01:02,673 | INFO: RML content is created!\n",
      "INFO | 2025-06-27 16:01:02,673 | RML content is created!\n",
      "2025-06-27 16:01:02,680 | INFO: Mapping has been syntactically validated.\n",
      "INFO | 2025-06-27 16:01:02,680 | Mapping has been syntactically validated.\n",
      "2025-06-27 16:01:02,682 | INFO: Translation has finished successfully.\n",
      "INFO | 2025-06-27 16:01:02,682 | Translation has finished successfully.\n",
      "2025-06-27 16:01:02,690 | INFO: Translating YARRRML mapping to [R2]RML\n",
      "INFO | 2025-06-27 16:01:02,690 | Translating YARRRML mapping to [R2]RML\n",
      "2025-06-27 16:01:02,691 | INFO: RML content is created!\n",
      "INFO | 2025-06-27 16:01:02,691 | RML content is created!\n",
      "2025-06-27 16:01:02,697 | INFO: Mapping has been syntactically validated.\n",
      "INFO | 2025-06-27 16:01:02,697 | Mapping has been syntactically validated.\n",
      "2025-06-27 16:01:02,698 | INFO: Translation has finished successfully.\n",
      "INFO | 2025-06-27 16:01:02,698 | Translation has finished successfully.\n",
      "2025-06-27 16:01:02,706 | INFO: Translating YARRRML mapping to [R2]RML\n",
      "INFO | 2025-06-27 16:01:02,706 | Translating YARRRML mapping to [R2]RML\n",
      "2025-06-27 16:01:02,708 | INFO: RML content is created!\n",
      "INFO | 2025-06-27 16:01:02,708 | RML content is created!\n",
      "2025-06-27 16:01:02,713 | INFO: Mapping has been syntactically validated.\n",
      "INFO | 2025-06-27 16:01:02,713 | Mapping has been syntactically validated.\n",
      "2025-06-27 16:01:02,714 | INFO: Translation has finished successfully.\n",
      "INFO | 2025-06-27 16:01:02,714 | Translation has finished successfully.\n",
      "2025-06-27 16:01:02,720 | INFO: Translating YARRRML mapping to [R2]RML\n",
      "INFO | 2025-06-27 16:01:02,720 | Translating YARRRML mapping to [R2]RML\n",
      "2025-06-27 16:01:02,722 | INFO: RML content is created!\n",
      "INFO | 2025-06-27 16:01:02,722 | RML content is created!\n",
      "2025-06-27 16:01:02,729 | INFO: Mapping has been syntactically validated.\n",
      "INFO | 2025-06-27 16:01:02,729 | Mapping has been syntactically validated.\n",
      "2025-06-27 16:01:02,730 | INFO: Translation has finished successfully.\n",
      "INFO | 2025-06-27 16:01:02,730 | Translation has finished successfully.\n",
      " 36%|███▋      | 115/316 [00:02<00:03, 51.77it/s]2025-06-27 16:01:02,744 | INFO: Translating YARRRML mapping to [R2]RML\n",
      "INFO | 2025-06-27 16:01:02,744 | Translating YARRRML mapping to [R2]RML\n",
      "2025-06-27 16:01:02,745 | INFO: RML content is created!\n",
      "INFO | 2025-06-27 16:01:02,745 | RML content is created!\n",
      "2025-06-27 16:01:02,754 | INFO: Mapping has been syntactically validated.\n",
      "INFO | 2025-06-27 16:01:02,754 | Mapping has been syntactically validated.\n",
      "2025-06-27 16:01:02,756 | INFO: Translation has finished successfully.\n",
      "INFO | 2025-06-27 16:01:02,756 | Translation has finished successfully.\n",
      "2025-06-27 16:01:02,765 | INFO: Translating YARRRML mapping to [R2]RML\n",
      "INFO | 2025-06-27 16:01:02,765 | Translating YARRRML mapping to [R2]RML\n",
      "2025-06-27 16:01:02,768 | INFO: RML content is created!\n",
      "INFO | 2025-06-27 16:01:02,768 | RML content is created!\n",
      "2025-06-27 16:01:02,779 | INFO: Mapping has been syntactically validated.\n",
      "INFO | 2025-06-27 16:01:02,779 | Mapping has been syntactically validated.\n",
      "2025-06-27 16:01:02,782 | INFO: Translation has finished successfully.\n",
      "INFO | 2025-06-27 16:01:02,782 | Translation has finished successfully.\n",
      "2025-06-27 16:01:02,790 | INFO: Translating YARRRML mapping to [R2]RML\n",
      "INFO | 2025-06-27 16:01:02,790 | Translating YARRRML mapping to [R2]RML\n",
      "2025-06-27 16:01:02,793 | INFO: RML content is created!\n",
      "INFO | 2025-06-27 16:01:02,793 | RML content is created!\n",
      "2025-06-27 16:01:02,803 | INFO: Mapping has been syntactically validated.\n",
      "INFO | 2025-06-27 16:01:02,803 | Mapping has been syntactically validated.\n",
      "2025-06-27 16:01:02,804 | INFO: Translation has finished successfully.\n",
      "INFO | 2025-06-27 16:01:02,804 | Translation has finished successfully.\n",
      "2025-06-27 16:01:02,815 | INFO: Translating YARRRML mapping to [R2]RML\n",
      "INFO | 2025-06-27 16:01:02,815 | Translating YARRRML mapping to [R2]RML\n",
      "2025-06-27 16:01:02,818 | INFO: RML content is created!\n",
      "INFO | 2025-06-27 16:01:02,818 | RML content is created!\n",
      "2025-06-27 16:01:02,827 | INFO: Mapping has been syntactically validated.\n",
      "INFO | 2025-06-27 16:01:02,827 | Mapping has been syntactically validated.\n",
      "2025-06-27 16:01:02,830 | INFO: Translation has finished successfully.\n",
      "INFO | 2025-06-27 16:01:02,830 | Translation has finished successfully.\n",
      "2025-06-27 16:01:02,842 | INFO: Translating YARRRML mapping to [R2]RML\n",
      "INFO | 2025-06-27 16:01:02,842 | Translating YARRRML mapping to [R2]RML\n",
      "2025-06-27 16:01:02,845 | INFO: RML content is created!\n",
      "INFO | 2025-06-27 16:01:02,845 | RML content is created!\n",
      "2025-06-27 16:01:02,852 | INFO: Mapping has been syntactically validated.\n",
      "INFO | 2025-06-27 16:01:02,852 | Mapping has been syntactically validated.\n",
      "2025-06-27 16:01:02,853 | INFO: Translation has finished successfully.\n",
      "INFO | 2025-06-27 16:01:02,853 | Translation has finished successfully.\n",
      "2025-06-27 16:01:02,862 | INFO: Translating YARRRML mapping to [R2]RML\n",
      "INFO | 2025-06-27 16:01:02,862 | Translating YARRRML mapping to [R2]RML\n",
      "2025-06-27 16:01:02,864 | INFO: RML content is created!\n",
      "INFO | 2025-06-27 16:01:02,864 | RML content is created!\n",
      "2025-06-27 16:01:02,872 | INFO: Mapping has been syntactically validated.\n",
      "INFO | 2025-06-27 16:01:02,872 | Mapping has been syntactically validated.\n",
      "2025-06-27 16:01:02,874 | INFO: Translation has finished successfully.\n",
      "INFO | 2025-06-27 16:01:02,874 | Translation has finished successfully.\n",
      " 38%|███▊      | 121/316 [00:02<00:04, 48.49it/s]2025-06-27 16:01:02,883 | INFO: Translating YARRRML mapping to [R2]RML\n",
      "INFO | 2025-06-27 16:01:02,883 | Translating YARRRML mapping to [R2]RML\n",
      "2025-06-27 16:01:02,885 | INFO: RML content is created!\n",
      "INFO | 2025-06-27 16:01:02,885 | RML content is created!\n",
      "2025-06-27 16:01:02,891 | INFO: Mapping has been syntactically validated.\n",
      "INFO | 2025-06-27 16:01:02,891 | Mapping has been syntactically validated.\n",
      "2025-06-27 16:01:02,893 | INFO: Translation has finished successfully.\n",
      "INFO | 2025-06-27 16:01:02,893 | Translation has finished successfully.\n",
      "2025-06-27 16:01:02,902 | INFO: Translating YARRRML mapping to [R2]RML\n",
      "INFO | 2025-06-27 16:01:02,902 | Translating YARRRML mapping to [R2]RML\n",
      "2025-06-27 16:01:02,904 | INFO: RML content is created!\n",
      "INFO | 2025-06-27 16:01:02,904 | RML content is created!\n",
      "2025-06-27 16:01:02,910 | INFO: Mapping has been syntactically validated.\n",
      "INFO | 2025-06-27 16:01:02,910 | Mapping has been syntactically validated.\n",
      "2025-06-27 16:01:02,912 | INFO: Translation has finished successfully.\n",
      "INFO | 2025-06-27 16:01:02,912 | Translation has finished successfully.\n",
      "2025-06-27 16:01:02,922 | INFO: Translating YARRRML mapping to [R2]RML\n",
      "INFO | 2025-06-27 16:01:02,922 | Translating YARRRML mapping to [R2]RML\n",
      "2025-06-27 16:01:02,926 | INFO: RML content is created!\n",
      "INFO | 2025-06-27 16:01:02,926 | RML content is created!\n",
      "2025-06-27 16:01:02,932 | INFO: Mapping has been syntactically validated.\n",
      "INFO | 2025-06-27 16:01:02,932 | Mapping has been syntactically validated.\n",
      "2025-06-27 16:01:02,933 | INFO: Translation has finished successfully.\n",
      "INFO | 2025-06-27 16:01:02,933 | Translation has finished successfully.\n",
      "2025-06-27 16:01:02,941 | INFO: Translating YARRRML mapping to [R2]RML\n",
      "INFO | 2025-06-27 16:01:02,941 | Translating YARRRML mapping to [R2]RML\n",
      "2025-06-27 16:01:02,943 | INFO: RML content is created!\n",
      "INFO | 2025-06-27 16:01:02,943 | RML content is created!\n",
      "2025-06-27 16:01:02,954 | INFO: Mapping has been syntactically validated.\n",
      "INFO | 2025-06-27 16:01:02,954 | Mapping has been syntactically validated.\n",
      "2025-06-27 16:01:02,955 | INFO: Translation has finished successfully.\n",
      "INFO | 2025-06-27 16:01:02,955 | Translation has finished successfully.\n",
      "2025-06-27 16:01:02,965 | INFO: Translating YARRRML mapping to [R2]RML\n",
      "INFO | 2025-06-27 16:01:02,965 | Translating YARRRML mapping to [R2]RML\n",
      "2025-06-27 16:01:02,967 | INFO: RML content is created!\n",
      "INFO | 2025-06-27 16:01:02,967 | RML content is created!\n",
      "2025-06-27 16:01:02,974 | INFO: Mapping has been syntactically validated.\n",
      "INFO | 2025-06-27 16:01:02,974 | Mapping has been syntactically validated.\n",
      "2025-06-27 16:01:02,976 | INFO: Translation has finished successfully.\n",
      "INFO | 2025-06-27 16:01:02,976 | Translation has finished successfully.\n",
      " 40%|███▉      | 126/316 [00:02<00:03, 48.58it/s]2025-06-27 16:01:02,986 | INFO: Translating YARRRML mapping to [R2]RML\n",
      "INFO | 2025-06-27 16:01:02,986 | Translating YARRRML mapping to [R2]RML\n",
      "2025-06-27 16:01:02,989 | INFO: RML content is created!\n",
      "INFO | 2025-06-27 16:01:02,989 | RML content is created!\n",
      "2025-06-27 16:01:02,997 | INFO: Mapping has been syntactically validated.\n",
      "INFO | 2025-06-27 16:01:02,997 | Mapping has been syntactically validated.\n",
      "2025-06-27 16:01:02,998 | INFO: Translation has finished successfully.\n",
      "INFO | 2025-06-27 16:01:02,998 | Translation has finished successfully.\n",
      "2025-06-27 16:01:03,010 | INFO: Translating YARRRML mapping to [R2]RML\n",
      "INFO | 2025-06-27 16:01:03,010 | Translating YARRRML mapping to [R2]RML\n",
      "2025-06-27 16:01:03,012 | INFO: RML content is created!\n",
      "INFO | 2025-06-27 16:01:03,012 | RML content is created!\n",
      "2025-06-27 16:01:03,021 | INFO: Mapping has been syntactically validated.\n",
      "INFO | 2025-06-27 16:01:03,021 | Mapping has been syntactically validated.\n",
      "2025-06-27 16:01:03,023 | INFO: Translation has finished successfully.\n",
      "INFO | 2025-06-27 16:01:03,023 | Translation has finished successfully.\n",
      "2025-06-27 16:01:03,037 | INFO: Translating YARRRML mapping to [R2]RML\n",
      "INFO | 2025-06-27 16:01:03,037 | Translating YARRRML mapping to [R2]RML\n",
      "2025-06-27 16:01:03,038 | INFO: RML content is created!\n",
      "INFO | 2025-06-27 16:01:03,038 | RML content is created!\n",
      "2025-06-27 16:01:03,046 | INFO: Mapping has been syntactically validated.\n",
      "INFO | 2025-06-27 16:01:03,046 | Mapping has been syntactically validated.\n",
      "2025-06-27 16:01:03,049 | INFO: Translation has finished successfully.\n",
      "INFO | 2025-06-27 16:01:03,049 | Translation has finished successfully.\n",
      "2025-06-27 16:01:03,057 | INFO: Translating YARRRML mapping to [R2]RML\n",
      "INFO | 2025-06-27 16:01:03,057 | Translating YARRRML mapping to [R2]RML\n",
      "2025-06-27 16:01:03,059 | INFO: RML content is created!\n",
      "INFO | 2025-06-27 16:01:03,059 | RML content is created!\n",
      "2025-06-27 16:01:03,072 | INFO: Mapping has been syntactically validated.\n",
      "INFO | 2025-06-27 16:01:03,072 | Mapping has been syntactically validated.\n",
      "2025-06-27 16:01:03,074 | INFO: Translation has finished successfully.\n",
      "INFO | 2025-06-27 16:01:03,074 | Translation has finished successfully.\n",
      "2025-06-27 16:01:03,083 | INFO: Translating YARRRML mapping to [R2]RML\n",
      "INFO | 2025-06-27 16:01:03,083 | Translating YARRRML mapping to [R2]RML\n",
      "2025-06-27 16:01:03,085 | INFO: RML content is created!\n",
      "INFO | 2025-06-27 16:01:03,085 | RML content is created!\n",
      "2025-06-27 16:01:03,091 | INFO: Mapping has been syntactically validated.\n",
      "INFO | 2025-06-27 16:01:03,091 | Mapping has been syntactically validated.\n",
      "2025-06-27 16:01:03,092 | INFO: Translation has finished successfully.\n",
      "INFO | 2025-06-27 16:01:03,092 | Translation has finished successfully.\n",
      " 41%|████▏     | 131/316 [00:02<00:03, 46.83it/s]2025-06-27 16:01:03,102 | INFO: Translating YARRRML mapping to [R2]RML\n",
      "INFO | 2025-06-27 16:01:03,102 | Translating YARRRML mapping to [R2]RML\n",
      "2025-06-27 16:01:03,104 | INFO: RML content is created!\n",
      "INFO | 2025-06-27 16:01:03,104 | RML content is created!\n",
      "2025-06-27 16:01:03,109 | INFO: Mapping has been syntactically validated.\n",
      "INFO | 2025-06-27 16:01:03,109 | Mapping has been syntactically validated.\n",
      "2025-06-27 16:01:03,111 | INFO: Translation has finished successfully.\n",
      "INFO | 2025-06-27 16:01:03,111 | Translation has finished successfully.\n",
      "2025-06-27 16:01:03,122 | INFO: Translating YARRRML mapping to [R2]RML\n",
      "INFO | 2025-06-27 16:01:03,122 | Translating YARRRML mapping to [R2]RML\n",
      "2025-06-27 16:01:03,123 | INFO: RML content is created!\n",
      "INFO | 2025-06-27 16:01:03,123 | RML content is created!\n",
      "2025-06-27 16:01:03,131 | INFO: Mapping has been syntactically validated.\n",
      "INFO | 2025-06-27 16:01:03,131 | Mapping has been syntactically validated.\n",
      "2025-06-27 16:01:03,132 | INFO: Translation has finished successfully.\n",
      "INFO | 2025-06-27 16:01:03,132 | Translation has finished successfully.\n",
      "2025-06-27 16:01:03,140 | INFO: Translating YARRRML mapping to [R2]RML\n",
      "INFO | 2025-06-27 16:01:03,140 | Translating YARRRML mapping to [R2]RML\n",
      "2025-06-27 16:01:03,142 | INFO: RML content is created!\n",
      "INFO | 2025-06-27 16:01:03,142 | RML content is created!\n",
      "2025-06-27 16:01:03,148 | INFO: Mapping has been syntactically validated.\n",
      "INFO | 2025-06-27 16:01:03,148 | Mapping has been syntactically validated.\n",
      "2025-06-27 16:01:03,150 | INFO: Translation has finished successfully.\n",
      "INFO | 2025-06-27 16:01:03,150 | Translation has finished successfully.\n",
      "2025-06-27 16:01:03,158 | INFO: Translating YARRRML mapping to [R2]RML\n",
      "INFO | 2025-06-27 16:01:03,158 | Translating YARRRML mapping to [R2]RML\n",
      "2025-06-27 16:01:03,160 | INFO: RML content is created!\n",
      "INFO | 2025-06-27 16:01:03,160 | RML content is created!\n",
      "2025-06-27 16:01:03,165 | INFO: Mapping has been syntactically validated.\n",
      "INFO | 2025-06-27 16:01:03,165 | Mapping has been syntactically validated.\n",
      "2025-06-27 16:01:03,166 | INFO: Translation has finished successfully.\n",
      "INFO | 2025-06-27 16:01:03,166 | Translation has finished successfully.\n",
      "2025-06-27 16:01:03,174 | INFO: Translating YARRRML mapping to [R2]RML\n",
      "INFO | 2025-06-27 16:01:03,174 | Translating YARRRML mapping to [R2]RML\n",
      "2025-06-27 16:01:03,175 | INFO: RML content is created!\n",
      "INFO | 2025-06-27 16:01:03,175 | RML content is created!\n",
      "2025-06-27 16:01:03,182 | INFO: Mapping has been syntactically validated.\n",
      "INFO | 2025-06-27 16:01:03,182 | Mapping has been syntactically validated.\n",
      "2025-06-27 16:01:03,183 | INFO: Translation has finished successfully.\n",
      "INFO | 2025-06-27 16:01:03,183 | Translation has finished successfully.\n",
      "2025-06-27 16:01:03,192 | INFO: Translating YARRRML mapping to [R2]RML\n",
      "INFO | 2025-06-27 16:01:03,192 | Translating YARRRML mapping to [R2]RML\n",
      "2025-06-27 16:01:03,194 | INFO: RML content is created!\n",
      "INFO | 2025-06-27 16:01:03,194 | RML content is created!\n",
      "2025-06-27 16:01:03,200 | INFO: Mapping has been syntactically validated.\n",
      "INFO | 2025-06-27 16:01:03,200 | Mapping has been syntactically validated.\n",
      "2025-06-27 16:01:03,201 | INFO: Translation has finished successfully.\n",
      "INFO | 2025-06-27 16:01:03,201 | Translation has finished successfully.\n",
      " 43%|████▎     | 137/316 [00:02<00:03, 49.30it/s]2025-06-27 16:01:03,211 | INFO: Translating YARRRML mapping to [R2]RML\n",
      "INFO | 2025-06-27 16:01:03,211 | Translating YARRRML mapping to [R2]RML\n",
      "2025-06-27 16:01:03,212 | INFO: RML content is created!\n",
      "INFO | 2025-06-27 16:01:03,212 | RML content is created!\n",
      "2025-06-27 16:01:03,219 | INFO: Mapping has been syntactically validated.\n",
      "INFO | 2025-06-27 16:01:03,219 | Mapping has been syntactically validated.\n",
      "2025-06-27 16:01:03,220 | INFO: Translation has finished successfully.\n",
      "INFO | 2025-06-27 16:01:03,220 | Translation has finished successfully.\n",
      "2025-06-27 16:01:03,230 | INFO: Translating YARRRML mapping to [R2]RML\n",
      "INFO | 2025-06-27 16:01:03,230 | Translating YARRRML mapping to [R2]RML\n",
      "2025-06-27 16:01:03,233 | INFO: RML content is created!\n",
      "INFO | 2025-06-27 16:01:03,233 | RML content is created!\n",
      "2025-06-27 16:01:03,241 | INFO: Mapping has been syntactically validated.\n",
      "INFO | 2025-06-27 16:01:03,241 | Mapping has been syntactically validated.\n",
      "2025-06-27 16:01:03,242 | INFO: Translation has finished successfully.\n",
      "INFO | 2025-06-27 16:01:03,242 | Translation has finished successfully.\n",
      "2025-06-27 16:01:03,250 | INFO: Translating YARRRML mapping to [R2]RML\n",
      "INFO | 2025-06-27 16:01:03,250 | Translating YARRRML mapping to [R2]RML\n",
      "2025-06-27 16:01:03,251 | INFO: RML content is created!\n",
      "INFO | 2025-06-27 16:01:03,251 | RML content is created!\n",
      "2025-06-27 16:01:03,261 | INFO: Mapping has been syntactically validated.\n",
      "INFO | 2025-06-27 16:01:03,261 | Mapping has been syntactically validated.\n",
      "2025-06-27 16:01:03,263 | INFO: Translation has finished successfully.\n",
      "INFO | 2025-06-27 16:01:03,263 | Translation has finished successfully.\n",
      "2025-06-27 16:01:03,272 | INFO: Translating YARRRML mapping to [R2]RML\n",
      "INFO | 2025-06-27 16:01:03,272 | Translating YARRRML mapping to [R2]RML\n",
      "2025-06-27 16:01:03,274 | INFO: RML content is created!\n",
      "INFO | 2025-06-27 16:01:03,274 | RML content is created!\n",
      "2025-06-27 16:01:03,284 | INFO: Mapping has been syntactically validated.\n",
      "INFO | 2025-06-27 16:01:03,284 | Mapping has been syntactically validated.\n",
      "2025-06-27 16:01:03,286 | INFO: Translation has finished successfully.\n",
      "INFO | 2025-06-27 16:01:03,286 | Translation has finished successfully.\n",
      "2025-06-27 16:01:03,295 | INFO: Translating YARRRML mapping to [R2]RML\n",
      "INFO | 2025-06-27 16:01:03,295 | Translating YARRRML mapping to [R2]RML\n",
      "2025-06-27 16:01:03,297 | INFO: RML content is created!\n",
      "INFO | 2025-06-27 16:01:03,297 | RML content is created!\n",
      "2025-06-27 16:01:03,304 | INFO: Mapping has been syntactically validated.\n",
      "INFO | 2025-06-27 16:01:03,304 | Mapping has been syntactically validated.\n",
      "2025-06-27 16:01:03,305 | INFO: Translation has finished successfully.\n",
      "INFO | 2025-06-27 16:01:03,305 | Translation has finished successfully.\n",
      " 45%|████▍     | 142/316 [00:02<00:03, 48.88it/s]2025-06-27 16:01:03,315 | INFO: Translating YARRRML mapping to [R2]RML\n",
      "INFO | 2025-06-27 16:01:03,315 | Translating YARRRML mapping to [R2]RML\n",
      "2025-06-27 16:01:03,317 | INFO: RML content is created!\n",
      "INFO | 2025-06-27 16:01:03,317 | RML content is created!\n",
      "2025-06-27 16:01:03,322 | INFO: Mapping has been syntactically validated.\n",
      "INFO | 2025-06-27 16:01:03,322 | Mapping has been syntactically validated.\n",
      "2025-06-27 16:01:03,324 | INFO: Translation has finished successfully.\n",
      "INFO | 2025-06-27 16:01:03,324 | Translation has finished successfully.\n",
      "2025-06-27 16:01:03,333 | INFO: Translating YARRRML mapping to [R2]RML\n",
      "INFO | 2025-06-27 16:01:03,333 | Translating YARRRML mapping to [R2]RML\n",
      "2025-06-27 16:01:03,336 | INFO: RML content is created!\n",
      "INFO | 2025-06-27 16:01:03,336 | RML content is created!\n",
      "2025-06-27 16:01:03,341 | INFO: Mapping has been syntactically validated.\n",
      "INFO | 2025-06-27 16:01:03,341 | Mapping has been syntactically validated.\n",
      "2025-06-27 16:01:03,343 | INFO: Translation has finished successfully.\n",
      "INFO | 2025-06-27 16:01:03,343 | Translation has finished successfully.\n",
      "2025-06-27 16:01:03,352 | INFO: Translating YARRRML mapping to [R2]RML\n",
      "INFO | 2025-06-27 16:01:03,352 | Translating YARRRML mapping to [R2]RML\n",
      "2025-06-27 16:01:03,354 | INFO: RML content is created!\n",
      "INFO | 2025-06-27 16:01:03,354 | RML content is created!\n",
      "2025-06-27 16:01:03,360 | INFO: Mapping has been syntactically validated.\n",
      "INFO | 2025-06-27 16:01:03,360 | Mapping has been syntactically validated.\n",
      "2025-06-27 16:01:03,361 | INFO: Translation has finished successfully.\n",
      "INFO | 2025-06-27 16:01:03,361 | Translation has finished successfully.\n",
      "2025-06-27 16:01:03,369 | INFO: Translating YARRRML mapping to [R2]RML\n",
      "INFO | 2025-06-27 16:01:03,369 | Translating YARRRML mapping to [R2]RML\n",
      "2025-06-27 16:01:03,371 | INFO: RML content is created!\n",
      "INFO | 2025-06-27 16:01:03,371 | RML content is created!\n",
      "2025-06-27 16:01:03,378 | INFO: Mapping has been syntactically validated.\n",
      "INFO | 2025-06-27 16:01:03,378 | Mapping has been syntactically validated.\n",
      "2025-06-27 16:01:03,380 | INFO: Translation has finished successfully.\n",
      "INFO | 2025-06-27 16:01:03,380 | Translation has finished successfully.\n",
      "2025-06-27 16:01:03,388 | INFO: Translating YARRRML mapping to [R2]RML\n",
      "INFO | 2025-06-27 16:01:03,388 | Translating YARRRML mapping to [R2]RML\n",
      "2025-06-27 16:01:03,390 | INFO: RML content is created!\n",
      "INFO | 2025-06-27 16:01:03,390 | RML content is created!\n",
      "2025-06-27 16:01:03,397 | INFO: Mapping has been syntactically validated.\n",
      "INFO | 2025-06-27 16:01:03,397 | Mapping has been syntactically validated.\n",
      "2025-06-27 16:01:03,399 | INFO: Translation has finished successfully.\n",
      "INFO | 2025-06-27 16:01:03,399 | Translation has finished successfully.\n",
      "2025-06-27 16:01:03,408 | INFO: Translating YARRRML mapping to [R2]RML\n",
      "INFO | 2025-06-27 16:01:03,408 | Translating YARRRML mapping to [R2]RML\n",
      "2025-06-27 16:01:03,410 | INFO: RML content is created!\n",
      "INFO | 2025-06-27 16:01:03,410 | RML content is created!\n",
      "2025-06-27 16:01:03,417 | INFO: Mapping has been syntactically validated.\n",
      "INFO | 2025-06-27 16:01:03,417 | Mapping has been syntactically validated.\n",
      "2025-06-27 16:01:03,418 | INFO: Translation has finished successfully.\n",
      "INFO | 2025-06-27 16:01:03,418 | Translation has finished successfully.\n",
      " 47%|████▋     | 148/316 [00:02<00:03, 50.11it/s]2025-06-27 16:01:03,429 | INFO: Translating YARRRML mapping to [R2]RML\n",
      "INFO | 2025-06-27 16:01:03,429 | Translating YARRRML mapping to [R2]RML\n",
      "2025-06-27 16:01:03,430 | INFO: RML content is created!\n",
      "INFO | 2025-06-27 16:01:03,430 | RML content is created!\n",
      "2025-06-27 16:01:03,448 | INFO: Mapping has been syntactically validated.\n",
      "INFO | 2025-06-27 16:01:03,448 | Mapping has been syntactically validated.\n",
      "2025-06-27 16:01:03,450 | INFO: Translation has finished successfully.\n",
      "INFO | 2025-06-27 16:01:03,450 | Translation has finished successfully.\n",
      "2025-06-27 16:01:03,464 | INFO: Translating YARRRML mapping to [R2]RML\n",
      "INFO | 2025-06-27 16:01:03,464 | Translating YARRRML mapping to [R2]RML\n",
      "2025-06-27 16:01:03,468 | INFO: RML content is created!\n",
      "INFO | 2025-06-27 16:01:03,468 | RML content is created!\n",
      "2025-06-27 16:01:03,479 | INFO: Mapping has been syntactically validated.\n",
      "INFO | 2025-06-27 16:01:03,479 | Mapping has been syntactically validated.\n",
      "2025-06-27 16:01:03,481 | INFO: Translation has finished successfully.\n",
      "INFO | 2025-06-27 16:01:03,481 | Translation has finished successfully.\n",
      "2025-06-27 16:01:03,491 | INFO: Translating YARRRML mapping to [R2]RML\n",
      "INFO | 2025-06-27 16:01:03,491 | Translating YARRRML mapping to [R2]RML\n",
      "2025-06-27 16:01:03,494 | INFO: RML content is created!\n",
      "INFO | 2025-06-27 16:01:03,494 | RML content is created!\n",
      "2025-06-27 16:01:03,504 | INFO: Mapping has been syntactically validated.\n",
      "INFO | 2025-06-27 16:01:03,504 | Mapping has been syntactically validated.\n",
      "2025-06-27 16:01:03,505 | INFO: Translation has finished successfully.\n",
      "INFO | 2025-06-27 16:01:03,505 | Translation has finished successfully.\n",
      "2025-06-27 16:01:03,519 | INFO: Translating YARRRML mapping to [R2]RML\n",
      "INFO | 2025-06-27 16:01:03,519 | Translating YARRRML mapping to [R2]RML\n",
      "2025-06-27 16:01:03,521 | INFO: RML content is created!\n",
      "INFO | 2025-06-27 16:01:03,521 | RML content is created!\n",
      "2025-06-27 16:01:03,528 | INFO: Mapping has been syntactically validated.\n",
      "INFO | 2025-06-27 16:01:03,528 | Mapping has been syntactically validated.\n",
      "2025-06-27 16:01:03,529 | INFO: Translation has finished successfully.\n",
      "INFO | 2025-06-27 16:01:03,529 | Translation has finished successfully.\n",
      "2025-06-27 16:01:03,539 | INFO: Translating YARRRML mapping to [R2]RML\n",
      "INFO | 2025-06-27 16:01:03,539 | Translating YARRRML mapping to [R2]RML\n",
      "2025-06-27 16:01:03,541 | INFO: RML content is created!\n",
      "INFO | 2025-06-27 16:01:03,541 | RML content is created!\n",
      "2025-06-27 16:01:03,546 | INFO: Mapping has been syntactically validated.\n",
      "INFO | 2025-06-27 16:01:03,546 | Mapping has been syntactically validated.\n",
      "2025-06-27 16:01:03,548 | INFO: Translation has finished successfully.\n",
      "INFO | 2025-06-27 16:01:03,548 | Translation has finished successfully.\n",
      "2025-06-27 16:01:03,556 | INFO: Translating YARRRML mapping to [R2]RML\n",
      "INFO | 2025-06-27 16:01:03,556 | Translating YARRRML mapping to [R2]RML\n",
      "2025-06-27 16:01:03,558 | INFO: RML content is created!\n",
      "INFO | 2025-06-27 16:01:03,558 | RML content is created!\n",
      "2025-06-27 16:01:03,566 | INFO: Mapping has been syntactically validated.\n",
      "INFO | 2025-06-27 16:01:03,566 | Mapping has been syntactically validated.\n",
      "2025-06-27 16:01:03,567 | INFO: Translation has finished successfully.\n",
      "INFO | 2025-06-27 16:01:03,567 | Translation has finished successfully.\n",
      " 49%|████▊     | 154/316 [00:03<00:03, 46.67it/s]2025-06-27 16:01:03,575 | INFO: Translating YARRRML mapping to [R2]RML\n",
      "INFO | 2025-06-27 16:01:03,575 | Translating YARRRML mapping to [R2]RML\n",
      "2025-06-27 16:01:03,577 | INFO: RML content is created!\n",
      "INFO | 2025-06-27 16:01:03,577 | RML content is created!\n",
      "2025-06-27 16:01:03,582 | INFO: Mapping has been syntactically validated.\n",
      "INFO | 2025-06-27 16:01:03,582 | Mapping has been syntactically validated.\n",
      "2025-06-27 16:01:03,584 | INFO: Translation has finished successfully.\n",
      "INFO | 2025-06-27 16:01:03,584 | Translation has finished successfully.\n",
      "2025-06-27 16:01:03,595 | INFO: Translating YARRRML mapping to [R2]RML\n",
      "INFO | 2025-06-27 16:01:03,595 | Translating YARRRML mapping to [R2]RML\n",
      "2025-06-27 16:01:03,597 | INFO: RML content is created!\n",
      "INFO | 2025-06-27 16:01:03,597 | RML content is created!\n",
      "2025-06-27 16:01:03,604 | INFO: Mapping has been syntactically validated.\n",
      "INFO | 2025-06-27 16:01:03,604 | Mapping has been syntactically validated.\n",
      "2025-06-27 16:01:03,605 | INFO: Translation has finished successfully.\n",
      "INFO | 2025-06-27 16:01:03,605 | Translation has finished successfully.\n",
      "2025-06-27 16:01:03,613 | INFO: Translating YARRRML mapping to [R2]RML\n",
      "INFO | 2025-06-27 16:01:03,613 | Translating YARRRML mapping to [R2]RML\n",
      "2025-06-27 16:01:03,616 | INFO: RML content is created!\n",
      "INFO | 2025-06-27 16:01:03,616 | RML content is created!\n",
      "2025-06-27 16:01:03,621 | INFO: Mapping has been syntactically validated.\n",
      "INFO | 2025-06-27 16:01:03,621 | Mapping has been syntactically validated.\n",
      "2025-06-27 16:01:03,623 | INFO: Translation has finished successfully.\n",
      "INFO | 2025-06-27 16:01:03,623 | Translation has finished successfully.\n",
      "2025-06-27 16:01:03,631 | INFO: Translating YARRRML mapping to [R2]RML\n",
      "INFO | 2025-06-27 16:01:03,631 | Translating YARRRML mapping to [R2]RML\n",
      "2025-06-27 16:01:03,633 | INFO: RML content is created!\n",
      "INFO | 2025-06-27 16:01:03,633 | RML content is created!\n",
      "2025-06-27 16:01:03,640 | INFO: Mapping has been syntactically validated.\n",
      "INFO | 2025-06-27 16:01:03,640 | Mapping has been syntactically validated.\n",
      "2025-06-27 16:01:03,641 | INFO: Translation has finished successfully.\n",
      "INFO | 2025-06-27 16:01:03,641 | Translation has finished successfully.\n",
      "2025-06-27 16:01:03,653 | INFO: Translating YARRRML mapping to [R2]RML\n",
      "INFO | 2025-06-27 16:01:03,653 | Translating YARRRML mapping to [R2]RML\n",
      "2025-06-27 16:01:03,654 | INFO: RML content is created!\n",
      "INFO | 2025-06-27 16:01:03,654 | RML content is created!\n",
      "2025-06-27 16:01:03,659 | INFO: Mapping has been syntactically validated.\n",
      "INFO | 2025-06-27 16:01:03,659 | Mapping has been syntactically validated.\n",
      "2025-06-27 16:01:03,661 | INFO: Translation has finished successfully.\n",
      "INFO | 2025-06-27 16:01:03,661 | Translation has finished successfully.\n",
      "2025-06-27 16:01:03,668 | INFO: Translating YARRRML mapping to [R2]RML\n",
      "INFO | 2025-06-27 16:01:03,668 | Translating YARRRML mapping to [R2]RML\n",
      "2025-06-27 16:01:03,670 | INFO: RML content is created!\n",
      "INFO | 2025-06-27 16:01:03,670 | RML content is created!\n",
      "2025-06-27 16:01:03,675 | INFO: Mapping has been syntactically validated.\n",
      "INFO | 2025-06-27 16:01:03,675 | Mapping has been syntactically validated.\n",
      "2025-06-27 16:01:03,677 | INFO: Translation has finished successfully.\n",
      "INFO | 2025-06-27 16:01:03,677 | Translation has finished successfully.\n",
      " 51%|█████     | 160/316 [00:03<00:03, 48.79it/s]2025-06-27 16:01:03,687 | INFO: Translating YARRRML mapping to [R2]RML\n",
      "INFO | 2025-06-27 16:01:03,687 | Translating YARRRML mapping to [R2]RML\n",
      "2025-06-27 16:01:03,689 | INFO: RML content is created!\n",
      "INFO | 2025-06-27 16:01:03,689 | RML content is created!\n",
      "2025-06-27 16:01:03,695 | INFO: Mapping has been syntactically validated.\n",
      "INFO | 2025-06-27 16:01:03,695 | Mapping has been syntactically validated.\n",
      "2025-06-27 16:01:03,696 | INFO: Translation has finished successfully.\n",
      "INFO | 2025-06-27 16:01:03,696 | Translation has finished successfully.\n",
      "2025-06-27 16:01:03,705 | INFO: Translating YARRRML mapping to [R2]RML\n",
      "INFO | 2025-06-27 16:01:03,705 | Translating YARRRML mapping to [R2]RML\n",
      "2025-06-27 16:01:03,707 | INFO: RML content is created!\n",
      "INFO | 2025-06-27 16:01:03,707 | RML content is created!\n",
      "2025-06-27 16:01:03,712 | INFO: Mapping has been syntactically validated.\n",
      "INFO | 2025-06-27 16:01:03,712 | Mapping has been syntactically validated.\n",
      "2025-06-27 16:01:03,714 | INFO: Translation has finished successfully.\n",
      "INFO | 2025-06-27 16:01:03,714 | Translation has finished successfully.\n",
      "2025-06-27 16:01:03,721 | INFO: Translating YARRRML mapping to [R2]RML\n",
      "INFO | 2025-06-27 16:01:03,721 | Translating YARRRML mapping to [R2]RML\n",
      "2025-06-27 16:01:03,723 | INFO: RML content is created!\n",
      "INFO | 2025-06-27 16:01:03,723 | RML content is created!\n",
      "2025-06-27 16:01:03,732 | INFO: Mapping has been syntactically validated.\n",
      "INFO | 2025-06-27 16:01:03,732 | Mapping has been syntactically validated.\n",
      "2025-06-27 16:01:03,734 | INFO: Translation has finished successfully.\n",
      "INFO | 2025-06-27 16:01:03,734 | Translation has finished successfully.\n",
      "2025-06-27 16:01:03,748 | INFO: Translating YARRRML mapping to [R2]RML\n",
      "INFO | 2025-06-27 16:01:03,748 | Translating YARRRML mapping to [R2]RML\n",
      "2025-06-27 16:01:03,750 | INFO: RML content is created!\n",
      "INFO | 2025-06-27 16:01:03,750 | RML content is created!\n",
      "2025-06-27 16:01:03,762 | INFO: Mapping has been syntactically validated.\n",
      "INFO | 2025-06-27 16:01:03,762 | Mapping has been syntactically validated.\n",
      "2025-06-27 16:01:03,764 | INFO: Translation has finished successfully.\n",
      "INFO | 2025-06-27 16:01:03,764 | Translation has finished successfully.\n",
      "2025-06-27 16:01:03,777 | INFO: Translating YARRRML mapping to [R2]RML\n",
      "INFO | 2025-06-27 16:01:03,777 | Translating YARRRML mapping to [R2]RML\n",
      "2025-06-27 16:01:03,779 | INFO: RML content is created!\n",
      "INFO | 2025-06-27 16:01:03,779 | RML content is created!\n",
      "2025-06-27 16:01:03,784 | INFO: Mapping has been syntactically validated.\n",
      "INFO | 2025-06-27 16:01:03,784 | Mapping has been syntactically validated.\n",
      "2025-06-27 16:01:03,786 | INFO: Translation has finished successfully.\n",
      "INFO | 2025-06-27 16:01:03,786 | Translation has finished successfully.\n",
      " 52%|█████▏    | 165/316 [00:03<00:03, 47.86it/s]2025-06-27 16:01:03,799 | INFO: Translating YARRRML mapping to [R2]RML\n",
      "INFO | 2025-06-27 16:01:03,799 | Translating YARRRML mapping to [R2]RML\n",
      "2025-06-27 16:01:03,801 | INFO: RML content is created!\n",
      "INFO | 2025-06-27 16:01:03,801 | RML content is created!\n",
      "2025-06-27 16:01:03,807 | INFO: Mapping has been syntactically validated.\n",
      "INFO | 2025-06-27 16:01:03,807 | Mapping has been syntactically validated.\n",
      "2025-06-27 16:01:03,808 | INFO: Translation has finished successfully.\n",
      "INFO | 2025-06-27 16:01:03,808 | Translation has finished successfully.\n",
      "2025-06-27 16:01:03,816 | INFO: Translating YARRRML mapping to [R2]RML\n",
      "INFO | 2025-06-27 16:01:03,816 | Translating YARRRML mapping to [R2]RML\n",
      "2025-06-27 16:01:03,818 | INFO: RML content is created!\n",
      "INFO | 2025-06-27 16:01:03,818 | RML content is created!\n",
      "2025-06-27 16:01:03,823 | INFO: Mapping has been syntactically validated.\n",
      "INFO | 2025-06-27 16:01:03,823 | Mapping has been syntactically validated.\n",
      "2025-06-27 16:01:03,824 | INFO: Translation has finished successfully.\n",
      "INFO | 2025-06-27 16:01:03,824 | Translation has finished successfully.\n",
      "2025-06-27 16:01:03,833 | INFO: Translating YARRRML mapping to [R2]RML\n",
      "INFO | 2025-06-27 16:01:03,833 | Translating YARRRML mapping to [R2]RML\n",
      "2025-06-27 16:01:03,834 | INFO: RML content is created!\n",
      "INFO | 2025-06-27 16:01:03,834 | RML content is created!\n",
      "2025-06-27 16:01:03,840 | INFO: Mapping has been syntactically validated.\n",
      "INFO | 2025-06-27 16:01:03,840 | Mapping has been syntactically validated.\n",
      "2025-06-27 16:01:03,842 | INFO: Translation has finished successfully.\n",
      "INFO | 2025-06-27 16:01:03,842 | Translation has finished successfully.\n",
      "2025-06-27 16:01:03,850 | INFO: Translating YARRRML mapping to [R2]RML\n",
      "INFO | 2025-06-27 16:01:03,850 | Translating YARRRML mapping to [R2]RML\n",
      "2025-06-27 16:01:03,852 | INFO: RML content is created!\n",
      "INFO | 2025-06-27 16:01:03,852 | RML content is created!\n",
      "2025-06-27 16:01:03,857 | INFO: Mapping has been syntactically validated.\n",
      "INFO | 2025-06-27 16:01:03,857 | Mapping has been syntactically validated.\n",
      "2025-06-27 16:01:03,859 | INFO: Translation has finished successfully.\n",
      "INFO | 2025-06-27 16:01:03,859 | Translation has finished successfully.\n",
      "2025-06-27 16:01:03,871 | INFO: Translating YARRRML mapping to [R2]RML\n",
      "INFO | 2025-06-27 16:01:03,871 | Translating YARRRML mapping to [R2]RML\n",
      "2025-06-27 16:01:03,873 | INFO: RML content is created!\n",
      "INFO | 2025-06-27 16:01:03,873 | RML content is created!\n",
      "2025-06-27 16:01:03,878 | INFO: Mapping has been syntactically validated.\n",
      "INFO | 2025-06-27 16:01:03,878 | Mapping has been syntactically validated.\n",
      "2025-06-27 16:01:03,880 | INFO: Translation has finished successfully.\n",
      "INFO | 2025-06-27 16:01:03,880 | Translation has finished successfully.\n",
      "2025-06-27 16:01:03,889 | INFO: Translating YARRRML mapping to [R2]RML\n",
      "INFO | 2025-06-27 16:01:03,889 | Translating YARRRML mapping to [R2]RML\n",
      "2025-06-27 16:01:03,891 | INFO: RML content is created!\n",
      "INFO | 2025-06-27 16:01:03,891 | RML content is created!\n",
      "2025-06-27 16:01:03,899 | INFO: Mapping has been syntactically validated.\n",
      "INFO | 2025-06-27 16:01:03,899 | Mapping has been syntactically validated.\n",
      "2025-06-27 16:01:03,900 | INFO: Translation has finished successfully.\n",
      "INFO | 2025-06-27 16:01:03,900 | Translation has finished successfully.\n",
      " 54%|█████▍    | 171/316 [00:03<00:02, 49.39it/s]2025-06-27 16:01:03,909 | INFO: Translating YARRRML mapping to [R2]RML\n",
      "INFO | 2025-06-27 16:01:03,909 | Translating YARRRML mapping to [R2]RML\n",
      "2025-06-27 16:01:03,911 | INFO: RML content is created!\n",
      "INFO | 2025-06-27 16:01:03,911 | RML content is created!\n",
      "2025-06-27 16:01:03,916 | INFO: Mapping has been syntactically validated.\n",
      "INFO | 2025-06-27 16:01:03,916 | Mapping has been syntactically validated.\n",
      "2025-06-27 16:01:03,918 | INFO: Translation has finished successfully.\n",
      "INFO | 2025-06-27 16:01:03,918 | Translation has finished successfully.\n",
      "2025-06-27 16:01:03,927 | INFO: Translating YARRRML mapping to [R2]RML\n",
      "INFO | 2025-06-27 16:01:03,927 | Translating YARRRML mapping to [R2]RML\n",
      "2025-06-27 16:01:03,929 | INFO: RML content is created!\n",
      "INFO | 2025-06-27 16:01:03,929 | RML content is created!\n",
      "2025-06-27 16:01:03,935 | INFO: Mapping has been syntactically validated.\n",
      "INFO | 2025-06-27 16:01:03,935 | Mapping has been syntactically validated.\n",
      "2025-06-27 16:01:03,936 | INFO: Translation has finished successfully.\n",
      "INFO | 2025-06-27 16:01:03,936 | Translation has finished successfully.\n",
      "2025-06-27 16:01:03,945 | INFO: Translating YARRRML mapping to [R2]RML\n",
      "INFO | 2025-06-27 16:01:03,945 | Translating YARRRML mapping to [R2]RML\n",
      "2025-06-27 16:01:03,947 | INFO: RML content is created!\n",
      "INFO | 2025-06-27 16:01:03,947 | RML content is created!\n",
      "2025-06-27 16:01:03,956 | INFO: Mapping has been syntactically validated.\n",
      "INFO | 2025-06-27 16:01:03,956 | Mapping has been syntactically validated.\n",
      "2025-06-27 16:01:03,957 | INFO: Translation has finished successfully.\n",
      "INFO | 2025-06-27 16:01:03,957 | Translation has finished successfully.\n",
      "2025-06-27 16:01:03,966 | INFO: Translating YARRRML mapping to [R2]RML\n",
      "INFO | 2025-06-27 16:01:03,966 | Translating YARRRML mapping to [R2]RML\n",
      "2025-06-27 16:01:03,968 | INFO: RML content is created!\n",
      "INFO | 2025-06-27 16:01:03,968 | RML content is created!\n",
      "2025-06-27 16:01:03,979 | INFO: Mapping has been syntactically validated.\n",
      "INFO | 2025-06-27 16:01:03,979 | Mapping has been syntactically validated.\n",
      "2025-06-27 16:01:03,981 | INFO: Translation has finished successfully.\n",
      "INFO | 2025-06-27 16:01:03,981 | Translation has finished successfully.\n",
      "2025-06-27 16:01:03,995 | INFO: Translating YARRRML mapping to [R2]RML\n",
      "INFO | 2025-06-27 16:01:03,995 | Translating YARRRML mapping to [R2]RML\n",
      "2025-06-27 16:01:04,000 | INFO: RML content is created!\n",
      "INFO | 2025-06-27 16:01:04,000 | RML content is created!\n",
      "2025-06-27 16:01:04,009 | INFO: Mapping has been syntactically validated.\n",
      "INFO | 2025-06-27 16:01:04,009 | Mapping has been syntactically validated.\n",
      "2025-06-27 16:01:04,011 | INFO: Translation has finished successfully.\n",
      "INFO | 2025-06-27 16:01:04,011 | Translation has finished successfully.\n",
      " 56%|█████▌    | 176/316 [00:03<00:02, 48.15it/s]2025-06-27 16:01:04,021 | INFO: Translating YARRRML mapping to [R2]RML\n",
      "INFO | 2025-06-27 16:01:04,021 | Translating YARRRML mapping to [R2]RML\n",
      "2025-06-27 16:01:04,024 | INFO: RML content is created!\n",
      "INFO | 2025-06-27 16:01:04,024 | RML content is created!\n",
      "2025-06-27 16:01:04,029 | INFO: Mapping has been syntactically validated.\n",
      "INFO | 2025-06-27 16:01:04,029 | Mapping has been syntactically validated.\n",
      "2025-06-27 16:01:04,031 | INFO: Translation has finished successfully.\n",
      "INFO | 2025-06-27 16:01:04,031 | Translation has finished successfully.\n",
      "2025-06-27 16:01:04,039 | INFO: Translating YARRRML mapping to [R2]RML\n",
      "INFO | 2025-06-27 16:01:04,039 | Translating YARRRML mapping to [R2]RML\n",
      "2025-06-27 16:01:04,041 | INFO: RML content is created!\n",
      "INFO | 2025-06-27 16:01:04,041 | RML content is created!\n",
      "2025-06-27 16:01:04,047 | INFO: Mapping has been syntactically validated.\n",
      "INFO | 2025-06-27 16:01:04,047 | Mapping has been syntactically validated.\n",
      "2025-06-27 16:01:04,049 | INFO: Translation has finished successfully.\n",
      "INFO | 2025-06-27 16:01:04,049 | Translation has finished successfully.\n",
      "2025-06-27 16:01:04,057 | INFO: Translating YARRRML mapping to [R2]RML\n",
      "INFO | 2025-06-27 16:01:04,057 | Translating YARRRML mapping to [R2]RML\n",
      "2025-06-27 16:01:04,059 | INFO: RML content is created!\n",
      "INFO | 2025-06-27 16:01:04,059 | RML content is created!\n",
      "2025-06-27 16:01:04,064 | INFO: Mapping has been syntactically validated.\n",
      "INFO | 2025-06-27 16:01:04,064 | Mapping has been syntactically validated.\n",
      "2025-06-27 16:01:04,066 | INFO: Translation has finished successfully.\n",
      "INFO | 2025-06-27 16:01:04,066 | Translation has finished successfully.\n",
      "2025-06-27 16:01:04,075 | INFO: Translating YARRRML mapping to [R2]RML\n",
      "INFO | 2025-06-27 16:01:04,075 | Translating YARRRML mapping to [R2]RML\n",
      "2025-06-27 16:01:04,077 | INFO: RML content is created!\n",
      "INFO | 2025-06-27 16:01:04,077 | RML content is created!\n",
      "2025-06-27 16:01:04,083 | INFO: Mapping has been syntactically validated.\n",
      "INFO | 2025-06-27 16:01:04,083 | Mapping has been syntactically validated.\n",
      "2025-06-27 16:01:04,084 | INFO: Translation has finished successfully.\n",
      "INFO | 2025-06-27 16:01:04,084 | Translation has finished successfully.\n",
      "2025-06-27 16:01:04,094 | INFO: Translating YARRRML mapping to [R2]RML\n",
      "INFO | 2025-06-27 16:01:04,094 | Translating YARRRML mapping to [R2]RML\n",
      "2025-06-27 16:01:04,096 | INFO: RML content is created!\n",
      "INFO | 2025-06-27 16:01:04,096 | RML content is created!\n",
      "2025-06-27 16:01:04,104 | INFO: Mapping has been syntactically validated.\n",
      "INFO | 2025-06-27 16:01:04,104 | Mapping has been syntactically validated.\n",
      "2025-06-27 16:01:04,106 | INFO: Translation has finished successfully.\n",
      "INFO | 2025-06-27 16:01:04,106 | Translation has finished successfully.\n",
      "2025-06-27 16:01:04,115 | INFO: Translating YARRRML mapping to [R2]RML\n",
      "INFO | 2025-06-27 16:01:04,115 | Translating YARRRML mapping to [R2]RML\n",
      "2025-06-27 16:01:04,117 | INFO: RML content is created!\n",
      "INFO | 2025-06-27 16:01:04,117 | RML content is created!\n",
      "2025-06-27 16:01:04,122 | INFO: Mapping has been syntactically validated.\n",
      "INFO | 2025-06-27 16:01:04,122 | Mapping has been syntactically validated.\n",
      "2025-06-27 16:01:04,124 | INFO: Translation has finished successfully.\n",
      "INFO | 2025-06-27 16:01:04,124 | Translation has finished successfully.\n",
      " 58%|█████▊    | 182/316 [00:03<00:02, 49.59it/s]2025-06-27 16:01:04,133 | INFO: Translating YARRRML mapping to [R2]RML\n",
      "INFO | 2025-06-27 16:01:04,133 | Translating YARRRML mapping to [R2]RML\n",
      "2025-06-27 16:01:04,134 | INFO: RML content is created!\n",
      "INFO | 2025-06-27 16:01:04,134 | RML content is created!\n",
      "2025-06-27 16:01:04,140 | INFO: Mapping has been syntactically validated.\n",
      "INFO | 2025-06-27 16:01:04,140 | Mapping has been syntactically validated.\n",
      "2025-06-27 16:01:04,141 | INFO: Translation has finished successfully.\n",
      "INFO | 2025-06-27 16:01:04,141 | Translation has finished successfully.\n",
      "2025-06-27 16:01:04,151 | INFO: Translating YARRRML mapping to [R2]RML\n",
      "INFO | 2025-06-27 16:01:04,151 | Translating YARRRML mapping to [R2]RML\n",
      "2025-06-27 16:01:04,153 | INFO: RML content is created!\n",
      "INFO | 2025-06-27 16:01:04,153 | RML content is created!\n",
      "2025-06-27 16:01:04,159 | INFO: Mapping has been syntactically validated.\n",
      "INFO | 2025-06-27 16:01:04,159 | Mapping has been syntactically validated.\n",
      "2025-06-27 16:01:04,160 | INFO: Translation has finished successfully.\n",
      "INFO | 2025-06-27 16:01:04,160 | Translation has finished successfully.\n",
      "2025-06-27 16:01:04,171 | INFO: Translating YARRRML mapping to [R2]RML\n",
      "INFO | 2025-06-27 16:01:04,171 | Translating YARRRML mapping to [R2]RML\n",
      "2025-06-27 16:01:04,173 | INFO: RML content is created!\n",
      "INFO | 2025-06-27 16:01:04,173 | RML content is created!\n",
      "2025-06-27 16:01:04,178 | INFO: Mapping has been syntactically validated.\n",
      "INFO | 2025-06-27 16:01:04,178 | Mapping has been syntactically validated.\n",
      "2025-06-27 16:01:04,179 | INFO: Translation has finished successfully.\n",
      "INFO | 2025-06-27 16:01:04,179 | Translation has finished successfully.\n",
      "2025-06-27 16:01:04,188 | INFO: Translating YARRRML mapping to [R2]RML\n",
      "INFO | 2025-06-27 16:01:04,188 | Translating YARRRML mapping to [R2]RML\n",
      "2025-06-27 16:01:04,190 | INFO: RML content is created!\n",
      "INFO | 2025-06-27 16:01:04,190 | RML content is created!\n",
      "2025-06-27 16:01:04,200 | INFO: Mapping has been syntactically validated.\n",
      "INFO | 2025-06-27 16:01:04,200 | Mapping has been syntactically validated.\n",
      "2025-06-27 16:01:04,201 | INFO: Translation has finished successfully.\n",
      "INFO | 2025-06-27 16:01:04,201 | Translation has finished successfully.\n",
      "2025-06-27 16:01:04,208 | INFO: Translating YARRRML mapping to [R2]RML\n",
      "INFO | 2025-06-27 16:01:04,208 | Translating YARRRML mapping to [R2]RML\n",
      "2025-06-27 16:01:04,211 | INFO: RML content is created!\n",
      "INFO | 2025-06-27 16:01:04,211 | RML content is created!\n",
      "2025-06-27 16:01:04,216 | INFO: Mapping has been syntactically validated.\n",
      "INFO | 2025-06-27 16:01:04,216 | Mapping has been syntactically validated.\n",
      "2025-06-27 16:01:04,217 | INFO: Translation has finished successfully.\n",
      "INFO | 2025-06-27 16:01:04,217 | Translation has finished successfully.\n",
      "2025-06-27 16:01:04,225 | INFO: Translating YARRRML mapping to [R2]RML\n",
      "INFO | 2025-06-27 16:01:04,225 | Translating YARRRML mapping to [R2]RML\n",
      "2025-06-27 16:01:04,227 | INFO: RML content is created!\n",
      "INFO | 2025-06-27 16:01:04,227 | RML content is created!\n",
      "2025-06-27 16:01:04,232 | INFO: Mapping has been syntactically validated.\n",
      "INFO | 2025-06-27 16:01:04,232 | Mapping has been syntactically validated.\n",
      "2025-06-27 16:01:04,234 | INFO: Translation has finished successfully.\n",
      "INFO | 2025-06-27 16:01:04,234 | Translation has finished successfully.\n",
      " 59%|█████▉    | 188/316 [00:03<00:02, 50.97it/s]2025-06-27 16:01:04,244 | INFO: Translating YARRRML mapping to [R2]RML\n",
      "INFO | 2025-06-27 16:01:04,244 | Translating YARRRML mapping to [R2]RML\n",
      "2025-06-27 16:01:04,246 | INFO: RML content is created!\n",
      "INFO | 2025-06-27 16:01:04,246 | RML content is created!\n",
      "2025-06-27 16:01:04,262 | INFO: Mapping has been syntactically validated.\n",
      "INFO | 2025-06-27 16:01:04,262 | Mapping has been syntactically validated.\n",
      "2025-06-27 16:01:04,264 | INFO: Translation has finished successfully.\n",
      "INFO | 2025-06-27 16:01:04,264 | Translation has finished successfully.\n",
      "2025-06-27 16:01:04,284 | INFO: Translating YARRRML mapping to [R2]RML\n",
      "INFO | 2025-06-27 16:01:04,284 | Translating YARRRML mapping to [R2]RML\n",
      "2025-06-27 16:01:04,286 | INFO: RML content is created!\n",
      "INFO | 2025-06-27 16:01:04,286 | RML content is created!\n",
      "2025-06-27 16:01:04,295 | INFO: Mapping has been syntactically validated.\n",
      "INFO | 2025-06-27 16:01:04,295 | Mapping has been syntactically validated.\n",
      "2025-06-27 16:01:04,298 | INFO: Translation has finished successfully.\n",
      "INFO | 2025-06-27 16:01:04,298 | Translation has finished successfully.\n",
      "2025-06-27 16:01:04,308 | INFO: Translating YARRRML mapping to [R2]RML\n",
      "INFO | 2025-06-27 16:01:04,308 | Translating YARRRML mapping to [R2]RML\n",
      "2025-06-27 16:01:04,310 | INFO: RML content is created!\n",
      "INFO | 2025-06-27 16:01:04,310 | RML content is created!\n",
      "2025-06-27 16:01:04,315 | INFO: Mapping has been syntactically validated.\n",
      "INFO | 2025-06-27 16:01:04,315 | Mapping has been syntactically validated.\n",
      "2025-06-27 16:01:04,317 | INFO: Translation has finished successfully.\n",
      "INFO | 2025-06-27 16:01:04,317 | Translation has finished successfully.\n",
      "2025-06-27 16:01:04,325 | INFO: Translating YARRRML mapping to [R2]RML\n",
      "INFO | 2025-06-27 16:01:04,325 | Translating YARRRML mapping to [R2]RML\n",
      "2025-06-27 16:01:04,327 | INFO: RML content is created!\n",
      "INFO | 2025-06-27 16:01:04,327 | RML content is created!\n",
      "2025-06-27 16:01:04,333 | INFO: Mapping has been syntactically validated.\n",
      "INFO | 2025-06-27 16:01:04,333 | Mapping has been syntactically validated.\n",
      "2025-06-27 16:01:04,334 | INFO: Translation has finished successfully.\n",
      "INFO | 2025-06-27 16:01:04,334 | Translation has finished successfully.\n",
      "2025-06-27 16:01:04,341 | INFO: Translating YARRRML mapping to [R2]RML\n",
      "INFO | 2025-06-27 16:01:04,341 | Translating YARRRML mapping to [R2]RML\n",
      "2025-06-27 16:01:04,343 | INFO: RML content is created!\n",
      "INFO | 2025-06-27 16:01:04,343 | RML content is created!\n",
      "2025-06-27 16:01:04,348 | INFO: Mapping has been syntactically validated.\n",
      "INFO | 2025-06-27 16:01:04,348 | Mapping has been syntactically validated.\n",
      "2025-06-27 16:01:04,349 | INFO: Translation has finished successfully.\n",
      "INFO | 2025-06-27 16:01:04,349 | Translation has finished successfully.\n",
      "2025-06-27 16:01:04,359 | INFO: Translating YARRRML mapping to [R2]RML\n",
      "INFO | 2025-06-27 16:01:04,359 | Translating YARRRML mapping to [R2]RML\n",
      "2025-06-27 16:01:04,361 | INFO: RML content is created!\n",
      "INFO | 2025-06-27 16:01:04,361 | RML content is created!\n",
      "2025-06-27 16:01:04,366 | INFO: Mapping has been syntactically validated.\n",
      "INFO | 2025-06-27 16:01:04,366 | Mapping has been syntactically validated.\n",
      "2025-06-27 16:01:04,367 | INFO: Translation has finished successfully.\n",
      "INFO | 2025-06-27 16:01:04,367 | Translation has finished successfully.\n",
      " 61%|██████▏   | 194/316 [00:03<00:02, 48.94it/s]2025-06-27 16:01:04,378 | INFO: Translating YARRRML mapping to [R2]RML\n",
      "INFO | 2025-06-27 16:01:04,378 | Translating YARRRML mapping to [R2]RML\n",
      "2025-06-27 16:01:04,380 | INFO: RML content is created!\n",
      "INFO | 2025-06-27 16:01:04,380 | RML content is created!\n",
      "2025-06-27 16:01:04,385 | INFO: Mapping has been syntactically validated.\n",
      "INFO | 2025-06-27 16:01:04,385 | Mapping has been syntactically validated.\n",
      "2025-06-27 16:01:04,387 | INFO: Translation has finished successfully.\n",
      "INFO | 2025-06-27 16:01:04,387 | Translation has finished successfully.\n",
      "2025-06-27 16:01:04,395 | INFO: Translating YARRRML mapping to [R2]RML\n",
      "INFO | 2025-06-27 16:01:04,395 | Translating YARRRML mapping to [R2]RML\n",
      "2025-06-27 16:01:04,396 | INFO: RML content is created!\n",
      "INFO | 2025-06-27 16:01:04,396 | RML content is created!\n",
      "2025-06-27 16:01:04,401 | INFO: Mapping has been syntactically validated.\n",
      "INFO | 2025-06-27 16:01:04,401 | Mapping has been syntactically validated.\n",
      "2025-06-27 16:01:04,403 | INFO: Translation has finished successfully.\n",
      "INFO | 2025-06-27 16:01:04,403 | Translation has finished successfully.\n",
      "2025-06-27 16:01:04,410 | INFO: Translating YARRRML mapping to [R2]RML\n",
      "INFO | 2025-06-27 16:01:04,410 | Translating YARRRML mapping to [R2]RML\n",
      "2025-06-27 16:01:04,412 | INFO: RML content is created!\n",
      "INFO | 2025-06-27 16:01:04,412 | RML content is created!\n",
      "2025-06-27 16:01:04,420 | INFO: Mapping has been syntactically validated.\n",
      "INFO | 2025-06-27 16:01:04,420 | Mapping has been syntactically validated.\n",
      "2025-06-27 16:01:04,422 | INFO: Translation has finished successfully.\n",
      "INFO | 2025-06-27 16:01:04,422 | Translation has finished successfully.\n",
      "2025-06-27 16:01:04,429 | INFO: Translating YARRRML mapping to [R2]RML\n",
      "INFO | 2025-06-27 16:01:04,429 | Translating YARRRML mapping to [R2]RML\n",
      "2025-06-27 16:01:04,432 | INFO: RML content is created!\n",
      "INFO | 2025-06-27 16:01:04,432 | RML content is created!\n",
      "2025-06-27 16:01:04,439 | INFO: Mapping has been syntactically validated.\n",
      "INFO | 2025-06-27 16:01:04,439 | Mapping has been syntactically validated.\n",
      "2025-06-27 16:01:04,441 | INFO: Translation has finished successfully.\n",
      "INFO | 2025-06-27 16:01:04,441 | Translation has finished successfully.\n",
      "2025-06-27 16:01:04,449 | INFO: Translating YARRRML mapping to [R2]RML\n",
      "INFO | 2025-06-27 16:01:04,449 | Translating YARRRML mapping to [R2]RML\n",
      "2025-06-27 16:01:04,451 | INFO: RML content is created!\n",
      "INFO | 2025-06-27 16:01:04,451 | RML content is created!\n",
      "2025-06-27 16:01:04,457 | INFO: Mapping has been syntactically validated.\n",
      "INFO | 2025-06-27 16:01:04,457 | Mapping has been syntactically validated.\n",
      "2025-06-27 16:01:04,458 | INFO: Translation has finished successfully.\n",
      "INFO | 2025-06-27 16:01:04,458 | Translation has finished successfully.\n",
      "2025-06-27 16:01:04,466 | INFO: Translating YARRRML mapping to [R2]RML\n",
      "INFO | 2025-06-27 16:01:04,466 | Translating YARRRML mapping to [R2]RML\n",
      "2025-06-27 16:01:04,468 | INFO: RML content is created!\n",
      "INFO | 2025-06-27 16:01:04,468 | RML content is created!\n",
      "2025-06-27 16:01:04,475 | INFO: Mapping has been syntactically validated.\n",
      "INFO | 2025-06-27 16:01:04,475 | Mapping has been syntactically validated.\n",
      "2025-06-27 16:01:04,476 | INFO: Translation has finished successfully.\n",
      "INFO | 2025-06-27 16:01:04,476 | Translation has finished successfully.\n",
      " 63%|██████▎   | 200/316 [00:04<00:02, 50.88it/s]2025-06-27 16:01:04,487 | INFO: Translating YARRRML mapping to [R2]RML\n",
      "INFO | 2025-06-27 16:01:04,487 | Translating YARRRML mapping to [R2]RML\n",
      "2025-06-27 16:01:04,489 | INFO: RML content is created!\n",
      "INFO | 2025-06-27 16:01:04,489 | RML content is created!\n",
      "2025-06-27 16:01:04,502 | INFO: Mapping has been syntactically validated.\n",
      "INFO | 2025-06-27 16:01:04,502 | Mapping has been syntactically validated.\n",
      "2025-06-27 16:01:04,504 | INFO: Translation has finished successfully.\n",
      "INFO | 2025-06-27 16:01:04,504 | Translation has finished successfully.\n",
      "2025-06-27 16:01:04,519 | INFO: Translating YARRRML mapping to [R2]RML\n",
      "INFO | 2025-06-27 16:01:04,519 | Translating YARRRML mapping to [R2]RML\n",
      "2025-06-27 16:01:04,521 | INFO: RML content is created!\n",
      "INFO | 2025-06-27 16:01:04,521 | RML content is created!\n",
      "2025-06-27 16:01:04,528 | INFO: Mapping has been syntactically validated.\n",
      "INFO | 2025-06-27 16:01:04,528 | Mapping has been syntactically validated.\n",
      "2025-06-27 16:01:04,529 | INFO: Translation has finished successfully.\n",
      "INFO | 2025-06-27 16:01:04,529 | Translation has finished successfully.\n",
      "2025-06-27 16:01:04,541 | INFO: Translating YARRRML mapping to [R2]RML\n",
      "INFO | 2025-06-27 16:01:04,541 | Translating YARRRML mapping to [R2]RML\n",
      "2025-06-27 16:01:04,543 | INFO: RML content is created!\n",
      "INFO | 2025-06-27 16:01:04,543 | RML content is created!\n",
      "2025-06-27 16:01:04,551 | INFO: Mapping has been syntactically validated.\n",
      "INFO | 2025-06-27 16:01:04,551 | Mapping has been syntactically validated.\n",
      "2025-06-27 16:01:04,553 | INFO: Translation has finished successfully.\n",
      "INFO | 2025-06-27 16:01:04,553 | Translation has finished successfully.\n",
      "2025-06-27 16:01:04,563 | INFO: Translating YARRRML mapping to [R2]RML\n",
      "INFO | 2025-06-27 16:01:04,563 | Translating YARRRML mapping to [R2]RML\n",
      "2025-06-27 16:01:04,565 | INFO: RML content is created!\n",
      "INFO | 2025-06-27 16:01:04,565 | RML content is created!\n",
      "2025-06-27 16:01:04,572 | INFO: Mapping has been syntactically validated.\n",
      "INFO | 2025-06-27 16:01:04,572 | Mapping has been syntactically validated.\n",
      "2025-06-27 16:01:04,573 | INFO: Translation has finished successfully.\n",
      "INFO | 2025-06-27 16:01:04,573 | Translation has finished successfully.\n",
      "2025-06-27 16:01:04,580 | INFO: Translating YARRRML mapping to [R2]RML\n",
      "INFO | 2025-06-27 16:01:04,580 | Translating YARRRML mapping to [R2]RML\n",
      "2025-06-27 16:01:04,583 | INFO: RML content is created!\n",
      "INFO | 2025-06-27 16:01:04,583 | RML content is created!\n",
      "2025-06-27 16:01:04,588 | INFO: Mapping has been syntactically validated.\n",
      "INFO | 2025-06-27 16:01:04,588 | Mapping has been syntactically validated.\n",
      "2025-06-27 16:01:04,589 | INFO: Translation has finished successfully.\n",
      "INFO | 2025-06-27 16:01:04,589 | Translation has finished successfully.\n",
      "2025-06-27 16:01:04,598 | INFO: Translating YARRRML mapping to [R2]RML\n",
      "INFO | 2025-06-27 16:01:04,598 | Translating YARRRML mapping to [R2]RML\n",
      "2025-06-27 16:01:04,600 | INFO: RML content is created!\n",
      "INFO | 2025-06-27 16:01:04,600 | RML content is created!\n",
      "2025-06-27 16:01:04,609 | INFO: Mapping has been syntactically validated.\n",
      "INFO | 2025-06-27 16:01:04,609 | Mapping has been syntactically validated.\n",
      "2025-06-27 16:01:04,610 | INFO: Translation has finished successfully.\n",
      "INFO | 2025-06-27 16:01:04,610 | Translation has finished successfully.\n",
      " 65%|██████▌   | 206/316 [00:04<00:02, 48.73it/s]2025-06-27 16:01:04,619 | INFO: Translating YARRRML mapping to [R2]RML\n",
      "INFO | 2025-06-27 16:01:04,619 | Translating YARRRML mapping to [R2]RML\n",
      "2025-06-27 16:01:04,621 | INFO: RML content is created!\n",
      "INFO | 2025-06-27 16:01:04,621 | RML content is created!\n",
      "2025-06-27 16:01:04,626 | INFO: Mapping has been syntactically validated.\n",
      "INFO | 2025-06-27 16:01:04,626 | Mapping has been syntactically validated.\n",
      "2025-06-27 16:01:04,627 | INFO: Translation has finished successfully.\n",
      "INFO | 2025-06-27 16:01:04,627 | Translation has finished successfully.\n",
      "2025-06-27 16:01:04,637 | INFO: Translating YARRRML mapping to [R2]RML\n",
      "INFO | 2025-06-27 16:01:04,637 | Translating YARRRML mapping to [R2]RML\n",
      "2025-06-27 16:01:04,639 | INFO: RML content is created!\n",
      "INFO | 2025-06-27 16:01:04,639 | RML content is created!\n",
      "2025-06-27 16:01:04,645 | INFO: Mapping has been syntactically validated.\n",
      "INFO | 2025-06-27 16:01:04,645 | Mapping has been syntactically validated.\n",
      "2025-06-27 16:01:04,646 | INFO: Translation has finished successfully.\n",
      "INFO | 2025-06-27 16:01:04,646 | Translation has finished successfully.\n",
      "2025-06-27 16:01:04,654 | INFO: Translating YARRRML mapping to [R2]RML\n",
      "INFO | 2025-06-27 16:01:04,654 | Translating YARRRML mapping to [R2]RML\n",
      "2025-06-27 16:01:04,655 | INFO: RML content is created!\n",
      "INFO | 2025-06-27 16:01:04,655 | RML content is created!\n",
      "2025-06-27 16:01:04,664 | INFO: Mapping has been syntactically validated.\n",
      "INFO | 2025-06-27 16:01:04,664 | Mapping has been syntactically validated.\n",
      "2025-06-27 16:01:04,666 | INFO: Translation has finished successfully.\n",
      "INFO | 2025-06-27 16:01:04,666 | Translation has finished successfully.\n",
      "2025-06-27 16:01:04,675 | INFO: Translating YARRRML mapping to [R2]RML\n",
      "INFO | 2025-06-27 16:01:04,675 | Translating YARRRML mapping to [R2]RML\n",
      "2025-06-27 16:01:04,676 | INFO: RML content is created!\n",
      "INFO | 2025-06-27 16:01:04,676 | RML content is created!\n",
      "2025-06-27 16:01:04,682 | INFO: Mapping has been syntactically validated.\n",
      "INFO | 2025-06-27 16:01:04,682 | Mapping has been syntactically validated.\n",
      "2025-06-27 16:01:04,683 | INFO: Translation has finished successfully.\n",
      "INFO | 2025-06-27 16:01:04,683 | Translation has finished successfully.\n",
      "2025-06-27 16:01:04,693 | INFO: Translating YARRRML mapping to [R2]RML\n",
      "INFO | 2025-06-27 16:01:04,693 | Translating YARRRML mapping to [R2]RML\n",
      "2025-06-27 16:01:04,695 | INFO: RML content is created!\n",
      "INFO | 2025-06-27 16:01:04,695 | RML content is created!\n",
      "2025-06-27 16:01:04,701 | INFO: Mapping has been syntactically validated.\n",
      "INFO | 2025-06-27 16:01:04,701 | Mapping has been syntactically validated.\n",
      "2025-06-27 16:01:04,702 | INFO: Translation has finished successfully.\n",
      "INFO | 2025-06-27 16:01:04,702 | Translation has finished successfully.\n",
      "2025-06-27 16:01:04,709 | INFO: Translating YARRRML mapping to [R2]RML\n",
      "INFO | 2025-06-27 16:01:04,709 | Translating YARRRML mapping to [R2]RML\n",
      "2025-06-27 16:01:04,712 | INFO: RML content is created!\n",
      "INFO | 2025-06-27 16:01:04,712 | RML content is created!\n",
      "2025-06-27 16:01:04,717 | INFO: Mapping has been syntactically validated.\n",
      "INFO | 2025-06-27 16:01:04,717 | Mapping has been syntactically validated.\n",
      "2025-06-27 16:01:04,719 | INFO: Translation has finished successfully.\n",
      "INFO | 2025-06-27 16:01:04,719 | Translation has finished successfully.\n",
      " 67%|██████▋   | 212/316 [00:04<00:02, 50.61it/s]2025-06-27 16:01:04,730 | INFO: Translating YARRRML mapping to [R2]RML\n",
      "INFO | 2025-06-27 16:01:04,730 | Translating YARRRML mapping to [R2]RML\n",
      "2025-06-27 16:01:04,732 | INFO: RML content is created!\n",
      "INFO | 2025-06-27 16:01:04,732 | RML content is created!\n",
      "2025-06-27 16:01:04,739 | INFO: Mapping has been syntactically validated.\n",
      "INFO | 2025-06-27 16:01:04,739 | Mapping has been syntactically validated.\n",
      "2025-06-27 16:01:04,740 | INFO: Translation has finished successfully.\n",
      "INFO | 2025-06-27 16:01:04,740 | Translation has finished successfully.\n",
      "2025-06-27 16:01:04,750 | INFO: Translating YARRRML mapping to [R2]RML\n",
      "INFO | 2025-06-27 16:01:04,750 | Translating YARRRML mapping to [R2]RML\n",
      "2025-06-27 16:01:04,752 | INFO: RML content is created!\n",
      "INFO | 2025-06-27 16:01:04,752 | RML content is created!\n",
      "2025-06-27 16:01:04,757 | INFO: Mapping has been syntactically validated.\n",
      "INFO | 2025-06-27 16:01:04,757 | Mapping has been syntactically validated.\n",
      "2025-06-27 16:01:04,759 | INFO: Translation has finished successfully.\n",
      "INFO | 2025-06-27 16:01:04,759 | Translation has finished successfully.\n",
      "2025-06-27 16:01:04,767 | INFO: Translating YARRRML mapping to [R2]RML\n",
      "INFO | 2025-06-27 16:01:04,767 | Translating YARRRML mapping to [R2]RML\n",
      "2025-06-27 16:01:04,770 | INFO: RML content is created!\n",
      "INFO | 2025-06-27 16:01:04,770 | RML content is created!\n",
      "2025-06-27 16:01:04,775 | INFO: Mapping has been syntactically validated.\n",
      "INFO | 2025-06-27 16:01:04,775 | Mapping has been syntactically validated.\n",
      "2025-06-27 16:01:04,777 | INFO: Translation has finished successfully.\n",
      "INFO | 2025-06-27 16:01:04,777 | Translation has finished successfully.\n",
      "2025-06-27 16:01:04,785 | INFO: Translating YARRRML mapping to [R2]RML\n",
      "INFO | 2025-06-27 16:01:04,785 | Translating YARRRML mapping to [R2]RML\n",
      "2025-06-27 16:01:04,787 | INFO: RML content is created!\n",
      "INFO | 2025-06-27 16:01:04,787 | RML content is created!\n",
      "2025-06-27 16:01:04,793 | INFO: Mapping has been syntactically validated.\n",
      "INFO | 2025-06-27 16:01:04,793 | Mapping has been syntactically validated.\n",
      "2025-06-27 16:01:04,795 | INFO: Translation has finished successfully.\n",
      "INFO | 2025-06-27 16:01:04,795 | Translation has finished successfully.\n",
      "2025-06-27 16:01:04,802 | INFO: Translating YARRRML mapping to [R2]RML\n",
      "INFO | 2025-06-27 16:01:04,802 | Translating YARRRML mapping to [R2]RML\n",
      "2025-06-27 16:01:04,804 | INFO: RML content is created!\n",
      "INFO | 2025-06-27 16:01:04,804 | RML content is created!\n",
      "2025-06-27 16:01:04,810 | INFO: Mapping has been syntactically validated.\n",
      "INFO | 2025-06-27 16:01:04,810 | Mapping has been syntactically validated.\n",
      "2025-06-27 16:01:04,812 | INFO: Translation has finished successfully.\n",
      "INFO | 2025-06-27 16:01:04,812 | Translation has finished successfully.\n",
      "2025-06-27 16:01:04,820 | INFO: Translating YARRRML mapping to [R2]RML\n",
      "INFO | 2025-06-27 16:01:04,820 | Translating YARRRML mapping to [R2]RML\n",
      "2025-06-27 16:01:04,822 | INFO: RML content is created!\n",
      "INFO | 2025-06-27 16:01:04,822 | RML content is created!\n",
      "2025-06-27 16:01:04,828 | INFO: Mapping has been syntactically validated.\n",
      "INFO | 2025-06-27 16:01:04,828 | Mapping has been syntactically validated.\n",
      "2025-06-27 16:01:04,831 | INFO: Translation has finished successfully.\n",
      "INFO | 2025-06-27 16:01:04,831 | Translation has finished successfully.\n",
      " 69%|██████▉   | 218/316 [00:04<00:01, 51.39it/s]2025-06-27 16:01:04,842 | INFO: Translating YARRRML mapping to [R2]RML\n",
      "INFO | 2025-06-27 16:01:04,842 | Translating YARRRML mapping to [R2]RML\n",
      "2025-06-27 16:01:04,843 | INFO: RML content is created!\n",
      "INFO | 2025-06-27 16:01:04,843 | RML content is created!\n",
      "2025-06-27 16:01:04,850 | INFO: Mapping has been syntactically validated.\n",
      "INFO | 2025-06-27 16:01:04,850 | Mapping has been syntactically validated.\n",
      "2025-06-27 16:01:04,852 | INFO: Translation has finished successfully.\n",
      "INFO | 2025-06-27 16:01:04,852 | Translation has finished successfully.\n",
      "2025-06-27 16:01:04,862 | INFO: Translating YARRRML mapping to [R2]RML\n",
      "INFO | 2025-06-27 16:01:04,862 | Translating YARRRML mapping to [R2]RML\n",
      "2025-06-27 16:01:04,864 | INFO: RML content is created!\n",
      "INFO | 2025-06-27 16:01:04,864 | RML content is created!\n",
      "2025-06-27 16:01:04,877 | INFO: Mapping has been syntactically validated.\n",
      "INFO | 2025-06-27 16:01:04,877 | Mapping has been syntactically validated.\n",
      "2025-06-27 16:01:04,878 | INFO: Translation has finished successfully.\n",
      "INFO | 2025-06-27 16:01:04,878 | Translation has finished successfully.\n",
      "2025-06-27 16:01:04,887 | INFO: Translating YARRRML mapping to [R2]RML\n",
      "INFO | 2025-06-27 16:01:04,887 | Translating YARRRML mapping to [R2]RML\n",
      "2025-06-27 16:01:04,888 | INFO: RML content is created!\n",
      "INFO | 2025-06-27 16:01:04,888 | RML content is created!\n",
      "2025-06-27 16:01:04,894 | INFO: Mapping has been syntactically validated.\n",
      "INFO | 2025-06-27 16:01:04,894 | Mapping has been syntactically validated.\n",
      "2025-06-27 16:01:04,896 | INFO: Translation has finished successfully.\n",
      "INFO | 2025-06-27 16:01:04,896 | Translation has finished successfully.\n",
      "2025-06-27 16:01:04,905 | INFO: Translating YARRRML mapping to [R2]RML\n",
      "INFO | 2025-06-27 16:01:04,905 | Translating YARRRML mapping to [R2]RML\n",
      "2025-06-27 16:01:04,906 | INFO: RML content is created!\n",
      "INFO | 2025-06-27 16:01:04,906 | RML content is created!\n",
      "2025-06-27 16:01:04,912 | INFO: Mapping has been syntactically validated.\n",
      "INFO | 2025-06-27 16:01:04,912 | Mapping has been syntactically validated.\n",
      "2025-06-27 16:01:04,913 | INFO: Translation has finished successfully.\n",
      "INFO | 2025-06-27 16:01:04,913 | Translation has finished successfully.\n",
      "2025-06-27 16:01:04,921 | INFO: Translating YARRRML mapping to [R2]RML\n",
      "INFO | 2025-06-27 16:01:04,921 | Translating YARRRML mapping to [R2]RML\n",
      "2025-06-27 16:01:04,924 | INFO: RML content is created!\n",
      "INFO | 2025-06-27 16:01:04,924 | RML content is created!\n",
      "2025-06-27 16:01:04,929 | INFO: Mapping has been syntactically validated.\n",
      "INFO | 2025-06-27 16:01:04,929 | Mapping has been syntactically validated.\n",
      "2025-06-27 16:01:04,930 | INFO: Translation has finished successfully.\n",
      "INFO | 2025-06-27 16:01:04,930 | Translation has finished successfully.\n",
      "2025-06-27 16:01:04,942 | INFO: Translating YARRRML mapping to [R2]RML\n",
      "INFO | 2025-06-27 16:01:04,942 | Translating YARRRML mapping to [R2]RML\n",
      "2025-06-27 16:01:04,944 | INFO: RML content is created!\n",
      "INFO | 2025-06-27 16:01:04,944 | RML content is created!\n",
      "2025-06-27 16:01:04,950 | INFO: Mapping has been syntactically validated.\n",
      "INFO | 2025-06-27 16:01:04,950 | Mapping has been syntactically validated.\n",
      "2025-06-27 16:01:04,951 | INFO: Translation has finished successfully.\n",
      "INFO | 2025-06-27 16:01:04,951 | Translation has finished successfully.\n",
      " 71%|███████   | 224/316 [00:04<00:01, 51.01it/s]2025-06-27 16:01:04,961 | INFO: Translating YARRRML mapping to [R2]RML\n",
      "INFO | 2025-06-27 16:01:04,961 | Translating YARRRML mapping to [R2]RML\n",
      "2025-06-27 16:01:04,964 | INFO: RML content is created!\n",
      "INFO | 2025-06-27 16:01:04,964 | RML content is created!\n",
      "2025-06-27 16:01:04,970 | INFO: Mapping has been syntactically validated.\n",
      "INFO | 2025-06-27 16:01:04,970 | Mapping has been syntactically validated.\n",
      "2025-06-27 16:01:04,973 | INFO: Translation has finished successfully.\n",
      "INFO | 2025-06-27 16:01:04,973 | Translation has finished successfully.\n",
      "2025-06-27 16:01:04,980 | INFO: Translating YARRRML mapping to [R2]RML\n",
      "INFO | 2025-06-27 16:01:04,980 | Translating YARRRML mapping to [R2]RML\n",
      "2025-06-27 16:01:04,982 | INFO: RML content is created!\n",
      "INFO | 2025-06-27 16:01:04,982 | RML content is created!\n",
      "2025-06-27 16:01:04,988 | INFO: Mapping has been syntactically validated.\n",
      "INFO | 2025-06-27 16:01:04,988 | Mapping has been syntactically validated.\n",
      "2025-06-27 16:01:04,989 | INFO: Translation has finished successfully.\n",
      "INFO | 2025-06-27 16:01:04,989 | Translation has finished successfully.\n",
      "2025-06-27 16:01:04,999 | INFO: Translating YARRRML mapping to [R2]RML\n",
      "INFO | 2025-06-27 16:01:04,999 | Translating YARRRML mapping to [R2]RML\n",
      "2025-06-27 16:01:05,000 | INFO: RML content is created!\n",
      "INFO | 2025-06-27 16:01:05,000 | RML content is created!\n",
      "2025-06-27 16:01:05,006 | INFO: Mapping has been syntactically validated.\n",
      "INFO | 2025-06-27 16:01:05,006 | Mapping has been syntactically validated.\n",
      "2025-06-27 16:01:05,007 | INFO: Translation has finished successfully.\n",
      "INFO | 2025-06-27 16:01:05,007 | Translation has finished successfully.\n",
      "2025-06-27 16:01:05,015 | INFO: Translating YARRRML mapping to [R2]RML\n",
      "INFO | 2025-06-27 16:01:05,015 | Translating YARRRML mapping to [R2]RML\n",
      "2025-06-27 16:01:05,017 | INFO: RML content is created!\n",
      "INFO | 2025-06-27 16:01:05,017 | RML content is created!\n",
      "2025-06-27 16:01:05,023 | INFO: Mapping has been syntactically validated.\n",
      "INFO | 2025-06-27 16:01:05,023 | Mapping has been syntactically validated.\n",
      "2025-06-27 16:01:05,025 | INFO: Translation has finished successfully.\n",
      "INFO | 2025-06-27 16:01:05,025 | Translation has finished successfully.\n",
      "2025-06-27 16:01:05,033 | INFO: Translating YARRRML mapping to [R2]RML\n",
      "INFO | 2025-06-27 16:01:05,033 | Translating YARRRML mapping to [R2]RML\n",
      "2025-06-27 16:01:05,035 | INFO: RML content is created!\n",
      "INFO | 2025-06-27 16:01:05,035 | RML content is created!\n",
      "2025-06-27 16:01:05,040 | INFO: Mapping has been syntactically validated.\n",
      "INFO | 2025-06-27 16:01:05,040 | Mapping has been syntactically validated.\n",
      "2025-06-27 16:01:05,042 | INFO: Translation has finished successfully.\n",
      "INFO | 2025-06-27 16:01:05,042 | Translation has finished successfully.\n",
      "2025-06-27 16:01:05,051 | INFO: Translating YARRRML mapping to [R2]RML\n",
      "INFO | 2025-06-27 16:01:05,051 | Translating YARRRML mapping to [R2]RML\n",
      "2025-06-27 16:01:05,053 | INFO: RML content is created!\n",
      "INFO | 2025-06-27 16:01:05,053 | RML content is created!\n",
      "2025-06-27 16:01:05,059 | INFO: Mapping has been syntactically validated.\n",
      "INFO | 2025-06-27 16:01:05,059 | Mapping has been syntactically validated.\n",
      "2025-06-27 16:01:05,062 | INFO: Translation has finished successfully.\n",
      "INFO | 2025-06-27 16:01:05,062 | Translation has finished successfully.\n",
      " 73%|███████▎  | 230/316 [00:04<00:01, 51.72it/s]2025-06-27 16:01:05,072 | INFO: Translating YARRRML mapping to [R2]RML\n",
      "INFO | 2025-06-27 16:01:05,072 | Translating YARRRML mapping to [R2]RML\n",
      "2025-06-27 16:01:05,074 | INFO: RML content is created!\n",
      "INFO | 2025-06-27 16:01:05,074 | RML content is created!\n",
      "2025-06-27 16:01:05,079 | INFO: Mapping has been syntactically validated.\n",
      "INFO | 2025-06-27 16:01:05,079 | Mapping has been syntactically validated.\n",
      "2025-06-27 16:01:05,081 | INFO: Translation has finished successfully.\n",
      "INFO | 2025-06-27 16:01:05,081 | Translation has finished successfully.\n",
      "2025-06-27 16:01:05,094 | INFO: Translating YARRRML mapping to [R2]RML\n",
      "INFO | 2025-06-27 16:01:05,094 | Translating YARRRML mapping to [R2]RML\n",
      "2025-06-27 16:01:05,096 | INFO: RML content is created!\n",
      "INFO | 2025-06-27 16:01:05,096 | RML content is created!\n",
      "2025-06-27 16:01:05,101 | INFO: Mapping has been syntactically validated.\n",
      "INFO | 2025-06-27 16:01:05,101 | Mapping has been syntactically validated.\n",
      "2025-06-27 16:01:05,103 | INFO: Translation has finished successfully.\n",
      "INFO | 2025-06-27 16:01:05,103 | Translation has finished successfully.\n",
      "2025-06-27 16:01:05,111 | INFO: Translating YARRRML mapping to [R2]RML\n",
      "INFO | 2025-06-27 16:01:05,111 | Translating YARRRML mapping to [R2]RML\n",
      "2025-06-27 16:01:05,112 | INFO: RML content is created!\n",
      "INFO | 2025-06-27 16:01:05,112 | RML content is created!\n",
      "2025-06-27 16:01:05,117 | INFO: Mapping has been syntactically validated.\n",
      "INFO | 2025-06-27 16:01:05,117 | Mapping has been syntactically validated.\n",
      "2025-06-27 16:01:05,118 | INFO: Translation has finished successfully.\n",
      "INFO | 2025-06-27 16:01:05,118 | Translation has finished successfully.\n",
      "2025-06-27 16:01:05,127 | INFO: Translating YARRRML mapping to [R2]RML\n",
      "INFO | 2025-06-27 16:01:05,127 | Translating YARRRML mapping to [R2]RML\n",
      "2025-06-27 16:01:05,129 | INFO: RML content is created!\n",
      "INFO | 2025-06-27 16:01:05,129 | RML content is created!\n",
      "2025-06-27 16:01:05,136 | INFO: Mapping has been syntactically validated.\n",
      "INFO | 2025-06-27 16:01:05,136 | Mapping has been syntactically validated.\n",
      "2025-06-27 16:01:05,138 | INFO: Translation has finished successfully.\n",
      "INFO | 2025-06-27 16:01:05,138 | Translation has finished successfully.\n",
      "2025-06-27 16:01:05,147 | INFO: Translating YARRRML mapping to [R2]RML\n",
      "INFO | 2025-06-27 16:01:05,147 | Translating YARRRML mapping to [R2]RML\n",
      "2025-06-27 16:01:05,149 | INFO: RML content is created!\n",
      "INFO | 2025-06-27 16:01:05,149 | RML content is created!\n",
      "2025-06-27 16:01:05,158 | INFO: Mapping has been syntactically validated.\n",
      "INFO | 2025-06-27 16:01:05,158 | Mapping has been syntactically validated.\n",
      "2025-06-27 16:01:05,161 | INFO: Translation has finished successfully.\n",
      "INFO | 2025-06-27 16:01:05,161 | Translation has finished successfully.\n",
      "2025-06-27 16:01:05,168 | INFO: Translating YARRRML mapping to [R2]RML\n",
      "INFO | 2025-06-27 16:01:05,168 | Translating YARRRML mapping to [R2]RML\n",
      "2025-06-27 16:01:05,170 | INFO: RML content is created!\n",
      "INFO | 2025-06-27 16:01:05,170 | RML content is created!\n",
      "2025-06-27 16:01:05,176 | INFO: Mapping has been syntactically validated.\n",
      "INFO | 2025-06-27 16:01:05,176 | Mapping has been syntactically validated.\n",
      "2025-06-27 16:01:05,177 | INFO: Translation has finished successfully.\n",
      "INFO | 2025-06-27 16:01:05,177 | Translation has finished successfully.\n",
      " 75%|███████▍  | 236/316 [00:04<00:01, 51.84it/s]2025-06-27 16:01:05,187 | INFO: Translating YARRRML mapping to [R2]RML\n",
      "INFO | 2025-06-27 16:01:05,187 | Translating YARRRML mapping to [R2]RML\n",
      "2025-06-27 16:01:05,189 | INFO: RML content is created!\n",
      "INFO | 2025-06-27 16:01:05,189 | RML content is created!\n",
      "2025-06-27 16:01:05,194 | INFO: Mapping has been syntactically validated.\n",
      "INFO | 2025-06-27 16:01:05,194 | Mapping has been syntactically validated.\n",
      "2025-06-27 16:01:05,196 | INFO: Translation has finished successfully.\n",
      "INFO | 2025-06-27 16:01:05,196 | Translation has finished successfully.\n",
      "2025-06-27 16:01:05,205 | INFO: Translating YARRRML mapping to [R2]RML\n",
      "INFO | 2025-06-27 16:01:05,205 | Translating YARRRML mapping to [R2]RML\n",
      "2025-06-27 16:01:05,207 | INFO: RML content is created!\n",
      "INFO | 2025-06-27 16:01:05,207 | RML content is created!\n",
      "2025-06-27 16:01:05,213 | INFO: Mapping has been syntactically validated.\n",
      "INFO | 2025-06-27 16:01:05,213 | Mapping has been syntactically validated.\n",
      "2025-06-27 16:01:05,214 | INFO: Translation has finished successfully.\n",
      "INFO | 2025-06-27 16:01:05,214 | Translation has finished successfully.\n",
      "2025-06-27 16:01:05,223 | INFO: Translating YARRRML mapping to [R2]RML\n",
      "INFO | 2025-06-27 16:01:05,223 | Translating YARRRML mapping to [R2]RML\n",
      "2025-06-27 16:01:05,225 | INFO: RML content is created!\n",
      "INFO | 2025-06-27 16:01:05,225 | RML content is created!\n",
      "2025-06-27 16:01:05,231 | INFO: Mapping has been syntactically validated.\n",
      "INFO | 2025-06-27 16:01:05,231 | Mapping has been syntactically validated.\n",
      "2025-06-27 16:01:05,232 | INFO: Translation has finished successfully.\n",
      "INFO | 2025-06-27 16:01:05,232 | Translation has finished successfully.\n",
      "2025-06-27 16:01:05,239 | INFO: Translating YARRRML mapping to [R2]RML\n",
      "INFO | 2025-06-27 16:01:05,239 | Translating YARRRML mapping to [R2]RML\n",
      "2025-06-27 16:01:05,241 | INFO: RML content is created!\n",
      "INFO | 2025-06-27 16:01:05,241 | RML content is created!\n",
      "2025-06-27 16:01:05,246 | INFO: Mapping has been syntactically validated.\n",
      "INFO | 2025-06-27 16:01:05,246 | Mapping has been syntactically validated.\n",
      "2025-06-27 16:01:05,248 | INFO: Translation has finished successfully.\n",
      "INFO | 2025-06-27 16:01:05,248 | Translation has finished successfully.\n",
      "2025-06-27 16:01:05,256 | INFO: Translating YARRRML mapping to [R2]RML\n",
      "INFO | 2025-06-27 16:01:05,256 | Translating YARRRML mapping to [R2]RML\n",
      "2025-06-27 16:01:05,257 | INFO: RML content is created!\n",
      "INFO | 2025-06-27 16:01:05,257 | RML content is created!\n",
      "2025-06-27 16:01:05,263 | INFO: Mapping has been syntactically validated.\n",
      "INFO | 2025-06-27 16:01:05,263 | Mapping has been syntactically validated.\n",
      "2025-06-27 16:01:05,264 | INFO: Translation has finished successfully.\n",
      "INFO | 2025-06-27 16:01:05,264 | Translation has finished successfully.\n",
      "2025-06-27 16:01:05,273 | INFO: Translating YARRRML mapping to [R2]RML\n",
      "INFO | 2025-06-27 16:01:05,273 | Translating YARRRML mapping to [R2]RML\n",
      "2025-06-27 16:01:05,275 | INFO: RML content is created!\n",
      "INFO | 2025-06-27 16:01:05,275 | RML content is created!\n",
      "2025-06-27 16:01:05,282 | INFO: Mapping has been syntactically validated.\n",
      "INFO | 2025-06-27 16:01:05,282 | Mapping has been syntactically validated.\n",
      "2025-06-27 16:01:05,284 | INFO: Translation has finished successfully.\n",
      "INFO | 2025-06-27 16:01:05,284 | Translation has finished successfully.\n",
      " 77%|███████▋  | 242/316 [00:04<00:01, 53.29it/s]2025-06-27 16:01:05,293 | INFO: Translating YARRRML mapping to [R2]RML\n",
      "INFO | 2025-06-27 16:01:05,293 | Translating YARRRML mapping to [R2]RML\n",
      "2025-06-27 16:01:05,295 | INFO: RML content is created!\n",
      "INFO | 2025-06-27 16:01:05,295 | RML content is created!\n",
      "2025-06-27 16:01:05,305 | INFO: Mapping has been syntactically validated.\n",
      "INFO | 2025-06-27 16:01:05,305 | Mapping has been syntactically validated.\n",
      "2025-06-27 16:01:05,307 | INFO: Translation has finished successfully.\n",
      "INFO | 2025-06-27 16:01:05,307 | Translation has finished successfully.\n",
      "2025-06-27 16:01:05,315 | INFO: Translating YARRRML mapping to [R2]RML\n",
      "INFO | 2025-06-27 16:01:05,315 | Translating YARRRML mapping to [R2]RML\n",
      "2025-06-27 16:01:05,317 | INFO: RML content is created!\n",
      "INFO | 2025-06-27 16:01:05,317 | RML content is created!\n",
      "2025-06-27 16:01:05,322 | INFO: Mapping has been syntactically validated.\n",
      "INFO | 2025-06-27 16:01:05,322 | Mapping has been syntactically validated.\n",
      "2025-06-27 16:01:05,323 | INFO: Translation has finished successfully.\n",
      "INFO | 2025-06-27 16:01:05,323 | Translation has finished successfully.\n",
      "2025-06-27 16:01:05,331 | INFO: Translating YARRRML mapping to [R2]RML\n",
      "INFO | 2025-06-27 16:01:05,331 | Translating YARRRML mapping to [R2]RML\n",
      "2025-06-27 16:01:05,333 | INFO: RML content is created!\n",
      "INFO | 2025-06-27 16:01:05,333 | RML content is created!\n",
      "2025-06-27 16:01:05,341 | INFO: Mapping has been syntactically validated.\n",
      "INFO | 2025-06-27 16:01:05,341 | Mapping has been syntactically validated.\n",
      "2025-06-27 16:01:05,342 | INFO: Translation has finished successfully.\n",
      "INFO | 2025-06-27 16:01:05,342 | Translation has finished successfully.\n",
      "2025-06-27 16:01:05,349 | INFO: Translating YARRRML mapping to [R2]RML\n",
      "INFO | 2025-06-27 16:01:05,349 | Translating YARRRML mapping to [R2]RML\n",
      "2025-06-27 16:01:05,351 | INFO: RML content is created!\n",
      "INFO | 2025-06-27 16:01:05,351 | RML content is created!\n",
      "2025-06-27 16:01:05,356 | INFO: Mapping has been syntactically validated.\n",
      "INFO | 2025-06-27 16:01:05,356 | Mapping has been syntactically validated.\n",
      "2025-06-27 16:01:05,358 | INFO: Translation has finished successfully.\n",
      "INFO | 2025-06-27 16:01:05,358 | Translation has finished successfully.\n",
      "2025-06-27 16:01:05,368 | INFO: Translating YARRRML mapping to [R2]RML\n",
      "INFO | 2025-06-27 16:01:05,368 | Translating YARRRML mapping to [R2]RML\n",
      "2025-06-27 16:01:05,370 | INFO: RML content is created!\n",
      "INFO | 2025-06-27 16:01:05,370 | RML content is created!\n",
      "2025-06-27 16:01:05,376 | INFO: Mapping has been syntactically validated.\n",
      "INFO | 2025-06-27 16:01:05,376 | Mapping has been syntactically validated.\n",
      "2025-06-27 16:01:05,377 | INFO: Translation has finished successfully.\n",
      "INFO | 2025-06-27 16:01:05,377 | Translation has finished successfully.\n",
      "2025-06-27 16:01:05,385 | INFO: Translating YARRRML mapping to [R2]RML\n",
      "INFO | 2025-06-27 16:01:05,385 | Translating YARRRML mapping to [R2]RML\n",
      "2025-06-27 16:01:05,386 | INFO: RML content is created!\n",
      "INFO | 2025-06-27 16:01:05,386 | RML content is created!\n",
      "2025-06-27 16:01:05,392 | INFO: Mapping has been syntactically validated.\n",
      "INFO | 2025-06-27 16:01:05,392 | Mapping has been syntactically validated.\n",
      "2025-06-27 16:01:05,393 | INFO: Translation has finished successfully.\n",
      "INFO | 2025-06-27 16:01:05,393 | Translation has finished successfully.\n",
      " 78%|███████▊  | 248/316 [00:04<00:01, 53.68it/s]2025-06-27 16:01:05,404 | INFO: Translating YARRRML mapping to [R2]RML\n",
      "INFO | 2025-06-27 16:01:05,404 | Translating YARRRML mapping to [R2]RML\n",
      "2025-06-27 16:01:05,406 | INFO: RML content is created!\n",
      "INFO | 2025-06-27 16:01:05,406 | RML content is created!\n",
      "2025-06-27 16:01:05,412 | INFO: Mapping has been syntactically validated.\n",
      "INFO | 2025-06-27 16:01:05,412 | Mapping has been syntactically validated.\n",
      "2025-06-27 16:01:05,414 | INFO: Translation has finished successfully.\n",
      "INFO | 2025-06-27 16:01:05,414 | Translation has finished successfully.\n",
      "2025-06-27 16:01:05,424 | INFO: Translating YARRRML mapping to [R2]RML\n",
      "INFO | 2025-06-27 16:01:05,424 | Translating YARRRML mapping to [R2]RML\n",
      "2025-06-27 16:01:05,425 | INFO: RML content is created!\n",
      "INFO | 2025-06-27 16:01:05,425 | RML content is created!\n",
      "2025-06-27 16:01:05,434 | INFO: Mapping has been syntactically validated.\n",
      "INFO | 2025-06-27 16:01:05,434 | Mapping has been syntactically validated.\n",
      "2025-06-27 16:01:05,435 | INFO: Translation has finished successfully.\n",
      "INFO | 2025-06-27 16:01:05,435 | Translation has finished successfully.\n",
      "2025-06-27 16:01:05,443 | INFO: Translating YARRRML mapping to [R2]RML\n",
      "INFO | 2025-06-27 16:01:05,443 | Translating YARRRML mapping to [R2]RML\n",
      "2025-06-27 16:01:05,444 | INFO: RML content is created!\n",
      "INFO | 2025-06-27 16:01:05,444 | RML content is created!\n",
      "2025-06-27 16:01:05,449 | INFO: Mapping has been syntactically validated.\n",
      "INFO | 2025-06-27 16:01:05,449 | Mapping has been syntactically validated.\n",
      "2025-06-27 16:01:05,451 | INFO: Translation has finished successfully.\n",
      "INFO | 2025-06-27 16:01:05,451 | Translation has finished successfully.\n",
      "2025-06-27 16:01:05,458 | INFO: Translating YARRRML mapping to [R2]RML\n",
      "INFO | 2025-06-27 16:01:05,458 | Translating YARRRML mapping to [R2]RML\n",
      "2025-06-27 16:01:05,460 | INFO: RML content is created!\n",
      "INFO | 2025-06-27 16:01:05,460 | RML content is created!\n",
      "2025-06-27 16:01:05,465 | INFO: Mapping has been syntactically validated.\n",
      "INFO | 2025-06-27 16:01:05,465 | Mapping has been syntactically validated.\n",
      "2025-06-27 16:01:05,467 | INFO: Translation has finished successfully.\n",
      "INFO | 2025-06-27 16:01:05,467 | Translation has finished successfully.\n",
      "2025-06-27 16:01:05,474 | INFO: Translating YARRRML mapping to [R2]RML\n",
      "INFO | 2025-06-27 16:01:05,474 | Translating YARRRML mapping to [R2]RML\n",
      "2025-06-27 16:01:05,476 | INFO: RML content is created!\n",
      "INFO | 2025-06-27 16:01:05,476 | RML content is created!\n",
      "2025-06-27 16:01:05,482 | INFO: Mapping has been syntactically validated.\n",
      "INFO | 2025-06-27 16:01:05,482 | Mapping has been syntactically validated.\n",
      "2025-06-27 16:01:05,483 | INFO: Translation has finished successfully.\n",
      "INFO | 2025-06-27 16:01:05,483 | Translation has finished successfully.\n",
      "2025-06-27 16:01:05,491 | INFO: Translating YARRRML mapping to [R2]RML\n",
      "INFO | 2025-06-27 16:01:05,491 | Translating YARRRML mapping to [R2]RML\n",
      "2025-06-27 16:01:05,493 | INFO: RML content is created!\n",
      "INFO | 2025-06-27 16:01:05,493 | RML content is created!\n",
      "2025-06-27 16:01:05,502 | INFO: Mapping has been syntactically validated.\n",
      "INFO | 2025-06-27 16:01:05,502 | Mapping has been syntactically validated.\n",
      "2025-06-27 16:01:05,507 | INFO: Translation has finished successfully.\n",
      "INFO | 2025-06-27 16:01:05,507 | Translation has finished successfully.\n",
      " 80%|████████  | 254/316 [00:05<00:01, 53.41it/s]2025-06-27 16:01:05,525 | INFO: Translating YARRRML mapping to [R2]RML\n",
      "INFO | 2025-06-27 16:01:05,525 | Translating YARRRML mapping to [R2]RML\n",
      "2025-06-27 16:01:05,528 | INFO: RML content is created!\n",
      "INFO | 2025-06-27 16:01:05,528 | RML content is created!\n",
      "2025-06-27 16:01:05,536 | INFO: Mapping has been syntactically validated.\n",
      "INFO | 2025-06-27 16:01:05,536 | Mapping has been syntactically validated.\n",
      "2025-06-27 16:01:05,538 | INFO: Translation has finished successfully.\n",
      "INFO | 2025-06-27 16:01:05,538 | Translation has finished successfully.\n",
      "2025-06-27 16:01:05,548 | INFO: Translating YARRRML mapping to [R2]RML\n",
      "INFO | 2025-06-27 16:01:05,548 | Translating YARRRML mapping to [R2]RML\n",
      "2025-06-27 16:01:05,550 | INFO: RML content is created!\n",
      "INFO | 2025-06-27 16:01:05,550 | RML content is created!\n",
      "2025-06-27 16:01:05,559 | INFO: Mapping has been syntactically validated.\n",
      "INFO | 2025-06-27 16:01:05,559 | Mapping has been syntactically validated.\n",
      "2025-06-27 16:01:05,561 | INFO: Translation has finished successfully.\n",
      "INFO | 2025-06-27 16:01:05,561 | Translation has finished successfully.\n",
      "2025-06-27 16:01:05,570 | INFO: Translating YARRRML mapping to [R2]RML\n",
      "INFO | 2025-06-27 16:01:05,570 | Translating YARRRML mapping to [R2]RML\n",
      "2025-06-27 16:01:05,571 | INFO: RML content is created!\n",
      "INFO | 2025-06-27 16:01:05,571 | RML content is created!\n",
      "2025-06-27 16:01:05,577 | INFO: Mapping has been syntactically validated.\n",
      "INFO | 2025-06-27 16:01:05,577 | Mapping has been syntactically validated.\n",
      "2025-06-27 16:01:05,580 | INFO: Translation has finished successfully.\n",
      "INFO | 2025-06-27 16:01:05,580 | Translation has finished successfully.\n",
      "2025-06-27 16:01:05,590 | INFO: Translating YARRRML mapping to [R2]RML\n",
      "INFO | 2025-06-27 16:01:05,590 | Translating YARRRML mapping to [R2]RML\n",
      "2025-06-27 16:01:05,592 | INFO: RML content is created!\n",
      "INFO | 2025-06-27 16:01:05,592 | RML content is created!\n",
      "2025-06-27 16:01:05,598 | INFO: Mapping has been syntactically validated.\n",
      "INFO | 2025-06-27 16:01:05,598 | Mapping has been syntactically validated.\n",
      "2025-06-27 16:01:05,599 | INFO: Translation has finished successfully.\n",
      "INFO | 2025-06-27 16:01:05,599 | Translation has finished successfully.\n",
      "2025-06-27 16:01:05,607 | INFO: Translating YARRRML mapping to [R2]RML\n",
      "INFO | 2025-06-27 16:01:05,607 | Translating YARRRML mapping to [R2]RML\n",
      "2025-06-27 16:01:05,608 | INFO: RML content is created!\n",
      "INFO | 2025-06-27 16:01:05,608 | RML content is created!\n",
      "2025-06-27 16:01:05,615 | INFO: Mapping has been syntactically validated.\n",
      "INFO | 2025-06-27 16:01:05,615 | Mapping has been syntactically validated.\n",
      "2025-06-27 16:01:05,617 | INFO: Translation has finished successfully.\n",
      "INFO | 2025-06-27 16:01:05,617 | Translation has finished successfully.\n",
      "2025-06-27 16:01:05,624 | INFO: Translating YARRRML mapping to [R2]RML\n",
      "INFO | 2025-06-27 16:01:05,624 | Translating YARRRML mapping to [R2]RML\n",
      "2025-06-27 16:01:05,625 | INFO: RML content is created!\n",
      "INFO | 2025-06-27 16:01:05,625 | RML content is created!\n",
      "2025-06-27 16:01:05,630 | INFO: Mapping has been syntactically validated.\n",
      "INFO | 2025-06-27 16:01:05,630 | Mapping has been syntactically validated.\n",
      "2025-06-27 16:01:05,631 | INFO: Translation has finished successfully.\n",
      "INFO | 2025-06-27 16:01:05,631 | Translation has finished successfully.\n",
      " 82%|████████▏ | 260/316 [00:05<00:01, 51.66it/s]2025-06-27 16:01:05,641 | INFO: Translating YARRRML mapping to [R2]RML\n",
      "INFO | 2025-06-27 16:01:05,641 | Translating YARRRML mapping to [R2]RML\n",
      "2025-06-27 16:01:05,642 | INFO: RML content is created!\n",
      "INFO | 2025-06-27 16:01:05,642 | RML content is created!\n",
      "2025-06-27 16:01:05,650 | INFO: Mapping has been syntactically validated.\n",
      "INFO | 2025-06-27 16:01:05,650 | Mapping has been syntactically validated.\n",
      "2025-06-27 16:01:05,651 | INFO: Translation has finished successfully.\n",
      "INFO | 2025-06-27 16:01:05,651 | Translation has finished successfully.\n",
      "2025-06-27 16:01:05,658 | INFO: Translating YARRRML mapping to [R2]RML\n",
      "INFO | 2025-06-27 16:01:05,658 | Translating YARRRML mapping to [R2]RML\n",
      "2025-06-27 16:01:05,660 | INFO: RML content is created!\n",
      "INFO | 2025-06-27 16:01:05,660 | RML content is created!\n",
      "2025-06-27 16:01:05,665 | INFO: Mapping has been syntactically validated.\n",
      "INFO | 2025-06-27 16:01:05,665 | Mapping has been syntactically validated.\n",
      "2025-06-27 16:01:05,666 | INFO: Translation has finished successfully.\n",
      "INFO | 2025-06-27 16:01:05,666 | Translation has finished successfully.\n",
      "2025-06-27 16:01:05,675 | INFO: Translating YARRRML mapping to [R2]RML\n",
      "INFO | 2025-06-27 16:01:05,675 | Translating YARRRML mapping to [R2]RML\n",
      "2025-06-27 16:01:05,678 | INFO: RML content is created!\n",
      "INFO | 2025-06-27 16:01:05,678 | RML content is created!\n",
      "2025-06-27 16:01:05,683 | INFO: Mapping has been syntactically validated.\n",
      "INFO | 2025-06-27 16:01:05,683 | Mapping has been syntactically validated.\n",
      "2025-06-27 16:01:05,684 | INFO: Translation has finished successfully.\n",
      "INFO | 2025-06-27 16:01:05,684 | Translation has finished successfully.\n",
      "2025-06-27 16:01:05,692 | INFO: Translating YARRRML mapping to [R2]RML\n",
      "INFO | 2025-06-27 16:01:05,692 | Translating YARRRML mapping to [R2]RML\n",
      "2025-06-27 16:01:05,694 | INFO: RML content is created!\n",
      "INFO | 2025-06-27 16:01:05,694 | RML content is created!\n",
      "2025-06-27 16:01:05,704 | INFO: Mapping has been syntactically validated.\n",
      "INFO | 2025-06-27 16:01:05,704 | Mapping has been syntactically validated.\n",
      "2025-06-27 16:01:05,710 | INFO: Translation has finished successfully.\n",
      "INFO | 2025-06-27 16:01:05,710 | Translation has finished successfully.\n",
      "2025-06-27 16:01:05,720 | INFO: Translating YARRRML mapping to [R2]RML\n",
      "INFO | 2025-06-27 16:01:05,720 | Translating YARRRML mapping to [R2]RML\n",
      "2025-06-27 16:01:05,722 | INFO: RML content is created!\n",
      "INFO | 2025-06-27 16:01:05,722 | RML content is created!\n",
      "2025-06-27 16:01:05,732 | INFO: Mapping has been syntactically validated.\n",
      "INFO | 2025-06-27 16:01:05,732 | Mapping has been syntactically validated.\n",
      "2025-06-27 16:01:05,733 | INFO: Translation has finished successfully.\n",
      "INFO | 2025-06-27 16:01:05,733 | Translation has finished successfully.\n",
      "2025-06-27 16:01:05,742 | INFO: Translating YARRRML mapping to [R2]RML\n",
      "INFO | 2025-06-27 16:01:05,742 | Translating YARRRML mapping to [R2]RML\n",
      "2025-06-27 16:01:05,745 | INFO: RML content is created!\n",
      "INFO | 2025-06-27 16:01:05,745 | RML content is created!\n",
      "2025-06-27 16:01:05,754 | INFO: Mapping has been syntactically validated.\n",
      "INFO | 2025-06-27 16:01:05,754 | Mapping has been syntactically validated.\n",
      "2025-06-27 16:01:05,756 | INFO: Translation has finished successfully.\n",
      "INFO | 2025-06-27 16:01:05,756 | Translation has finished successfully.\n",
      " 84%|████████▍ | 266/316 [00:05<00:00, 50.66it/s]2025-06-27 16:01:05,765 | INFO: Translating YARRRML mapping to [R2]RML\n",
      "INFO | 2025-06-27 16:01:05,765 | Translating YARRRML mapping to [R2]RML\n",
      "2025-06-27 16:01:05,767 | INFO: RML content is created!\n",
      "INFO | 2025-06-27 16:01:05,767 | RML content is created!\n",
      "2025-06-27 16:01:05,772 | INFO: Mapping has been syntactically validated.\n",
      "INFO | 2025-06-27 16:01:05,772 | Mapping has been syntactically validated.\n",
      "2025-06-27 16:01:05,774 | INFO: Translation has finished successfully.\n",
      "INFO | 2025-06-27 16:01:05,774 | Translation has finished successfully.\n",
      "2025-06-27 16:01:05,783 | INFO: Translating YARRRML mapping to [R2]RML\n",
      "INFO | 2025-06-27 16:01:05,783 | Translating YARRRML mapping to [R2]RML\n",
      "2025-06-27 16:01:05,785 | INFO: RML content is created!\n",
      "INFO | 2025-06-27 16:01:05,785 | RML content is created!\n",
      "2025-06-27 16:01:05,791 | INFO: Mapping has been syntactically validated.\n",
      "INFO | 2025-06-27 16:01:05,791 | Mapping has been syntactically validated.\n",
      "2025-06-27 16:01:05,792 | INFO: Translation has finished successfully.\n",
      "INFO | 2025-06-27 16:01:05,792 | Translation has finished successfully.\n",
      "2025-06-27 16:01:05,801 | INFO: Translating YARRRML mapping to [R2]RML\n",
      "INFO | 2025-06-27 16:01:05,801 | Translating YARRRML mapping to [R2]RML\n",
      "2025-06-27 16:01:05,802 | INFO: RML content is created!\n",
      "INFO | 2025-06-27 16:01:05,802 | RML content is created!\n",
      "2025-06-27 16:01:05,808 | INFO: Mapping has been syntactically validated.\n",
      "INFO | 2025-06-27 16:01:05,808 | Mapping has been syntactically validated.\n",
      "2025-06-27 16:01:05,811 | INFO: Translation has finished successfully.\n",
      "INFO | 2025-06-27 16:01:05,811 | Translation has finished successfully.\n",
      "2025-06-27 16:01:05,818 | INFO: Translating YARRRML mapping to [R2]RML\n",
      "INFO | 2025-06-27 16:01:05,818 | Translating YARRRML mapping to [R2]RML\n",
      "2025-06-27 16:01:05,820 | INFO: RML content is created!\n",
      "INFO | 2025-06-27 16:01:05,820 | RML content is created!\n",
      "2025-06-27 16:01:05,825 | INFO: Mapping has been syntactically validated.\n",
      "INFO | 2025-06-27 16:01:05,825 | Mapping has been syntactically validated.\n",
      "2025-06-27 16:01:05,827 | INFO: Translation has finished successfully.\n",
      "INFO | 2025-06-27 16:01:05,827 | Translation has finished successfully.\n",
      "2025-06-27 16:01:05,835 | INFO: Translating YARRRML mapping to [R2]RML\n",
      "INFO | 2025-06-27 16:01:05,835 | Translating YARRRML mapping to [R2]RML\n",
      "2025-06-27 16:01:05,837 | INFO: RML content is created!\n",
      "INFO | 2025-06-27 16:01:05,837 | RML content is created!\n",
      "2025-06-27 16:01:05,843 | INFO: Mapping has been syntactically validated.\n",
      "INFO | 2025-06-27 16:01:05,843 | Mapping has been syntactically validated.\n",
      "2025-06-27 16:01:05,845 | INFO: Translation has finished successfully.\n",
      "INFO | 2025-06-27 16:01:05,845 | Translation has finished successfully.\n",
      "2025-06-27 16:01:05,853 | INFO: Translating YARRRML mapping to [R2]RML\n",
      "INFO | 2025-06-27 16:01:05,853 | Translating YARRRML mapping to [R2]RML\n",
      "2025-06-27 16:01:05,855 | INFO: RML content is created!\n",
      "INFO | 2025-06-27 16:01:05,855 | RML content is created!\n",
      "2025-06-27 16:01:05,865 | INFO: Mapping has been syntactically validated.\n",
      "INFO | 2025-06-27 16:01:05,865 | Mapping has been syntactically validated.\n",
      "2025-06-27 16:01:05,867 | INFO: Translation has finished successfully.\n",
      "INFO | 2025-06-27 16:01:05,867 | Translation has finished successfully.\n",
      " 86%|████████▌ | 272/316 [00:05<00:00, 51.47it/s]2025-06-27 16:01:05,883 | INFO: Translating YARRRML mapping to [R2]RML\n",
      "INFO | 2025-06-27 16:01:05,883 | Translating YARRRML mapping to [R2]RML\n",
      "2025-06-27 16:01:05,886 | INFO: RML content is created!\n",
      "INFO | 2025-06-27 16:01:05,886 | RML content is created!\n",
      "2025-06-27 16:01:05,895 | INFO: Mapping has been syntactically validated.\n",
      "INFO | 2025-06-27 16:01:05,895 | Mapping has been syntactically validated.\n",
      "2025-06-27 16:01:05,898 | INFO: Translation has finished successfully.\n",
      "INFO | 2025-06-27 16:01:05,898 | Translation has finished successfully.\n",
      "2025-06-27 16:01:05,908 | INFO: Translating YARRRML mapping to [R2]RML\n",
      "INFO | 2025-06-27 16:01:05,908 | Translating YARRRML mapping to [R2]RML\n",
      "2025-06-27 16:01:05,910 | INFO: RML content is created!\n",
      "INFO | 2025-06-27 16:01:05,910 | RML content is created!\n",
      "2025-06-27 16:01:05,916 | INFO: Mapping has been syntactically validated.\n",
      "INFO | 2025-06-27 16:01:05,916 | Mapping has been syntactically validated.\n",
      "2025-06-27 16:01:05,918 | INFO: Translation has finished successfully.\n",
      "INFO | 2025-06-27 16:01:05,918 | Translation has finished successfully.\n",
      "2025-06-27 16:01:05,927 | INFO: Translating YARRRML mapping to [R2]RML\n",
      "INFO | 2025-06-27 16:01:05,927 | Translating YARRRML mapping to [R2]RML\n",
      "2025-06-27 16:01:05,929 | INFO: RML content is created!\n",
      "INFO | 2025-06-27 16:01:05,929 | RML content is created!\n",
      "2025-06-27 16:01:05,935 | INFO: Mapping has been syntactically validated.\n",
      "INFO | 2025-06-27 16:01:05,935 | Mapping has been syntactically validated.\n",
      "2025-06-27 16:01:05,937 | INFO: Translation has finished successfully.\n",
      "INFO | 2025-06-27 16:01:05,937 | Translation has finished successfully.\n",
      "2025-06-27 16:01:05,947 | INFO: Translating YARRRML mapping to [R2]RML\n",
      "INFO | 2025-06-27 16:01:05,947 | Translating YARRRML mapping to [R2]RML\n",
      "2025-06-27 16:01:05,948 | INFO: RML content is created!\n",
      "INFO | 2025-06-27 16:01:05,948 | RML content is created!\n",
      "2025-06-27 16:01:05,954 | INFO: Mapping has been syntactically validated.\n",
      "INFO | 2025-06-27 16:01:05,954 | Mapping has been syntactically validated.\n",
      "2025-06-27 16:01:05,956 | INFO: Translation has finished successfully.\n",
      "INFO | 2025-06-27 16:01:05,956 | Translation has finished successfully.\n",
      "2025-06-27 16:01:05,966 | INFO: Translating YARRRML mapping to [R2]RML\n",
      "INFO | 2025-06-27 16:01:05,966 | Translating YARRRML mapping to [R2]RML\n",
      "2025-06-27 16:01:05,968 | INFO: RML content is created!\n",
      "INFO | 2025-06-27 16:01:05,968 | RML content is created!\n",
      "2025-06-27 16:01:05,979 | INFO: Mapping has been syntactically validated.\n",
      "INFO | 2025-06-27 16:01:05,979 | Mapping has been syntactically validated.\n",
      "2025-06-27 16:01:05,980 | INFO: Translation has finished successfully.\n",
      "INFO | 2025-06-27 16:01:05,980 | Translation has finished successfully.\n",
      "2025-06-27 16:01:05,988 | INFO: Translating YARRRML mapping to [R2]RML\n",
      "INFO | 2025-06-27 16:01:05,988 | Translating YARRRML mapping to [R2]RML\n",
      "2025-06-27 16:01:05,989 | INFO: RML content is created!\n",
      "INFO | 2025-06-27 16:01:05,989 | RML content is created!\n",
      "2025-06-27 16:01:05,994 | INFO: Mapping has been syntactically validated.\n",
      "INFO | 2025-06-27 16:01:05,994 | Mapping has been syntactically validated.\n",
      "2025-06-27 16:01:05,995 | INFO: Translation has finished successfully.\n",
      "INFO | 2025-06-27 16:01:05,995 | Translation has finished successfully.\n",
      " 88%|████████▊ | 278/316 [00:05<00:00, 50.10it/s]2025-06-27 16:01:06,004 | INFO: Translating YARRRML mapping to [R2]RML\n",
      "INFO | 2025-06-27 16:01:06,004 | Translating YARRRML mapping to [R2]RML\n",
      "2025-06-27 16:01:06,005 | INFO: RML content is created!\n",
      "INFO | 2025-06-27 16:01:06,005 | RML content is created!\n",
      "2025-06-27 16:01:06,011 | INFO: Mapping has been syntactically validated.\n",
      "INFO | 2025-06-27 16:01:06,011 | Mapping has been syntactically validated.\n",
      "2025-06-27 16:01:06,012 | INFO: Translation has finished successfully.\n",
      "INFO | 2025-06-27 16:01:06,012 | Translation has finished successfully.\n",
      "2025-06-27 16:01:06,020 | INFO: Translating YARRRML mapping to [R2]RML\n",
      "INFO | 2025-06-27 16:01:06,020 | Translating YARRRML mapping to [R2]RML\n",
      "2025-06-27 16:01:06,022 | INFO: RML content is created!\n",
      "INFO | 2025-06-27 16:01:06,022 | RML content is created!\n",
      "2025-06-27 16:01:06,027 | INFO: Mapping has been syntactically validated.\n",
      "INFO | 2025-06-27 16:01:06,027 | Mapping has been syntactically validated.\n",
      "2025-06-27 16:01:06,028 | INFO: Translation has finished successfully.\n",
      "INFO | 2025-06-27 16:01:06,028 | Translation has finished successfully.\n",
      "2025-06-27 16:01:06,036 | INFO: Translating YARRRML mapping to [R2]RML\n",
      "INFO | 2025-06-27 16:01:06,036 | Translating YARRRML mapping to [R2]RML\n",
      "2025-06-27 16:01:06,038 | INFO: RML content is created!\n",
      "INFO | 2025-06-27 16:01:06,038 | RML content is created!\n",
      "2025-06-27 16:01:06,044 | INFO: Mapping has been syntactically validated.\n",
      "INFO | 2025-06-27 16:01:06,044 | Mapping has been syntactically validated.\n",
      "2025-06-27 16:01:06,046 | INFO: Translation has finished successfully.\n",
      "INFO | 2025-06-27 16:01:06,046 | Translation has finished successfully.\n",
      "2025-06-27 16:01:06,056 | INFO: Translating YARRRML mapping to [R2]RML\n",
      "INFO | 2025-06-27 16:01:06,056 | Translating YARRRML mapping to [R2]RML\n",
      "2025-06-27 16:01:06,058 | INFO: RML content is created!\n",
      "INFO | 2025-06-27 16:01:06,058 | RML content is created!\n",
      "2025-06-27 16:01:06,065 | INFO: Mapping has been syntactically validated.\n",
      "INFO | 2025-06-27 16:01:06,065 | Mapping has been syntactically validated.\n",
      "2025-06-27 16:01:06,067 | INFO: Translation has finished successfully.\n",
      "INFO | 2025-06-27 16:01:06,067 | Translation has finished successfully.\n",
      "2025-06-27 16:01:06,074 | INFO: Translating YARRRML mapping to [R2]RML\n",
      "INFO | 2025-06-27 16:01:06,074 | Translating YARRRML mapping to [R2]RML\n",
      "2025-06-27 16:01:06,076 | INFO: RML content is created!\n",
      "INFO | 2025-06-27 16:01:06,076 | RML content is created!\n",
      "2025-06-27 16:01:06,082 | INFO: Mapping has been syntactically validated.\n",
      "INFO | 2025-06-27 16:01:06,082 | Mapping has been syntactically validated.\n",
      "2025-06-27 16:01:06,083 | INFO: Translation has finished successfully.\n",
      "INFO | 2025-06-27 16:01:06,083 | Translation has finished successfully.\n",
      "2025-06-27 16:01:06,091 | INFO: Translating YARRRML mapping to [R2]RML\n",
      "INFO | 2025-06-27 16:01:06,091 | Translating YARRRML mapping to [R2]RML\n",
      "2025-06-27 16:01:06,092 | INFO: RML content is created!\n",
      "INFO | 2025-06-27 16:01:06,092 | RML content is created!\n",
      "2025-06-27 16:01:06,105 | INFO: Mapping has been syntactically validated.\n",
      "INFO | 2025-06-27 16:01:06,105 | Mapping has been syntactically validated.\n",
      "2025-06-27 16:01:06,107 | INFO: Translation has finished successfully.\n",
      "INFO | 2025-06-27 16:01:06,107 | Translation has finished successfully.\n",
      " 90%|████████▉ | 284/316 [00:05<00:00, 51.02it/s]2025-06-27 16:01:06,119 | INFO: Translating YARRRML mapping to [R2]RML\n",
      "INFO | 2025-06-27 16:01:06,119 | Translating YARRRML mapping to [R2]RML\n",
      "2025-06-27 16:01:06,122 | INFO: RML content is created!\n",
      "INFO | 2025-06-27 16:01:06,122 | RML content is created!\n",
      "2025-06-27 16:01:06,131 | INFO: Mapping has been syntactically validated.\n",
      "INFO | 2025-06-27 16:01:06,131 | Mapping has been syntactically validated.\n",
      "2025-06-27 16:01:06,133 | INFO: Translation has finished successfully.\n",
      "INFO | 2025-06-27 16:01:06,133 | Translation has finished successfully.\n",
      "2025-06-27 16:01:06,143 | INFO: Translating YARRRML mapping to [R2]RML\n",
      "INFO | 2025-06-27 16:01:06,143 | Translating YARRRML mapping to [R2]RML\n",
      "2025-06-27 16:01:06,147 | INFO: RML content is created!\n",
      "INFO | 2025-06-27 16:01:06,147 | RML content is created!\n",
      "2025-06-27 16:01:06,155 | INFO: Mapping has been syntactically validated.\n",
      "INFO | 2025-06-27 16:01:06,155 | Mapping has been syntactically validated.\n",
      "2025-06-27 16:01:06,157 | INFO: Translation has finished successfully.\n",
      "INFO | 2025-06-27 16:01:06,157 | Translation has finished successfully.\n",
      "2025-06-27 16:01:06,165 | INFO: Translating YARRRML mapping to [R2]RML\n",
      "INFO | 2025-06-27 16:01:06,165 | Translating YARRRML mapping to [R2]RML\n",
      "2025-06-27 16:01:06,167 | INFO: RML content is created!\n",
      "INFO | 2025-06-27 16:01:06,167 | RML content is created!\n",
      "2025-06-27 16:01:06,173 | INFO: Mapping has been syntactically validated.\n",
      "INFO | 2025-06-27 16:01:06,173 | Mapping has been syntactically validated.\n",
      "2025-06-27 16:01:06,176 | INFO: Translation has finished successfully.\n",
      "INFO | 2025-06-27 16:01:06,176 | Translation has finished successfully.\n",
      "2025-06-27 16:01:06,185 | INFO: Translating YARRRML mapping to [R2]RML\n",
      "INFO | 2025-06-27 16:01:06,185 | Translating YARRRML mapping to [R2]RML\n",
      "2025-06-27 16:01:06,187 | INFO: RML content is created!\n",
      "INFO | 2025-06-27 16:01:06,187 | RML content is created!\n",
      "2025-06-27 16:01:06,193 | INFO: Mapping has been syntactically validated.\n",
      "INFO | 2025-06-27 16:01:06,193 | Mapping has been syntactically validated.\n",
      "2025-06-27 16:01:06,195 | INFO: Translation has finished successfully.\n",
      "INFO | 2025-06-27 16:01:06,195 | Translation has finished successfully.\n",
      "2025-06-27 16:01:06,206 | INFO: Translating YARRRML mapping to [R2]RML\n",
      "INFO | 2025-06-27 16:01:06,206 | Translating YARRRML mapping to [R2]RML\n",
      "2025-06-27 16:01:06,208 | INFO: RML content is created!\n",
      "INFO | 2025-06-27 16:01:06,208 | RML content is created!\n",
      "2025-06-27 16:01:06,214 | INFO: Mapping has been syntactically validated.\n",
      "INFO | 2025-06-27 16:01:06,214 | Mapping has been syntactically validated.\n",
      "2025-06-27 16:01:06,215 | INFO: Translation has finished successfully.\n",
      "INFO | 2025-06-27 16:01:06,215 | Translation has finished successfully.\n",
      "2025-06-27 16:01:06,223 | INFO: Translating YARRRML mapping to [R2]RML\n",
      "INFO | 2025-06-27 16:01:06,223 | Translating YARRRML mapping to [R2]RML\n",
      "2025-06-27 16:01:06,224 | INFO: RML content is created!\n",
      "INFO | 2025-06-27 16:01:06,224 | RML content is created!\n",
      "2025-06-27 16:01:06,230 | INFO: Mapping has been syntactically validated.\n",
      "INFO | 2025-06-27 16:01:06,230 | Mapping has been syntactically validated.\n",
      "2025-06-27 16:01:06,231 | INFO: Translation has finished successfully.\n",
      "INFO | 2025-06-27 16:01:06,231 | Translation has finished successfully.\n",
      " 92%|█████████▏| 290/316 [00:05<00:00, 50.33it/s]2025-06-27 16:01:06,239 | INFO: Translating YARRRML mapping to [R2]RML\n",
      "INFO | 2025-06-27 16:01:06,239 | Translating YARRRML mapping to [R2]RML\n",
      "2025-06-27 16:01:06,241 | INFO: RML content is created!\n",
      "INFO | 2025-06-27 16:01:06,241 | RML content is created!\n",
      "2025-06-27 16:01:06,246 | INFO: Mapping has been syntactically validated.\n",
      "INFO | 2025-06-27 16:01:06,246 | Mapping has been syntactically validated.\n",
      "2025-06-27 16:01:06,248 | INFO: Translation has finished successfully.\n",
      "INFO | 2025-06-27 16:01:06,248 | Translation has finished successfully.\n",
      "2025-06-27 16:01:06,255 | INFO: Translating YARRRML mapping to [R2]RML\n",
      "INFO | 2025-06-27 16:01:06,255 | Translating YARRRML mapping to [R2]RML\n",
      "2025-06-27 16:01:06,257 | INFO: RML content is created!\n",
      "INFO | 2025-06-27 16:01:06,257 | RML content is created!\n",
      "2025-06-27 16:01:06,264 | INFO: Mapping has been syntactically validated.\n",
      "INFO | 2025-06-27 16:01:06,264 | Mapping has been syntactically validated.\n",
      "2025-06-27 16:01:06,267 | INFO: Translation has finished successfully.\n",
      "INFO | 2025-06-27 16:01:06,267 | Translation has finished successfully.\n",
      "2025-06-27 16:01:06,274 | INFO: Translating YARRRML mapping to [R2]RML\n",
      "INFO | 2025-06-27 16:01:06,274 | Translating YARRRML mapping to [R2]RML\n",
      "2025-06-27 16:01:06,276 | INFO: RML content is created!\n",
      "INFO | 2025-06-27 16:01:06,276 | RML content is created!\n",
      "2025-06-27 16:01:06,286 | INFO: Mapping has been syntactically validated.\n",
      "INFO | 2025-06-27 16:01:06,286 | Mapping has been syntactically validated.\n",
      "2025-06-27 16:01:06,288 | INFO: Translation has finished successfully.\n",
      "INFO | 2025-06-27 16:01:06,288 | Translation has finished successfully.\n",
      "2025-06-27 16:01:06,297 | INFO: Translating YARRRML mapping to [R2]RML\n",
      "INFO | 2025-06-27 16:01:06,297 | Translating YARRRML mapping to [R2]RML\n",
      "2025-06-27 16:01:06,299 | INFO: RML content is created!\n",
      "INFO | 2025-06-27 16:01:06,299 | RML content is created!\n",
      "2025-06-27 16:01:06,306 | INFO: Mapping has been syntactically validated.\n",
      "INFO | 2025-06-27 16:01:06,306 | Mapping has been syntactically validated.\n",
      "2025-06-27 16:01:06,307 | INFO: Translation has finished successfully.\n",
      "INFO | 2025-06-27 16:01:06,307 | Translation has finished successfully.\n",
      "2025-06-27 16:01:06,316 | INFO: Translating YARRRML mapping to [R2]RML\n",
      "INFO | 2025-06-27 16:01:06,316 | Translating YARRRML mapping to [R2]RML\n",
      "2025-06-27 16:01:06,318 | INFO: RML content is created!\n",
      "INFO | 2025-06-27 16:01:06,318 | RML content is created!\n",
      "2025-06-27 16:01:06,324 | INFO: Mapping has been syntactically validated.\n",
      "INFO | 2025-06-27 16:01:06,324 | Mapping has been syntactically validated.\n",
      "2025-06-27 16:01:06,325 | INFO: Translation has finished successfully.\n",
      "INFO | 2025-06-27 16:01:06,325 | Translation has finished successfully.\n",
      "2025-06-27 16:01:06,333 | INFO: Translating YARRRML mapping to [R2]RML\n",
      "INFO | 2025-06-27 16:01:06,333 | Translating YARRRML mapping to [R2]RML\n",
      "2025-06-27 16:01:06,335 | INFO: RML content is created!\n",
      "INFO | 2025-06-27 16:01:06,335 | RML content is created!\n",
      "2025-06-27 16:01:06,342 | INFO: Mapping has been syntactically validated.\n",
      "INFO | 2025-06-27 16:01:06,342 | Mapping has been syntactically validated.\n",
      "2025-06-27 16:01:06,343 | INFO: Translation has finished successfully.\n",
      "INFO | 2025-06-27 16:01:06,343 | Translation has finished successfully.\n",
      " 94%|█████████▎| 296/316 [00:05<00:00, 51.26it/s]2025-06-27 16:01:06,353 | INFO: Translating YARRRML mapping to [R2]RML\n",
      "INFO | 2025-06-27 16:01:06,353 | Translating YARRRML mapping to [R2]RML\n",
      "2025-06-27 16:01:06,354 | INFO: RML content is created!\n",
      "INFO | 2025-06-27 16:01:06,354 | RML content is created!\n",
      "2025-06-27 16:01:06,360 | INFO: Mapping has been syntactically validated.\n",
      "INFO | 2025-06-27 16:01:06,360 | Mapping has been syntactically validated.\n",
      "2025-06-27 16:01:06,365 | INFO: Translation has finished successfully.\n",
      "INFO | 2025-06-27 16:01:06,365 | Translation has finished successfully.\n",
      "2025-06-27 16:01:06,372 | INFO: Translating YARRRML mapping to [R2]RML\n",
      "INFO | 2025-06-27 16:01:06,372 | Translating YARRRML mapping to [R2]RML\n",
      "2025-06-27 16:01:06,374 | INFO: RML content is created!\n",
      "INFO | 2025-06-27 16:01:06,374 | RML content is created!\n",
      "2025-06-27 16:01:06,380 | INFO: Mapping has been syntactically validated.\n",
      "INFO | 2025-06-27 16:01:06,380 | Mapping has been syntactically validated.\n",
      "2025-06-27 16:01:06,381 | INFO: Translation has finished successfully.\n",
      "INFO | 2025-06-27 16:01:06,381 | Translation has finished successfully.\n",
      "2025-06-27 16:01:06,390 | INFO: Translating YARRRML mapping to [R2]RML\n",
      "INFO | 2025-06-27 16:01:06,390 | Translating YARRRML mapping to [R2]RML\n",
      "2025-06-27 16:01:06,391 | INFO: RML content is created!\n",
      "INFO | 2025-06-27 16:01:06,391 | RML content is created!\n",
      "2025-06-27 16:01:06,397 | INFO: Mapping has been syntactically validated.\n",
      "INFO | 2025-06-27 16:01:06,397 | Mapping has been syntactically validated.\n",
      "2025-06-27 16:01:06,398 | INFO: Translation has finished successfully.\n",
      "INFO | 2025-06-27 16:01:06,398 | Translation has finished successfully.\n",
      "2025-06-27 16:01:06,408 | INFO: Translating YARRRML mapping to [R2]RML\n",
      "INFO | 2025-06-27 16:01:06,408 | Translating YARRRML mapping to [R2]RML\n",
      "2025-06-27 16:01:06,411 | INFO: RML content is created!\n",
      "INFO | 2025-06-27 16:01:06,411 | RML content is created!\n",
      "2025-06-27 16:01:06,419 | INFO: Mapping has been syntactically validated.\n",
      "INFO | 2025-06-27 16:01:06,419 | Mapping has been syntactically validated.\n",
      "2025-06-27 16:01:06,420 | INFO: Translation has finished successfully.\n",
      "INFO | 2025-06-27 16:01:06,420 | Translation has finished successfully.\n",
      "2025-06-27 16:01:06,427 | INFO: Translating YARRRML mapping to [R2]RML\n",
      "INFO | 2025-06-27 16:01:06,427 | Translating YARRRML mapping to [R2]RML\n",
      "2025-06-27 16:01:06,429 | INFO: RML content is created!\n",
      "INFO | 2025-06-27 16:01:06,429 | RML content is created!\n",
      "2025-06-27 16:01:06,435 | INFO: Mapping has been syntactically validated.\n",
      "INFO | 2025-06-27 16:01:06,435 | Mapping has been syntactically validated.\n",
      "2025-06-27 16:01:06,438 | INFO: Translation has finished successfully.\n",
      "INFO | 2025-06-27 16:01:06,438 | Translation has finished successfully.\n",
      "2025-06-27 16:01:06,446 | INFO: Translating YARRRML mapping to [R2]RML\n",
      "INFO | 2025-06-27 16:01:06,446 | Translating YARRRML mapping to [R2]RML\n",
      "2025-06-27 16:01:06,447 | INFO: RML content is created!\n",
      "INFO | 2025-06-27 16:01:06,447 | RML content is created!\n",
      "2025-06-27 16:01:06,453 | INFO: Mapping has been syntactically validated.\n",
      "INFO | 2025-06-27 16:01:06,453 | Mapping has been syntactically validated.\n",
      "2025-06-27 16:01:06,454 | INFO: Translation has finished successfully.\n",
      "INFO | 2025-06-27 16:01:06,454 | Translation has finished successfully.\n",
      " 96%|█████████▌| 302/316 [00:06<00:00, 52.09it/s]2025-06-27 16:01:06,464 | INFO: Translating YARRRML mapping to [R2]RML\n",
      "INFO | 2025-06-27 16:01:06,464 | Translating YARRRML mapping to [R2]RML\n",
      "2025-06-27 16:01:06,466 | INFO: RML content is created!\n",
      "INFO | 2025-06-27 16:01:06,466 | RML content is created!\n",
      "2025-06-27 16:01:06,471 | INFO: Mapping has been syntactically validated.\n",
      "INFO | 2025-06-27 16:01:06,471 | Mapping has been syntactically validated.\n",
      "2025-06-27 16:01:06,473 | INFO: Translation has finished successfully.\n",
      "INFO | 2025-06-27 16:01:06,473 | Translation has finished successfully.\n",
      "2025-06-27 16:01:06,484 | INFO: Translating YARRRML mapping to [R2]RML\n",
      "INFO | 2025-06-27 16:01:06,484 | Translating YARRRML mapping to [R2]RML\n",
      "2025-06-27 16:01:06,487 | INFO: RML content is created!\n",
      "INFO | 2025-06-27 16:01:06,487 | RML content is created!\n",
      "2025-06-27 16:01:06,494 | INFO: Mapping has been syntactically validated.\n",
      "INFO | 2025-06-27 16:01:06,494 | Mapping has been syntactically validated.\n",
      "2025-06-27 16:01:06,495 | INFO: Translation has finished successfully.\n",
      "INFO | 2025-06-27 16:01:06,495 | Translation has finished successfully.\n",
      "2025-06-27 16:01:06,503 | INFO: Translating YARRRML mapping to [R2]RML\n",
      "INFO | 2025-06-27 16:01:06,503 | Translating YARRRML mapping to [R2]RML\n",
      "2025-06-27 16:01:06,505 | INFO: RML content is created!\n",
      "INFO | 2025-06-27 16:01:06,505 | RML content is created!\n",
      "2025-06-27 16:01:06,511 | INFO: Mapping has been syntactically validated.\n",
      "INFO | 2025-06-27 16:01:06,511 | Mapping has been syntactically validated.\n",
      "2025-06-27 16:01:06,512 | INFO: Translation has finished successfully.\n",
      "INFO | 2025-06-27 16:01:06,512 | Translation has finished successfully.\n",
      "2025-06-27 16:01:06,522 | INFO: Translating YARRRML mapping to [R2]RML\n",
      "INFO | 2025-06-27 16:01:06,522 | Translating YARRRML mapping to [R2]RML\n",
      "2025-06-27 16:01:06,523 | INFO: RML content is created!\n",
      "INFO | 2025-06-27 16:01:06,523 | RML content is created!\n",
      "2025-06-27 16:01:06,529 | INFO: Mapping has been syntactically validated.\n",
      "INFO | 2025-06-27 16:01:06,529 | Mapping has been syntactically validated.\n",
      "2025-06-27 16:01:06,531 | INFO: Translation has finished successfully.\n",
      "INFO | 2025-06-27 16:01:06,531 | Translation has finished successfully.\n",
      "2025-06-27 16:01:06,539 | INFO: Translating YARRRML mapping to [R2]RML\n",
      "INFO | 2025-06-27 16:01:06,539 | Translating YARRRML mapping to [R2]RML\n",
      "2025-06-27 16:01:06,541 | INFO: RML content is created!\n",
      "INFO | 2025-06-27 16:01:06,541 | RML content is created!\n",
      "2025-06-27 16:01:06,547 | INFO: Mapping has been syntactically validated.\n",
      "INFO | 2025-06-27 16:01:06,547 | Mapping has been syntactically validated.\n",
      "2025-06-27 16:01:06,548 | INFO: Translation has finished successfully.\n",
      "INFO | 2025-06-27 16:01:06,548 | Translation has finished successfully.\n",
      "2025-06-27 16:01:06,558 | INFO: Translating YARRRML mapping to [R2]RML\n",
      "INFO | 2025-06-27 16:01:06,558 | Translating YARRRML mapping to [R2]RML\n",
      "2025-06-27 16:01:06,559 | INFO: RML content is created!\n",
      "INFO | 2025-06-27 16:01:06,559 | RML content is created!\n",
      "2025-06-27 16:01:06,568 | INFO: Mapping has been syntactically validated.\n",
      "INFO | 2025-06-27 16:01:06,568 | Mapping has been syntactically validated.\n",
      "2025-06-27 16:01:06,570 | INFO: Translation has finished successfully.\n",
      "INFO | 2025-06-27 16:01:06,570 | Translation has finished successfully.\n",
      " 97%|█████████▋| 308/316 [00:06<00:00, 51.89it/s]2025-06-27 16:01:06,586 | INFO: Translating YARRRML mapping to [R2]RML\n",
      "INFO | 2025-06-27 16:01:06,586 | Translating YARRRML mapping to [R2]RML\n",
      "2025-06-27 16:01:06,588 | INFO: RML content is created!\n",
      "INFO | 2025-06-27 16:01:06,588 | RML content is created!\n",
      "2025-06-27 16:01:06,598 | INFO: Mapping has been syntactically validated.\n",
      "INFO | 2025-06-27 16:01:06,598 | Mapping has been syntactically validated.\n",
      "2025-06-27 16:01:06,599 | INFO: Translation has finished successfully.\n",
      "INFO | 2025-06-27 16:01:06,599 | Translation has finished successfully.\n",
      "2025-06-27 16:01:06,609 | INFO: Translating YARRRML mapping to [R2]RML\n",
      "INFO | 2025-06-27 16:01:06,609 | Translating YARRRML mapping to [R2]RML\n",
      "2025-06-27 16:01:06,613 | INFO: RML content is created!\n",
      "INFO | 2025-06-27 16:01:06,613 | RML content is created!\n",
      "2025-06-27 16:01:06,620 | INFO: Mapping has been syntactically validated.\n",
      "INFO | 2025-06-27 16:01:06,620 | Mapping has been syntactically validated.\n",
      "2025-06-27 16:01:06,621 | INFO: Translation has finished successfully.\n",
      "INFO | 2025-06-27 16:01:06,621 | Translation has finished successfully.\n",
      "2025-06-27 16:01:06,629 | INFO: Translating YARRRML mapping to [R2]RML\n",
      "INFO | 2025-06-27 16:01:06,629 | Translating YARRRML mapping to [R2]RML\n",
      "2025-06-27 16:01:06,631 | INFO: RML content is created!\n",
      "INFO | 2025-06-27 16:01:06,631 | RML content is created!\n",
      "2025-06-27 16:01:06,638 | INFO: Mapping has been syntactically validated.\n",
      "INFO | 2025-06-27 16:01:06,638 | Mapping has been syntactically validated.\n",
      "2025-06-27 16:01:06,640 | INFO: Translation has finished successfully.\n",
      "INFO | 2025-06-27 16:01:06,640 | Translation has finished successfully.\n",
      "2025-06-27 16:01:06,653 | INFO: Translating YARRRML mapping to [R2]RML\n",
      "INFO | 2025-06-27 16:01:06,653 | Translating YARRRML mapping to [R2]RML\n",
      "2025-06-27 16:01:06,655 | INFO: RML content is created!\n",
      "INFO | 2025-06-27 16:01:06,655 | RML content is created!\n",
      "2025-06-27 16:01:06,660 | INFO: Mapping has been syntactically validated.\n",
      "INFO | 2025-06-27 16:01:06,660 | Mapping has been syntactically validated.\n",
      "2025-06-27 16:01:06,661 | INFO: Translation has finished successfully.\n",
      "INFO | 2025-06-27 16:01:06,661 | Translation has finished successfully.\n",
      "2025-06-27 16:01:06,668 | INFO: Translating YARRRML mapping to [R2]RML\n",
      "INFO | 2025-06-27 16:01:06,668 | Translating YARRRML mapping to [R2]RML\n",
      "2025-06-27 16:01:06,670 | INFO: RML content is created!\n",
      "INFO | 2025-06-27 16:01:06,670 | RML content is created!\n",
      "2025-06-27 16:01:06,676 | INFO: Mapping has been syntactically validated.\n",
      "INFO | 2025-06-27 16:01:06,676 | Mapping has been syntactically validated.\n",
      "2025-06-27 16:01:06,678 | INFO: Translation has finished successfully.\n",
      "INFO | 2025-06-27 16:01:06,678 | Translation has finished successfully.\n",
      "2025-06-27 16:01:06,686 | INFO: Translating YARRRML mapping to [R2]RML\n",
      "INFO | 2025-06-27 16:01:06,686 | Translating YARRRML mapping to [R2]RML\n",
      "2025-06-27 16:01:06,688 | INFO: RML content is created!\n",
      "INFO | 2025-06-27 16:01:06,688 | RML content is created!\n",
      "2025-06-27 16:01:06,694 | INFO: Mapping has been syntactically validated.\n",
      "INFO | 2025-06-27 16:01:06,694 | Mapping has been syntactically validated.\n",
      "2025-06-27 16:01:06,696 | INFO: Translation has finished successfully.\n",
      "INFO | 2025-06-27 16:01:06,696 | Translation has finished successfully.\n",
      " 99%|█████████▉| 314/316 [00:06<00:00, 50.64it/s]2025-06-27 16:01:06,707 | INFO: Translating YARRRML mapping to [R2]RML\n",
      "INFO | 2025-06-27 16:01:06,707 | Translating YARRRML mapping to [R2]RML\n",
      "2025-06-27 16:01:06,709 | INFO: RML content is created!\n",
      "INFO | 2025-06-27 16:01:06,709 | RML content is created!\n",
      "2025-06-27 16:01:06,715 | INFO: Mapping has been syntactically validated.\n",
      "INFO | 2025-06-27 16:01:06,715 | Mapping has been syntactically validated.\n",
      "2025-06-27 16:01:06,717 | INFO: Translation has finished successfully.\n",
      "INFO | 2025-06-27 16:01:06,717 | Translation has finished successfully.\n",
      "2025-06-27 16:01:06,725 | INFO: Translating YARRRML mapping to [R2]RML\n",
      "INFO | 2025-06-27 16:01:06,725 | Translating YARRRML mapping to [R2]RML\n",
      "2025-06-27 16:01:06,727 | INFO: RML content is created!\n",
      "INFO | 2025-06-27 16:01:06,727 | RML content is created!\n",
      "2025-06-27 16:01:06,733 | INFO: Mapping has been syntactically validated.\n",
      "INFO | 2025-06-27 16:01:06,733 | Mapping has been syntactically validated.\n",
      "2025-06-27 16:01:06,734 | INFO: Translation has finished successfully.\n",
      "INFO | 2025-06-27 16:01:06,734 | Translation has finished successfully.\n",
      "100%|██████████| 316/316 [00:06<00:00, 50.15it/s]\n"
     ]
    },
    {
     "name": "stdout",
     "output_type": "stream",
     "text": [
      "Mappings built.\n",
      "Generating knowledge graph...\n"
     ]
    },
    {
     "name": "stderr",
     "output_type": "stream",
     "text": [
      "INFO | 2025-06-27 16:01:07,239 | 9 mapping rules retrieved.\n",
      "INFO | 2025-06-27 16:01:07,250 | Mapping partition with 9 groups generated.\n",
      "INFO | 2025-06-27 16:01:07,251 | Maximum number of rules within mapping group: 1.\n",
      "INFO | 2025-06-27 16:01:07,252 | Mappings processed in 0.511 seconds.\n",
      "INFO | 2025-06-27 16:01:09,177 | Number of triples generated in total: 20096.\n"
     ]
    },
    {
     "name": "stdout",
     "output_type": "stream",
     "text": [
      "Knowledge graph generated.\n",
      "Knowledge graph 1/316 generated.\n",
      "Generating knowledge graph...\n"
     ]
    },
    {
     "name": "stderr",
     "output_type": "stream",
     "text": [
      "INFO | 2025-06-27 16:01:10,080 | 9 mapping rules retrieved.\n",
      "INFO | 2025-06-27 16:01:10,091 | Mapping partition with 9 groups generated.\n",
      "INFO | 2025-06-27 16:01:10,092 | Maximum number of rules within mapping group: 1.\n",
      "INFO | 2025-06-27 16:01:10,093 | Mappings processed in 0.456 seconds.\n",
      "INFO | 2025-06-27 16:01:11,974 | Number of triples generated in total: 20011.\n"
     ]
    },
    {
     "name": "stdout",
     "output_type": "stream",
     "text": [
      "Knowledge graph generated.\n",
      "Knowledge graph 2/316 generated.\n",
      "Generating knowledge graph...\n"
     ]
    },
    {
     "name": "stderr",
     "output_type": "stream",
     "text": [
      "INFO | 2025-06-27 16:01:13,052 | 9 mapping rules retrieved.\n",
      "INFO | 2025-06-27 16:01:13,063 | Mapping partition with 9 groups generated.\n",
      "INFO | 2025-06-27 16:01:13,065 | Maximum number of rules within mapping group: 1.\n",
      "INFO | 2025-06-27 16:01:13,065 | Mappings processed in 0.458 seconds.\n",
      "INFO | 2025-06-27 16:01:14,559 | Number of triples generated in total: 20040.\n"
     ]
    },
    {
     "name": "stdout",
     "output_type": "stream",
     "text": [
      "Knowledge graph generated.\n",
      "Knowledge graph 3/316 generated.\n",
      "Generating knowledge graph...\n"
     ]
    },
    {
     "name": "stderr",
     "output_type": "stream",
     "text": [
      "INFO | 2025-06-27 16:01:15,639 | 9 mapping rules retrieved.\n",
      "INFO | 2025-06-27 16:01:15,650 | Mapping partition with 9 groups generated.\n",
      "INFO | 2025-06-27 16:01:15,651 | Maximum number of rules within mapping group: 1.\n",
      "INFO | 2025-06-27 16:01:15,652 | Mappings processed in 0.455 seconds.\n",
      "INFO | 2025-06-27 16:01:17,249 | Number of triples generated in total: 19634.\n"
     ]
    },
    {
     "name": "stdout",
     "output_type": "stream",
     "text": [
      "Knowledge graph generated.\n",
      "Knowledge graph 4/316 generated.\n",
      "Generating knowledge graph...\n"
     ]
    },
    {
     "name": "stderr",
     "output_type": "stream",
     "text": [
      "INFO | 2025-06-27 16:01:18,390 | 9 mapping rules retrieved.\n",
      "INFO | 2025-06-27 16:01:18,400 | Mapping partition with 9 groups generated.\n",
      "INFO | 2025-06-27 16:01:18,401 | Maximum number of rules within mapping group: 1.\n",
      "INFO | 2025-06-27 16:01:18,402 | Mappings processed in 0.477 seconds.\n",
      "INFO | 2025-06-27 16:01:19,911 | Number of triples generated in total: 19954.\n"
     ]
    },
    {
     "name": "stdout",
     "output_type": "stream",
     "text": [
      "Knowledge graph generated.\n",
      "Knowledge graph 5/316 generated.\n",
      "Generating knowledge graph...\n"
     ]
    },
    {
     "name": "stderr",
     "output_type": "stream",
     "text": [
      "INFO | 2025-06-27 16:01:20,795 | 9 mapping rules retrieved.\n",
      "INFO | 2025-06-27 16:01:20,807 | Mapping partition with 9 groups generated.\n",
      "INFO | 2025-06-27 16:01:20,808 | Maximum number of rules within mapping group: 1.\n",
      "INFO | 2025-06-27 16:01:20,809 | Mappings processed in 0.452 seconds.\n",
      "INFO | 2025-06-27 16:01:22,364 | Number of triples generated in total: 17839.\n"
     ]
    },
    {
     "name": "stdout",
     "output_type": "stream",
     "text": [
      "Knowledge graph generated.\n",
      "Knowledge graph 6/316 generated.\n",
      "Generating knowledge graph...\n"
     ]
    },
    {
     "name": "stderr",
     "output_type": "stream",
     "text": [
      "INFO | 2025-06-27 16:01:23,505 | 9 mapping rules retrieved.\n",
      "INFO | 2025-06-27 16:01:23,516 | Mapping partition with 9 groups generated.\n",
      "INFO | 2025-06-27 16:01:23,517 | Maximum number of rules within mapping group: 1.\n",
      "INFO | 2025-06-27 16:01:23,518 | Mappings processed in 0.456 seconds.\n",
      "INFO | 2025-06-27 16:01:25,019 | Number of triples generated in total: 18709.\n"
     ]
    },
    {
     "name": "stdout",
     "output_type": "stream",
     "text": [
      "Knowledge graph generated.\n",
      "Knowledge graph 7/316 generated.\n",
      "Generating knowledge graph...\n"
     ]
    },
    {
     "name": "stderr",
     "output_type": "stream",
     "text": [
      "INFO | 2025-06-27 16:01:25,889 | 9 mapping rules retrieved.\n",
      "INFO | 2025-06-27 16:01:25,900 | Mapping partition with 9 groups generated.\n",
      "INFO | 2025-06-27 16:01:25,901 | Maximum number of rules within mapping group: 1.\n",
      "INFO | 2025-06-27 16:01:25,902 | Mappings processed in 0.461 seconds.\n",
      "INFO | 2025-06-27 16:01:27,397 | Number of triples generated in total: 19350.\n"
     ]
    },
    {
     "name": "stdout",
     "output_type": "stream",
     "text": [
      "Knowledge graph generated.\n",
      "Knowledge graph 8/316 generated.\n",
      "Generating knowledge graph...\n"
     ]
    },
    {
     "name": "stderr",
     "output_type": "stream",
     "text": [
      "INFO | 2025-06-27 16:01:28,658 | 9 mapping rules retrieved.\n",
      "INFO | 2025-06-27 16:01:28,669 | Mapping partition with 9 groups generated.\n",
      "INFO | 2025-06-27 16:01:28,670 | Maximum number of rules within mapping group: 1.\n",
      "INFO | 2025-06-27 16:01:28,671 | Mappings processed in 0.476 seconds.\n",
      "INFO | 2025-06-27 16:01:30,199 | Number of triples generated in total: 20411.\n"
     ]
    },
    {
     "name": "stdout",
     "output_type": "stream",
     "text": [
      "Knowledge graph generated.\n",
      "Knowledge graph 9/316 generated.\n",
      "Generating knowledge graph...\n"
     ]
    },
    {
     "name": "stderr",
     "output_type": "stream",
     "text": [
      "INFO | 2025-06-27 16:01:31,118 | 9 mapping rules retrieved.\n",
      "INFO | 2025-06-27 16:01:31,129 | Mapping partition with 9 groups generated.\n",
      "INFO | 2025-06-27 16:01:31,130 | Maximum number of rules within mapping group: 1.\n",
      "INFO | 2025-06-27 16:01:31,131 | Mappings processed in 0.451 seconds.\n",
      "INFO | 2025-06-27 16:01:32,682 | Number of triples generated in total: 20290.\n"
     ]
    },
    {
     "name": "stdout",
     "output_type": "stream",
     "text": [
      "Knowledge graph generated.\n",
      "Knowledge graph 10/316 generated.\n",
      "Generating knowledge graph...\n"
     ]
    },
    {
     "name": "stderr",
     "output_type": "stream",
     "text": [
      "INFO | 2025-06-27 16:01:34,018 | 9 mapping rules retrieved.\n",
      "INFO | 2025-06-27 16:01:34,029 | Mapping partition with 9 groups generated.\n",
      "INFO | 2025-06-27 16:01:34,031 | Maximum number of rules within mapping group: 1.\n",
      "INFO | 2025-06-27 16:01:34,032 | Mappings processed in 0.460 seconds.\n",
      "INFO | 2025-06-27 16:01:35,539 | Number of triples generated in total: 18840.\n"
     ]
    },
    {
     "name": "stdout",
     "output_type": "stream",
     "text": [
      "Knowledge graph generated.\n",
      "Knowledge graph 11/316 generated.\n",
      "Generating knowledge graph...\n"
     ]
    },
    {
     "name": "stderr",
     "output_type": "stream",
     "text": [
      "INFO | 2025-06-27 16:01:36,416 | 9 mapping rules retrieved.\n",
      "INFO | 2025-06-27 16:01:36,427 | Mapping partition with 9 groups generated.\n",
      "INFO | 2025-06-27 16:01:36,428 | Maximum number of rules within mapping group: 1.\n",
      "INFO | 2025-06-27 16:01:36,429 | Mappings processed in 0.465 seconds.\n",
      "INFO | 2025-06-27 16:01:37,929 | Number of triples generated in total: 20943.\n"
     ]
    },
    {
     "name": "stdout",
     "output_type": "stream",
     "text": [
      "Knowledge graph generated.\n",
      "Knowledge graph 12/316 generated.\n",
      "Generating knowledge graph...\n"
     ]
    },
    {
     "name": "stderr",
     "output_type": "stream",
     "text": [
      "INFO | 2025-06-27 16:01:38,832 | 9 mapping rules retrieved.\n",
      "INFO | 2025-06-27 16:01:38,843 | Mapping partition with 9 groups generated.\n",
      "INFO | 2025-06-27 16:01:38,845 | Maximum number of rules within mapping group: 1.\n",
      "INFO | 2025-06-27 16:01:38,845 | Mappings processed in 0.458 seconds.\n",
      "INFO | 2025-06-27 16:01:40,348 | Number of triples generated in total: 19569.\n"
     ]
    },
    {
     "name": "stdout",
     "output_type": "stream",
     "text": [
      "Knowledge graph generated.\n",
      "Knowledge graph 13/316 generated.\n",
      "Generating knowledge graph...\n"
     ]
    },
    {
     "name": "stderr",
     "output_type": "stream",
     "text": [
      "INFO | 2025-06-27 16:01:41,772 | 9 mapping rules retrieved.\n",
      "INFO | 2025-06-27 16:01:41,784 | Mapping partition with 9 groups generated.\n",
      "INFO | 2025-06-27 16:01:41,785 | Maximum number of rules within mapping group: 1.\n",
      "INFO | 2025-06-27 16:01:41,785 | Mappings processed in 0.469 seconds.\n",
      "INFO | 2025-06-27 16:01:43,313 | Number of triples generated in total: 20743.\n"
     ]
    },
    {
     "name": "stdout",
     "output_type": "stream",
     "text": [
      "Knowledge graph generated.\n",
      "Knowledge graph 14/316 generated.\n",
      "Generating knowledge graph...\n"
     ]
    },
    {
     "name": "stderr",
     "output_type": "stream",
     "text": [
      "INFO | 2025-06-27 16:01:44,245 | 9 mapping rules retrieved.\n",
      "INFO | 2025-06-27 16:01:44,255 | Mapping partition with 9 groups generated.\n",
      "INFO | 2025-06-27 16:01:44,257 | Maximum number of rules within mapping group: 1.\n",
      "INFO | 2025-06-27 16:01:44,258 | Mappings processed in 0.460 seconds.\n",
      "INFO | 2025-06-27 16:01:45,754 | Number of triples generated in total: 19992.\n"
     ]
    },
    {
     "name": "stdout",
     "output_type": "stream",
     "text": [
      "Knowledge graph generated.\n",
      "Knowledge graph 15/316 generated.\n",
      "Generating knowledge graph...\n"
     ]
    },
    {
     "name": "stderr",
     "output_type": "stream",
     "text": [
      "INFO | 2025-06-27 16:01:46,643 | 9 mapping rules retrieved.\n",
      "INFO | 2025-06-27 16:01:46,654 | Mapping partition with 9 groups generated.\n",
      "INFO | 2025-06-27 16:01:46,656 | Maximum number of rules within mapping group: 1.\n",
      "INFO | 2025-06-27 16:01:46,656 | Mappings processed in 0.459 seconds.\n",
      "INFO | 2025-06-27 16:01:48,195 | Number of triples generated in total: 18802.\n"
     ]
    },
    {
     "name": "stdout",
     "output_type": "stream",
     "text": [
      "Knowledge graph generated.\n",
      "Knowledge graph 16/316 generated.\n",
      "Generating knowledge graph...\n"
     ]
    },
    {
     "name": "stderr",
     "output_type": "stream",
     "text": [
      "INFO | 2025-06-27 16:01:49,695 | 9 mapping rules retrieved.\n",
      "INFO | 2025-06-27 16:01:49,708 | Mapping partition with 9 groups generated.\n",
      "INFO | 2025-06-27 16:01:49,709 | Maximum number of rules within mapping group: 1.\n",
      "INFO | 2025-06-27 16:01:49,710 | Mappings processed in 0.468 seconds.\n",
      "INFO | 2025-06-27 16:01:51,232 | Number of triples generated in total: 19005.\n"
     ]
    },
    {
     "name": "stdout",
     "output_type": "stream",
     "text": [
      "Knowledge graph generated.\n",
      "Knowledge graph 17/316 generated.\n",
      "Generating knowledge graph...\n"
     ]
    },
    {
     "name": "stderr",
     "output_type": "stream",
     "text": [
      "INFO | 2025-06-27 16:01:52,136 | 9 mapping rules retrieved.\n",
      "INFO | 2025-06-27 16:01:52,148 | Mapping partition with 9 groups generated.\n",
      "INFO | 2025-06-27 16:01:52,149 | Maximum number of rules within mapping group: 1.\n",
      "INFO | 2025-06-27 16:01:52,150 | Mappings processed in 0.494 seconds.\n",
      "INFO | 2025-06-27 16:01:53,763 | Number of triples generated in total: 20627.\n"
     ]
    },
    {
     "name": "stdout",
     "output_type": "stream",
     "text": [
      "Knowledge graph generated.\n",
      "Knowledge graph 18/316 generated.\n",
      "Generating knowledge graph...\n"
     ]
    },
    {
     "name": "stderr",
     "output_type": "stream",
     "text": [
      "INFO | 2025-06-27 16:01:54,717 | 9 mapping rules retrieved.\n",
      "INFO | 2025-06-27 16:01:54,729 | Mapping partition with 9 groups generated.\n",
      "INFO | 2025-06-27 16:01:54,731 | Maximum number of rules within mapping group: 1.\n",
      "INFO | 2025-06-27 16:01:54,731 | Mappings processed in 0.464 seconds.\n",
      "INFO | 2025-06-27 16:01:56,260 | Number of triples generated in total: 18565.\n"
     ]
    },
    {
     "name": "stdout",
     "output_type": "stream",
     "text": [
      "Knowledge graph generated.\n",
      "Knowledge graph 19/316 generated.\n",
      "Generating knowledge graph...\n"
     ]
    },
    {
     "name": "stderr",
     "output_type": "stream",
     "text": [
      "INFO | 2025-06-27 16:01:57,147 | 9 mapping rules retrieved.\n",
      "INFO | 2025-06-27 16:01:57,158 | Mapping partition with 9 groups generated.\n",
      "INFO | 2025-06-27 16:01:57,159 | Maximum number of rules within mapping group: 1.\n",
      "INFO | 2025-06-27 16:01:57,160 | Mappings processed in 0.474 seconds.\n",
      "INFO | 2025-06-27 16:01:58,688 | Number of triples generated in total: 19447.\n"
     ]
    },
    {
     "name": "stdout",
     "output_type": "stream",
     "text": [
      "Knowledge graph generated.\n",
      "Knowledge graph 20/316 generated.\n",
      "Generating knowledge graph...\n"
     ]
    },
    {
     "name": "stderr",
     "output_type": "stream",
     "text": [
      "INFO | 2025-06-27 16:02:00,389 | 9 mapping rules retrieved.\n",
      "INFO | 2025-06-27 16:02:00,401 | Mapping partition with 9 groups generated.\n",
      "INFO | 2025-06-27 16:02:00,403 | Maximum number of rules within mapping group: 1.\n",
      "INFO | 2025-06-27 16:02:00,404 | Mappings processed in 0.503 seconds.\n",
      "INFO | 2025-06-27 16:02:01,961 | Number of triples generated in total: 19686.\n"
     ]
    },
    {
     "name": "stdout",
     "output_type": "stream",
     "text": [
      "Knowledge graph generated.\n",
      "Knowledge graph 21/316 generated.\n",
      "Generating knowledge graph...\n"
     ]
    },
    {
     "name": "stderr",
     "output_type": "stream",
     "text": [
      "INFO | 2025-06-27 16:02:02,877 | 9 mapping rules retrieved.\n",
      "INFO | 2025-06-27 16:02:02,888 | Mapping partition with 9 groups generated.\n",
      "INFO | 2025-06-27 16:02:02,889 | Maximum number of rules within mapping group: 1.\n",
      "INFO | 2025-06-27 16:02:02,890 | Mappings processed in 0.481 seconds.\n",
      "INFO | 2025-06-27 16:02:04,426 | Number of triples generated in total: 20092.\n"
     ]
    },
    {
     "name": "stdout",
     "output_type": "stream",
     "text": [
      "Knowledge graph generated.\n",
      "Knowledge graph 22/316 generated.\n",
      "Generating knowledge graph...\n"
     ]
    },
    {
     "name": "stderr",
     "output_type": "stream",
     "text": [
      "INFO | 2025-06-27 16:02:05,354 | 9 mapping rules retrieved.\n",
      "INFO | 2025-06-27 16:02:05,365 | Mapping partition with 9 groups generated.\n",
      "INFO | 2025-06-27 16:02:05,366 | Maximum number of rules within mapping group: 1.\n",
      "INFO | 2025-06-27 16:02:05,367 | Mappings processed in 0.476 seconds.\n",
      "INFO | 2025-06-27 16:02:06,886 | Number of triples generated in total: 18309.\n"
     ]
    },
    {
     "name": "stdout",
     "output_type": "stream",
     "text": [
      "Knowledge graph generated.\n",
      "Knowledge graph 23/316 generated.\n",
      "Generating knowledge graph...\n"
     ]
    },
    {
     "name": "stderr",
     "output_type": "stream",
     "text": [
      "INFO | 2025-06-27 16:02:07,732 | 9 mapping rules retrieved.\n",
      "INFO | 2025-06-27 16:02:07,744 | Mapping partition with 9 groups generated.\n",
      "INFO | 2025-06-27 16:02:07,745 | Maximum number of rules within mapping group: 1.\n",
      "INFO | 2025-06-27 16:02:07,745 | Mappings processed in 0.452 seconds.\n",
      "INFO | 2025-06-27 16:02:09,278 | Number of triples generated in total: 19047.\n"
     ]
    },
    {
     "name": "stdout",
     "output_type": "stream",
     "text": [
      "Knowledge graph generated.\n",
      "Knowledge graph 24/316 generated.\n",
      "Generating knowledge graph...\n"
     ]
    },
    {
     "name": "stderr",
     "output_type": "stream",
     "text": [
      "INFO | 2025-06-27 16:02:10,150 | 9 mapping rules retrieved.\n",
      "INFO | 2025-06-27 16:02:10,162 | Mapping partition with 9 groups generated.\n",
      "INFO | 2025-06-27 16:02:10,164 | Maximum number of rules within mapping group: 1.\n",
      "INFO | 2025-06-27 16:02:10,164 | Mappings processed in 0.454 seconds.\n",
      "INFO | 2025-06-27 16:02:11,669 | Number of triples generated in total: 19996.\n"
     ]
    },
    {
     "name": "stdout",
     "output_type": "stream",
     "text": [
      "Knowledge graph generated.\n",
      "Knowledge graph 25/316 generated.\n",
      "Generating knowledge graph...\n"
     ]
    },
    {
     "name": "stderr",
     "output_type": "stream",
     "text": [
      "INFO | 2025-06-27 16:02:13,582 | 9 mapping rules retrieved.\n",
      "INFO | 2025-06-27 16:02:13,593 | Mapping partition with 9 groups generated.\n",
      "INFO | 2025-06-27 16:02:13,594 | Maximum number of rules within mapping group: 1.\n",
      "INFO | 2025-06-27 16:02:13,595 | Mappings processed in 0.483 seconds.\n",
      "INFO | 2025-06-27 16:02:15,126 | Number of triples generated in total: 20387.\n"
     ]
    },
    {
     "name": "stdout",
     "output_type": "stream",
     "text": [
      "Knowledge graph generated.\n",
      "Knowledge graph 26/316 generated.\n",
      "Generating knowledge graph...\n"
     ]
    },
    {
     "name": "stderr",
     "output_type": "stream",
     "text": [
      "INFO | 2025-06-27 16:02:16,030 | 9 mapping rules retrieved.\n",
      "INFO | 2025-06-27 16:02:16,041 | Mapping partition with 9 groups generated.\n",
      "INFO | 2025-06-27 16:02:16,042 | Maximum number of rules within mapping group: 1.\n",
      "INFO | 2025-06-27 16:02:16,043 | Mappings processed in 0.457 seconds.\n",
      "INFO | 2025-06-27 16:02:17,576 | Number of triples generated in total: 19277.\n"
     ]
    },
    {
     "name": "stdout",
     "output_type": "stream",
     "text": [
      "Knowledge graph generated.\n",
      "Knowledge graph 27/316 generated.\n",
      "Generating knowledge graph...\n"
     ]
    },
    {
     "name": "stderr",
     "output_type": "stream",
     "text": [
      "INFO | 2025-06-27 16:02:18,537 | 9 mapping rules retrieved.\n",
      "INFO | 2025-06-27 16:02:18,547 | Mapping partition with 9 groups generated.\n",
      "INFO | 2025-06-27 16:02:18,549 | Maximum number of rules within mapping group: 1.\n",
      "INFO | 2025-06-27 16:02:18,550 | Mappings processed in 0.477 seconds.\n",
      "INFO | 2025-06-27 16:02:20,172 | Number of triples generated in total: 19797.\n"
     ]
    },
    {
     "name": "stdout",
     "output_type": "stream",
     "text": [
      "Knowledge graph generated.\n",
      "Knowledge graph 28/316 generated.\n",
      "Generating knowledge graph...\n"
     ]
    },
    {
     "name": "stderr",
     "output_type": "stream",
     "text": [
      "INFO | 2025-06-27 16:02:21,071 | 9 mapping rules retrieved.\n",
      "INFO | 2025-06-27 16:02:21,084 | Mapping partition with 9 groups generated.\n",
      "INFO | 2025-06-27 16:02:21,085 | Maximum number of rules within mapping group: 1.\n",
      "INFO | 2025-06-27 16:02:21,086 | Mappings processed in 0.459 seconds.\n",
      "INFO | 2025-06-27 16:02:22,711 | Number of triples generated in total: 20103.\n"
     ]
    },
    {
     "name": "stdout",
     "output_type": "stream",
     "text": [
      "Knowledge graph generated.\n",
      "Knowledge graph 29/316 generated.\n",
      "Generating knowledge graph...\n"
     ]
    },
    {
     "name": "stderr",
     "output_type": "stream",
     "text": [
      "INFO | 2025-06-27 16:02:23,611 | 9 mapping rules retrieved.\n",
      "INFO | 2025-06-27 16:02:23,621 | Mapping partition with 9 groups generated.\n",
      "INFO | 2025-06-27 16:02:23,623 | Maximum number of rules within mapping group: 1.\n",
      "INFO | 2025-06-27 16:02:23,623 | Mappings processed in 0.458 seconds.\n",
      "INFO | 2025-06-27 16:02:25,213 | Number of triples generated in total: 17832.\n"
     ]
    },
    {
     "name": "stdout",
     "output_type": "stream",
     "text": [
      "Knowledge graph generated.\n",
      "Knowledge graph 30/316 generated.\n",
      "Generating knowledge graph...\n"
     ]
    },
    {
     "name": "stderr",
     "output_type": "stream",
     "text": [
      "INFO | 2025-06-27 16:02:26,073 | 9 mapping rules retrieved.\n",
      "INFO | 2025-06-27 16:02:26,085 | Mapping partition with 9 groups generated.\n",
      "INFO | 2025-06-27 16:02:26,086 | Maximum number of rules within mapping group: 1.\n",
      "INFO | 2025-06-27 16:02:26,086 | Mappings processed in 0.469 seconds.\n",
      "INFO | 2025-06-27 16:02:27,853 | Number of triples generated in total: 19627.\n"
     ]
    },
    {
     "name": "stdout",
     "output_type": "stream",
     "text": [
      "Knowledge graph generated.\n",
      "Knowledge graph 31/316 generated.\n",
      "Generating knowledge graph...\n"
     ]
    },
    {
     "name": "stderr",
     "output_type": "stream",
     "text": [
      "INFO | 2025-06-27 16:02:28,786 | 9 mapping rules retrieved.\n",
      "INFO | 2025-06-27 16:02:28,798 | Mapping partition with 9 groups generated.\n",
      "INFO | 2025-06-27 16:02:28,799 | Maximum number of rules within mapping group: 1.\n",
      "INFO | 2025-06-27 16:02:28,800 | Mappings processed in 0.472 seconds.\n",
      "INFO | 2025-06-27 16:02:30,534 | Number of triples generated in total: 19095.\n"
     ]
    },
    {
     "name": "stdout",
     "output_type": "stream",
     "text": [
      "Knowledge graph generated.\n",
      "Knowledge graph 32/316 generated.\n",
      "Generating knowledge graph...\n"
     ]
    },
    {
     "name": "stderr",
     "output_type": "stream",
     "text": [
      "INFO | 2025-06-27 16:02:32,647 | 9 mapping rules retrieved.\n",
      "INFO | 2025-06-27 16:02:32,658 | Mapping partition with 9 groups generated.\n",
      "INFO | 2025-06-27 16:02:32,659 | Maximum number of rules within mapping group: 1.\n",
      "INFO | 2025-06-27 16:02:32,659 | Mappings processed in 0.495 seconds.\n",
      "INFO | 2025-06-27 16:02:34,322 | Number of triples generated in total: 19135.\n"
     ]
    },
    {
     "name": "stdout",
     "output_type": "stream",
     "text": [
      "Knowledge graph generated.\n",
      "Knowledge graph 33/316 generated.\n",
      "Generating knowledge graph...\n"
     ]
    },
    {
     "name": "stderr",
     "output_type": "stream",
     "text": [
      "INFO | 2025-06-27 16:02:35,216 | 9 mapping rules retrieved.\n",
      "INFO | 2025-06-27 16:02:35,228 | Mapping partition with 9 groups generated.\n",
      "INFO | 2025-06-27 16:02:35,229 | Maximum number of rules within mapping group: 1.\n",
      "INFO | 2025-06-27 16:02:35,229 | Mappings processed in 0.470 seconds.\n",
      "INFO | 2025-06-27 16:02:36,828 | Number of triples generated in total: 20233.\n"
     ]
    },
    {
     "name": "stdout",
     "output_type": "stream",
     "text": [
      "Knowledge graph generated.\n",
      "Knowledge graph 34/316 generated.\n",
      "Generating knowledge graph...\n"
     ]
    },
    {
     "name": "stderr",
     "output_type": "stream",
     "text": [
      "INFO | 2025-06-27 16:02:37,762 | 9 mapping rules retrieved.\n",
      "INFO | 2025-06-27 16:02:37,774 | Mapping partition with 9 groups generated.\n",
      "INFO | 2025-06-27 16:02:37,775 | Maximum number of rules within mapping group: 1.\n",
      "INFO | 2025-06-27 16:02:37,776 | Mappings processed in 0.475 seconds.\n",
      "INFO | 2025-06-27 16:02:39,487 | Number of triples generated in total: 20145.\n"
     ]
    },
    {
     "name": "stdout",
     "output_type": "stream",
     "text": [
      "Knowledge graph generated.\n",
      "Knowledge graph 35/316 generated.\n",
      "Generating knowledge graph...\n"
     ]
    },
    {
     "name": "stderr",
     "output_type": "stream",
     "text": [
      "INFO | 2025-06-27 16:02:40,458 | 9 mapping rules retrieved.\n",
      "INFO | 2025-06-27 16:02:40,470 | Mapping partition with 9 groups generated.\n",
      "INFO | 2025-06-27 16:02:40,471 | Maximum number of rules within mapping group: 1.\n",
      "INFO | 2025-06-27 16:02:40,472 | Mappings processed in 0.495 seconds.\n",
      "INFO | 2025-06-27 16:02:42,153 | Number of triples generated in total: 19947.\n"
     ]
    },
    {
     "name": "stdout",
     "output_type": "stream",
     "text": [
      "Knowledge graph generated.\n",
      "Knowledge graph 36/316 generated.\n",
      "Generating knowledge graph...\n"
     ]
    },
    {
     "name": "stderr",
     "output_type": "stream",
     "text": [
      "INFO | 2025-06-27 16:02:43,087 | 9 mapping rules retrieved.\n",
      "INFO | 2025-06-27 16:02:43,098 | Mapping partition with 9 groups generated.\n",
      "INFO | 2025-06-27 16:02:43,099 | Maximum number of rules within mapping group: 1.\n",
      "INFO | 2025-06-27 16:02:43,100 | Mappings processed in 0.463 seconds.\n",
      "INFO | 2025-06-27 16:02:44,757 | Number of triples generated in total: 19811.\n"
     ]
    },
    {
     "name": "stdout",
     "output_type": "stream",
     "text": [
      "Knowledge graph generated.\n",
      "Knowledge graph 37/316 generated.\n",
      "Generating knowledge graph...\n"
     ]
    },
    {
     "name": "stderr",
     "output_type": "stream",
     "text": [
      "INFO | 2025-06-27 16:02:45,774 | 9 mapping rules retrieved.\n",
      "INFO | 2025-06-27 16:02:45,786 | Mapping partition with 9 groups generated.\n",
      "INFO | 2025-06-27 16:02:45,788 | Maximum number of rules within mapping group: 1.\n",
      "INFO | 2025-06-27 16:02:45,788 | Mappings processed in 0.473 seconds.\n",
      "INFO | 2025-06-27 16:02:47,439 | Number of triples generated in total: 18672.\n"
     ]
    },
    {
     "name": "stdout",
     "output_type": "stream",
     "text": [
      "Knowledge graph generated.\n",
      "Knowledge graph 38/316 generated.\n",
      "Generating knowledge graph...\n"
     ]
    },
    {
     "name": "stderr",
     "output_type": "stream",
     "text": [
      "INFO | 2025-06-27 16:02:48,332 | 9 mapping rules retrieved.\n",
      "INFO | 2025-06-27 16:02:48,345 | Mapping partition with 9 groups generated.\n",
      "INFO | 2025-06-27 16:02:48,346 | Maximum number of rules within mapping group: 1.\n",
      "INFO | 2025-06-27 16:02:48,347 | Mappings processed in 0.462 seconds.\n",
      "INFO | 2025-06-27 16:02:50,080 | Number of triples generated in total: 18679.\n"
     ]
    },
    {
     "name": "stdout",
     "output_type": "stream",
     "text": [
      "Knowledge graph generated.\n",
      "Knowledge graph 39/316 generated.\n",
      "Generating knowledge graph...\n"
     ]
    },
    {
     "name": "stderr",
     "output_type": "stream",
     "text": [
      "INFO | 2025-06-27 16:02:50,959 | 9 mapping rules retrieved.\n",
      "INFO | 2025-06-27 16:02:50,971 | Mapping partition with 9 groups generated.\n",
      "INFO | 2025-06-27 16:02:50,972 | Maximum number of rules within mapping group: 1.\n",
      "INFO | 2025-06-27 16:02:50,973 | Mappings processed in 0.462 seconds.\n",
      "INFO | 2025-06-27 16:02:53,036 | Number of triples generated in total: 20499.\n"
     ]
    },
    {
     "name": "stdout",
     "output_type": "stream",
     "text": [
      "Knowledge graph generated.\n",
      "Knowledge graph 40/316 generated.\n",
      "Generating knowledge graph...\n"
     ]
    },
    {
     "name": "stderr",
     "output_type": "stream",
     "text": [
      "INFO | 2025-06-27 16:02:55,445 | 9 mapping rules retrieved.\n",
      "INFO | 2025-06-27 16:02:55,456 | Mapping partition with 9 groups generated.\n",
      "INFO | 2025-06-27 16:02:55,457 | Maximum number of rules within mapping group: 1.\n",
      "INFO | 2025-06-27 16:02:55,458 | Mappings processed in 0.467 seconds.\n",
      "INFO | 2025-06-27 16:02:57,113 | Number of triples generated in total: 18469.\n"
     ]
    },
    {
     "name": "stdout",
     "output_type": "stream",
     "text": [
      "Knowledge graph generated.\n",
      "Knowledge graph 41/316 generated.\n",
      "Generating knowledge graph...\n"
     ]
    },
    {
     "name": "stderr",
     "output_type": "stream",
     "text": [
      "INFO | 2025-06-27 16:02:58,038 | 9 mapping rules retrieved.\n",
      "INFO | 2025-06-27 16:02:58,049 | Mapping partition with 9 groups generated.\n",
      "INFO | 2025-06-27 16:02:58,050 | Maximum number of rules within mapping group: 1.\n",
      "INFO | 2025-06-27 16:02:58,051 | Mappings processed in 0.491 seconds.\n",
      "INFO | 2025-06-27 16:02:59,741 | Number of triples generated in total: 19165.\n"
     ]
    },
    {
     "name": "stdout",
     "output_type": "stream",
     "text": [
      "Knowledge graph generated.\n",
      "Knowledge graph 42/316 generated.\n",
      "Generating knowledge graph...\n"
     ]
    },
    {
     "name": "stderr",
     "output_type": "stream",
     "text": [
      "INFO | 2025-06-27 16:03:00,658 | 9 mapping rules retrieved.\n",
      "INFO | 2025-06-27 16:03:00,670 | Mapping partition with 9 groups generated.\n",
      "INFO | 2025-06-27 16:03:00,672 | Maximum number of rules within mapping group: 1.\n",
      "INFO | 2025-06-27 16:03:00,672 | Mappings processed in 0.468 seconds.\n",
      "INFO | 2025-06-27 16:03:02,413 | Number of triples generated in total: 20353.\n"
     ]
    },
    {
     "name": "stdout",
     "output_type": "stream",
     "text": [
      "Knowledge graph generated.\n",
      "Knowledge graph 43/316 generated.\n",
      "Generating knowledge graph...\n"
     ]
    },
    {
     "name": "stderr",
     "output_type": "stream",
     "text": [
      "INFO | 2025-06-27 16:03:03,370 | 9 mapping rules retrieved.\n",
      "INFO | 2025-06-27 16:03:03,383 | Mapping partition with 9 groups generated.\n",
      "INFO | 2025-06-27 16:03:03,384 | Maximum number of rules within mapping group: 1.\n",
      "INFO | 2025-06-27 16:03:03,385 | Mappings processed in 0.461 seconds.\n",
      "INFO | 2025-06-27 16:03:05,069 | Number of triples generated in total: 17745.\n"
     ]
    },
    {
     "name": "stdout",
     "output_type": "stream",
     "text": [
      "Knowledge graph generated.\n",
      "Knowledge graph 44/316 generated.\n",
      "Generating knowledge graph...\n"
     ]
    },
    {
     "name": "stderr",
     "output_type": "stream",
     "text": [
      "INFO | 2025-06-27 16:03:05,940 | 9 mapping rules retrieved.\n",
      "INFO | 2025-06-27 16:03:05,952 | Mapping partition with 9 groups generated.\n",
      "INFO | 2025-06-27 16:03:05,953 | Maximum number of rules within mapping group: 1.\n",
      "INFO | 2025-06-27 16:03:05,954 | Mappings processed in 0.471 seconds.\n",
      "INFO | 2025-06-27 16:03:07,726 | Number of triples generated in total: 18780.\n"
     ]
    },
    {
     "name": "stdout",
     "output_type": "stream",
     "text": [
      "Knowledge graph generated.\n",
      "Knowledge graph 45/316 generated.\n",
      "Generating knowledge graph...\n"
     ]
    },
    {
     "name": "stderr",
     "output_type": "stream",
     "text": [
      "INFO | 2025-06-27 16:03:08,621 | 9 mapping rules retrieved.\n",
      "INFO | 2025-06-27 16:03:08,632 | Mapping partition with 9 groups generated.\n",
      "INFO | 2025-06-27 16:03:08,634 | Maximum number of rules within mapping group: 1.\n",
      "INFO | 2025-06-27 16:03:08,634 | Mappings processed in 0.456 seconds.\n",
      "INFO | 2025-06-27 16:03:10,342 | Number of triples generated in total: 19106.\n"
     ]
    },
    {
     "name": "stdout",
     "output_type": "stream",
     "text": [
      "Knowledge graph generated.\n",
      "Knowledge graph 46/316 generated.\n",
      "Generating knowledge graph...\n"
     ]
    },
    {
     "name": "stderr",
     "output_type": "stream",
     "text": [
      "INFO | 2025-06-27 16:03:11,240 | 9 mapping rules retrieved.\n",
      "INFO | 2025-06-27 16:03:11,252 | Mapping partition with 9 groups generated.\n",
      "INFO | 2025-06-27 16:03:11,253 | Maximum number of rules within mapping group: 1.\n",
      "INFO | 2025-06-27 16:03:11,253 | Mappings processed in 0.474 seconds.\n",
      "INFO | 2025-06-27 16:03:13,042 | Number of triples generated in total: 19815.\n"
     ]
    },
    {
     "name": "stdout",
     "output_type": "stream",
     "text": [
      "Knowledge graph generated.\n",
      "Knowledge graph 47/316 generated.\n",
      "Generating knowledge graph...\n"
     ]
    },
    {
     "name": "stderr",
     "output_type": "stream",
     "text": [
      "INFO | 2025-06-27 16:03:14,079 | 9 mapping rules retrieved.\n",
      "INFO | 2025-06-27 16:03:14,091 | Mapping partition with 9 groups generated.\n",
      "INFO | 2025-06-27 16:03:14,092 | Maximum number of rules within mapping group: 1.\n",
      "INFO | 2025-06-27 16:03:14,093 | Mappings processed in 0.516 seconds.\n",
      "INFO | 2025-06-27 16:03:15,853 | Number of triples generated in total: 18801.\n"
     ]
    },
    {
     "name": "stdout",
     "output_type": "stream",
     "text": [
      "Knowledge graph generated.\n",
      "Knowledge graph 48/316 generated.\n",
      "Generating knowledge graph...\n"
     ]
    },
    {
     "name": "stderr",
     "output_type": "stream",
     "text": [
      "INFO | 2025-06-27 16:03:16,730 | 9 mapping rules retrieved.\n",
      "INFO | 2025-06-27 16:03:16,742 | Mapping partition with 9 groups generated.\n",
      "INFO | 2025-06-27 16:03:16,743 | Maximum number of rules within mapping group: 1.\n",
      "INFO | 2025-06-27 16:03:16,744 | Mappings processed in 0.459 seconds.\n",
      "INFO | 2025-06-27 16:03:18,520 | Number of triples generated in total: 19215.\n"
     ]
    },
    {
     "name": "stdout",
     "output_type": "stream",
     "text": [
      "Knowledge graph generated.\n",
      "Knowledge graph 49/316 generated.\n",
      "Generating knowledge graph...\n"
     ]
    },
    {
     "name": "stderr",
     "output_type": "stream",
     "text": [
      "INFO | 2025-06-27 16:03:19,441 | 9 mapping rules retrieved.\n",
      "INFO | 2025-06-27 16:03:19,453 | Mapping partition with 9 groups generated.\n",
      "INFO | 2025-06-27 16:03:19,454 | Maximum number of rules within mapping group: 1.\n",
      "INFO | 2025-06-27 16:03:19,455 | Mappings processed in 0.480 seconds.\n",
      "INFO | 2025-06-27 16:03:21,229 | Number of triples generated in total: 19471.\n"
     ]
    },
    {
     "name": "stdout",
     "output_type": "stream",
     "text": [
      "Knowledge graph generated.\n",
      "Knowledge graph 50/316 generated.\n",
      "Generating knowledge graph...\n"
     ]
    },
    {
     "name": "stderr",
     "output_type": "stream",
     "text": [
      "INFO | 2025-06-27 16:03:23,963 | 9 mapping rules retrieved.\n",
      "INFO | 2025-06-27 16:03:23,975 | Mapping partition with 9 groups generated.\n",
      "INFO | 2025-06-27 16:03:23,976 | Maximum number of rules within mapping group: 1.\n",
      "INFO | 2025-06-27 16:03:23,977 | Mappings processed in 0.479 seconds.\n",
      "INFO | 2025-06-27 16:03:25,746 | Number of triples generated in total: 19070.\n"
     ]
    },
    {
     "name": "stdout",
     "output_type": "stream",
     "text": [
      "Knowledge graph generated.\n",
      "Knowledge graph 51/316 generated.\n",
      "Generating knowledge graph...\n"
     ]
    },
    {
     "name": "stderr",
     "output_type": "stream",
     "text": [
      "INFO | 2025-06-27 16:03:26,664 | 9 mapping rules retrieved.\n",
      "INFO | 2025-06-27 16:03:26,675 | Mapping partition with 9 groups generated.\n",
      "INFO | 2025-06-27 16:03:26,676 | Maximum number of rules within mapping group: 1.\n",
      "INFO | 2025-06-27 16:03:26,677 | Mappings processed in 0.480 seconds.\n",
      "INFO | 2025-06-27 16:03:28,633 | Number of triples generated in total: 19334.\n"
     ]
    },
    {
     "name": "stdout",
     "output_type": "stream",
     "text": [
      "Knowledge graph generated.\n",
      "Knowledge graph 52/316 generated.\n",
      "Generating knowledge graph...\n"
     ]
    },
    {
     "name": "stderr",
     "output_type": "stream",
     "text": [
      "INFO | 2025-06-27 16:03:29,580 | 9 mapping rules retrieved.\n",
      "INFO | 2025-06-27 16:03:29,591 | Mapping partition with 9 groups generated.\n",
      "INFO | 2025-06-27 16:03:29,593 | Maximum number of rules within mapping group: 1.\n",
      "INFO | 2025-06-27 16:03:29,593 | Mappings processed in 0.500 seconds.\n",
      "INFO | 2025-06-27 16:03:31,645 | Number of triples generated in total: 19823.\n"
     ]
    },
    {
     "name": "stdout",
     "output_type": "stream",
     "text": [
      "Knowledge graph generated.\n",
      "Knowledge graph 53/316 generated.\n",
      "Generating knowledge graph...\n"
     ]
    },
    {
     "name": "stderr",
     "output_type": "stream",
     "text": [
      "INFO | 2025-06-27 16:03:32,569 | 9 mapping rules retrieved.\n",
      "INFO | 2025-06-27 16:03:32,582 | Mapping partition with 9 groups generated.\n",
      "INFO | 2025-06-27 16:03:32,583 | Maximum number of rules within mapping group: 1.\n",
      "INFO | 2025-06-27 16:03:32,584 | Mappings processed in 0.469 seconds.\n",
      "INFO | 2025-06-27 16:03:34,514 | Number of triples generated in total: 19547.\n"
     ]
    },
    {
     "name": "stdout",
     "output_type": "stream",
     "text": [
      "Knowledge graph generated.\n",
      "Knowledge graph 54/316 generated.\n",
      "Generating knowledge graph...\n"
     ]
    },
    {
     "name": "stderr",
     "output_type": "stream",
     "text": [
      "INFO | 2025-06-27 16:03:35,436 | 9 mapping rules retrieved.\n",
      "INFO | 2025-06-27 16:03:35,448 | Mapping partition with 9 groups generated.\n",
      "INFO | 2025-06-27 16:03:35,449 | Maximum number of rules within mapping group: 1.\n",
      "INFO | 2025-06-27 16:03:35,449 | Mappings processed in 0.481 seconds.\n",
      "INFO | 2025-06-27 16:03:37,453 | Number of triples generated in total: 20253.\n"
     ]
    },
    {
     "name": "stdout",
     "output_type": "stream",
     "text": [
      "Knowledge graph generated.\n",
      "Knowledge graph 55/316 generated.\n",
      "Generating knowledge graph...\n"
     ]
    },
    {
     "name": "stderr",
     "output_type": "stream",
     "text": [
      "INFO | 2025-06-27 16:03:38,402 | 9 mapping rules retrieved.\n",
      "INFO | 2025-06-27 16:03:38,413 | Mapping partition with 9 groups generated.\n",
      "INFO | 2025-06-27 16:03:38,414 | Maximum number of rules within mapping group: 1.\n",
      "INFO | 2025-06-27 16:03:38,416 | Mappings processed in 0.468 seconds.\n",
      "INFO | 2025-06-27 16:03:40,199 | Number of triples generated in total: 20034.\n"
     ]
    },
    {
     "name": "stdout",
     "output_type": "stream",
     "text": [
      "Knowledge graph generated.\n",
      "Knowledge graph 56/316 generated.\n",
      "Generating knowledge graph...\n"
     ]
    },
    {
     "name": "stderr",
     "output_type": "stream",
     "text": [
      "INFO | 2025-06-27 16:03:41,106 | 9 mapping rules retrieved.\n",
      "INFO | 2025-06-27 16:03:41,117 | Mapping partition with 9 groups generated.\n",
      "INFO | 2025-06-27 16:03:41,118 | Maximum number of rules within mapping group: 1.\n",
      "INFO | 2025-06-27 16:03:41,119 | Mappings processed in 0.453 seconds.\n",
      "INFO | 2025-06-27 16:03:43,020 | Number of triples generated in total: 17512.\n"
     ]
    },
    {
     "name": "stdout",
     "output_type": "stream",
     "text": [
      "Knowledge graph generated.\n",
      "Knowledge graph 57/316 generated.\n",
      "Generating knowledge graph...\n"
     ]
    },
    {
     "name": "stderr",
     "output_type": "stream",
     "text": [
      "INFO | 2025-06-27 16:03:43,906 | 9 mapping rules retrieved.\n",
      "INFO | 2025-06-27 16:03:43,918 | Mapping partition with 9 groups generated.\n",
      "INFO | 2025-06-27 16:03:43,920 | Maximum number of rules within mapping group: 1.\n",
      "INFO | 2025-06-27 16:03:43,920 | Mappings processed in 0.468 seconds.\n",
      "INFO | 2025-06-27 16:03:45,760 | Number of triples generated in total: 17733.\n"
     ]
    },
    {
     "name": "stdout",
     "output_type": "stream",
     "text": [
      "Knowledge graph generated.\n",
      "Knowledge graph 58/316 generated.\n",
      "Generating knowledge graph...\n"
     ]
    },
    {
     "name": "stderr",
     "output_type": "stream",
     "text": [
      "INFO | 2025-06-27 16:03:46,650 | 9 mapping rules retrieved.\n",
      "INFO | 2025-06-27 16:03:46,661 | Mapping partition with 9 groups generated.\n",
      "INFO | 2025-06-27 16:03:46,662 | Maximum number of rules within mapping group: 1.\n",
      "INFO | 2025-06-27 16:03:46,662 | Mappings processed in 0.473 seconds.\n",
      "INFO | 2025-06-27 16:03:48,688 | Number of triples generated in total: 20490.\n"
     ]
    },
    {
     "name": "stdout",
     "output_type": "stream",
     "text": [
      "Knowledge graph generated.\n",
      "Knowledge graph 59/316 generated.\n",
      "Generating knowledge graph...\n"
     ]
    },
    {
     "name": "stderr",
     "output_type": "stream",
     "text": [
      "INFO | 2025-06-27 16:03:49,634 | 9 mapping rules retrieved.\n",
      "INFO | 2025-06-27 16:03:49,646 | Mapping partition with 9 groups generated.\n",
      "INFO | 2025-06-27 16:03:49,647 | Maximum number of rules within mapping group: 1.\n",
      "INFO | 2025-06-27 16:03:49,648 | Mappings processed in 0.475 seconds.\n",
      "INFO | 2025-06-27 16:03:51,535 | Number of triples generated in total: 20519.\n"
     ]
    },
    {
     "name": "stdout",
     "output_type": "stream",
     "text": [
      "Knowledge graph generated.\n",
      "Knowledge graph 60/316 generated.\n",
      "Generating knowledge graph...\n"
     ]
    },
    {
     "name": "stderr",
     "output_type": "stream",
     "text": [
      "INFO | 2025-06-27 16:03:52,479 | 9 mapping rules retrieved.\n",
      "INFO | 2025-06-27 16:03:52,491 | Mapping partition with 9 groups generated.\n",
      "INFO | 2025-06-27 16:03:52,492 | Maximum number of rules within mapping group: 1.\n",
      "INFO | 2025-06-27 16:03:52,493 | Mappings processed in 0.467 seconds.\n",
      "INFO | 2025-06-27 16:03:54,318 | Number of triples generated in total: 19369.\n"
     ]
    },
    {
     "name": "stdout",
     "output_type": "stream",
     "text": [
      "Knowledge graph generated.\n",
      "Knowledge graph 61/316 generated.\n",
      "Generating knowledge graph...\n"
     ]
    },
    {
     "name": "stderr",
     "output_type": "stream",
     "text": [
      "INFO | 2025-06-27 16:03:55,640 | 9 mapping rules retrieved.\n",
      "INFO | 2025-06-27 16:03:55,654 | Mapping partition with 9 groups generated.\n",
      "INFO | 2025-06-27 16:03:55,655 | Maximum number of rules within mapping group: 1.\n",
      "INFO | 2025-06-27 16:03:55,656 | Mappings processed in 0.470 seconds.\n",
      "INFO | 2025-06-27 16:03:57,557 | Number of triples generated in total: 19513.\n"
     ]
    },
    {
     "name": "stdout",
     "output_type": "stream",
     "text": [
      "Knowledge graph generated.\n",
      "Knowledge graph 62/316 generated.\n",
      "Generating knowledge graph...\n"
     ]
    },
    {
     "name": "stderr",
     "output_type": "stream",
     "text": [
      "INFO | 2025-06-27 16:04:00,872 | 9 mapping rules retrieved.\n",
      "INFO | 2025-06-27 16:04:00,884 | Mapping partition with 9 groups generated.\n",
      "INFO | 2025-06-27 16:04:00,885 | Maximum number of rules within mapping group: 1.\n",
      "INFO | 2025-06-27 16:04:00,886 | Mappings processed in 0.460 seconds.\n",
      "INFO | 2025-06-27 16:04:02,822 | Number of triples generated in total: 19181.\n"
     ]
    },
    {
     "name": "stdout",
     "output_type": "stream",
     "text": [
      "Knowledge graph generated.\n",
      "Knowledge graph 63/316 generated.\n",
      "Generating knowledge graph...\n"
     ]
    },
    {
     "name": "stderr",
     "output_type": "stream",
     "text": [
      "INFO | 2025-06-27 16:04:03,769 | 9 mapping rules retrieved.\n",
      "INFO | 2025-06-27 16:04:03,780 | Mapping partition with 9 groups generated.\n",
      "INFO | 2025-06-27 16:04:03,781 | Maximum number of rules within mapping group: 1.\n",
      "INFO | 2025-06-27 16:04:03,782 | Mappings processed in 0.471 seconds.\n",
      "INFO | 2025-06-27 16:04:05,613 | Number of triples generated in total: 20152.\n"
     ]
    },
    {
     "name": "stdout",
     "output_type": "stream",
     "text": [
      "Knowledge graph generated.\n",
      "Knowledge graph 64/316 generated.\n",
      "Generating knowledge graph...\n"
     ]
    },
    {
     "name": "stderr",
     "output_type": "stream",
     "text": [
      "INFO | 2025-06-27 16:04:06,558 | 9 mapping rules retrieved.\n",
      "INFO | 2025-06-27 16:04:06,570 | Mapping partition with 9 groups generated.\n",
      "INFO | 2025-06-27 16:04:06,571 | Maximum number of rules within mapping group: 1.\n",
      "INFO | 2025-06-27 16:04:06,572 | Mappings processed in 0.480 seconds.\n",
      "INFO | 2025-06-27 16:04:08,425 | Number of triples generated in total: 19556.\n"
     ]
    },
    {
     "name": "stdout",
     "output_type": "stream",
     "text": [
      "Knowledge graph generated.\n",
      "Knowledge graph 65/316 generated.\n",
      "Generating knowledge graph...\n"
     ]
    },
    {
     "name": "stderr",
     "output_type": "stream",
     "text": [
      "INFO | 2025-06-27 16:04:09,328 | 9 mapping rules retrieved.\n",
      "INFO | 2025-06-27 16:04:09,338 | Mapping partition with 9 groups generated.\n",
      "INFO | 2025-06-27 16:04:09,340 | Maximum number of rules within mapping group: 1.\n",
      "INFO | 2025-06-27 16:04:09,340 | Mappings processed in 0.456 seconds.\n",
      "INFO | 2025-06-27 16:04:11,504 | Number of triples generated in total: 18039.\n"
     ]
    },
    {
     "name": "stdout",
     "output_type": "stream",
     "text": [
      "Knowledge graph generated.\n",
      "Knowledge graph 66/316 generated.\n",
      "Generating knowledge graph...\n"
     ]
    },
    {
     "name": "stderr",
     "output_type": "stream",
     "text": [
      "INFO | 2025-06-27 16:04:12,413 | 9 mapping rules retrieved.\n",
      "INFO | 2025-06-27 16:04:12,425 | Mapping partition with 9 groups generated.\n",
      "INFO | 2025-06-27 16:04:12,426 | Maximum number of rules within mapping group: 1.\n",
      "INFO | 2025-06-27 16:04:12,426 | Mappings processed in 0.498 seconds.\n",
      "INFO | 2025-06-27 16:04:14,336 | Number of triples generated in total: 19154.\n"
     ]
    },
    {
     "name": "stdout",
     "output_type": "stream",
     "text": [
      "Knowledge graph generated.\n",
      "Knowledge graph 67/316 generated.\n",
      "Generating knowledge graph...\n"
     ]
    },
    {
     "name": "stderr",
     "output_type": "stream",
     "text": [
      "INFO | 2025-06-27 16:04:15,214 | 9 mapping rules retrieved.\n",
      "INFO | 2025-06-27 16:04:15,226 | Mapping partition with 9 groups generated.\n",
      "INFO | 2025-06-27 16:04:15,227 | Maximum number of rules within mapping group: 1.\n",
      "INFO | 2025-06-27 16:04:15,228 | Mappings processed in 0.450 seconds.\n",
      "INFO | 2025-06-27 16:04:17,084 | Number of triples generated in total: 19847.\n"
     ]
    },
    {
     "name": "stdout",
     "output_type": "stream",
     "text": [
      "Knowledge graph generated.\n",
      "Knowledge graph 68/316 generated.\n",
      "Generating knowledge graph...\n"
     ]
    },
    {
     "name": "stderr",
     "output_type": "stream",
     "text": [
      "INFO | 2025-06-27 16:04:17,986 | 9 mapping rules retrieved.\n",
      "INFO | 2025-06-27 16:04:17,998 | Mapping partition with 9 groups generated.\n",
      "INFO | 2025-06-27 16:04:17,999 | Maximum number of rules within mapping group: 1.\n",
      "INFO | 2025-06-27 16:04:18,000 | Mappings processed in 0.464 seconds.\n",
      "INFO | 2025-06-27 16:04:19,901 | Number of triples generated in total: 18846.\n"
     ]
    },
    {
     "name": "stdout",
     "output_type": "stream",
     "text": [
      "Knowledge graph generated.\n",
      "Knowledge graph 69/316 generated.\n",
      "Generating knowledge graph...\n"
     ]
    },
    {
     "name": "stderr",
     "output_type": "stream",
     "text": [
      "INFO | 2025-06-27 16:04:20,800 | 9 mapping rules retrieved.\n",
      "INFO | 2025-06-27 16:04:20,811 | Mapping partition with 9 groups generated.\n",
      "INFO | 2025-06-27 16:04:20,812 | Maximum number of rules within mapping group: 1.\n",
      "INFO | 2025-06-27 16:04:20,813 | Mappings processed in 0.458 seconds.\n",
      "INFO | 2025-06-27 16:04:22,890 | Number of triples generated in total: 18475.\n"
     ]
    },
    {
     "name": "stdout",
     "output_type": "stream",
     "text": [
      "Knowledge graph generated.\n",
      "Knowledge graph 70/316 generated.\n",
      "Generating knowledge graph...\n"
     ]
    },
    {
     "name": "stderr",
     "output_type": "stream",
     "text": [
      "INFO | 2025-06-27 16:04:23,764 | 9 mapping rules retrieved.\n",
      "INFO | 2025-06-27 16:04:23,776 | Mapping partition with 9 groups generated.\n",
      "INFO | 2025-06-27 16:04:23,777 | Maximum number of rules within mapping group: 1.\n",
      "INFO | 2025-06-27 16:04:23,778 | Mappings processed in 0.460 seconds.\n",
      "INFO | 2025-06-27 16:04:25,866 | Number of triples generated in total: 19831.\n"
     ]
    },
    {
     "name": "stdout",
     "output_type": "stream",
     "text": [
      "Knowledge graph generated.\n",
      "Knowledge graph 71/316 generated.\n",
      "Generating knowledge graph...\n"
     ]
    },
    {
     "name": "stderr",
     "output_type": "stream",
     "text": [
      "INFO | 2025-06-27 16:04:26,812 | 9 mapping rules retrieved.\n",
      "INFO | 2025-06-27 16:04:26,823 | Mapping partition with 9 groups generated.\n",
      "INFO | 2025-06-27 16:04:26,825 | Maximum number of rules within mapping group: 1.\n",
      "INFO | 2025-06-27 16:04:26,825 | Mappings processed in 0.494 seconds.\n",
      "INFO | 2025-06-27 16:04:28,910 | Number of triples generated in total: 20190.\n"
     ]
    },
    {
     "name": "stdout",
     "output_type": "stream",
     "text": [
      "Knowledge graph generated.\n",
      "Knowledge graph 72/316 generated.\n",
      "Generating knowledge graph...\n"
     ]
    },
    {
     "name": "stderr",
     "output_type": "stream",
     "text": [
      "INFO | 2025-06-27 16:04:29,882 | 9 mapping rules retrieved.\n",
      "INFO | 2025-06-27 16:04:29,895 | Mapping partition with 9 groups generated.\n",
      "INFO | 2025-06-27 16:04:29,896 | Maximum number of rules within mapping group: 1.\n",
      "INFO | 2025-06-27 16:04:29,897 | Mappings processed in 0.488 seconds.\n",
      "INFO | 2025-06-27 16:04:32,195 | Number of triples generated in total: 20304.\n"
     ]
    },
    {
     "name": "stdout",
     "output_type": "stream",
     "text": [
      "Knowledge graph generated.\n",
      "Knowledge graph 73/316 generated.\n",
      "Generating knowledge graph...\n"
     ]
    },
    {
     "name": "stderr",
     "output_type": "stream",
     "text": [
      "INFO | 2025-06-27 16:04:33,209 | 9 mapping rules retrieved.\n",
      "INFO | 2025-06-27 16:04:33,220 | Mapping partition with 9 groups generated.\n",
      "INFO | 2025-06-27 16:04:33,222 | Maximum number of rules within mapping group: 1.\n",
      "INFO | 2025-06-27 16:04:33,222 | Mappings processed in 0.462 seconds.\n",
      "INFO | 2025-06-27 16:04:35,125 | Number of triples generated in total: 19258.\n"
     ]
    },
    {
     "name": "stdout",
     "output_type": "stream",
     "text": [
      "Knowledge graph generated.\n",
      "Knowledge graph 74/316 generated.\n",
      "Generating knowledge graph...\n"
     ]
    },
    {
     "name": "stderr",
     "output_type": "stream",
     "text": [
      "INFO | 2025-06-27 16:04:36,055 | 9 mapping rules retrieved.\n",
      "INFO | 2025-06-27 16:04:36,066 | Mapping partition with 9 groups generated.\n",
      "INFO | 2025-06-27 16:04:36,067 | Maximum number of rules within mapping group: 1.\n",
      "INFO | 2025-06-27 16:04:36,067 | Mappings processed in 0.466 seconds.\n",
      "INFO | 2025-06-27 16:04:38,182 | Number of triples generated in total: 20407.\n"
     ]
    },
    {
     "name": "stdout",
     "output_type": "stream",
     "text": [
      "Knowledge graph generated.\n",
      "Knowledge graph 75/316 generated.\n",
      "Generating knowledge graph...\n"
     ]
    },
    {
     "name": "stderr",
     "output_type": "stream",
     "text": [
      "INFO | 2025-06-27 16:04:39,179 | 9 mapping rules retrieved.\n",
      "INFO | 2025-06-27 16:04:39,189 | Mapping partition with 9 groups generated.\n",
      "INFO | 2025-06-27 16:04:39,190 | Maximum number of rules within mapping group: 1.\n",
      "INFO | 2025-06-27 16:04:39,191 | Mappings processed in 0.468 seconds.\n",
      "INFO | 2025-06-27 16:04:41,172 | Number of triples generated in total: 19459.\n"
     ]
    },
    {
     "name": "stdout",
     "output_type": "stream",
     "text": [
      "Knowledge graph generated.\n",
      "Knowledge graph 76/316 generated.\n",
      "Generating knowledge graph...\n"
     ]
    },
    {
     "name": "stderr",
     "output_type": "stream",
     "text": [
      "INFO | 2025-06-27 16:04:42,101 | 9 mapping rules retrieved.\n",
      "INFO | 2025-06-27 16:04:42,112 | Mapping partition with 9 groups generated.\n",
      "INFO | 2025-06-27 16:04:42,113 | Maximum number of rules within mapping group: 1.\n",
      "INFO | 2025-06-27 16:04:42,113 | Mappings processed in 0.484 seconds.\n",
      "INFO | 2025-06-27 16:04:44,191 | Number of triples generated in total: 18293.\n"
     ]
    },
    {
     "name": "stdout",
     "output_type": "stream",
     "text": [
      "Knowledge graph generated.\n",
      "Knowledge graph 77/316 generated.\n",
      "Generating knowledge graph...\n"
     ]
    },
    {
     "name": "stderr",
     "output_type": "stream",
     "text": [
      "INFO | 2025-06-27 16:04:47,859 | 9 mapping rules retrieved.\n",
      "INFO | 2025-06-27 16:04:47,872 | Mapping partition with 9 groups generated.\n",
      "INFO | 2025-06-27 16:04:47,873 | Maximum number of rules within mapping group: 1.\n",
      "INFO | 2025-06-27 16:04:47,874 | Mappings processed in 0.465 seconds.\n",
      "INFO | 2025-06-27 16:04:49,851 | Number of triples generated in total: 19266.\n"
     ]
    },
    {
     "name": "stdout",
     "output_type": "stream",
     "text": [
      "Knowledge graph generated.\n",
      "Knowledge graph 78/316 generated.\n",
      "Generating knowledge graph...\n"
     ]
    },
    {
     "name": "stderr",
     "output_type": "stream",
     "text": [
      "INFO | 2025-06-27 16:04:50,772 | 9 mapping rules retrieved.\n",
      "INFO | 2025-06-27 16:04:50,784 | Mapping partition with 9 groups generated.\n",
      "INFO | 2025-06-27 16:04:50,786 | Maximum number of rules within mapping group: 1.\n",
      "INFO | 2025-06-27 16:04:50,786 | Mappings processed in 0.476 seconds.\n",
      "INFO | 2025-06-27 16:04:52,739 | Number of triples generated in total: 19948.\n"
     ]
    },
    {
     "name": "stdout",
     "output_type": "stream",
     "text": [
      "Knowledge graph generated.\n",
      "Knowledge graph 79/316 generated.\n",
      "Generating knowledge graph...\n"
     ]
    },
    {
     "name": "stderr",
     "output_type": "stream",
     "text": [
      "INFO | 2025-06-27 16:04:53,680 | 9 mapping rules retrieved.\n",
      "INFO | 2025-06-27 16:04:53,691 | Mapping partition with 9 groups generated.\n",
      "INFO | 2025-06-27 16:04:53,692 | Maximum number of rules within mapping group: 1.\n",
      "INFO | 2025-06-27 16:04:53,693 | Mappings processed in 0.474 seconds.\n",
      "INFO | 2025-06-27 16:04:55,657 | Number of triples generated in total: 21233.\n"
     ]
    },
    {
     "name": "stdout",
     "output_type": "stream",
     "text": [
      "Knowledge graph generated.\n",
      "Knowledge graph 80/316 generated.\n",
      "Generating knowledge graph...\n"
     ]
    },
    {
     "name": "stderr",
     "output_type": "stream",
     "text": [
      "INFO | 2025-06-27 16:04:56,602 | 9 mapping rules retrieved.\n",
      "INFO | 2025-06-27 16:04:56,614 | Mapping partition with 9 groups generated.\n",
      "INFO | 2025-06-27 16:04:56,615 | Maximum number of rules within mapping group: 1.\n",
      "INFO | 2025-06-27 16:04:56,616 | Mappings processed in 0.469 seconds.\n",
      "INFO | 2025-06-27 16:04:58,567 | Number of triples generated in total: 19766.\n"
     ]
    },
    {
     "name": "stdout",
     "output_type": "stream",
     "text": [
      "Knowledge graph generated.\n",
      "Knowledge graph 81/316 generated.\n",
      "Generating knowledge graph...\n"
     ]
    },
    {
     "name": "stderr",
     "output_type": "stream",
     "text": [
      "INFO | 2025-06-27 16:04:59,522 | 9 mapping rules retrieved.\n",
      "INFO | 2025-06-27 16:04:59,533 | Mapping partition with 9 groups generated.\n",
      "INFO | 2025-06-27 16:04:59,535 | Maximum number of rules within mapping group: 1.\n",
      "INFO | 2025-06-27 16:04:59,535 | Mappings processed in 0.487 seconds.\n",
      "INFO | 2025-06-27 16:05:01,741 | Number of triples generated in total: 19413.\n"
     ]
    },
    {
     "name": "stdout",
     "output_type": "stream",
     "text": [
      "Knowledge graph generated.\n",
      "Knowledge graph 82/316 generated.\n",
      "Generating knowledge graph...\n"
     ]
    },
    {
     "name": "stderr",
     "output_type": "stream",
     "text": [
      "INFO | 2025-06-27 16:05:02,691 | 9 mapping rules retrieved.\n",
      "INFO | 2025-06-27 16:05:02,702 | Mapping partition with 9 groups generated.\n",
      "INFO | 2025-06-27 16:05:02,703 | Maximum number of rules within mapping group: 1.\n",
      "INFO | 2025-06-27 16:05:02,704 | Mappings processed in 0.475 seconds.\n",
      "INFO | 2025-06-27 16:05:04,688 | Number of triples generated in total: 19229.\n"
     ]
    },
    {
     "name": "stdout",
     "output_type": "stream",
     "text": [
      "Knowledge graph generated.\n",
      "Knowledge graph 83/316 generated.\n",
      "Generating knowledge graph...\n"
     ]
    },
    {
     "name": "stderr",
     "output_type": "stream",
     "text": [
      "INFO | 2025-06-27 16:05:05,597 | 9 mapping rules retrieved.\n",
      "INFO | 2025-06-27 16:05:05,608 | Mapping partition with 9 groups generated.\n",
      "INFO | 2025-06-27 16:05:05,609 | Maximum number of rules within mapping group: 1.\n",
      "INFO | 2025-06-27 16:05:05,610 | Mappings processed in 0.466 seconds.\n",
      "INFO | 2025-06-27 16:05:07,600 | Number of triples generated in total: 19471.\n"
     ]
    },
    {
     "name": "stdout",
     "output_type": "stream",
     "text": [
      "Knowledge graph generated.\n",
      "Knowledge graph 84/316 generated.\n",
      "Generating knowledge graph...\n"
     ]
    },
    {
     "name": "stderr",
     "output_type": "stream",
     "text": [
      "INFO | 2025-06-27 16:05:08,514 | 9 mapping rules retrieved.\n",
      "INFO | 2025-06-27 16:05:08,525 | Mapping partition with 9 groups generated.\n",
      "INFO | 2025-06-27 16:05:08,526 | Maximum number of rules within mapping group: 1.\n",
      "INFO | 2025-06-27 16:05:08,527 | Mappings processed in 0.458 seconds.\n",
      "INFO | 2025-06-27 16:05:10,528 | Number of triples generated in total: 18648.\n"
     ]
    },
    {
     "name": "stdout",
     "output_type": "stream",
     "text": [
      "Knowledge graph generated.\n",
      "Knowledge graph 85/316 generated.\n",
      "Generating knowledge graph...\n"
     ]
    },
    {
     "name": "stderr",
     "output_type": "stream",
     "text": [
      "INFO | 2025-06-27 16:05:11,442 | 9 mapping rules retrieved.\n",
      "INFO | 2025-06-27 16:05:11,454 | Mapping partition with 9 groups generated.\n",
      "INFO | 2025-06-27 16:05:11,455 | Maximum number of rules within mapping group: 1.\n",
      "INFO | 2025-06-27 16:05:11,455 | Mappings processed in 0.469 seconds.\n",
      "INFO | 2025-06-27 16:05:13,718 | Number of triples generated in total: 18179.\n"
     ]
    },
    {
     "name": "stdout",
     "output_type": "stream",
     "text": [
      "Knowledge graph generated.\n",
      "Knowledge graph 86/316 generated.\n",
      "Generating knowledge graph...\n"
     ]
    },
    {
     "name": "stderr",
     "output_type": "stream",
     "text": [
      "INFO | 2025-06-27 16:05:14,595 | 9 mapping rules retrieved.\n",
      "INFO | 2025-06-27 16:05:14,608 | Mapping partition with 9 groups generated.\n",
      "INFO | 2025-06-27 16:05:14,609 | Maximum number of rules within mapping group: 1.\n",
      "INFO | 2025-06-27 16:05:14,610 | Mappings processed in 0.459 seconds.\n",
      "INFO | 2025-06-27 16:05:16,725 | Number of triples generated in total: 19367.\n"
     ]
    },
    {
     "name": "stdout",
     "output_type": "stream",
     "text": [
      "Knowledge graph generated.\n",
      "Knowledge graph 87/316 generated.\n",
      "Generating knowledge graph...\n"
     ]
    },
    {
     "name": "stderr",
     "output_type": "stream",
     "text": [
      "INFO | 2025-06-27 16:05:17,665 | 9 mapping rules retrieved.\n",
      "INFO | 2025-06-27 16:05:17,676 | Mapping partition with 9 groups generated.\n",
      "INFO | 2025-06-27 16:05:17,677 | Maximum number of rules within mapping group: 1.\n",
      "INFO | 2025-06-27 16:05:17,677 | Mappings processed in 0.463 seconds.\n",
      "INFO | 2025-06-27 16:05:20,034 | Number of triples generated in total: 20259.\n"
     ]
    },
    {
     "name": "stdout",
     "output_type": "stream",
     "text": [
      "Knowledge graph generated.\n",
      "Knowledge graph 88/316 generated.\n",
      "Generating knowledge graph...\n"
     ]
    },
    {
     "name": "stderr",
     "output_type": "stream",
     "text": [
      "INFO | 2025-06-27 16:05:21,155 | 9 mapping rules retrieved.\n",
      "INFO | 2025-06-27 16:05:21,168 | Mapping partition with 9 groups generated.\n",
      "INFO | 2025-06-27 16:05:21,169 | Maximum number of rules within mapping group: 1.\n",
      "INFO | 2025-06-27 16:05:21,170 | Mappings processed in 0.468 seconds.\n",
      "INFO | 2025-06-27 16:05:23,215 | Number of triples generated in total: 18642.\n"
     ]
    },
    {
     "name": "stdout",
     "output_type": "stream",
     "text": [
      "Knowledge graph generated.\n",
      "Knowledge graph 89/316 generated.\n",
      "Generating knowledge graph...\n"
     ]
    },
    {
     "name": "stderr",
     "output_type": "stream",
     "text": [
      "INFO | 2025-06-27 16:05:24,119 | 9 mapping rules retrieved.\n",
      "INFO | 2025-06-27 16:05:24,131 | Mapping partition with 9 groups generated.\n",
      "INFO | 2025-06-27 16:05:24,132 | Maximum number of rules within mapping group: 1.\n",
      "INFO | 2025-06-27 16:05:24,132 | Mappings processed in 0.478 seconds.\n",
      "INFO | 2025-06-27 16:05:26,365 | Number of triples generated in total: 19467.\n"
     ]
    },
    {
     "name": "stdout",
     "output_type": "stream",
     "text": [
      "Knowledge graph generated.\n",
      "Knowledge graph 90/316 generated.\n",
      "Generating knowledge graph...\n"
     ]
    },
    {
     "name": "stderr",
     "output_type": "stream",
     "text": [
      "INFO | 2025-06-27 16:05:27,291 | 9 mapping rules retrieved.\n",
      "INFO | 2025-06-27 16:05:27,303 | Mapping partition with 9 groups generated.\n",
      "INFO | 2025-06-27 16:05:27,304 | Maximum number of rules within mapping group: 1.\n",
      "INFO | 2025-06-27 16:05:27,305 | Mappings processed in 0.476 seconds.\n",
      "INFO | 2025-06-27 16:05:29,481 | Number of triples generated in total: 19464.\n"
     ]
    },
    {
     "name": "stdout",
     "output_type": "stream",
     "text": [
      "Knowledge graph generated.\n",
      "Knowledge graph 91/316 generated.\n",
      "Generating knowledge graph...\n"
     ]
    },
    {
     "name": "stderr",
     "output_type": "stream",
     "text": [
      "INFO | 2025-06-27 16:05:30,374 | 9 mapping rules retrieved.\n",
      "INFO | 2025-06-27 16:05:30,386 | Mapping partition with 9 groups generated.\n",
      "INFO | 2025-06-27 16:05:30,387 | Maximum number of rules within mapping group: 1.\n",
      "INFO | 2025-06-27 16:05:30,388 | Mappings processed in 0.465 seconds.\n",
      "INFO | 2025-06-27 16:05:32,599 | Number of triples generated in total: 19364.\n"
     ]
    },
    {
     "name": "stdout",
     "output_type": "stream",
     "text": [
      "Knowledge graph generated.\n",
      "Knowledge graph 92/316 generated.\n",
      "Generating knowledge graph...\n"
     ]
    },
    {
     "name": "stderr",
     "output_type": "stream",
     "text": [
      "INFO | 2025-06-27 16:05:33,572 | 9 mapping rules retrieved.\n",
      "INFO | 2025-06-27 16:05:33,584 | Mapping partition with 9 groups generated.\n",
      "INFO | 2025-06-27 16:05:33,586 | Maximum number of rules within mapping group: 1.\n",
      "INFO | 2025-06-27 16:05:33,586 | Mappings processed in 0.488 seconds.\n",
      "INFO | 2025-06-27 16:05:35,834 | Number of triples generated in total: 20277.\n"
     ]
    },
    {
     "name": "stdout",
     "output_type": "stream",
     "text": [
      "Knowledge graph generated.\n",
      "Knowledge graph 93/316 generated.\n",
      "Generating knowledge graph...\n"
     ]
    },
    {
     "name": "stderr",
     "output_type": "stream",
     "text": [
      "INFO | 2025-06-27 16:05:36,813 | 9 mapping rules retrieved.\n",
      "INFO | 2025-06-27 16:05:36,826 | Mapping partition with 9 groups generated.\n",
      "INFO | 2025-06-27 16:05:36,827 | Maximum number of rules within mapping group: 1.\n",
      "INFO | 2025-06-27 16:05:36,828 | Mappings processed in 0.471 seconds.\n",
      "INFO | 2025-06-27 16:05:38,928 | Number of triples generated in total: 20264.\n"
     ]
    },
    {
     "name": "stdout",
     "output_type": "stream",
     "text": [
      "Knowledge graph generated.\n",
      "Knowledge graph 94/316 generated.\n",
      "Generating knowledge graph...\n"
     ]
    },
    {
     "name": "stderr",
     "output_type": "stream",
     "text": [
      "INFO | 2025-06-27 16:05:39,901 | 9 mapping rules retrieved.\n",
      "INFO | 2025-06-27 16:05:39,914 | Mapping partition with 9 groups generated.\n",
      "INFO | 2025-06-27 16:05:39,915 | Maximum number of rules within mapping group: 1.\n",
      "INFO | 2025-06-27 16:05:39,915 | Mappings processed in 0.506 seconds.\n",
      "INFO | 2025-06-27 16:05:42,541 | Number of triples generated in total: 19144.\n"
     ]
    },
    {
     "name": "stdout",
     "output_type": "stream",
     "text": [
      "Knowledge graph generated.\n",
      "Knowledge graph 95/316 generated.\n",
      "Generating knowledge graph...\n"
     ]
    },
    {
     "name": "stderr",
     "output_type": "stream",
     "text": [
      "INFO | 2025-06-27 16:05:43,536 | 9 mapping rules retrieved.\n",
      "INFO | 2025-06-27 16:05:43,548 | Mapping partition with 9 groups generated.\n",
      "INFO | 2025-06-27 16:05:43,549 | Maximum number of rules within mapping group: 1.\n",
      "INFO | 2025-06-27 16:05:43,550 | Mappings processed in 0.474 seconds.\n",
      "INFO | 2025-06-27 16:05:45,748 | Number of triples generated in total: 20996.\n"
     ]
    },
    {
     "name": "stdout",
     "output_type": "stream",
     "text": [
      "Knowledge graph generated.\n",
      "Knowledge graph 96/316 generated.\n",
      "Generating knowledge graph...\n"
     ]
    },
    {
     "name": "stderr",
     "output_type": "stream",
     "text": [
      "INFO | 2025-06-27 16:05:50,097 | 9 mapping rules retrieved.\n",
      "INFO | 2025-06-27 16:05:50,109 | Mapping partition with 9 groups generated.\n",
      "INFO | 2025-06-27 16:05:50,110 | Maximum number of rules within mapping group: 1.\n",
      "INFO | 2025-06-27 16:05:50,111 | Mappings processed in 0.457 seconds.\n",
      "INFO | 2025-06-27 16:05:52,249 | Number of triples generated in total: 20190.\n"
     ]
    },
    {
     "name": "stdout",
     "output_type": "stream",
     "text": [
      "Knowledge graph generated.\n",
      "Knowledge graph 97/316 generated.\n",
      "Generating knowledge graph...\n"
     ]
    },
    {
     "name": "stderr",
     "output_type": "stream",
     "text": [
      "INFO | 2025-06-27 16:05:53,215 | 9 mapping rules retrieved.\n",
      "INFO | 2025-06-27 16:05:53,228 | Mapping partition with 9 groups generated.\n",
      "INFO | 2025-06-27 16:05:53,229 | Maximum number of rules within mapping group: 1.\n",
      "INFO | 2025-06-27 16:05:53,230 | Mappings processed in 0.479 seconds.\n",
      "INFO | 2025-06-27 16:05:55,323 | Number of triples generated in total: 19356.\n"
     ]
    },
    {
     "name": "stdout",
     "output_type": "stream",
     "text": [
      "Knowledge graph generated.\n",
      "Knowledge graph 98/316 generated.\n",
      "Generating knowledge graph...\n"
     ]
    },
    {
     "name": "stderr",
     "output_type": "stream",
     "text": [
      "INFO | 2025-06-27 16:05:56,244 | 9 mapping rules retrieved.\n",
      "INFO | 2025-06-27 16:05:56,256 | Mapping partition with 9 groups generated.\n",
      "INFO | 2025-06-27 16:05:56,257 | Maximum number of rules within mapping group: 1.\n",
      "INFO | 2025-06-27 16:05:56,258 | Mappings processed in 0.479 seconds.\n",
      "INFO | 2025-06-27 16:05:58,640 | Number of triples generated in total: 19797.\n"
     ]
    },
    {
     "name": "stdout",
     "output_type": "stream",
     "text": [
      "Knowledge graph generated.\n",
      "Knowledge graph 99/316 generated.\n",
      "Generating knowledge graph...\n"
     ]
    },
    {
     "name": "stderr",
     "output_type": "stream",
     "text": [
      "INFO | 2025-06-27 16:05:59,586 | 9 mapping rules retrieved.\n",
      "INFO | 2025-06-27 16:05:59,598 | Mapping partition with 9 groups generated.\n",
      "INFO | 2025-06-27 16:05:59,599 | Maximum number of rules within mapping group: 1.\n",
      "INFO | 2025-06-27 16:05:59,599 | Mappings processed in 0.488 seconds.\n",
      "INFO | 2025-06-27 16:06:01,700 | Number of triples generated in total: 21027.\n"
     ]
    },
    {
     "name": "stdout",
     "output_type": "stream",
     "text": [
      "Knowledge graph generated.\n",
      "Knowledge graph 100/316 generated.\n",
      "Generating knowledge graph...\n"
     ]
    },
    {
     "name": "stderr",
     "output_type": "stream",
     "text": [
      "INFO | 2025-06-27 16:06:02,689 | 9 mapping rules retrieved.\n",
      "INFO | 2025-06-27 16:06:02,700 | Mapping partition with 9 groups generated.\n",
      "INFO | 2025-06-27 16:06:02,701 | Maximum number of rules within mapping group: 1.\n",
      "INFO | 2025-06-27 16:06:02,702 | Mappings processed in 0.490 seconds.\n",
      "INFO | 2025-06-27 16:06:04,841 | Number of triples generated in total: 18607.\n"
     ]
    },
    {
     "name": "stdout",
     "output_type": "stream",
     "text": [
      "Knowledge graph generated.\n",
      "Knowledge graph 101/316 generated.\n",
      "Generating knowledge graph...\n"
     ]
    },
    {
     "name": "stderr",
     "output_type": "stream",
     "text": [
      "INFO | 2025-06-27 16:06:05,760 | 9 mapping rules retrieved.\n",
      "INFO | 2025-06-27 16:06:05,773 | Mapping partition with 9 groups generated.\n",
      "INFO | 2025-06-27 16:06:05,774 | Maximum number of rules within mapping group: 1.\n",
      "INFO | 2025-06-27 16:06:05,775 | Mappings processed in 0.494 seconds.\n",
      "INFO | 2025-06-27 16:06:07,930 | Number of triples generated in total: 19697.\n"
     ]
    },
    {
     "name": "stdout",
     "output_type": "stream",
     "text": [
      "Knowledge graph generated.\n",
      "Knowledge graph 102/316 generated.\n",
      "Generating knowledge graph...\n"
     ]
    },
    {
     "name": "stderr",
     "output_type": "stream",
     "text": [
      "INFO | 2025-06-27 16:06:08,865 | 9 mapping rules retrieved.\n",
      "INFO | 2025-06-27 16:06:08,876 | Mapping partition with 9 groups generated.\n",
      "INFO | 2025-06-27 16:06:08,877 | Maximum number of rules within mapping group: 1.\n",
      "INFO | 2025-06-27 16:06:08,878 | Mappings processed in 0.476 seconds.\n",
      "INFO | 2025-06-27 16:06:11,091 | Number of triples generated in total: 20133.\n"
     ]
    },
    {
     "name": "stdout",
     "output_type": "stream",
     "text": [
      "Knowledge graph generated.\n",
      "Knowledge graph 103/316 generated.\n",
      "Generating knowledge graph...\n"
     ]
    },
    {
     "name": "stderr",
     "output_type": "stream",
     "text": [
      "INFO | 2025-06-27 16:06:12,034 | 9 mapping rules retrieved.\n",
      "INFO | 2025-06-27 16:06:12,046 | Mapping partition with 9 groups generated.\n",
      "INFO | 2025-06-27 16:06:12,047 | Maximum number of rules within mapping group: 1.\n",
      "INFO | 2025-06-27 16:06:12,048 | Mappings processed in 0.487 seconds.\n",
      "INFO | 2025-06-27 16:06:14,344 | Number of triples generated in total: 19399.\n"
     ]
    },
    {
     "name": "stdout",
     "output_type": "stream",
     "text": [
      "Knowledge graph generated.\n",
      "Knowledge graph 104/316 generated.\n",
      "Generating knowledge graph...\n"
     ]
    },
    {
     "name": "stderr",
     "output_type": "stream",
     "text": [
      "INFO | 2025-06-27 16:06:15,372 | 9 mapping rules retrieved.\n",
      "INFO | 2025-06-27 16:06:15,383 | Mapping partition with 9 groups generated.\n",
      "INFO | 2025-06-27 16:06:15,385 | Maximum number of rules within mapping group: 1.\n",
      "INFO | 2025-06-27 16:06:15,386 | Mappings processed in 0.483 seconds.\n",
      "INFO | 2025-06-27 16:06:17,651 | Number of triples generated in total: 20554.\n"
     ]
    },
    {
     "name": "stdout",
     "output_type": "stream",
     "text": [
      "Knowledge graph generated.\n",
      "Knowledge graph 105/316 generated.\n",
      "Generating knowledge graph...\n"
     ]
    },
    {
     "name": "stderr",
     "output_type": "stream",
     "text": [
      "INFO | 2025-06-27 16:06:18,615 | 9 mapping rules retrieved.\n",
      "INFO | 2025-06-27 16:06:18,627 | Mapping partition with 9 groups generated.\n",
      "INFO | 2025-06-27 16:06:18,628 | Maximum number of rules within mapping group: 1.\n",
      "INFO | 2025-06-27 16:06:18,629 | Mappings processed in 0.464 seconds.\n",
      "INFO | 2025-06-27 16:06:20,878 | Number of triples generated in total: 18765.\n"
     ]
    },
    {
     "name": "stdout",
     "output_type": "stream",
     "text": [
      "Knowledge graph generated.\n",
      "Knowledge graph 106/316 generated.\n",
      "Generating knowledge graph...\n"
     ]
    },
    {
     "name": "stderr",
     "output_type": "stream",
     "text": [
      "INFO | 2025-06-27 16:06:21,760 | 9 mapping rules retrieved.\n",
      "INFO | 2025-06-27 16:06:21,771 | Mapping partition with 9 groups generated.\n",
      "INFO | 2025-06-27 16:06:21,773 | Maximum number of rules within mapping group: 1.\n",
      "INFO | 2025-06-27 16:06:21,774 | Mappings processed in 0.460 seconds.\n",
      "INFO | 2025-06-27 16:06:24,037 | Number of triples generated in total: 19497.\n"
     ]
    },
    {
     "name": "stdout",
     "output_type": "stream",
     "text": [
      "Knowledge graph generated.\n",
      "Knowledge graph 107/316 generated.\n",
      "Generating knowledge graph...\n"
     ]
    },
    {
     "name": "stderr",
     "output_type": "stream",
     "text": [
      "INFO | 2025-06-27 16:06:24,942 | 9 mapping rules retrieved.\n",
      "INFO | 2025-06-27 16:06:24,954 | Mapping partition with 9 groups generated.\n",
      "INFO | 2025-06-27 16:06:24,956 | Maximum number of rules within mapping group: 1.\n",
      "INFO | 2025-06-27 16:06:24,957 | Mappings processed in 0.469 seconds.\n",
      "INFO | 2025-06-27 16:06:27,152 | Number of triples generated in total: 19331.\n"
     ]
    },
    {
     "name": "stdout",
     "output_type": "stream",
     "text": [
      "Knowledge graph generated.\n",
      "Knowledge graph 108/316 generated.\n",
      "Generating knowledge graph...\n"
     ]
    },
    {
     "name": "stderr",
     "output_type": "stream",
     "text": [
      "INFO | 2025-06-27 16:06:28,068 | 9 mapping rules retrieved.\n",
      "INFO | 2025-06-27 16:06:28,079 | Mapping partition with 9 groups generated.\n",
      "INFO | 2025-06-27 16:06:28,081 | Maximum number of rules within mapping group: 1.\n",
      "INFO | 2025-06-27 16:06:28,081 | Mappings processed in 0.470 seconds.\n",
      "INFO | 2025-06-27 16:06:30,369 | Number of triples generated in total: 20095.\n"
     ]
    },
    {
     "name": "stdout",
     "output_type": "stream",
     "text": [
      "Knowledge graph generated.\n",
      "Knowledge graph 109/316 generated.\n",
      "Generating knowledge graph...\n"
     ]
    },
    {
     "name": "stderr",
     "output_type": "stream",
     "text": [
      "INFO | 2025-06-27 16:06:31,309 | 9 mapping rules retrieved.\n",
      "INFO | 2025-06-27 16:06:31,322 | Mapping partition with 9 groups generated.\n",
      "INFO | 2025-06-27 16:06:31,324 | Maximum number of rules within mapping group: 1.\n",
      "INFO | 2025-06-27 16:06:31,324 | Mappings processed in 0.456 seconds.\n",
      "INFO | 2025-06-27 16:06:33,608 | Number of triples generated in total: 20239.\n"
     ]
    },
    {
     "name": "stdout",
     "output_type": "stream",
     "text": [
      "Knowledge graph generated.\n",
      "Knowledge graph 110/316 generated.\n",
      "Generating knowledge graph...\n"
     ]
    },
    {
     "name": "stderr",
     "output_type": "stream",
     "text": [
      "INFO | 2025-06-27 16:06:34,542 | 9 mapping rules retrieved.\n",
      "INFO | 2025-06-27 16:06:34,553 | Mapping partition with 9 groups generated.\n",
      "INFO | 2025-06-27 16:06:34,555 | Maximum number of rules within mapping group: 1.\n",
      "INFO | 2025-06-27 16:06:34,555 | Mappings processed in 0.461 seconds.\n",
      "INFO | 2025-06-27 16:06:36,849 | Number of triples generated in total: 19067.\n"
     ]
    },
    {
     "name": "stdout",
     "output_type": "stream",
     "text": [
      "Knowledge graph generated.\n",
      "Knowledge graph 111/316 generated.\n",
      "Generating knowledge graph...\n"
     ]
    },
    {
     "name": "stderr",
     "output_type": "stream",
     "text": [
      "INFO | 2025-06-27 16:06:37,780 | 9 mapping rules retrieved.\n",
      "INFO | 2025-06-27 16:06:37,793 | Mapping partition with 9 groups generated.\n",
      "INFO | 2025-06-27 16:06:37,794 | Maximum number of rules within mapping group: 1.\n",
      "INFO | 2025-06-27 16:06:37,795 | Mappings processed in 0.470 seconds.\n",
      "INFO | 2025-06-27 16:06:40,065 | Number of triples generated in total: 19498.\n"
     ]
    },
    {
     "name": "stdout",
     "output_type": "stream",
     "text": [
      "Knowledge graph generated.\n",
      "Knowledge graph 112/316 generated.\n",
      "Generating knowledge graph...\n"
     ]
    },
    {
     "name": "stderr",
     "output_type": "stream",
     "text": [
      "INFO | 2025-06-27 16:06:40,974 | 9 mapping rules retrieved.\n",
      "INFO | 2025-06-27 16:06:40,985 | Mapping partition with 9 groups generated.\n",
      "INFO | 2025-06-27 16:06:40,986 | Maximum number of rules within mapping group: 1.\n",
      "INFO | 2025-06-27 16:06:40,987 | Mappings processed in 0.462 seconds.\n",
      "INFO | 2025-06-27 16:06:43,313 | Number of triples generated in total: 18304.\n"
     ]
    },
    {
     "name": "stdout",
     "output_type": "stream",
     "text": [
      "Knowledge graph generated.\n",
      "Knowledge graph 113/316 generated.\n",
      "Generating knowledge graph...\n"
     ]
    },
    {
     "name": "stderr",
     "output_type": "stream",
     "text": [
      "INFO | 2025-06-27 16:06:44,187 | 9 mapping rules retrieved.\n",
      "INFO | 2025-06-27 16:06:44,198 | Mapping partition with 9 groups generated.\n",
      "INFO | 2025-06-27 16:06:44,199 | Maximum number of rules within mapping group: 1.\n",
      "INFO | 2025-06-27 16:06:44,200 | Mappings processed in 0.463 seconds.\n",
      "INFO | 2025-06-27 16:06:46,565 | Number of triples generated in total: 18617.\n"
     ]
    },
    {
     "name": "stdout",
     "output_type": "stream",
     "text": [
      "Knowledge graph generated.\n",
      "Knowledge graph 114/316 generated.\n",
      "Generating knowledge graph...\n"
     ]
    },
    {
     "name": "stderr",
     "output_type": "stream",
     "text": [
      "INFO | 2025-06-27 16:06:47,474 | 9 mapping rules retrieved.\n",
      "INFO | 2025-06-27 16:06:47,486 | Mapping partition with 9 groups generated.\n",
      "INFO | 2025-06-27 16:06:47,487 | Maximum number of rules within mapping group: 1.\n",
      "INFO | 2025-06-27 16:06:47,488 | Mappings processed in 0.456 seconds.\n",
      "INFO | 2025-06-27 16:06:49,830 | Number of triples generated in total: 19193.\n"
     ]
    },
    {
     "name": "stdout",
     "output_type": "stream",
     "text": [
      "Knowledge graph generated.\n",
      "Knowledge graph 115/316 generated.\n",
      "Generating knowledge graph...\n"
     ]
    },
    {
     "name": "stderr",
     "output_type": "stream",
     "text": [
      "INFO | 2025-06-27 16:06:50,719 | 9 mapping rules retrieved.\n",
      "INFO | 2025-06-27 16:06:50,730 | Mapping partition with 9 groups generated.\n",
      "INFO | 2025-06-27 16:06:50,731 | Maximum number of rules within mapping group: 1.\n",
      "INFO | 2025-06-27 16:06:50,731 | Mappings processed in 0.460 seconds.\n",
      "INFO | 2025-06-27 16:06:53,153 | Number of triples generated in total: 19900.\n"
     ]
    },
    {
     "name": "stdout",
     "output_type": "stream",
     "text": [
      "Knowledge graph generated.\n",
      "Knowledge graph 116/316 generated.\n",
      "Generating knowledge graph...\n"
     ]
    },
    {
     "name": "stderr",
     "output_type": "stream",
     "text": [
      "INFO | 2025-06-27 16:06:54,079 | 9 mapping rules retrieved.\n",
      "INFO | 2025-06-27 16:06:54,090 | Mapping partition with 9 groups generated.\n",
      "INFO | 2025-06-27 16:06:54,091 | Maximum number of rules within mapping group: 1.\n",
      "INFO | 2025-06-27 16:06:54,092 | Mappings processed in 0.470 seconds.\n",
      "INFO | 2025-06-27 16:06:56,423 | Number of triples generated in total: 19692.\n"
     ]
    },
    {
     "name": "stdout",
     "output_type": "stream",
     "text": [
      "Knowledge graph generated.\n",
      "Knowledge graph 117/316 generated.\n",
      "Generating knowledge graph...\n"
     ]
    },
    {
     "name": "stderr",
     "output_type": "stream",
     "text": [
      "INFO | 2025-06-27 16:06:57,356 | 9 mapping rules retrieved.\n",
      "INFO | 2025-06-27 16:06:57,368 | Mapping partition with 9 groups generated.\n",
      "INFO | 2025-06-27 16:06:57,369 | Maximum number of rules within mapping group: 1.\n",
      "INFO | 2025-06-27 16:06:57,369 | Mappings processed in 0.468 seconds.\n",
      "INFO | 2025-06-27 16:06:59,823 | Number of triples generated in total: 20291.\n"
     ]
    },
    {
     "name": "stdout",
     "output_type": "stream",
     "text": [
      "Knowledge graph generated.\n",
      "Knowledge graph 118/316 generated.\n",
      "Generating knowledge graph...\n"
     ]
    },
    {
     "name": "stderr",
     "output_type": "stream",
     "text": [
      "INFO | 2025-06-27 16:07:04,709 | 9 mapping rules retrieved.\n",
      "INFO | 2025-06-27 16:07:04,719 | Mapping partition with 9 groups generated.\n",
      "INFO | 2025-06-27 16:07:04,721 | Maximum number of rules within mapping group: 1.\n",
      "INFO | 2025-06-27 16:07:04,721 | Mappings processed in 4.406 seconds.\n",
      "INFO | 2025-06-27 16:07:07,077 | Number of triples generated in total: 19313.\n"
     ]
    },
    {
     "name": "stdout",
     "output_type": "stream",
     "text": [
      "Knowledge graph generated.\n",
      "Knowledge graph 119/316 generated.\n",
      "Generating knowledge graph...\n"
     ]
    },
    {
     "name": "stderr",
     "output_type": "stream",
     "text": [
      "INFO | 2025-06-27 16:07:08,013 | 9 mapping rules retrieved.\n",
      "INFO | 2025-06-27 16:07:08,025 | Mapping partition with 9 groups generated.\n",
      "INFO | 2025-06-27 16:07:08,026 | Maximum number of rules within mapping group: 1.\n",
      "INFO | 2025-06-27 16:07:08,027 | Mappings processed in 0.488 seconds.\n",
      "INFO | 2025-06-27 16:07:10,380 | Number of triples generated in total: 18888.\n"
     ]
    },
    {
     "name": "stdout",
     "output_type": "stream",
     "text": [
      "Knowledge graph generated.\n",
      "Knowledge graph 120/316 generated.\n",
      "Generating knowledge graph...\n"
     ]
    },
    {
     "name": "stderr",
     "output_type": "stream",
     "text": [
      "INFO | 2025-06-27 16:07:11,273 | 9 mapping rules retrieved.\n",
      "INFO | 2025-06-27 16:07:11,285 | Mapping partition with 9 groups generated.\n",
      "INFO | 2025-06-27 16:07:11,286 | Maximum number of rules within mapping group: 1.\n",
      "INFO | 2025-06-27 16:07:11,286 | Mappings processed in 0.471 seconds.\n",
      "INFO | 2025-06-27 16:07:13,614 | Number of triples generated in total: 20430.\n"
     ]
    },
    {
     "name": "stdout",
     "output_type": "stream",
     "text": [
      "Knowledge graph generated.\n",
      "Knowledge graph 121/316 generated.\n",
      "Generating knowledge graph...\n"
     ]
    },
    {
     "name": "stderr",
     "output_type": "stream",
     "text": [
      "INFO | 2025-06-27 16:07:14,572 | 9 mapping rules retrieved.\n",
      "INFO | 2025-06-27 16:07:14,584 | Mapping partition with 9 groups generated.\n",
      "INFO | 2025-06-27 16:07:14,586 | Maximum number of rules within mapping group: 1.\n",
      "INFO | 2025-06-27 16:07:14,586 | Mappings processed in 0.479 seconds.\n",
      "INFO | 2025-06-27 16:07:16,895 | Number of triples generated in total: 19903.\n"
     ]
    },
    {
     "name": "stdout",
     "output_type": "stream",
     "text": [
      "Knowledge graph generated.\n",
      "Knowledge graph 122/316 generated.\n",
      "Generating knowledge graph...\n"
     ]
    },
    {
     "name": "stderr",
     "output_type": "stream",
     "text": [
      "INFO | 2025-06-27 16:07:17,870 | 9 mapping rules retrieved.\n",
      "INFO | 2025-06-27 16:07:17,882 | Mapping partition with 9 groups generated.\n",
      "INFO | 2025-06-27 16:07:17,883 | Maximum number of rules within mapping group: 1.\n",
      "INFO | 2025-06-27 16:07:17,884 | Mappings processed in 0.503 seconds.\n",
      "INFO | 2025-06-27 16:07:20,237 | Number of triples generated in total: 18662.\n"
     ]
    },
    {
     "name": "stdout",
     "output_type": "stream",
     "text": [
      "Knowledge graph generated.\n",
      "Knowledge graph 123/316 generated.\n",
      "Generating knowledge graph...\n"
     ]
    },
    {
     "name": "stderr",
     "output_type": "stream",
     "text": [
      "INFO | 2025-06-27 16:07:21,144 | 9 mapping rules retrieved.\n",
      "INFO | 2025-06-27 16:07:21,156 | Mapping partition with 9 groups generated.\n",
      "INFO | 2025-06-27 16:07:21,157 | Maximum number of rules within mapping group: 1.\n",
      "INFO | 2025-06-27 16:07:21,157 | Mappings processed in 0.471 seconds.\n",
      "INFO | 2025-06-27 16:07:23,532 | Number of triples generated in total: 18958.\n"
     ]
    },
    {
     "name": "stdout",
     "output_type": "stream",
     "text": [
      "Knowledge graph generated.\n",
      "Knowledge graph 124/316 generated.\n",
      "Generating knowledge graph...\n"
     ]
    },
    {
     "name": "stderr",
     "output_type": "stream",
     "text": [
      "INFO | 2025-06-27 16:07:24,457 | 9 mapping rules retrieved.\n",
      "INFO | 2025-06-27 16:07:24,470 | Mapping partition with 9 groups generated.\n",
      "INFO | 2025-06-27 16:07:24,471 | Maximum number of rules within mapping group: 1.\n",
      "INFO | 2025-06-27 16:07:24,471 | Mappings processed in 0.503 seconds.\n",
      "INFO | 2025-06-27 16:07:26,970 | Number of triples generated in total: 18088.\n"
     ]
    },
    {
     "name": "stdout",
     "output_type": "stream",
     "text": [
      "Knowledge graph generated.\n",
      "Knowledge graph 125/316 generated.\n",
      "Generating knowledge graph...\n"
     ]
    },
    {
     "name": "stderr",
     "output_type": "stream",
     "text": [
      "INFO | 2025-06-27 16:07:27,871 | 9 mapping rules retrieved.\n",
      "INFO | 2025-06-27 16:07:27,882 | Mapping partition with 9 groups generated.\n",
      "INFO | 2025-06-27 16:07:27,883 | Maximum number of rules within mapping group: 1.\n",
      "INFO | 2025-06-27 16:07:27,884 | Mappings processed in 0.480 seconds.\n",
      "INFO | 2025-06-27 16:07:30,252 | Number of triples generated in total: 19082.\n"
     ]
    },
    {
     "name": "stdout",
     "output_type": "stream",
     "text": [
      "Knowledge graph generated.\n",
      "Knowledge graph 126/316 generated.\n",
      "Generating knowledge graph...\n"
     ]
    },
    {
     "name": "stderr",
     "output_type": "stream",
     "text": [
      "INFO | 2025-06-27 16:07:31,179 | 9 mapping rules retrieved.\n",
      "INFO | 2025-06-27 16:07:31,189 | Mapping partition with 9 groups generated.\n",
      "INFO | 2025-06-27 16:07:31,190 | Maximum number of rules within mapping group: 1.\n",
      "INFO | 2025-06-27 16:07:31,191 | Mappings processed in 0.477 seconds.\n",
      "INFO | 2025-06-27 16:07:33,707 | Number of triples generated in total: 18500.\n"
     ]
    },
    {
     "name": "stdout",
     "output_type": "stream",
     "text": [
      "Knowledge graph generated.\n",
      "Knowledge graph 127/316 generated.\n",
      "Generating knowledge graph...\n"
     ]
    },
    {
     "name": "stderr",
     "output_type": "stream",
     "text": [
      "INFO | 2025-06-27 16:07:34,675 | 9 mapping rules retrieved.\n",
      "INFO | 2025-06-27 16:07:34,686 | Mapping partition with 9 groups generated.\n",
      "INFO | 2025-06-27 16:07:34,688 | Maximum number of rules within mapping group: 1.\n",
      "INFO | 2025-06-27 16:07:34,689 | Mappings processed in 0.470 seconds.\n",
      "INFO | 2025-06-27 16:07:37,259 | Number of triples generated in total: 19338.\n"
     ]
    },
    {
     "name": "stdout",
     "output_type": "stream",
     "text": [
      "Knowledge graph generated.\n",
      "Knowledge graph 128/316 generated.\n",
      "Generating knowledge graph...\n"
     ]
    },
    {
     "name": "stderr",
     "output_type": "stream",
     "text": [
      "INFO | 2025-06-27 16:07:38,185 | 9 mapping rules retrieved.\n",
      "INFO | 2025-06-27 16:07:38,196 | Mapping partition with 9 groups generated.\n",
      "INFO | 2025-06-27 16:07:38,197 | Maximum number of rules within mapping group: 1.\n",
      "INFO | 2025-06-27 16:07:38,198 | Mappings processed in 0.483 seconds.\n",
      "INFO | 2025-06-27 16:07:40,656 | Number of triples generated in total: 20273.\n"
     ]
    },
    {
     "name": "stdout",
     "output_type": "stream",
     "text": [
      "Knowledge graph generated.\n",
      "Knowledge graph 129/316 generated.\n",
      "Generating knowledge graph...\n"
     ]
    },
    {
     "name": "stderr",
     "output_type": "stream",
     "text": [
      "INFO | 2025-06-27 16:07:41,562 | 9 mapping rules retrieved.\n",
      "INFO | 2025-06-27 16:07:41,575 | Mapping partition with 9 groups generated.\n",
      "INFO | 2025-06-27 16:07:41,576 | Maximum number of rules within mapping group: 1.\n",
      "INFO | 2025-06-27 16:07:41,576 | Mappings processed in 0.467 seconds.\n",
      "INFO | 2025-06-27 16:07:44,094 | Number of triples generated in total: 18695.\n"
     ]
    },
    {
     "name": "stdout",
     "output_type": "stream",
     "text": [
      "Knowledge graph generated.\n",
      "Knowledge graph 130/316 generated.\n",
      "Generating knowledge graph...\n"
     ]
    },
    {
     "name": "stderr",
     "output_type": "stream",
     "text": [
      "INFO | 2025-06-27 16:07:44,994 | 9 mapping rules retrieved.\n",
      "INFO | 2025-06-27 16:07:45,006 | Mapping partition with 9 groups generated.\n",
      "INFO | 2025-06-27 16:07:45,007 | Maximum number of rules within mapping group: 1.\n",
      "INFO | 2025-06-27 16:07:45,008 | Mappings processed in 0.472 seconds.\n",
      "INFO | 2025-06-27 16:07:47,521 | Number of triples generated in total: 19192.\n"
     ]
    },
    {
     "name": "stdout",
     "output_type": "stream",
     "text": [
      "Knowledge graph generated.\n",
      "Knowledge graph 131/316 generated.\n",
      "Generating knowledge graph...\n"
     ]
    },
    {
     "name": "stderr",
     "output_type": "stream",
     "text": [
      "INFO | 2025-06-27 16:07:48,422 | 9 mapping rules retrieved.\n",
      "INFO | 2025-06-27 16:07:48,433 | Mapping partition with 9 groups generated.\n",
      "INFO | 2025-06-27 16:07:48,434 | Maximum number of rules within mapping group: 1.\n",
      "INFO | 2025-06-27 16:07:48,434 | Mappings processed in 0.475 seconds.\n",
      "INFO | 2025-06-27 16:07:50,977 | Number of triples generated in total: 19005.\n"
     ]
    },
    {
     "name": "stdout",
     "output_type": "stream",
     "text": [
      "Knowledge graph generated.\n",
      "Knowledge graph 132/316 generated.\n",
      "Generating knowledge graph...\n"
     ]
    },
    {
     "name": "stderr",
     "output_type": "stream",
     "text": [
      "INFO | 2025-06-27 16:07:51,876 | 9 mapping rules retrieved.\n",
      "INFO | 2025-06-27 16:07:51,888 | Mapping partition with 9 groups generated.\n",
      "INFO | 2025-06-27 16:07:51,889 | Maximum number of rules within mapping group: 1.\n",
      "INFO | 2025-06-27 16:07:51,889 | Mappings processed in 0.472 seconds.\n",
      "INFO | 2025-06-27 16:07:54,447 | Number of triples generated in total: 20143.\n"
     ]
    },
    {
     "name": "stdout",
     "output_type": "stream",
     "text": [
      "Knowledge graph generated.\n",
      "Knowledge graph 133/316 generated.\n",
      "Generating knowledge graph...\n"
     ]
    },
    {
     "name": "stderr",
     "output_type": "stream",
     "text": [
      "INFO | 2025-06-27 16:07:55,392 | 9 mapping rules retrieved.\n",
      "INFO | 2025-06-27 16:07:55,405 | Mapping partition with 9 groups generated.\n",
      "INFO | 2025-06-27 16:07:55,406 | Maximum number of rules within mapping group: 1.\n",
      "INFO | 2025-06-27 16:07:55,406 | Mappings processed in 0.488 seconds.\n",
      "INFO | 2025-06-27 16:07:57,955 | Number of triples generated in total: 18910.\n"
     ]
    },
    {
     "name": "stdout",
     "output_type": "stream",
     "text": [
      "Knowledge graph generated.\n",
      "Knowledge graph 134/316 generated.\n",
      "Generating knowledge graph...\n"
     ]
    },
    {
     "name": "stderr",
     "output_type": "stream",
     "text": [
      "INFO | 2025-06-27 16:07:58,870 | 9 mapping rules retrieved.\n",
      "INFO | 2025-06-27 16:07:58,883 | Mapping partition with 9 groups generated.\n",
      "INFO | 2025-06-27 16:07:58,884 | Maximum number of rules within mapping group: 1.\n",
      "INFO | 2025-06-27 16:07:58,885 | Mappings processed in 0.475 seconds.\n",
      "INFO | 2025-06-27 16:08:01,534 | Number of triples generated in total: 18400.\n"
     ]
    },
    {
     "name": "stdout",
     "output_type": "stream",
     "text": [
      "Knowledge graph generated.\n",
      "Knowledge graph 135/316 generated.\n",
      "Generating knowledge graph...\n"
     ]
    },
    {
     "name": "stderr",
     "output_type": "stream",
     "text": [
      "INFO | 2025-06-27 16:08:02,451 | 9 mapping rules retrieved.\n",
      "INFO | 2025-06-27 16:08:02,464 | Mapping partition with 9 groups generated.\n",
      "INFO | 2025-06-27 16:08:02,466 | Maximum number of rules within mapping group: 1.\n",
      "INFO | 2025-06-27 16:08:02,466 | Mappings processed in 0.480 seconds.\n",
      "INFO | 2025-06-27 16:08:05,132 | Number of triples generated in total: 19305.\n"
     ]
    },
    {
     "name": "stdout",
     "output_type": "stream",
     "text": [
      "Knowledge graph generated.\n",
      "Knowledge graph 136/316 generated.\n",
      "Generating knowledge graph...\n"
     ]
    },
    {
     "name": "stderr",
     "output_type": "stream",
     "text": [
      "INFO | 2025-06-27 16:08:06,045 | 9 mapping rules retrieved.\n",
      "INFO | 2025-06-27 16:08:06,057 | Mapping partition with 9 groups generated.\n",
      "INFO | 2025-06-27 16:08:06,058 | Maximum number of rules within mapping group: 1.\n",
      "INFO | 2025-06-27 16:08:06,059 | Mappings processed in 0.476 seconds.\n",
      "INFO | 2025-06-27 16:08:08,816 | Number of triples generated in total: 20198.\n"
     ]
    },
    {
     "name": "stdout",
     "output_type": "stream",
     "text": [
      "Knowledge graph generated.\n",
      "Knowledge graph 137/316 generated.\n",
      "Generating knowledge graph...\n"
     ]
    },
    {
     "name": "stderr",
     "output_type": "stream",
     "text": [
      "INFO | 2025-06-27 16:08:09,756 | 9 mapping rules retrieved.\n",
      "INFO | 2025-06-27 16:08:09,769 | Mapping partition with 9 groups generated.\n",
      "INFO | 2025-06-27 16:08:09,770 | Maximum number of rules within mapping group: 1.\n",
      "INFO | 2025-06-27 16:08:09,770 | Mappings processed in 0.481 seconds.\n",
      "INFO | 2025-06-27 16:08:12,503 | Number of triples generated in total: 20155.\n"
     ]
    },
    {
     "name": "stdout",
     "output_type": "stream",
     "text": [
      "Knowledge graph generated.\n",
      "Knowledge graph 138/316 generated.\n",
      "Generating knowledge graph...\n"
     ]
    },
    {
     "name": "stderr",
     "output_type": "stream",
     "text": [
      "INFO | 2025-06-27 16:08:13,458 | 9 mapping rules retrieved.\n",
      "INFO | 2025-06-27 16:08:13,470 | Mapping partition with 9 groups generated.\n",
      "INFO | 2025-06-27 16:08:13,471 | Maximum number of rules within mapping group: 1.\n",
      "INFO | 2025-06-27 16:08:13,471 | Mappings processed in 0.478 seconds.\n",
      "INFO | 2025-06-27 16:08:16,339 | Number of triples generated in total: 17849.\n"
     ]
    },
    {
     "name": "stdout",
     "output_type": "stream",
     "text": [
      "Knowledge graph generated.\n",
      "Knowledge graph 139/316 generated.\n",
      "Generating knowledge graph...\n"
     ]
    },
    {
     "name": "stderr",
     "output_type": "stream",
     "text": [
      "INFO | 2025-06-27 16:08:17,205 | 9 mapping rules retrieved.\n",
      "INFO | 2025-06-27 16:08:17,217 | Mapping partition with 9 groups generated.\n",
      "INFO | 2025-06-27 16:08:17,218 | Maximum number of rules within mapping group: 1.\n",
      "INFO | 2025-06-27 16:08:17,219 | Mappings processed in 0.464 seconds.\n",
      "INFO | 2025-06-27 16:08:20,140 | Number of triples generated in total: 20253.\n"
     ]
    },
    {
     "name": "stdout",
     "output_type": "stream",
     "text": [
      "Knowledge graph generated.\n",
      "Knowledge graph 140/316 generated.\n",
      "Generating knowledge graph...\n"
     ]
    },
    {
     "name": "stderr",
     "output_type": "stream",
     "text": [
      "INFO | 2025-06-27 16:08:21,069 | 9 mapping rules retrieved.\n",
      "INFO | 2025-06-27 16:08:21,080 | Mapping partition with 9 groups generated.\n",
      "INFO | 2025-06-27 16:08:21,081 | Maximum number of rules within mapping group: 1.\n",
      "INFO | 2025-06-27 16:08:21,081 | Mappings processed in 0.465 seconds.\n",
      "INFO | 2025-06-27 16:08:23,969 | Number of triples generated in total: 19626.\n"
     ]
    },
    {
     "name": "stdout",
     "output_type": "stream",
     "text": [
      "Knowledge graph generated.\n",
      "Knowledge graph 141/316 generated.\n",
      "Generating knowledge graph...\n"
     ]
    },
    {
     "name": "stderr",
     "output_type": "stream",
     "text": [
      "INFO | 2025-06-27 16:08:24,904 | 9 mapping rules retrieved.\n",
      "INFO | 2025-06-27 16:08:24,917 | Mapping partition with 9 groups generated.\n",
      "INFO | 2025-06-27 16:08:24,918 | Maximum number of rules within mapping group: 1.\n",
      "INFO | 2025-06-27 16:08:24,918 | Mappings processed in 0.480 seconds.\n",
      "INFO | 2025-06-27 16:08:27,782 | Number of triples generated in total: 19212.\n"
     ]
    },
    {
     "name": "stdout",
     "output_type": "stream",
     "text": [
      "Knowledge graph generated.\n",
      "Knowledge graph 142/316 generated.\n",
      "Generating knowledge graph...\n"
     ]
    },
    {
     "name": "stderr",
     "output_type": "stream",
     "text": [
      "INFO | 2025-06-27 16:08:28,703 | 9 mapping rules retrieved.\n",
      "INFO | 2025-06-27 16:08:28,713 | Mapping partition with 9 groups generated.\n",
      "INFO | 2025-06-27 16:08:28,715 | Maximum number of rules within mapping group: 1.\n",
      "INFO | 2025-06-27 16:08:28,715 | Mappings processed in 0.464 seconds.\n",
      "INFO | 2025-06-27 16:08:31,648 | Number of triples generated in total: 19274.\n"
     ]
    },
    {
     "name": "stdout",
     "output_type": "stream",
     "text": [
      "Knowledge graph generated.\n",
      "Knowledge graph 143/316 generated.\n",
      "Generating knowledge graph...\n"
     ]
    },
    {
     "name": "stderr",
     "output_type": "stream",
     "text": [
      "INFO | 2025-06-27 16:08:32,565 | 9 mapping rules retrieved.\n",
      "INFO | 2025-06-27 16:08:32,577 | Mapping partition with 9 groups generated.\n",
      "INFO | 2025-06-27 16:08:32,578 | Maximum number of rules within mapping group: 1.\n",
      "INFO | 2025-06-27 16:08:32,579 | Mappings processed in 0.476 seconds.\n",
      "INFO | 2025-06-27 16:08:35,647 | Number of triples generated in total: 19956.\n"
     ]
    },
    {
     "name": "stdout",
     "output_type": "stream",
     "text": [
      "Knowledge graph generated.\n",
      "Knowledge graph 144/316 generated.\n",
      "Generating knowledge graph...\n"
     ]
    },
    {
     "name": "stderr",
     "output_type": "stream",
     "text": [
      "INFO | 2025-06-27 16:08:36,585 | 9 mapping rules retrieved.\n",
      "INFO | 2025-06-27 16:08:36,597 | Mapping partition with 9 groups generated.\n",
      "INFO | 2025-06-27 16:08:36,598 | Maximum number of rules within mapping group: 1.\n",
      "INFO | 2025-06-27 16:08:36,599 | Mappings processed in 0.472 seconds.\n",
      "INFO | 2025-06-27 16:08:39,647 | Number of triples generated in total: 20071.\n"
     ]
    },
    {
     "name": "stdout",
     "output_type": "stream",
     "text": [
      "Knowledge graph generated.\n",
      "Knowledge graph 145/316 generated.\n",
      "Generating knowledge graph...\n"
     ]
    },
    {
     "name": "stderr",
     "output_type": "stream",
     "text": [
      "INFO | 2025-06-27 16:08:40,590 | 9 mapping rules retrieved.\n",
      "INFO | 2025-06-27 16:08:40,601 | Mapping partition with 9 groups generated.\n",
      "INFO | 2025-06-27 16:08:40,602 | Maximum number of rules within mapping group: 1.\n",
      "INFO | 2025-06-27 16:08:40,603 | Mappings processed in 0.464 seconds.\n",
      "INFO | 2025-06-27 16:08:43,737 | Number of triples generated in total: 19317.\n"
     ]
    },
    {
     "name": "stdout",
     "output_type": "stream",
     "text": [
      "Knowledge graph generated.\n",
      "Knowledge graph 146/316 generated.\n",
      "Generating knowledge graph...\n"
     ]
    },
    {
     "name": "stderr",
     "output_type": "stream",
     "text": [
      "INFO | 2025-06-27 16:08:44,661 | 9 mapping rules retrieved.\n",
      "INFO | 2025-06-27 16:08:44,673 | Mapping partition with 9 groups generated.\n",
      "INFO | 2025-06-27 16:08:44,674 | Maximum number of rules within mapping group: 1.\n",
      "INFO | 2025-06-27 16:08:44,675 | Mappings processed in 0.463 seconds.\n",
      "INFO | 2025-06-27 16:08:47,682 | Number of triples generated in total: 19784.\n"
     ]
    },
    {
     "name": "stdout",
     "output_type": "stream",
     "text": [
      "Knowledge graph generated.\n",
      "Knowledge graph 147/316 generated.\n",
      "Generating knowledge graph...\n"
     ]
    },
    {
     "name": "stderr",
     "output_type": "stream",
     "text": [
      "INFO | 2025-06-27 16:08:53,294 | 9 mapping rules retrieved.\n",
      "INFO | 2025-06-27 16:08:53,307 | Mapping partition with 9 groups generated.\n",
      "INFO | 2025-06-27 16:08:53,308 | Maximum number of rules within mapping group: 1.\n",
      "INFO | 2025-06-27 16:08:53,308 | Mappings processed in 0.476 seconds.\n",
      "INFO | 2025-06-27 16:08:56,324 | Number of triples generated in total: 20415.\n"
     ]
    },
    {
     "name": "stdout",
     "output_type": "stream",
     "text": [
      "Knowledge graph generated.\n",
      "Knowledge graph 148/316 generated.\n",
      "Generating knowledge graph...\n"
     ]
    },
    {
     "name": "stderr",
     "output_type": "stream",
     "text": [
      "INFO | 2025-06-27 16:08:57,299 | 9 mapping rules retrieved.\n",
      "INFO | 2025-06-27 16:08:57,311 | Mapping partition with 9 groups generated.\n",
      "INFO | 2025-06-27 16:08:57,312 | Maximum number of rules within mapping group: 1.\n",
      "INFO | 2025-06-27 16:08:57,312 | Mappings processed in 0.482 seconds.\n",
      "INFO | 2025-06-27 16:09:00,328 | Number of triples generated in total: 19255.\n"
     ]
    },
    {
     "name": "stdout",
     "output_type": "stream",
     "text": [
      "Knowledge graph generated.\n",
      "Knowledge graph 149/316 generated.\n",
      "Generating knowledge graph...\n"
     ]
    },
    {
     "name": "stderr",
     "output_type": "stream",
     "text": [
      "INFO | 2025-06-27 16:09:01,230 | 9 mapping rules retrieved.\n",
      "INFO | 2025-06-27 16:09:01,241 | Mapping partition with 9 groups generated.\n",
      "INFO | 2025-06-27 16:09:01,242 | Maximum number of rules within mapping group: 1.\n",
      "INFO | 2025-06-27 16:09:01,243 | Mappings processed in 0.474 seconds.\n",
      "INFO | 2025-06-27 16:09:04,260 | Number of triples generated in total: 19503.\n"
     ]
    },
    {
     "name": "stdout",
     "output_type": "stream",
     "text": [
      "Knowledge graph generated.\n",
      "Knowledge graph 150/316 generated.\n",
      "Generating knowledge graph...\n"
     ]
    },
    {
     "name": "stderr",
     "output_type": "stream",
     "text": [
      "INFO | 2025-06-27 16:09:05,208 | 9 mapping rules retrieved.\n",
      "INFO | 2025-06-27 16:09:05,219 | Mapping partition with 9 groups generated.\n",
      "INFO | 2025-06-27 16:09:05,220 | Maximum number of rules within mapping group: 1.\n",
      "INFO | 2025-06-27 16:09:05,221 | Mappings processed in 0.493 seconds.\n",
      "INFO | 2025-06-27 16:09:08,306 | Number of triples generated in total: 20192.\n"
     ]
    },
    {
     "name": "stdout",
     "output_type": "stream",
     "text": [
      "Knowledge graph generated.\n",
      "Knowledge graph 151/316 generated.\n",
      "Generating knowledge graph...\n"
     ]
    },
    {
     "name": "stderr",
     "output_type": "stream",
     "text": [
      "INFO | 2025-06-27 16:09:09,239 | 9 mapping rules retrieved.\n",
      "INFO | 2025-06-27 16:09:09,251 | Mapping partition with 9 groups generated.\n",
      "INFO | 2025-06-27 16:09:09,252 | Maximum number of rules within mapping group: 1.\n",
      "INFO | 2025-06-27 16:09:09,253 | Mappings processed in 0.479 seconds.\n",
      "INFO | 2025-06-27 16:09:12,287 | Number of triples generated in total: 19437.\n"
     ]
    },
    {
     "name": "stdout",
     "output_type": "stream",
     "text": [
      "Knowledge graph generated.\n",
      "Knowledge graph 152/316 generated.\n",
      "Generating knowledge graph...\n"
     ]
    },
    {
     "name": "stderr",
     "output_type": "stream",
     "text": [
      "INFO | 2025-06-27 16:09:13,243 | 9 mapping rules retrieved.\n",
      "INFO | 2025-06-27 16:09:13,255 | Mapping partition with 9 groups generated.\n",
      "INFO | 2025-06-27 16:09:13,256 | Maximum number of rules within mapping group: 1.\n",
      "INFO | 2025-06-27 16:09:13,257 | Mappings processed in 0.514 seconds.\n",
      "INFO | 2025-06-27 16:09:16,269 | Number of triples generated in total: 19850.\n"
     ]
    },
    {
     "name": "stdout",
     "output_type": "stream",
     "text": [
      "Knowledge graph generated.\n",
      "Knowledge graph 153/316 generated.\n",
      "Generating knowledge graph...\n"
     ]
    },
    {
     "name": "stderr",
     "output_type": "stream",
     "text": [
      "INFO | 2025-06-27 16:09:17,203 | 9 mapping rules retrieved.\n",
      "INFO | 2025-06-27 16:09:17,214 | Mapping partition with 9 groups generated.\n",
      "INFO | 2025-06-27 16:09:17,215 | Maximum number of rules within mapping group: 1.\n",
      "INFO | 2025-06-27 16:09:17,216 | Mappings processed in 0.483 seconds.\n",
      "INFO | 2025-06-27 16:09:20,393 | Number of triples generated in total: 19056.\n"
     ]
    },
    {
     "name": "stdout",
     "output_type": "stream",
     "text": [
      "Knowledge graph generated.\n",
      "Knowledge graph 154/316 generated.\n",
      "Generating knowledge graph...\n"
     ]
    },
    {
     "name": "stderr",
     "output_type": "stream",
     "text": [
      "INFO | 2025-06-27 16:09:21,331 | 9 mapping rules retrieved.\n",
      "INFO | 2025-06-27 16:09:21,344 | Mapping partition with 9 groups generated.\n",
      "INFO | 2025-06-27 16:09:21,345 | Maximum number of rules within mapping group: 1.\n",
      "INFO | 2025-06-27 16:09:21,346 | Mappings processed in 0.487 seconds.\n",
      "INFO | 2025-06-27 16:09:24,460 | Number of triples generated in total: 18927.\n"
     ]
    },
    {
     "name": "stdout",
     "output_type": "stream",
     "text": [
      "Knowledge graph generated.\n",
      "Knowledge graph 155/316 generated.\n",
      "Generating knowledge graph...\n"
     ]
    },
    {
     "name": "stderr",
     "output_type": "stream",
     "text": [
      "INFO | 2025-06-27 16:09:25,374 | 9 mapping rules retrieved.\n",
      "INFO | 2025-06-27 16:09:25,385 | Mapping partition with 9 groups generated.\n",
      "INFO | 2025-06-27 16:09:25,386 | Maximum number of rules within mapping group: 1.\n",
      "INFO | 2025-06-27 16:09:25,387 | Mappings processed in 0.467 seconds.\n",
      "INFO | 2025-06-27 16:09:28,590 | Number of triples generated in total: 20105.\n"
     ]
    },
    {
     "name": "stdout",
     "output_type": "stream",
     "text": [
      "Knowledge graph generated.\n",
      "Knowledge graph 156/316 generated.\n",
      "Generating knowledge graph...\n"
     ]
    },
    {
     "name": "stderr",
     "output_type": "stream",
     "text": [
      "INFO | 2025-06-27 16:09:29,513 | 9 mapping rules retrieved.\n",
      "INFO | 2025-06-27 16:09:29,526 | Mapping partition with 9 groups generated.\n",
      "INFO | 2025-06-27 16:09:29,527 | Maximum number of rules within mapping group: 1.\n",
      "INFO | 2025-06-27 16:09:29,528 | Mappings processed in 0.473 seconds.\n",
      "INFO | 2025-06-27 16:09:32,791 | Number of triples generated in total: 21541.\n"
     ]
    },
    {
     "name": "stdout",
     "output_type": "stream",
     "text": [
      "Knowledge graph generated.\n",
      "Knowledge graph 157/316 generated.\n",
      "Generating knowledge graph...\n"
     ]
    },
    {
     "name": "stderr",
     "output_type": "stream",
     "text": [
      "INFO | 2025-06-27 16:09:33,769 | 9 mapping rules retrieved.\n",
      "INFO | 2025-06-27 16:09:33,780 | Mapping partition with 9 groups generated.\n",
      "INFO | 2025-06-27 16:09:33,781 | Maximum number of rules within mapping group: 1.\n",
      "INFO | 2025-06-27 16:09:33,782 | Mappings processed in 0.466 seconds.\n",
      "INFO | 2025-06-27 16:09:36,987 | Number of triples generated in total: 19008.\n"
     ]
    },
    {
     "name": "stdout",
     "output_type": "stream",
     "text": [
      "Knowledge graph generated.\n",
      "Knowledge graph 158/316 generated.\n",
      "Generating knowledge graph...\n"
     ]
    },
    {
     "name": "stderr",
     "output_type": "stream",
     "text": [
      "INFO | 2025-06-27 16:09:37,918 | 9 mapping rules retrieved.\n",
      "INFO | 2025-06-27 16:09:37,930 | Mapping partition with 9 groups generated.\n",
      "INFO | 2025-06-27 16:09:37,931 | Maximum number of rules within mapping group: 1.\n",
      "INFO | 2025-06-27 16:09:37,932 | Mappings processed in 0.476 seconds.\n",
      "INFO | 2025-06-27 16:09:41,208 | Number of triples generated in total: 18420.\n"
     ]
    },
    {
     "name": "stdout",
     "output_type": "stream",
     "text": [
      "Knowledge graph generated.\n",
      "Knowledge graph 159/316 generated.\n",
      "Generating knowledge graph...\n"
     ]
    },
    {
     "name": "stderr",
     "output_type": "stream",
     "text": [
      "INFO | 2025-06-27 16:09:42,112 | 9 mapping rules retrieved.\n",
      "INFO | 2025-06-27 16:09:42,124 | Mapping partition with 9 groups generated.\n",
      "INFO | 2025-06-27 16:09:42,125 | Maximum number of rules within mapping group: 1.\n",
      "INFO | 2025-06-27 16:09:42,126 | Mappings processed in 0.477 seconds.\n",
      "INFO | 2025-06-27 16:09:45,428 | Number of triples generated in total: 18743.\n"
     ]
    },
    {
     "name": "stdout",
     "output_type": "stream",
     "text": [
      "Knowledge graph generated.\n",
      "Knowledge graph 160/316 generated.\n",
      "Generating knowledge graph...\n"
     ]
    },
    {
     "name": "stderr",
     "output_type": "stream",
     "text": [
      "INFO | 2025-06-27 16:09:46,346 | 9 mapping rules retrieved.\n",
      "INFO | 2025-06-27 16:09:46,357 | Mapping partition with 9 groups generated.\n",
      "INFO | 2025-06-27 16:09:46,359 | Maximum number of rules within mapping group: 1.\n",
      "INFO | 2025-06-27 16:09:46,359 | Mappings processed in 0.479 seconds.\n",
      "INFO | 2025-06-27 16:09:49,574 | Number of triples generated in total: 19295.\n"
     ]
    },
    {
     "name": "stdout",
     "output_type": "stream",
     "text": [
      "Knowledge graph generated.\n",
      "Knowledge graph 161/316 generated.\n",
      "Generating knowledge graph...\n"
     ]
    },
    {
     "name": "stderr",
     "output_type": "stream",
     "text": [
      "INFO | 2025-06-27 16:09:50,503 | 9 mapping rules retrieved.\n",
      "INFO | 2025-06-27 16:09:50,513 | Mapping partition with 9 groups generated.\n",
      "INFO | 2025-06-27 16:09:50,515 | Maximum number of rules within mapping group: 1.\n",
      "INFO | 2025-06-27 16:09:50,515 | Mappings processed in 0.476 seconds.\n",
      "INFO | 2025-06-27 16:09:53,787 | Number of triples generated in total: 17772.\n"
     ]
    },
    {
     "name": "stdout",
     "output_type": "stream",
     "text": [
      "Knowledge graph generated.\n",
      "Knowledge graph 162/316 generated.\n",
      "Generating knowledge graph...\n"
     ]
    },
    {
     "name": "stderr",
     "output_type": "stream",
     "text": [
      "INFO | 2025-06-27 16:09:54,783 | 9 mapping rules retrieved.\n",
      "INFO | 2025-06-27 16:09:54,795 | Mapping partition with 9 groups generated.\n",
      "INFO | 2025-06-27 16:09:54,796 | Maximum number of rules within mapping group: 1.\n",
      "INFO | 2025-06-27 16:09:54,798 | Mappings processed in 0.466 seconds.\n",
      "INFO | 2025-06-27 16:09:58,096 | Number of triples generated in total: 18633.\n"
     ]
    },
    {
     "name": "stdout",
     "output_type": "stream",
     "text": [
      "Knowledge graph generated.\n",
      "Knowledge graph 163/316 generated.\n",
      "Generating knowledge graph...\n"
     ]
    },
    {
     "name": "stderr",
     "output_type": "stream",
     "text": [
      "INFO | 2025-06-27 16:09:59,042 | 9 mapping rules retrieved.\n",
      "INFO | 2025-06-27 16:09:59,054 | Mapping partition with 9 groups generated.\n",
      "INFO | 2025-06-27 16:09:59,055 | Maximum number of rules within mapping group: 1.\n",
      "INFO | 2025-06-27 16:09:59,056 | Mappings processed in 0.473 seconds.\n",
      "INFO | 2025-06-27 16:10:02,445 | Number of triples generated in total: 19019.\n"
     ]
    },
    {
     "name": "stdout",
     "output_type": "stream",
     "text": [
      "Knowledge graph generated.\n",
      "Knowledge graph 164/316 generated.\n",
      "Generating knowledge graph...\n"
     ]
    },
    {
     "name": "stderr",
     "output_type": "stream",
     "text": [
      "INFO | 2025-06-27 16:10:03,462 | 9 mapping rules retrieved.\n",
      "INFO | 2025-06-27 16:10:03,474 | Mapping partition with 9 groups generated.\n",
      "INFO | 2025-06-27 16:10:03,475 | Maximum number of rules within mapping group: 1.\n",
      "INFO | 2025-06-27 16:10:03,476 | Mappings processed in 0.462 seconds.\n",
      "INFO | 2025-06-27 16:10:06,840 | Number of triples generated in total: 18438.\n"
     ]
    },
    {
     "name": "stdout",
     "output_type": "stream",
     "text": [
      "Knowledge graph generated.\n",
      "Knowledge graph 165/316 generated.\n",
      "Generating knowledge graph...\n"
     ]
    },
    {
     "name": "stderr",
     "output_type": "stream",
     "text": [
      "INFO | 2025-06-27 16:10:07,819 | 9 mapping rules retrieved.\n",
      "INFO | 2025-06-27 16:10:07,834 | Mapping partition with 9 groups generated.\n",
      "INFO | 2025-06-27 16:10:07,835 | Maximum number of rules within mapping group: 1.\n",
      "INFO | 2025-06-27 16:10:07,836 | Mappings processed in 0.499 seconds.\n",
      "INFO | 2025-06-27 16:10:11,275 | Number of triples generated in total: 17809.\n"
     ]
    },
    {
     "name": "stdout",
     "output_type": "stream",
     "text": [
      "Knowledge graph generated.\n",
      "Knowledge graph 166/316 generated.\n",
      "Generating knowledge graph...\n"
     ]
    },
    {
     "name": "stderr",
     "output_type": "stream",
     "text": [
      "INFO | 2025-06-27 16:10:12,330 | 9 mapping rules retrieved.\n",
      "INFO | 2025-06-27 16:10:12,348 | Mapping partition with 9 groups generated.\n",
      "INFO | 2025-06-27 16:10:12,351 | Maximum number of rules within mapping group: 1.\n",
      "INFO | 2025-06-27 16:10:12,352 | Mappings processed in 0.497 seconds.\n"
     ]
    }
   ],
   "source": [
    "mapper = LogMapper(data=event_data, output_encoding='z3')\n",
    "z3_data = mapper.get_mapped_data()"
   ]
  }
 ],
 "metadata": {
  "kernelspec": {
   "display_name": "base",
   "language": "python",
   "name": "python3"
  },
  "language_info": {
   "codemirror_mode": {
    "name": "ipython",
    "version": 3
   },
   "file_extension": ".py",
   "mimetype": "text/x-python",
   "name": "python",
   "nbconvert_exporter": "python",
   "pygments_lexer": "ipython3",
   "version": "3.9.21"
  }
 },
 "nbformat": 4,
 "nbformat_minor": 5
}
