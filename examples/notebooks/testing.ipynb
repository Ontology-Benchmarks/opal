{
 "cells": [
  {
   "cell_type": "code",
   "execution_count": 1,
   "id": "b2fda7e8",
   "metadata": {},
   "outputs": [],
   "source": [
    "import opal\n",
    "import kglab\n",
    "import rdflib\n",
    "import z3\n",
    "import dateutil.parser\n",
    "import re"
   ]
  },
  {
   "cell_type": "code",
   "execution_count": 2,
   "id": "99cdd9c8",
   "metadata": {},
   "outputs": [],
   "source": [
    "\n",
    "from opal.logic.z3.z3_literal import Z3Literal\n",
    "from opal.data.event_data import EventData\n",
    "from opal.data.mapper import LogMapper\n",
    "from opal.data.processor import LogProcessor\n",
    "from opal.logic.base.encoding import LogicEncoding\n",
    "\n",
    "from rdflib import Graph\n",
    "\n",
    "from z3 import RealSort"
   ]
  },
  {
   "cell_type": "code",
   "execution_count": 3,
   "id": "681b557e",
   "metadata": {},
   "outputs": [],
   "source": [
    "data_dir = '../data/'\n",
    "ttl_data_file = data_dir + 'P1_log_instances.ttl'\n",
    "sample_log_file = data_dir + 'sample_log.csv'"
   ]
  },
  {
   "cell_type": "markdown",
   "id": "264b3e46",
   "metadata": {},
   "source": [
    "## Testing Mapping"
   ]
  },
  {
   "cell_type": "code",
   "execution_count": 4,
   "id": "d3acd55a",
   "metadata": {},
   "outputs": [],
   "source": [
    "# load the log\n",
    "col_dict = {'caseID' : 'caseID', 'activityID' : 'activityID', 'timestamp' : 'timestamp', 'eventID' : None}\n",
    "processor = LogProcessor(col_dict=col_dict, log_path=sample_log_file)\n",
    "event_data = processor.load_log()"
   ]
  },
  {
   "cell_type": "code",
   "execution_count": 5,
   "id": "22e0d7c0",
   "metadata": {},
   "outputs": [
    {
     "data": {
      "text/html": [
       "<div>\n",
       "<style scoped>\n",
       "    .dataframe tbody tr th:only-of-type {\n",
       "        vertical-align: middle;\n",
       "    }\n",
       "\n",
       "    .dataframe tbody tr th {\n",
       "        vertical-align: top;\n",
       "    }\n",
       "\n",
       "    .dataframe thead th {\n",
       "        text-align: right;\n",
       "    }\n",
       "</style>\n",
       "<table border=\"1\" class=\"dataframe\">\n",
       "  <thead>\n",
       "    <tr style=\"text-align: right;\">\n",
       "      <th></th>\n",
       "      <th>caseID</th>\n",
       "      <th>activityID</th>\n",
       "      <th>eventID</th>\n",
       "      <th>timestamp</th>\n",
       "      <th>resourceID</th>\n",
       "      <th>processID</th>\n",
       "    </tr>\n",
       "  </thead>\n",
       "  <tbody>\n",
       "    <tr>\n",
       "      <th>0</th>\n",
       "      <td>C_case_0</td>\n",
       "      <td>A_activity_A</td>\n",
       "      <td>E_0</td>\n",
       "      <td>2016-01-01 09:00:00+00:00</td>\n",
       "      <td>R_user_1</td>\n",
       "      <td>P1</td>\n",
       "    </tr>\n",
       "    <tr>\n",
       "      <th>1</th>\n",
       "      <td>C_case_0</td>\n",
       "      <td>A_activity_A</td>\n",
       "      <td>E_1</td>\n",
       "      <td>2016-01-01 09:15:00+00:00</td>\n",
       "      <td>R_user_1</td>\n",
       "      <td>P1</td>\n",
       "    </tr>\n",
       "    <tr>\n",
       "      <th>2</th>\n",
       "      <td>C_case_0</td>\n",
       "      <td>A_activity_C</td>\n",
       "      <td>E_2</td>\n",
       "      <td>2016-01-01 09:35:00+00:00</td>\n",
       "      <td>R_user_1</td>\n",
       "      <td>P1</td>\n",
       "    </tr>\n",
       "    <tr>\n",
       "      <th>3</th>\n",
       "      <td>C_case_1</td>\n",
       "      <td>A_activity_A</td>\n",
       "      <td>E_3</td>\n",
       "      <td>2016-01-02 09:00:00+00:00</td>\n",
       "      <td>R_user_1</td>\n",
       "      <td>P1</td>\n",
       "    </tr>\n",
       "    <tr>\n",
       "      <th>4</th>\n",
       "      <td>C_case_1</td>\n",
       "      <td>A_activity_B</td>\n",
       "      <td>E_4</td>\n",
       "      <td>2016-01-02 09:00:00+00:00</td>\n",
       "      <td>R_user_0</td>\n",
       "      <td>P1</td>\n",
       "    </tr>\n",
       "    <tr>\n",
       "      <th>5</th>\n",
       "      <td>C_case_1</td>\n",
       "      <td>A_activity_C</td>\n",
       "      <td>E_5</td>\n",
       "      <td>2016-01-03 09:00:00+00:00</td>\n",
       "      <td>R_user_0</td>\n",
       "      <td>P1</td>\n",
       "    </tr>\n",
       "    <tr>\n",
       "      <th>6</th>\n",
       "      <td>C_case_2</td>\n",
       "      <td>A_activity_A</td>\n",
       "      <td>E_6</td>\n",
       "      <td>2016-01-01 09:00:00+00:00</td>\n",
       "      <td>R_user_1</td>\n",
       "      <td>P1</td>\n",
       "    </tr>\n",
       "    <tr>\n",
       "      <th>7</th>\n",
       "      <td>C_case_2</td>\n",
       "      <td>A_activity_B</td>\n",
       "      <td>E_7</td>\n",
       "      <td>2016-01-01 09:10:00+00:00</td>\n",
       "      <td>R_user_1</td>\n",
       "      <td>P1</td>\n",
       "    </tr>\n",
       "    <tr>\n",
       "      <th>8</th>\n",
       "      <td>C_case_2</td>\n",
       "      <td>A_activity_C</td>\n",
       "      <td>E_8</td>\n",
       "      <td>2016-01-01 09:15:00+00:00</td>\n",
       "      <td>R_user_2</td>\n",
       "      <td>P1</td>\n",
       "    </tr>\n",
       "    <tr>\n",
       "      <th>9</th>\n",
       "      <td>C_case_2</td>\n",
       "      <td>A_activity_D</td>\n",
       "      <td>E_9</td>\n",
       "      <td>2017-01-06 10:35:00+00:00</td>\n",
       "      <td>R_user_1</td>\n",
       "      <td>P1</td>\n",
       "    </tr>\n",
       "  </tbody>\n",
       "</table>\n",
       "</div>"
      ],
      "text/plain": [
       "     caseID    activityID eventID                 timestamp resourceID  \\\n",
       "0  C_case_0  A_activity_A     E_0 2016-01-01 09:00:00+00:00   R_user_1   \n",
       "1  C_case_0  A_activity_A     E_1 2016-01-01 09:15:00+00:00   R_user_1   \n",
       "2  C_case_0  A_activity_C     E_2 2016-01-01 09:35:00+00:00   R_user_1   \n",
       "3  C_case_1  A_activity_A     E_3 2016-01-02 09:00:00+00:00   R_user_1   \n",
       "4  C_case_1  A_activity_B     E_4 2016-01-02 09:00:00+00:00   R_user_0   \n",
       "5  C_case_1  A_activity_C     E_5 2016-01-03 09:00:00+00:00   R_user_0   \n",
       "6  C_case_2  A_activity_A     E_6 2016-01-01 09:00:00+00:00   R_user_1   \n",
       "7  C_case_2  A_activity_B     E_7 2016-01-01 09:10:00+00:00   R_user_1   \n",
       "8  C_case_2  A_activity_C     E_8 2016-01-01 09:15:00+00:00   R_user_2   \n",
       "9  C_case_2  A_activity_D     E_9 2017-01-06 10:35:00+00:00   R_user_1   \n",
       "\n",
       "  processID  \n",
       "0        P1  \n",
       "1        P1  \n",
       "2        P1  \n",
       "3        P1  \n",
       "4        P1  \n",
       "5        P1  \n",
       "6        P1  \n",
       "7        P1  \n",
       "8        P1  \n",
       "9        P1  "
      ]
     },
     "execution_count": 5,
     "metadata": {},
     "output_type": "execute_result"
    }
   ],
   "source": [
    "event_data.data"
   ]
  },
  {
   "cell_type": "code",
   "execution_count": 6,
   "id": "f731e6a9",
   "metadata": {},
   "outputs": [
    {
     "data": {
      "text/plain": [
       "{'log_path': '/tmp/tmp2m0rkt33.csv', 'process_name': 'P1'}"
      ]
     },
     "execution_count": 6,
     "metadata": {},
     "output_type": "execute_result"
    }
   ],
   "source": [
    "event_data.metadata"
   ]
  },
  {
   "cell_type": "code",
   "execution_count": null,
   "id": "ab3895b9",
   "metadata": {},
   "outputs": [
    {
     "name": "stderr",
     "output_type": "stream",
     "text": [
      "2025-06-26 14:53:29,972 | INFO: Translating YARRRML mapping to [R2]RML\n",
      "INFO | 2025-06-26 14:53:29,972 | Translating YARRRML mapping to [R2]RML\n",
      "2025-06-26 14:53:29,975 | INFO: RML content is created!\n",
      "INFO | 2025-06-26 14:53:29,975 | RML content is created!\n",
      "2025-06-26 14:53:29,982 | INFO: Mapping has been syntactically validated.\n",
      "INFO | 2025-06-26 14:53:29,982 | Mapping has been syntactically validated.\n",
      "2025-06-26 14:53:29,984 | INFO: Translation has finished successfully.\n",
      "INFO | 2025-06-26 14:53:29,984 | Translation has finished successfully.\n"
     ]
    },
    {
     "name": "stdout",
     "output_type": "stream",
     "text": [
      "Generating knowledge graph...\n"
     ]
    },
    {
     "name": "stderr",
     "output_type": "stream",
     "text": [
      "INFO | 2025-06-26 14:53:30,455 | 9 mapping rules retrieved.\n",
      "INFO | 2025-06-26 14:53:30,465 | Mapping partition with 9 groups generated.\n",
      "INFO | 2025-06-26 14:53:30,466 | Maximum number of rules within mapping group: 1.\n",
      "INFO | 2025-06-26 14:53:30,467 | Mappings processed in 0.475 seconds.\n",
      "INFO | 2025-06-26 14:53:30,864 | Number of triples generated in total: 63.\n"
     ]
    },
    {
     "name": "stdout",
     "output_type": "stream",
     "text": [
      "Knowledge graph generated.\n"
     ]
    }
   ],
   "source": [
    "mapper = LogMapper(data=event_data, output_encoding='z3')\n",
    "z3_data = mapper.get_mapped_data()"
   ]
  },
  {
   "cell_type": "code",
   "execution_count": 18,
   "id": "db02cd40",
   "metadata": {},
   "outputs": [
    {
     "name": "stdout",
     "output_type": "stream",
     "text": [
      "hasResource(E_1, R_user_1)\n",
      "hasRecordedTime(E_1) == 1451639700\n",
      "hasActivity(E_8, A_activity_C)\n",
      "hasRecordedTime(E_0) == 1451638800\n",
      "hasCase(E_4, C_case_1)\n",
      "Event(E_1)\n",
      "hasActivity(E_0, A_activity_A)\n",
      "hasActivity(E_5, A_activity_C)\n",
      "hasActivity(E_4, A_activity_B)\n",
      "hasRecordedTime(E_4) == 1451725200\n",
      "hasResource(E_7, R_user_1)\n",
      "hasResource(E_8, R_user_2)\n",
      "Event(E_4)\n",
      "hasCase(E_7, C_case_2)\n",
      "Case(C_case_0)\n",
      "Activity(A_activity_B)\n",
      "Event(E_7)\n",
      "hasProcess(C_case_0, P1)\n",
      "hasRecordedTime(E_2) == 1451640900\n",
      "Activity(A_activity_A)\n",
      "hasCase(E_3, C_case_1)\n",
      "hasRecordedTime(E_6) == 1451638800\n",
      "Resource(R_user_2)\n",
      "hasResource(E_2, R_user_1)\n",
      "hasResource(E_3, R_user_1)\n",
      "Event(E_2)\n",
      "hasRecordedTime(E_7) == 1451639400\n",
      "hasActivity(E_6, A_activity_A)\n",
      "hasActivity(E_1, A_activity_A)\n",
      "hasRecordedTime(E_8) == 1451639700\n",
      "hasResource(E_4, R_user_0)\n",
      "Event(E_5)\n",
      "Event(E_3)\n",
      "hasCase(E_1, C_case_0)\n",
      "hasProcess(C_case_2, P1)\n",
      "hasResource(E_9, R_user_1)\n",
      "hasCase(E_5, C_case_1)\n",
      "Event(E_8)\n",
      "Event(E_9)\n",
      "hasActivity(E_7, A_activity_B)\n",
      "hasCase(E_9, C_case_2)\n",
      "hasRecordedTime(E_3) == 1451725200\n",
      "hasCase(E_2, C_case_0)\n",
      "Case(C_case_2)\n",
      "hasRecordedTime(E_5) == 1451811600\n",
      "hasCase(E_8, C_case_2)\n",
      "hasActivity(E_3, A_activity_A)\n",
      "hasResource(E_0, R_user_1)\n",
      "Activity(A_activity_C)\n",
      "Resource(R_user_1)\n",
      "hasResource(E_5, R_user_0)\n",
      "Event(E_0)\n",
      "Case(C_case_1)\n",
      "Resource(R_user_0)\n",
      "hasCase(E_6, C_case_2)\n",
      "hasResource(E_6, R_user_1)\n",
      "Activity(A_activity_D)\n",
      "Event(E_6)\n",
      "hasActivity(E_2, A_activity_C)\n",
      "hasCase(E_0, C_case_0)\n",
      "hasProcess(C_case_1, P1)\n",
      "hasRecordedTime(E_9) == 1483698900\n",
      "hasActivity(E_9, A_activity_D)\n"
     ]
    }
   ],
   "source": [
    "for z3_expr in z3_data:\n",
    "    print(z3_expr)"
   ]
  }
 ],
 "metadata": {
  "kernelspec": {
   "display_name": "base",
   "language": "python",
   "name": "python3"
  },
  "language_info": {
   "codemirror_mode": {
    "name": "ipython",
    "version": 3
   },
   "file_extension": ".py",
   "mimetype": "text/x-python",
   "name": "python",
   "nbconvert_exporter": "python",
   "pygments_lexer": "ipython3",
   "version": "3.9.21"
  }
 },
 "nbformat": 4,
 "nbformat_minor": 5
}
