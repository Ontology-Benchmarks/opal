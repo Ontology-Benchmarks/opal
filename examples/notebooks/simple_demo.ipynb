{
 "cells": [
  {
   "cell_type": "code",
   "execution_count": 1,
   "id": "b2fda7e8",
   "metadata": {},
   "outputs": [],
   "source": [
    "import opal\n",
    "import kglab\n",
    "import rdflib\n",
    "import z3\n",
    "import dateutil.parser\n",
    "import re\n",
    "import numpy as np\n",
    "import pandas as pd\n",
    "import os\n",
    "import sexpdata"
   ]
  },
  {
   "cell_type": "code",
   "execution_count": 2,
   "id": "99cdd9c8",
   "metadata": {},
   "outputs": [],
   "source": [
    "from opal.logic.z3.z3_literal import Z3Literal\n",
    "from opal.data.event_data import EventData\n",
    "from opal.data.mapper import LogMapper\n",
    "from opal.data.processor import LogProcessor\n",
    "\n",
    "import opal.logic.z3.z3_literal as z3_literal\n",
    "from opal.logic.z3.z3_ontology import Z3Ontology as Ontology\n",
    "from opal.logic.z3.z3_reasoner import Z3Reasoner as Reasoner\n",
    "\n",
    "from rdflib import Graph\n",
    "\n",
    "from z3 import *\n",
    "z3.set_param(proof=True)"
   ]
  },
  {
   "cell_type": "code",
   "execution_count": 3,
   "id": "681b557e",
   "metadata": {},
   "outputs": [],
   "source": [
    "data_dir = os.path.abspath('../data/')\n",
    "ttl_data_file = data_dir + '/P1_log_instances.ttl'\n",
    "sample_log_file = data_dir + '/sample_log.csv'\n",
    "bpic2017_file = data_dir + '/BPI Challenge 2017.xes.gz'\n",
    "\n",
    "ontology_dir = os.path.abspath('../../opal/logic/z3/ontologies/')\n",
    "psl_core_file = ontology_dir + '/PSL/PSL_core.smt2'\n",
    "psl_core_mapping_file = ontology_dir + '/PSL/PSL_core_mapping.smt2'"
   ]
  },
  {
   "cell_type": "markdown",
   "id": "264b3e46",
   "metadata": {},
   "source": [
    "## Mapping simple XES data into logical facts"
   ]
  },
  {
   "cell_type": "code",
   "execution_count": 4,
   "id": "d3acd55a",
   "metadata": {},
   "outputs": [],
   "source": [
    "# load the log\n",
    "col_dict = {'caseID' : 'caseID', 'activityID' : 'activityID', 'timestamp' : 'timestamp', 'eventID' : None, 'transition' : 'transition'}\n",
    "processor = LogProcessor(col_dict=col_dict, log_path=sample_log_file, batch_size=1)\n",
    "event_data = processor.load_log()"
   ]
  },
  {
   "cell_type": "code",
   "execution_count": 5,
   "id": "22e0d7c0",
   "metadata": {},
   "outputs": [
    {
     "data": {
      "text/html": [
       "<div>\n",
       "<style scoped>\n",
       "    .dataframe tbody tr th:only-of-type {\n",
       "        vertical-align: middle;\n",
       "    }\n",
       "\n",
       "    .dataframe tbody tr th {\n",
       "        vertical-align: top;\n",
       "    }\n",
       "\n",
       "    .dataframe thead th {\n",
       "        text-align: right;\n",
       "    }\n",
       "</style>\n",
       "<table border=\"1\" class=\"dataframe\">\n",
       "  <thead>\n",
       "    <tr style=\"text-align: right;\">\n",
       "      <th></th>\n",
       "      <th>caseID</th>\n",
       "      <th>activityID</th>\n",
       "      <th>eventID</th>\n",
       "      <th>timestamp</th>\n",
       "      <th>resourceID</th>\n",
       "      <th>transition</th>\n",
       "      <th>processID</th>\n",
       "      <th>batch</th>\n",
       "    </tr>\n",
       "  </thead>\n",
       "  <tbody>\n",
       "    <tr>\n",
       "      <th>0</th>\n",
       "      <td>C_case_0</td>\n",
       "      <td>A_activity_A</td>\n",
       "      <td>E_0</td>\n",
       "      <td>2016-01-01 09:00:00+00:00</td>\n",
       "      <td>user_1</td>\n",
       "      <td>T_start</td>\n",
       "      <td>P1</td>\n",
       "      <td>1</td>\n",
       "    </tr>\n",
       "    <tr>\n",
       "      <th>1</th>\n",
       "      <td>C_case_0</td>\n",
       "      <td>A_activity_A</td>\n",
       "      <td>E_1</td>\n",
       "      <td>2016-01-01 09:15:00+00:00</td>\n",
       "      <td>user_1</td>\n",
       "      <td>T_complete</td>\n",
       "      <td>P1</td>\n",
       "      <td>1</td>\n",
       "    </tr>\n",
       "    <tr>\n",
       "      <th>2</th>\n",
       "      <td>C_case_0</td>\n",
       "      <td>A_activity_C</td>\n",
       "      <td>E_2</td>\n",
       "      <td>2016-01-01 09:35:00+00:00</td>\n",
       "      <td>user_1</td>\n",
       "      <td>T_complete</td>\n",
       "      <td>P1</td>\n",
       "      <td>1</td>\n",
       "    </tr>\n",
       "    <tr>\n",
       "      <th>3</th>\n",
       "      <td>C_case_1</td>\n",
       "      <td>A_activity_A</td>\n",
       "      <td>E_3</td>\n",
       "      <td>2016-01-02 09:00:00+00:00</td>\n",
       "      <td>user_1</td>\n",
       "      <td>T_complete</td>\n",
       "      <td>P1</td>\n",
       "      <td>2</td>\n",
       "    </tr>\n",
       "    <tr>\n",
       "      <th>4</th>\n",
       "      <td>C_case_1</td>\n",
       "      <td>A_activity_B</td>\n",
       "      <td>E_4</td>\n",
       "      <td>2016-01-02 09:00:00+00:00</td>\n",
       "      <td>user_0</td>\n",
       "      <td>T_complete</td>\n",
       "      <td>P1</td>\n",
       "      <td>2</td>\n",
       "    </tr>\n",
       "    <tr>\n",
       "      <th>5</th>\n",
       "      <td>C_case_1</td>\n",
       "      <td>A_activity_C</td>\n",
       "      <td>E_5</td>\n",
       "      <td>2016-01-03 09:00:00+00:00</td>\n",
       "      <td>user_0</td>\n",
       "      <td>T_complete</td>\n",
       "      <td>P1</td>\n",
       "      <td>2</td>\n",
       "    </tr>\n",
       "    <tr>\n",
       "      <th>6</th>\n",
       "      <td>C_case_2</td>\n",
       "      <td>A_activity_A</td>\n",
       "      <td>E_6</td>\n",
       "      <td>2016-01-01 09:00:00+00:00</td>\n",
       "      <td>user_1</td>\n",
       "      <td>T_complete</td>\n",
       "      <td>P1</td>\n",
       "      <td>3</td>\n",
       "    </tr>\n",
       "    <tr>\n",
       "      <th>7</th>\n",
       "      <td>C_case_2</td>\n",
       "      <td>A_activity_B</td>\n",
       "      <td>E_7</td>\n",
       "      <td>2016-01-01 09:10:00+00:00</td>\n",
       "      <td>user_1</td>\n",
       "      <td>T_complete</td>\n",
       "      <td>P1</td>\n",
       "      <td>3</td>\n",
       "    </tr>\n",
       "    <tr>\n",
       "      <th>8</th>\n",
       "      <td>C_case_2</td>\n",
       "      <td>A_activity_C</td>\n",
       "      <td>E_8</td>\n",
       "      <td>2016-01-01 09:15:00+00:00</td>\n",
       "      <td>user_2</td>\n",
       "      <td>T_complete</td>\n",
       "      <td>P1</td>\n",
       "      <td>3</td>\n",
       "    </tr>\n",
       "    <tr>\n",
       "      <th>9</th>\n",
       "      <td>C_case_2</td>\n",
       "      <td>A_activity_D</td>\n",
       "      <td>E_9</td>\n",
       "      <td>2017-01-06 10:35:00+00:00</td>\n",
       "      <td>user_1</td>\n",
       "      <td>T_complete</td>\n",
       "      <td>P1</td>\n",
       "      <td>3</td>\n",
       "    </tr>\n",
       "  </tbody>\n",
       "</table>\n",
       "</div>"
      ],
      "text/plain": [
       "     caseID    activityID eventID                 timestamp resourceID  \\\n",
       "0  C_case_0  A_activity_A     E_0 2016-01-01 09:00:00+00:00     user_1   \n",
       "1  C_case_0  A_activity_A     E_1 2016-01-01 09:15:00+00:00     user_1   \n",
       "2  C_case_0  A_activity_C     E_2 2016-01-01 09:35:00+00:00     user_1   \n",
       "3  C_case_1  A_activity_A     E_3 2016-01-02 09:00:00+00:00     user_1   \n",
       "4  C_case_1  A_activity_B     E_4 2016-01-02 09:00:00+00:00     user_0   \n",
       "5  C_case_1  A_activity_C     E_5 2016-01-03 09:00:00+00:00     user_0   \n",
       "6  C_case_2  A_activity_A     E_6 2016-01-01 09:00:00+00:00     user_1   \n",
       "7  C_case_2  A_activity_B     E_7 2016-01-01 09:10:00+00:00     user_1   \n",
       "8  C_case_2  A_activity_C     E_8 2016-01-01 09:15:00+00:00     user_2   \n",
       "9  C_case_2  A_activity_D     E_9 2017-01-06 10:35:00+00:00     user_1   \n",
       "\n",
       "   transition processID  batch  \n",
       "0     T_start        P1      1  \n",
       "1  T_complete        P1      1  \n",
       "2  T_complete        P1      1  \n",
       "3  T_complete        P1      2  \n",
       "4  T_complete        P1      2  \n",
       "5  T_complete        P1      2  \n",
       "6  T_complete        P1      3  \n",
       "7  T_complete        P1      3  \n",
       "8  T_complete        P1      3  \n",
       "9  T_complete        P1      3  "
      ]
     },
     "execution_count": 5,
     "metadata": {},
     "output_type": "execute_result"
    }
   ],
   "source": [
    "event_data.data"
   ]
  },
  {
   "cell_type": "code",
   "execution_count": 6,
   "id": "f731e6a9",
   "metadata": {},
   "outputs": [
    {
     "data": {
      "text/plain": [
       "{'log_paths': ['/tmp/tmpypn5vje6.csv',\n",
       "  '/tmp/tmp1ej25zkc.csv',\n",
       "  '/tmp/tmpb44f0hbu.csv'],\n",
       " 'process_name': 'P1',\n",
       " 'batches': 3}"
      ]
     },
     "execution_count": 6,
     "metadata": {},
     "output_type": "execute_result"
    }
   ],
   "source": [
    "event_data.metadata"
   ]
  },
  {
   "cell_type": "code",
   "execution_count": 7,
   "id": "ab3895b9",
   "metadata": {},
   "outputs": [
    {
     "name": "stdout",
     "output_type": "stream",
     "text": [
      "Building mappings for logs...\n"
     ]
    },
    {
     "name": "stderr",
     "output_type": "stream",
     "text": [
      "  0%|          | 0/3 [00:00<?, ?it/s]2025-08-25 20:41:36,095 | INFO: Translating YARRRML mapping to [R2]RML\n",
      "2025-08-25 20:41:36,096 | INFO: RML content is created!\n",
      "2025-08-25 20:41:36,101 | INFO: Mapping has been syntactically validated.\n",
      "2025-08-25 20:41:36,102 | INFO: Translation has finished successfully.\n",
      "2025-08-25 20:41:36,109 | INFO: Translating YARRRML mapping to [R2]RML\n",
      "2025-08-25 20:41:36,110 | INFO: RML content is created!\n",
      "2025-08-25 20:41:36,114 | INFO: Mapping has been syntactically validated.\n",
      "2025-08-25 20:41:36,115 | INFO: Translation has finished successfully.\n",
      "2025-08-25 20:41:36,125 | INFO: Translating YARRRML mapping to [R2]RML\n",
      "2025-08-25 20:41:36,126 | INFO: RML content is created!\n",
      "2025-08-25 20:41:36,131 | INFO: Mapping has been syntactically validated.\n",
      "2025-08-25 20:41:36,131 | INFO: Translation has finished successfully.\n",
      "100%|██████████| 3/3 [00:00<00:00, 68.47it/s]"
     ]
    },
    {
     "name": "stdout",
     "output_type": "stream",
     "text": [
      "Mappings built.\n",
      "Generating knowledge graph...\n"
     ]
    },
    {
     "name": "stderr",
     "output_type": "stream",
     "text": [
      "\n",
      "INFO | 2025-08-25 20:41:36,571 | 11 mapping rules retrieved.\n",
      "INFO | 2025-08-25 20:41:36,582 | Mapping partition with 11 groups generated.\n",
      "INFO | 2025-08-25 20:41:36,583 | Maximum number of rules within mapping group: 1.\n",
      "INFO | 2025-08-25 20:41:36,583 | Mappings processed in 0.448 seconds.\n",
      "INFO | 2025-08-25 20:41:36,969 | Number of triples generated in total: 25.\n"
     ]
    },
    {
     "name": "stdout",
     "output_type": "stream",
     "text": [
      "Knowledge graph generated.\n",
      "Knowledge graph 1/3 generated.\n",
      "Generating knowledge graph...\n"
     ]
    },
    {
     "name": "stderr",
     "output_type": "stream",
     "text": [
      "INFO | 2025-08-25 20:41:37,388 | 11 mapping rules retrieved.\n",
      "INFO | 2025-08-25 20:41:37,397 | Mapping partition with 11 groups generated.\n",
      "INFO | 2025-08-25 20:41:37,398 | Maximum number of rules within mapping group: 1.\n",
      "INFO | 2025-08-25 20:41:37,399 | Mappings processed in 0.421 seconds.\n",
      "INFO | 2025-08-25 20:41:37,803 | Number of triples generated in total: 26.\n"
     ]
    },
    {
     "name": "stdout",
     "output_type": "stream",
     "text": [
      "Knowledge graph generated.\n",
      "Knowledge graph 2/3 generated.\n",
      "Generating knowledge graph...\n"
     ]
    },
    {
     "name": "stderr",
     "output_type": "stream",
     "text": [
      "INFO | 2025-08-25 20:41:38,244 | 11 mapping rules retrieved.\n",
      "INFO | 2025-08-25 20:41:38,253 | Mapping partition with 11 groups generated.\n",
      "INFO | 2025-08-25 20:41:38,253 | Maximum number of rules within mapping group: 1.\n",
      "INFO | 2025-08-25 20:41:38,254 | Mappings processed in 0.443 seconds.\n",
      "INFO | 2025-08-25 20:41:38,657 | Number of triples generated in total: 33.\n"
     ]
    },
    {
     "name": "stdout",
     "output_type": "stream",
     "text": [
      "Knowledge graph generated.\n",
      "Knowledge graph 3/3 generated.\n",
      "Z3 literal set generated (1/3)\n",
      "Z3 literal set generated (2/3)\n",
      "Z3 literal set generated (3/3)\n"
     ]
    }
   ],
   "source": [
    "mapper = LogMapper(data=event_data, output_encoding='z3')\n",
    "z3_data = mapper.get_mapped_data()"
   ]
  },
  {
   "cell_type": "code",
   "execution_count": 8,
   "id": "db02cd40",
   "metadata": {},
   "outputs": [
    {
     "name": "stdout",
     "output_type": "stream",
     "text": [
      "Case(C_case_0)\n",
      "hasResource(E_1, user_1)\n",
      "hasActivity(E_1, A_activity_A)\n",
      "Resource(user_1)\n",
      "hasRecordedTime(E_1, 1451639700)\n",
      "hasTransition(E_1, T_complete)\n",
      "hasRecordedTime(E_2, 1451640900)\n",
      "hasTransition(E_2, T_complete)\n",
      "Event(E_0)\n",
      "Event(E_1)\n",
      "hasActivity(E_2, A_activity_C)\n",
      "hasCase(E_2, C_case_0)\n",
      "hasResource(E_0, user_1)\n",
      "hasActivity(E_0, A_activity_A)\n",
      "hasTransition(E_0, T_start)\n",
      "Transition(T_complete)\n",
      "Activity(A_activity_A)\n",
      "hasCase(E_0, C_case_0)\n",
      "Transition(T_start)\n",
      "hasResource(E_2, user_1)\n",
      "hasRecordedTime(E_0, 1451638800)\n",
      "hasProcess(C_case_0, P1)\n",
      "Activity(A_activity_C)\n",
      "Event(E_2)\n",
      "hasCase(E_1, C_case_0)\n",
      "hasTransition(E_4, T_complete)\n",
      "hasProcess(C_case_1, P1)\n",
      "Resource(user_1)\n",
      "hasRecordedTime(E_5, 1451811600)\n",
      "hasRecordedTime(E_4, 1451725200)\n",
      "hasActivity(E_3, A_activity_A)\n",
      "hasResource(E_5, user_0)\n",
      "hasResource(E_4, user_0)\n",
      "hasResource(E_3, user_1)\n",
      "hasCase(E_4, C_case_1)\n",
      "Case(C_case_1)\n",
      "hasRecordedTime(E_3, 1451725200)\n",
      "hasCase(E_3, C_case_1)\n",
      "hasTransition(E_3, T_complete)\n",
      "Event(E_5)\n",
      "Transition(T_complete)\n",
      "Activity(A_activity_A)\n",
      "hasActivity(E_4, A_activity_B)\n",
      "Event(E_3)\n",
      "hasActivity(E_5, A_activity_C)\n",
      "Resource(user_0)\n",
      "Event(E_4)\n",
      "Activity(A_activity_B)\n",
      "Activity(A_activity_C)\n",
      "hasCase(E_5, C_case_1)\n",
      "hasTransition(E_5, T_complete)\n",
      "Event(E_8)\n",
      "hasCase(E_9, C_case_2)\n",
      "hasResource(E_8, user_2)\n",
      "hasCase(E_7, C_case_2)\n",
      "hasResource(E_7, user_1)\n",
      "hasResource(E_6, user_1)\n",
      "hasRecordedTime(E_9, 1483698900)\n",
      "Activity(A_activity_D)\n",
      "hasCase(E_6, C_case_2)\n",
      "hasTransition(E_8, T_complete)\n",
      "hasRecordedTime(E_6, 1451638800)\n",
      "Event(E_9)\n",
      "hasActivity(E_7, A_activity_B)\n",
      "Event(E_7)\n",
      "Event(E_6)\n",
      "hasRecordedTime(E_8, 1451639700)\n",
      "hasTransition(E_9, T_complete)\n",
      "Resource(user_1)\n",
      "hasTransition(E_6, T_complete)\n",
      "hasTransition(E_7, T_complete)\n",
      "hasProcess(C_case_2, P1)\n",
      "Resource(user_2)\n",
      "hasRecordedTime(E_7, 1451639400)\n",
      "hasActivity(E_9, A_activity_D)\n",
      "Transition(T_complete)\n",
      "Activity(A_activity_A)\n",
      "hasActivity(E_8, A_activity_C)\n",
      "Case(C_case_2)\n",
      "hasCase(E_8, C_case_2)\n",
      "hasResource(E_9, user_1)\n",
      "Activity(A_activity_B)\n",
      "Activity(A_activity_C)\n",
      "hasActivity(E_6, A_activity_A)\n",
      "Matching contexts: True\n"
     ]
    }
   ],
   "source": [
    "from opal.logic.z3.z3_handler import PSL_CORE_MAPPING_ENV\n",
    "for literal in z3_data:\n",
    "    expr = literal.z3_expr\n",
    "    print(expr)\n",
    "    \n",
    "# get a random expression to check if contexts remain the same with additional ontologies loaded\n",
    "random_idx = np.random.randint(len(z3_data))\n",
    "random_expr = z3_data[random_idx].z3_expr\n",
    "print(f'Matching contexts: {random_expr.ctx == PSL_CORE_MAPPING_ENV[\"ctx\"]}')"
   ]
  },
  {
   "cell_type": "code",
   "execution_count": 9,
   "id": "d6efd57e",
   "metadata": {},
   "outputs": [
    {
     "data": {
      "text/plain": [
       "{'Event': Event,\n",
       " 'Transition': Transition,\n",
       " 'Activity': Activity,\n",
       " 'Case': Case,\n",
       " 'Resource': Resource,\n",
       " 'hasResource': hasResource,\n",
       " 'hasRecordedTime': hasRecordedTime,\n",
       " 'hasLifecycleTransition': hasLifecycleTransition,\n",
       " 'hasCase': hasCase,\n",
       " 'hasActivity': hasActivity,\n",
       " 'activity': activity,\n",
       " 'activity_occurrence': activity_occurrence,\n",
       " 'object_': object_,\n",
       " 'timepoint': timepoint,\n",
       " 'occurrence_of': occurrence_of,\n",
       " 'participates_in': participates_in,\n",
       " 'exists_at': exists_at,\n",
       " 'is_occurring_at': is_occurring_at,\n",
       " 'begin_of': begin_of,\n",
       " 'end_of': end_of,\n",
       " 'hasTransition': hasTransition,\n",
       " 'hasProcess': hasProcess}"
      ]
     },
     "execution_count": 9,
     "metadata": {},
     "output_type": "execute_result"
    }
   ],
   "source": [
    "PSL_CORE_MAPPING_ENV['functions'] "
   ]
  },
  {
   "cell_type": "markdown",
   "id": "b309e83f",
   "metadata": {},
   "source": [
    "### Reasoning Capabilities"
   ]
  },
  {
   "cell_type": "code",
   "execution_count": 10,
   "id": "618e3981",
   "metadata": {},
   "outputs": [
    {
     "name": "stdout",
     "output_type": "stream",
     "text": [
      "Adding axiom: ont_t_0_type_disjointness\n",
      "Adding axiom: ont_t_1_begin_unique\n",
      "Adding axiom: ont_t_2_ends_unique\n",
      "Adding axiom: ont_t_3_occurrence_bounds\n",
      "Adding axiom: ont_t_4_occurrence_sort_constraints\n",
      "Adding axiom: ont_t_5_unique_activity_occurrence\n",
      "Adding axiom: ont_t_6_occurrence_has_activity\n",
      "Adding axiom: ont_t_7_participation_sort_constraints\n",
      "Adding axiom: ont_t_8_participation_temporal_constraint\n",
      "Adding axiom: ont_t_9_object_temporal_existence\n",
      "Adding axiom: ont_t_10_occurrence_temporal_extent\n",
      "Adding axiom: map_t_0_occurrence_start_end_event_mapping\n"
     ]
    }
   ],
   "source": [
    "# load the ontology (together with the mapping)\n",
    "psl_core = Ontology.from_smt2(psl_core_file, psl_core_mapping_file)"
   ]
  },
  {
   "cell_type": "code",
   "execution_count": 11,
   "id": "c929127b",
   "metadata": {},
   "outputs": [
    {
     "data": {
      "text/plain": [
       "[{'name': 'ont_t_0_type_disjointness',\n",
       "  'description': 'Activities, occurrences, and objects are different things.',\n",
       "  'expr': '(assert (! (forall ((x Ind)) (and (=> (activity x) (not (or (activity_occurrence x) (object_ x)))) (=> (activity_occurrence x) (not (or (object_ x) (activity x)))) (=> (object_ x) (not (or (activity_occurrence x) (activity x)))))) :named type_disjointness :description \"Activities, occurrences, and objects are different things.\"))'},\n",
       " {'name': 'ont_t_1_begin_unique',\n",
       "  'description': 'Start points are unique.',\n",
       "  'expr': '(assert (! (forall ((x Ind) (t1 Real) (t2 Real)) (=> (and (= (begin_of x) t1) (= (begin_of x) t2)) (= t1 t2))) :named begin_unique :description \"Start points are unique.\"))'},\n",
       " {'name': 'ont_t_2_ends_unique',\n",
       "  'description': 'End points are unique.',\n",
       "  'expr': '(assert (! (forall ((x Ind) (t1 Real) (t2 Real)) (=> (and (= (end_of x) t1) (= (end_of x) t2)) (= t1 t2))) :named ends_unique :description \"End points are unique.\"))'},\n",
       " {'name': 'ont_t_3_occurrence_bounds',\n",
       "  'description': 'Activity occurrence start points are before or equal to their end points.',\n",
       "  'expr': '(assert (! (forall ((o Ind)) (=> (activity_occurrence o) (exists ((t1 Real) (t2 Real)) (and (= (begin_of o) t1) (= (end_of o) t2) (<= t1 t2))))) :named occurrence_bounds :description \"Activity occurrence start points are before or equal to their end points.\"))'},\n",
       " {'name': 'ont_t_4_occurrence_sort_constraints',\n",
       "  'description': 'Occurrences are the occurrences of activities.',\n",
       "  'expr': '(assert (! (forall ((a Ind) (o Ind)) (=> (occurrence_of o a) (and (activity_occurrence o) (activity a)))) :named occurrence_sort_constraints :description \"Occurrences are the occurrences of activities.\"))'},\n",
       " {'name': 'ont_t_5_unique_activity_occurrence',\n",
       "  'description': 'Activity occurrences are an occurrence of a single unique activity.',\n",
       "  'expr': '(assert (! (forall ((o Ind) (a1 Ind) (a2 Ind)) (=> (and (occurrence_of o a1) (occurrence_of o a2)) (= a1 a2))) :named unique_activity_occurrence :description \"Activity occurrences are an occurrence of a single unique activity.\"))'},\n",
       " {'name': 'ont_t_6_occurrence_has_activity',\n",
       "  'description': 'Every activity occurrence is the occurrence of some activity.',\n",
       "  'expr': '(assert (! (forall ((occ Ind)) (=> (activity_occurrence occ) (exists ((a Ind)) (and (activity a) (occurrence_of occ a))))) :named occurrence_has_activity :description \"Every activity occurrence is the occurrence of some activity.\"))'},\n",
       " {'name': 'ont_t_7_participation_sort_constraints',\n",
       "  'description': 'The participates_in relation only holds between objects, activity occurrences, and timepoints, respectively.',\n",
       "  'expr': '(assert (! (forall ((x Ind) (occ Ind) (t Real)) (=> (participates_in x occ t) (and (object_ x) (activity_occurrence occ) (timepoint t)))) :named participation_sort_constraints :description \"The participates_in relation only holds between objects, activity occurrences, and timepoints, respectively.\"))'},\n",
       " {'name': 'ont_t_8_participation_temporal_constraint',\n",
       "  'description': 'An object can participate in an activity occurrence only at those timepoints at which both the object exists and the activity is occurring.',\n",
       "  'expr': '(assert (! (forall ((x Ind) (occ Ind) (t Real)) (=> (participates_in x occ t) (and (exists_at x t) (is_occurring_at occ t)))) :named participation_temporal_constraint :description \"An object can participate in an activity occurrence only at those timepoints at which both the object exists and the activity is occurring.\"))'},\n",
       " {'name': 'ont_t_9_object_temporal_existence',\n",
       "  'description': 'An object exists at a timepoint t if and only if t is between or equal to its begin and end points.',\n",
       "  'expr': '(assert (! (forall ((x Ind) (t Real)) (= (exists_at x t) (and (object_ x) (<= (begin_of x) t) (<= t (end_of x))))) :named object_temporal_existence :description \"An object exists at a timepoint t if and only if t is between or equal to its begin and end points.\"))'},\n",
       " {'name': 'ont_t_10_occurrence_temporal_extent',\n",
       "  'description': 'An activity is occurring at a timepoint t if and only if t is between or equal to the begin and end points of the activity occurrence.',\n",
       "  'expr': '(assert (! (forall ((occ Ind) (t Real)) (= (is_occurring_at occ t) (and (activity_occurrence occ) (<= (begin_of occ) t) (<= t (end_of occ))))) :named occurrence_temporal_extent :description \"An activity is occurring at a timepoint t if and only if t is between or equal to the begin and end points of the activity occurrence.\"))'},\n",
       " {'name': 'map_t_0_occurrence_start_end_event_mapping',\n",
       "  'description': 'Maps start and complete events to activity occurrences.',\n",
       "  'expr': '(assert (! (forall ((e1 Ind) (e2 Ind) (t1 Real) (t2 Real) (c Ind) (a Ind)) (=> (and (hasCase e1 c) (hasCase e2 c) (hasActivity e1 a) (hasActivity e2 a) (hasLifecycleTransition e1 T_start) (hasLifecycleTransition e2 T_complete) (hasRecordedTime e1 t1) (hasRecordedTime e2 t2)) (exists ((o Ind)) (and (occurrence_of o a) (= (begin_of o) t1) (= (end_of o) t2))))) :named occurrence_start_end_event_mapping :description \"Maps start and complete events to activity occurrences.\"))'}]"
      ]
     },
     "execution_count": 11,
     "metadata": {},
     "output_type": "execute_result"
    }
   ],
   "source": [
    "psl_core.axioms"
   ]
  },
  {
   "cell_type": "code",
   "execution_count": 12,
   "id": "11a7cd15",
   "metadata": {},
   "outputs": [
    {
     "data": {
      "text/plain": [
       "[{'map_a_0_transition_start': <opal.logic.z3.z3_literal.Z3Literal at 0x7f0fa0645550>},\n",
       " {'map_a_1_transition_complete': <opal.logic.z3.z3_literal.Z3Literal at 0x7f0f7cbb7d30>}]"
      ]
     },
     "execution_count": 12,
     "metadata": {},
     "output_type": "execute_result"
    }
   ],
   "source": [
    "psl_core.literals"
   ]
  },
  {
   "cell_type": "code",
   "execution_count": 22,
   "id": "2e79df5e",
   "metadata": {},
   "outputs": [],
   "source": [
    "z3_facts = []\n",
    "for i, fact in enumerate(z3_data):\n",
    "    prefix = f'mapped_a_{i}_'\n",
    "    expr = fact\n",
    "    name = prefix + f'{expr}'\n",
    "    z3_facts.append({name : expr})"
   ]
  },
  {
   "cell_type": "code",
   "execution_count": 23,
   "id": "33e3ccd9",
   "metadata": {},
   "outputs": [],
   "source": [
    "r = Reasoner()\n",
    "r.load_ontology(psl_core)\n",
    "r.load_facts(z3_facts)"
   ]
  },
  {
   "cell_type": "code",
   "execution_count": 24,
   "id": "65cb4b90",
   "metadata": {},
   "outputs": [
    {
     "name": "stderr",
     "output_type": "stream",
     "text": [
      "WARNING: unknown attribute :description\n",
      "WARNING: unknown attribute :description\n",
      "WARNING: unknown attribute :description\n",
      "WARNING: unknown attribute :description\n",
      "WARNING: unknown attribute :description\n",
      "WARNING: unknown attribute :description\n",
      "WARNING: unknown attribute :description\n",
      "WARNING: unknown attribute :description\n",
      "WARNING: unknown attribute :description\n",
      "WARNING: unknown attribute :description\n",
      "WARNING: unknown attribute :description\n",
      "WARNING: unknown attribute :description\n"
     ]
    }
   ],
   "source": [
    "s = r.check()"
   ]
  },
  {
   "cell_type": "code",
   "execution_count": null,
   "id": "b3512e8c",
   "metadata": {},
   "outputs": [
    {
     "name": "stdout",
     "output_type": "stream",
     "text": [
      "[mapped_a_0_Case(C_case_0) = True,\n",
      " ont_t_3_occurrence_bounds = True,\n",
      " mapped_a_3_Resource(user_1) = True,\n",
      " mapped_a_7_hasTransition(E_2, T_complete) = True,\n",
      " A_activity_A = Ind!val!24,\n",
      " E_8 = Ind!val!15,\n",
      " ont_t_10_occurrence_temporal_extent = True,\n",
      " mapped_a_83_hasActivity(E_6, A_activity_A) = True,\n",
      " E_0 = Ind!val!6,\n",
      " mapped_a_36_hasRecordedTime(E_3, 1451725200) = True,\n",
      " mapped_a_50_hasTransition(E_5, T_complete) = True,\n",
      " mapped_a_65_Event(E_6) = True,\n",
      " mapped_a_39_Event(E_5) = True,\n",
      " mapped_a_26_hasProcess(C_case_1, P1) = True,\n",
      " mapped_a_18_Transition(T_start) = True,\n",
      " mapped_a_55_hasResource(E_7, user_1) = True,\n",
      " mapped_a_13_hasActivity(E_0, A_activity_A) = True,\n",
      " mapped_a_38_hasTransition(E_3, T_complete) = True,\n",
      " mapped_a_82_Activity(A_activity_C) = True,\n",
      " mapped_a_14_hasTransition(E_0, T_start) = True,\n",
      " map_t_0_occurrence_start_end_event_mapping = True,\n",
      " mapped_a_1_hasResource(E_1, user_1) = True,\n",
      " E_7 = Ind!val!19,\n",
      " mapped_a_19_hasResource(E_2, user_1) = True,\n",
      " mapped_a_40_Transition(T_complete) = True,\n",
      " mapped_a_63_hasActivity(E_7, A_activity_B) = True,\n",
      " E_1 = Ind!val!3,\n",
      " mapped_a_52_hasCase(E_9, C_case_2) = True,\n",
      " user_0 = Ind!val!13,\n",
      " mapped_a_67_hasTransition(E_9, T_complete) = True,\n",
      " mapped_a_69_hasTransition(E_6, T_complete) = True,\n",
      " ont_t_8_participation_temporal_constraint = True,\n",
      " mapped_a_9_Event(E_1) = True,\n",
      " mapped_a_23_Event(E_2) = True,\n",
      " map_a_1_transition_complete = True,\n",
      " mapped_a_4_hasRecordedTime(E_1, 1451639700) = True,\n",
      " mapped_a_42_hasActivity(E_4, A_activity_B) = True,\n",
      " mapped_a_48_Activity(A_activity_C) = True,\n",
      " mapped_a_47_Activity(A_activity_B) = True,\n",
      " mapped_a_58_Activity(A_activity_D) = True,\n",
      " T_complete = Ind!val!1,\n",
      " mapped_a_78_Case(C_case_2) = True,\n",
      " mapped_a_6_hasRecordedTime(E_2, 1451640900) = True,\n",
      " user_1 = Ind!val!4,\n",
      " mapped_a_34_hasCase(E_4, C_case_1) = True,\n",
      " mapped_a_56_hasResource(E_6, user_1) = True,\n",
      " mapped_a_59_hasCase(E_6, C_case_2) = True,\n",
      " mapped_a_16_Activity(A_activity_A) = True,\n",
      " mapped_a_57_hasRecordedTime(E_9, 1483698900) = True,\n",
      " mapped_a_25_hasTransition(E_4, T_complete) = True,\n",
      " mapped_a_15_Transition(T_complete) = True,\n",
      " E_6 = Ind!val!20,\n",
      " mapped_a_77_hasActivity(E_8, A_activity_C) = True,\n",
      " mapped_a_54_hasCase(E_7, C_case_2) = True,\n",
      " ont_t_7_participation_sort_constraints = True,\n",
      " E_2 = Ind!val!5,\n",
      " E_9 = Ind!val!16,\n",
      " mapped_a_29_hasRecordedTime(E_4, 1451725200) = True,\n",
      " mapped_a_75_Transition(T_complete) = True,\n",
      " A_activity_D = Ind!val!21,\n",
      " mapped_a_24_hasCase(E_1, C_case_0) = True,\n",
      " user_2 = Ind!val!18,\n",
      " mapped_a_41_Activity(A_activity_A) = True,\n",
      " mapped_a_17_hasCase(E_0, C_case_0) = True,\n",
      " mapped_a_2_hasActivity(E_1, A_activity_A) = True,\n",
      " mapped_a_33_hasResource(E_3, user_1) = True,\n",
      " ont_t_1_begin_unique = True,\n",
      " mapped_a_66_hasRecordedTime(E_8, 1451639700) = True,\n",
      " mapped_a_44_hasActivity(E_5, A_activity_C) = True,\n",
      " mapped_a_72_Resource(user_2) = True,\n",
      " E_3 = Ind!val!12,\n",
      " mapped_a_53_hasResource(E_8, user_2) = True,\n",
      " ont_t_9_object_temporal_existence = True,\n",
      " mapped_a_60_hasTransition(E_8, T_complete) = True,\n",
      " mapped_a_76_Activity(A_activity_A) = True,\n",
      " mapped_a_22_Activity(A_activity_C) = True,\n",
      " mapped_a_79_hasCase(E_8, C_case_2) = True,\n",
      " mapped_a_31_hasResource(E_5, user_0) = True,\n",
      " map_a_0_transition_start = True,\n",
      " ont_t_6_occurrence_has_activity = True,\n",
      " mapped_a_37_hasCase(E_3, C_case_1) = True,\n",
      " mapped_a_32_hasResource(E_4, user_0) = True,\n",
      " mapped_a_5_hasTransition(E_1, T_complete) = True,\n",
      " A_activity_C = Ind!val!7,\n",
      " mapped_a_43_Event(E_3) = True,\n",
      " mapped_a_49_hasCase(E_5, C_case_1) = True,\n",
      " mapped_a_62_Event(E_9) = True,\n",
      " mapped_a_30_hasActivity(E_3, A_activity_A) = True,\n",
      " mapped_a_70_hasTransition(E_7, T_complete) = True,\n",
      " mapped_a_71_hasProcess(C_case_2, P1) = True,\n",
      " mapped_a_80_hasResource(E_9, user_1) = True,\n",
      " mapped_a_61_hasRecordedTime(E_6, 1451638800) = True,\n",
      " ont_t_5_unique_activity_occurrence = True,\n",
      " mapped_a_81_Activity(A_activity_B) = True,\n",
      " P1 = Ind!val!8,\n",
      " mapped_a_64_Event(E_7) = True,\n",
      " E_5 = Ind!val!11,\n",
      " C_case_0 = Ind!val!2,\n",
      " mapped_a_35_Case(C_case_1) = True,\n",
      " mapped_a_27_Resource(user_1) = True,\n",
      " ont_t_4_occurrence_sort_constraints = True,\n",
      " C_case_2 = Ind!val!17,\n",
      " E_4 = Ind!val!9,\n",
      " mapped_a_12_hasResource(E_0, user_1) = True,\n",
      " mapped_a_28_hasRecordedTime(E_5, 1451811600) = True,\n",
      " mapped_a_73_hasRecordedTime(E_7, 1451639400) = True,\n",
      " mapped_a_74_hasActivity(E_9, A_activity_D) = True,\n",
      " mapped_a_10_hasActivity(E_2, A_activity_C) = True,\n",
      " A_activity_B = Ind!val!14,\n",
      " mapped_a_11_hasCase(E_2, C_case_0) = True,\n",
      " mapped_a_68_Resource(user_1) = True,\n",
      " ont_t_0_type_disjointness = True,\n",
      " mapped_a_45_Resource(user_0) = True,\n",
      " mapped_a_20_hasRecordedTime(E_0, 1451638800) = True,\n",
      " mapped_a_21_hasProcess(C_case_0, P1) = True,\n",
      " mapped_a_46_Event(E_4) = True,\n",
      " T_start = Ind!val!0,\n",
      " ont_t_2_ends_unique = True,\n",
      " mapped_a_51_Event(E_8) = True,\n",
      " C_case_1 = Ind!val!10,\n",
      " mapped_a_8_Event(E_0) = True,\n",
      " participation_sort_constraints = ForAll([x, occ, t],\n",
      "                                        Implies(participates_in(x,\n",
      "                                        occ,\n",
      "                                        t),\n",
      "                                        And(object_(x),\n",
      "                                        activity_occurrence(occ),\n",
      "                                        timepoint(t)))),\n",
      " occurrence_bounds = ForAll(o,\n",
      "                            Implies(activity_occurrence(o),\n",
      "                                    Exists([t1, t2],\n",
      "                                        And(begin_of(o) ==\n",
      "                                        t1,\n",
      "                                        end_of(o) == t2,\n",
      "                                        t1 <= t2)))),\n",
      " object_temporal_existence = ForAll([x, t],\n",
      "                                    exists_at(x, t) ==\n",
      "                                    And(object_(x),\n",
      "                                        begin_of(x) <= t,\n",
      "                                        t <= end_of(x))),\n",
      " participation_temporal_constraint = ForAll([x, occ, t],\n",
      "                                        Implies(participates_in(x,\n",
      "                                        occ,\n",
      "                                        t),\n",
      "                                        And(exists_at(x, t),\n",
      "                                        is_occurring_at(occ,\n",
      "                                        t)))),\n",
      " begin_unique = ForAll([x, t1, t2],\n",
      "                       Implies(And(begin_of(x) == t1,\n",
      "                                   begin_of(x) == t2),\n",
      "                               t1 == t2)),\n",
      " occurrence_start_end_event_mapping = ForAll([e1,\n",
      "                                        e2,\n",
      "                                        t1,\n",
      "                                        t2,\n",
      "                                        c,\n",
      "                                        a],\n",
      "                                        Implies(And(hasCase(e1,\n",
      "                                        c),\n",
      "                                        hasCase(e2, c),\n",
      "                                        hasActivity(e1, a),\n",
      "                                        hasActivity(e2, a),\n",
      "                                        hasLifecycleTransition(e1,\n",
      "                                        T_start),\n",
      "                                        hasLifecycleTransition(e2,\n",
      "                                        T_complete),\n",
      "                                        hasRecordedTime(e1,\n",
      "                                        t1),\n",
      "                                        hasRecordedTime(e2,\n",
      "                                        t2)),\n",
      "                                        Exists(o,\n",
      "                                        And(occurrence_of(o,\n",
      "                                        a),\n",
      "                                        begin_of(o) == t1,\n",
      "                                        end_of(o) == t2)))),\n",
      " occurrence_temporal_extent = ForAll([occ, t],\n",
      "                                     is_occurring_at(occ, t) ==\n",
      "                                     And(activity_occurrence(occ),\n",
      "                                        begin_of(occ) <= t,\n",
      "                                        t <= end_of(occ))),\n",
      " type_disjointness = ForAll(x,\n",
      "                            And(Implies(activity(x),\n",
      "                                        Not(Or(activity_occurrence(x),\n",
      "                                        object_(x)))),\n",
      "                                Implies(activity_occurrence(x),\n",
      "                                        Not(Or(object_(x),\n",
      "                                        activity(x)))),\n",
      "                                Implies(object_(x),\n",
      "                                        Not(Or(activity_occurrence(x),\n",
      "                                        activity(x)))))),\n",
      " ...]\n"
     ]
    }
   ],
   "source": [
    "# Since the data is consistent with the ontology, we have a satisfying interpretation and can extract a model\n",
    "print(s.model())"
   ]
  },
  {
   "cell_type": "code",
   "execution_count": 17,
   "id": "2b785366",
   "metadata": {},
   "outputs": [
    {
     "data": {
      "text/plain": [
       "{'T_start': T_start,\n",
       " 'T_complete': T_complete,\n",
       " 'E_1': E_1,\n",
       " 'A_activity_A': A_activity_A,\n",
       " 'E_2': E_2,\n",
       " 'C_case_0': C_case_0,\n",
       " 'user_1': user_1,\n",
       " 'E_0': E_0,\n",
       " 'P1': P1,\n",
       " 'A_activity_C': A_activity_C,\n",
       " 'E_3': E_3,\n",
       " 'E_4': E_4,\n",
       " 'E_5': E_5,\n",
       " 'A_activity_B': A_activity_B,\n",
       " 'C_case_1': C_case_1,\n",
       " 'user_0': user_0,\n",
       " 'E_9': E_9,\n",
       " 'E_7': E_7,\n",
       " 'C_case_2': C_case_2,\n",
       " 'E_6': E_6,\n",
       " 'user_2': user_2,\n",
       " 'E_8': E_8,\n",
       " 'A_activity_D': A_activity_D}"
      ]
     },
     "execution_count": 17,
     "metadata": {},
     "output_type": "execute_result"
    }
   ],
   "source": [
    "from opal.logic.z3.z3_handler import REFERENCE_TAXONOMY_ENV\n",
    "REFERENCE_TAXONOMY_ENV['constants']"
   ]
  },
  {
   "cell_type": "code",
   "execution_count": 16,
   "id": "2559fd2c",
   "metadata": {},
   "outputs": [
    {
     "data": {
      "text/plain": [
       "{'Event': Event,\n",
       " 'Transition': Transition,\n",
       " 'Activity': Activity,\n",
       " 'Case': Case,\n",
       " 'Resource': Resource,\n",
       " 'hasResource': hasResource,\n",
       " 'hasRecordedTime': hasRecordedTime,\n",
       " 'hasLifecycleTransition': hasLifecycleTransition,\n",
       " 'hasCase': hasCase,\n",
       " 'hasActivity': hasActivity,\n",
       " 'activity': activity,\n",
       " 'activity_occurrence': activity_occurrence,\n",
       " 'object_': object_,\n",
       " 'timepoint': timepoint,\n",
       " 'occurrence_of': occurrence_of,\n",
       " 'participates_in': participates_in,\n",
       " 'exists_at': exists_at,\n",
       " 'is_occurring_at': is_occurring_at,\n",
       " 'begin_of': begin_of,\n",
       " 'end_of': end_of,\n",
       " 'hasTransition': hasTransition,\n",
       " 'hasProcess': hasProcess,\n",
       " 'transition': transition}"
      ]
     },
     "execution_count": 16,
     "metadata": {},
     "output_type": "execute_result"
    }
   ],
   "source": [
    "r.functions"
   ]
  },
  {
   "cell_type": "code",
   "execution_count": null,
   "id": "6931c152",
   "metadata": {},
   "outputs": [
    {
     "data": {
      "text/plain": [
       "{'ctx': <z3.z3.Context at 0x795cb92931c0>,\n",
       " 'sorts': {'Ind': Ind},\n",
       " 'functions': {'Event': Event,\n",
       "  'Transition': Transition,\n",
       "  'Activity': Activity,\n",
       "  'Case': Case,\n",
       "  'Resource': Resource,\n",
       "  'hasResource': hasResource,\n",
       "  'hasRecordedTime': hasRecordedTime,\n",
       "  'hasLifecycleTransition': hasLifecycleTransition,\n",
       "  'hasCase': hasCase,\n",
       "  'hasActivity': hasActivity,\n",
       "  'activity': activity,\n",
       "  'activity_occurrence': activity_occurrence,\n",
       "  'object_': object_,\n",
       "  'timepoint': timepoint,\n",
       "  'occurrence_of': occurrence_of,\n",
       "  'participates_in': participates_in,\n",
       "  'exists_at': exists_at,\n",
       "  'is_occurring_at': is_occurring_at,\n",
       "  'begin_of': begin_of,\n",
       "  'end_of': end_of,\n",
       "  'hasTransition': hasTransition,\n",
       "  'hasProcess': hasProcess,\n",
       "  'transition': transition},\n",
       " 'constants': {'T_start': T_start,\n",
       "  'T_complete': T_complete,\n",
       "  'E_1': E_1,\n",
       "  'user_1': user_1,\n",
       "  'A_activity_A': A_activity_A,\n",
       "  'E_0': E_0,\n",
       "  'C_case_0': C_case_0,\n",
       "  'E_2': E_2,\n",
       "  'A_activity_C': A_activity_C,\n",
       "  'P1': P1,\n",
       "  'E_5': E_5,\n",
       "  'C_case_1': C_case_1,\n",
       "  'user_0': user_0,\n",
       "  'E_3': E_3,\n",
       "  'E_4': E_4,\n",
       "  'A_activity_B': A_activity_B,\n",
       "  'E_9': E_9,\n",
       "  'C_case_2': C_case_2,\n",
       "  'E_7': E_7,\n",
       "  'E_8': E_8,\n",
       "  'E_6': E_6,\n",
       "  'user_2': user_2,\n",
       "  'A_activity_D': A_activity_D}}"
      ]
     },
     "execution_count": 15,
     "metadata": {},
     "output_type": "execute_result"
    }
   ],
   "source": [
    "psl_core.env"
   ]
  },
  {
   "cell_type": "markdown",
   "id": "21407a2f",
   "metadata": {},
   "source": [
    "# Mapping BPIC 2017 data"
   ]
  },
  {
   "cell_type": "code",
   "execution_count": 12,
   "id": "ea2887df",
   "metadata": {},
   "outputs": [
    {
     "name": "stderr",
     "output_type": "stream",
     "text": [
      "/home/vscode/.local/lib/python3.9/site-packages/pm4py/util/dt_parsing/parser.py:82: UserWarning: ISO8601 strings are not fully supported with strpfromiso for Python versions below 3.11\n",
      "  warnings.warn(\n",
      "/opt/conda/lib/python3.9/site-packages/tqdm/auto.py:21: TqdmWarning: IProgress not found. Please update jupyter and ipywidgets. See https://ipywidgets.readthedocs.io/en/stable/user_install.html\n",
      "  from .autonotebook import tqdm as notebook_tqdm\n",
      "parsing log, completed traces :: 100%|██████████| 31509/31509 [00:57<00:00, 546.80it/s]\n",
      "/workspaces/ProMean Lib/opal/data/processor.py:83: SettingWithCopyWarning: \n",
      "A value is trying to be set on a copy of a slice from a DataFrame.\n",
      "Try using .loc[row_indexer,col_indexer] = value instead\n",
      "\n",
      "See the caveats in the documentation: https://pandas.pydata.org/pandas-docs/stable/user_guide/indexing.html#returning-a-view-versus-a-copy\n",
      "  df['batch'] = (df.groupby('caseID').ngroup() // self.batch_size) + 1\n"
     ]
    }
   ],
   "source": [
    "processor = LogProcessor(log_path=bpic2017_file, batch_size=100)\n",
    "event_data = processor.load_log(downsample_rate=0.05)"
   ]
  },
  {
   "cell_type": "code",
   "execution_count": 13,
   "id": "844e52fb",
   "metadata": {},
   "outputs": [
    {
     "name": "stdout",
     "output_type": "stream",
     "text": [
      "Building mappings for logs...\n"
     ]
    },
    {
     "name": "stderr",
     "output_type": "stream",
     "text": [
      "  0%|          | 0/16 [00:00<?, ?it/s]2025-08-11 14:02:34,488 | INFO: Translating YARRRML mapping to [R2]RML\n",
      "INFO | 2025-08-11 14:02:34,488 | Translating YARRRML mapping to [R2]RML\n",
      "2025-08-11 14:02:34,490 | INFO: RML content is created!\n",
      "INFO | 2025-08-11 14:02:34,490 | RML content is created!\n",
      "2025-08-11 14:02:34,496 | INFO: Mapping has been syntactically validated.\n",
      "INFO | 2025-08-11 14:02:34,496 | Mapping has been syntactically validated.\n",
      "2025-08-11 14:02:34,498 | INFO: Translation has finished successfully.\n",
      "INFO | 2025-08-11 14:02:34,498 | Translation has finished successfully.\n",
      "2025-08-11 14:02:34,508 | INFO: Translating YARRRML mapping to [R2]RML\n",
      "INFO | 2025-08-11 14:02:34,508 | Translating YARRRML mapping to [R2]RML\n",
      "2025-08-11 14:02:34,509 | INFO: RML content is created!\n",
      "INFO | 2025-08-11 14:02:34,509 | RML content is created!\n",
      "2025-08-11 14:02:34,516 | INFO: Mapping has been syntactically validated.\n",
      "INFO | 2025-08-11 14:02:34,516 | Mapping has been syntactically validated.\n",
      "2025-08-11 14:02:34,518 | INFO: Translation has finished successfully.\n",
      "INFO | 2025-08-11 14:02:34,518 | Translation has finished successfully.\n",
      "2025-08-11 14:02:34,529 | INFO: Translating YARRRML mapping to [R2]RML\n",
      "INFO | 2025-08-11 14:02:34,529 | Translating YARRRML mapping to [R2]RML\n",
      "2025-08-11 14:02:34,531 | INFO: RML content is created!\n",
      "INFO | 2025-08-11 14:02:34,531 | RML content is created!\n",
      "2025-08-11 14:02:34,539 | INFO: Mapping has been syntactically validated.\n",
      "INFO | 2025-08-11 14:02:34,539 | Mapping has been syntactically validated.\n",
      "2025-08-11 14:02:34,540 | INFO: Translation has finished successfully.\n",
      "INFO | 2025-08-11 14:02:34,540 | Translation has finished successfully.\n",
      "2025-08-11 14:02:34,551 | INFO: Translating YARRRML mapping to [R2]RML\n",
      "INFO | 2025-08-11 14:02:34,551 | Translating YARRRML mapping to [R2]RML\n",
      "2025-08-11 14:02:34,553 | INFO: RML content is created!\n",
      "INFO | 2025-08-11 14:02:34,553 | RML content is created!\n",
      "2025-08-11 14:02:34,558 | INFO: Mapping has been syntactically validated.\n",
      "INFO | 2025-08-11 14:02:34,558 | Mapping has been syntactically validated.\n",
      "2025-08-11 14:02:34,559 | INFO: Translation has finished successfully.\n",
      "INFO | 2025-08-11 14:02:34,559 | Translation has finished successfully.\n",
      "2025-08-11 14:02:34,569 | INFO: Translating YARRRML mapping to [R2]RML\n",
      "INFO | 2025-08-11 14:02:34,569 | Translating YARRRML mapping to [R2]RML\n",
      "2025-08-11 14:02:34,570 | INFO: RML content is created!\n",
      "INFO | 2025-08-11 14:02:34,570 | RML content is created!\n",
      "2025-08-11 14:02:34,576 | INFO: Mapping has been syntactically validated.\n",
      "INFO | 2025-08-11 14:02:34,576 | Mapping has been syntactically validated.\n",
      "2025-08-11 14:02:34,577 | INFO: Translation has finished successfully.\n",
      "INFO | 2025-08-11 14:02:34,577 | Translation has finished successfully.\n",
      "2025-08-11 14:02:34,585 | INFO: Translating YARRRML mapping to [R2]RML\n",
      "INFO | 2025-08-11 14:02:34,585 | Translating YARRRML mapping to [R2]RML\n",
      "2025-08-11 14:02:34,587 | INFO: RML content is created!\n",
      "INFO | 2025-08-11 14:02:34,587 | RML content is created!\n",
      "2025-08-11 14:02:34,593 | INFO: Mapping has been syntactically validated.\n",
      "INFO | 2025-08-11 14:02:34,593 | Mapping has been syntactically validated.\n",
      "2025-08-11 14:02:34,594 | INFO: Translation has finished successfully.\n",
      "INFO | 2025-08-11 14:02:34,594 | Translation has finished successfully.\n",
      " 38%|███▊      | 6/16 [00:00<00:00, 52.30it/s]2025-08-11 14:02:34,604 | INFO: Translating YARRRML mapping to [R2]RML\n",
      "INFO | 2025-08-11 14:02:34,604 | Translating YARRRML mapping to [R2]RML\n",
      "2025-08-11 14:02:34,605 | INFO: RML content is created!\n",
      "INFO | 2025-08-11 14:02:34,605 | RML content is created!\n",
      "2025-08-11 14:02:34,611 | INFO: Mapping has been syntactically validated.\n",
      "INFO | 2025-08-11 14:02:34,611 | Mapping has been syntactically validated.\n",
      "2025-08-11 14:02:34,612 | INFO: Translation has finished successfully.\n",
      "INFO | 2025-08-11 14:02:34,612 | Translation has finished successfully.\n",
      "2025-08-11 14:02:34,621 | INFO: Translating YARRRML mapping to [R2]RML\n",
      "INFO | 2025-08-11 14:02:34,621 | Translating YARRRML mapping to [R2]RML\n",
      "2025-08-11 14:02:34,622 | INFO: RML content is created!\n",
      "INFO | 2025-08-11 14:02:34,622 | RML content is created!\n",
      "2025-08-11 14:02:34,628 | INFO: Mapping has been syntactically validated.\n",
      "INFO | 2025-08-11 14:02:34,628 | Mapping has been syntactically validated.\n",
      "2025-08-11 14:02:34,630 | INFO: Translation has finished successfully.\n",
      "INFO | 2025-08-11 14:02:34,630 | Translation has finished successfully.\n",
      "2025-08-11 14:02:34,638 | INFO: Translating YARRRML mapping to [R2]RML\n",
      "INFO | 2025-08-11 14:02:34,638 | Translating YARRRML mapping to [R2]RML\n",
      "2025-08-11 14:02:34,640 | INFO: RML content is created!\n",
      "INFO | 2025-08-11 14:02:34,640 | RML content is created!\n",
      "2025-08-11 14:02:34,645 | INFO: Mapping has been syntactically validated.\n",
      "INFO | 2025-08-11 14:02:34,645 | Mapping has been syntactically validated.\n",
      "2025-08-11 14:02:34,646 | INFO: Translation has finished successfully.\n",
      "INFO | 2025-08-11 14:02:34,646 | Translation has finished successfully.\n",
      "2025-08-11 14:02:34,655 | INFO: Translating YARRRML mapping to [R2]RML\n",
      "INFO | 2025-08-11 14:02:34,655 | Translating YARRRML mapping to [R2]RML\n",
      "2025-08-11 14:02:34,657 | INFO: RML content is created!\n",
      "INFO | 2025-08-11 14:02:34,657 | RML content is created!\n",
      "2025-08-11 14:02:34,665 | INFO: Mapping has been syntactically validated.\n",
      "INFO | 2025-08-11 14:02:34,665 | Mapping has been syntactically validated.\n",
      "2025-08-11 14:02:34,666 | INFO: Translation has finished successfully.\n",
      "INFO | 2025-08-11 14:02:34,666 | Translation has finished successfully.\n",
      "2025-08-11 14:02:34,675 | INFO: Translating YARRRML mapping to [R2]RML\n",
      "INFO | 2025-08-11 14:02:34,675 | Translating YARRRML mapping to [R2]RML\n",
      "2025-08-11 14:02:34,676 | INFO: RML content is created!\n",
      "INFO | 2025-08-11 14:02:34,676 | RML content is created!\n",
      "2025-08-11 14:02:34,682 | INFO: Mapping has been syntactically validated.\n",
      "INFO | 2025-08-11 14:02:34,682 | Mapping has been syntactically validated.\n",
      "2025-08-11 14:02:34,684 | INFO: Translation has finished successfully.\n",
      "INFO | 2025-08-11 14:02:34,684 | Translation has finished successfully.\n",
      "2025-08-11 14:02:34,692 | INFO: Translating YARRRML mapping to [R2]RML\n",
      "INFO | 2025-08-11 14:02:34,692 | Translating YARRRML mapping to [R2]RML\n",
      "2025-08-11 14:02:34,694 | INFO: RML content is created!\n",
      "INFO | 2025-08-11 14:02:34,694 | RML content is created!\n",
      "2025-08-11 14:02:34,700 | INFO: Mapping has been syntactically validated.\n",
      "INFO | 2025-08-11 14:02:34,700 | Mapping has been syntactically validated.\n",
      "2025-08-11 14:02:34,701 | INFO: Translation has finished successfully.\n",
      "INFO | 2025-08-11 14:02:34,701 | Translation has finished successfully.\n",
      " 75%|███████▌  | 12/16 [00:00<00:00, 54.13it/s]2025-08-11 14:02:34,711 | INFO: Translating YARRRML mapping to [R2]RML\n",
      "INFO | 2025-08-11 14:02:34,711 | Translating YARRRML mapping to [R2]RML\n",
      "2025-08-11 14:02:34,712 | INFO: RML content is created!\n",
      "INFO | 2025-08-11 14:02:34,712 | RML content is created!\n",
      "2025-08-11 14:02:34,720 | INFO: Mapping has been syntactically validated.\n",
      "INFO | 2025-08-11 14:02:34,720 | Mapping has been syntactically validated.\n",
      "2025-08-11 14:02:34,721 | INFO: Translation has finished successfully.\n",
      "INFO | 2025-08-11 14:02:34,721 | Translation has finished successfully.\n",
      "2025-08-11 14:02:34,730 | INFO: Translating YARRRML mapping to [R2]RML\n",
      "INFO | 2025-08-11 14:02:34,730 | Translating YARRRML mapping to [R2]RML\n",
      "2025-08-11 14:02:34,731 | INFO: RML content is created!\n",
      "INFO | 2025-08-11 14:02:34,731 | RML content is created!\n",
      "2025-08-11 14:02:34,737 | INFO: Mapping has been syntactically validated.\n",
      "INFO | 2025-08-11 14:02:34,737 | Mapping has been syntactically validated.\n",
      "2025-08-11 14:02:34,739 | INFO: Translation has finished successfully.\n",
      "INFO | 2025-08-11 14:02:34,739 | Translation has finished successfully.\n",
      "2025-08-11 14:02:34,747 | INFO: Translating YARRRML mapping to [R2]RML\n",
      "INFO | 2025-08-11 14:02:34,747 | Translating YARRRML mapping to [R2]RML\n",
      "2025-08-11 14:02:34,749 | INFO: RML content is created!\n",
      "INFO | 2025-08-11 14:02:34,749 | RML content is created!\n",
      "2025-08-11 14:02:34,754 | INFO: Mapping has been syntactically validated.\n",
      "INFO | 2025-08-11 14:02:34,754 | Mapping has been syntactically validated.\n",
      "2025-08-11 14:02:34,755 | INFO: Translation has finished successfully.\n",
      "INFO | 2025-08-11 14:02:34,755 | Translation has finished successfully.\n",
      "2025-08-11 14:02:34,764 | INFO: Translating YARRRML mapping to [R2]RML\n",
      "INFO | 2025-08-11 14:02:34,764 | Translating YARRRML mapping to [R2]RML\n",
      "2025-08-11 14:02:34,765 | INFO: RML content is created!\n",
      "INFO | 2025-08-11 14:02:34,765 | RML content is created!\n",
      "2025-08-11 14:02:34,772 | INFO: Mapping has been syntactically validated.\n",
      "INFO | 2025-08-11 14:02:34,772 | Mapping has been syntactically validated.\n",
      "2025-08-11 14:02:34,773 | INFO: Translation has finished successfully.\n",
      "INFO | 2025-08-11 14:02:34,773 | Translation has finished successfully.\n",
      "100%|██████████| 16/16 [00:00<00:00, 54.33it/s]\n"
     ]
    },
    {
     "name": "stdout",
     "output_type": "stream",
     "text": [
      "Mappings built.\n",
      "Generating knowledge graph...\n"
     ]
    },
    {
     "name": "stderr",
     "output_type": "stream",
     "text": [
      "INFO | 2025-08-11 14:02:35,287 | 11 mapping rules retrieved.\n",
      "INFO | 2025-08-11 14:02:35,297 | Mapping partition with 11 groups generated.\n",
      "INFO | 2025-08-11 14:02:35,299 | Maximum number of rules within mapping group: 1.\n",
      "INFO | 2025-08-11 14:02:35,299 | Mappings processed in 0.519 seconds.\n",
      "INFO | 2025-08-11 14:02:36,870 | Number of triples generated in total: 23614.\n"
     ]
    },
    {
     "name": "stdout",
     "output_type": "stream",
     "text": [
      "Knowledge graph generated.\n",
      "Knowledge graph 1/16 generated.\n",
      "Generating knowledge graph...\n"
     ]
    },
    {
     "name": "stderr",
     "output_type": "stream",
     "text": [
      "INFO | 2025-08-11 14:02:37,958 | 11 mapping rules retrieved.\n",
      "INFO | 2025-08-11 14:02:37,971 | Mapping partition with 11 groups generated.\n",
      "INFO | 2025-08-11 14:02:37,972 | Maximum number of rules within mapping group: 1.\n",
      "INFO | 2025-08-11 14:02:37,973 | Mappings processed in 0.505 seconds.\n",
      "INFO | 2025-08-11 14:02:39,331 | Number of triples generated in total: 21131.\n"
     ]
    },
    {
     "name": "stdout",
     "output_type": "stream",
     "text": [
      "Knowledge graph generated.\n",
      "Knowledge graph 2/16 generated.\n",
      "Generating knowledge graph...\n"
     ]
    },
    {
     "name": "stderr",
     "output_type": "stream",
     "text": [
      "INFO | 2025-08-11 14:02:40,478 | 11 mapping rules retrieved.\n",
      "INFO | 2025-08-11 14:02:40,490 | Mapping partition with 11 groups generated.\n",
      "INFO | 2025-08-11 14:02:40,491 | Maximum number of rules within mapping group: 1.\n",
      "INFO | 2025-08-11 14:02:40,492 | Mappings processed in 0.512 seconds.\n",
      "INFO | 2025-08-11 14:02:41,835 | Number of triples generated in total: 23215.\n"
     ]
    },
    {
     "name": "stdout",
     "output_type": "stream",
     "text": [
      "Knowledge graph generated.\n",
      "Knowledge graph 3/16 generated.\n",
      "Generating knowledge graph...\n"
     ]
    },
    {
     "name": "stderr",
     "output_type": "stream",
     "text": [
      "INFO | 2025-08-11 14:02:43,063 | 11 mapping rules retrieved.\n",
      "INFO | 2025-08-11 14:02:43,076 | Mapping partition with 11 groups generated.\n",
      "INFO | 2025-08-11 14:02:43,077 | Maximum number of rules within mapping group: 1.\n",
      "INFO | 2025-08-11 14:02:43,078 | Mappings processed in 0.483 seconds.\n",
      "INFO | 2025-08-11 14:02:44,485 | Number of triples generated in total: 22969.\n"
     ]
    },
    {
     "name": "stdout",
     "output_type": "stream",
     "text": [
      "Knowledge graph generated.\n",
      "Knowledge graph 4/16 generated.\n",
      "Generating knowledge graph...\n"
     ]
    },
    {
     "name": "stderr",
     "output_type": "stream",
     "text": [
      "INFO | 2025-08-11 14:02:45,862 | 11 mapping rules retrieved.\n",
      "INFO | 2025-08-11 14:02:45,873 | Mapping partition with 11 groups generated.\n",
      "INFO | 2025-08-11 14:02:45,874 | Maximum number of rules within mapping group: 1.\n",
      "INFO | 2025-08-11 14:02:45,875 | Mappings processed in 0.509 seconds.\n",
      "INFO | 2025-08-11 14:02:47,194 | Number of triples generated in total: 22554.\n"
     ]
    },
    {
     "name": "stdout",
     "output_type": "stream",
     "text": [
      "Knowledge graph generated.\n",
      "Knowledge graph 5/16 generated.\n",
      "Generating knowledge graph...\n"
     ]
    },
    {
     "name": "stderr",
     "output_type": "stream",
     "text": [
      "INFO | 2025-08-11 14:02:48,235 | 11 mapping rules retrieved.\n",
      "INFO | 2025-08-11 14:02:48,246 | Mapping partition with 11 groups generated.\n",
      "INFO | 2025-08-11 14:02:48,247 | Maximum number of rules within mapping group: 1.\n",
      "INFO | 2025-08-11 14:02:48,248 | Mappings processed in 0.513 seconds.\n",
      "INFO | 2025-08-11 14:02:49,546 | Number of triples generated in total: 23231.\n"
     ]
    },
    {
     "name": "stdout",
     "output_type": "stream",
     "text": [
      "Knowledge graph generated.\n",
      "Knowledge graph 6/16 generated.\n",
      "Generating knowledge graph...\n"
     ]
    },
    {
     "name": "stderr",
     "output_type": "stream",
     "text": [
      "INFO | 2025-08-11 14:02:50,969 | 11 mapping rules retrieved.\n",
      "INFO | 2025-08-11 14:02:50,981 | Mapping partition with 11 groups generated.\n",
      "INFO | 2025-08-11 14:02:50,982 | Maximum number of rules within mapping group: 1.\n",
      "INFO | 2025-08-11 14:02:50,983 | Mappings processed in 0.586 seconds.\n",
      "INFO | 2025-08-11 14:02:52,315 | Number of triples generated in total: 22868.\n"
     ]
    },
    {
     "name": "stdout",
     "output_type": "stream",
     "text": [
      "Knowledge graph generated.\n",
      "Knowledge graph 7/16 generated.\n",
      "Generating knowledge graph...\n"
     ]
    },
    {
     "name": "stderr",
     "output_type": "stream",
     "text": [
      "INFO | 2025-08-11 14:02:53,775 | 11 mapping rules retrieved.\n",
      "INFO | 2025-08-11 14:02:53,786 | Mapping partition with 11 groups generated.\n",
      "INFO | 2025-08-11 14:02:53,788 | Maximum number of rules within mapping group: 1.\n",
      "INFO | 2025-08-11 14:02:53,789 | Mappings processed in 0.934 seconds.\n",
      "INFO | 2025-08-11 14:02:55,130 | Number of triples generated in total: 23466.\n"
     ]
    },
    {
     "name": "stdout",
     "output_type": "stream",
     "text": [
      "Knowledge graph generated.\n",
      "Knowledge graph 8/16 generated.\n",
      "Generating knowledge graph...\n"
     ]
    },
    {
     "name": "stderr",
     "output_type": "stream",
     "text": [
      "INFO | 2025-08-11 14:02:56,229 | 11 mapping rules retrieved.\n",
      "INFO | 2025-08-11 14:02:56,242 | Mapping partition with 11 groups generated.\n",
      "INFO | 2025-08-11 14:02:56,243 | Maximum number of rules within mapping group: 1.\n",
      "INFO | 2025-08-11 14:02:56,244 | Mappings processed in 0.547 seconds.\n",
      "INFO | 2025-08-11 14:02:57,627 | Number of triples generated in total: 20487.\n"
     ]
    },
    {
     "name": "stdout",
     "output_type": "stream",
     "text": [
      "Knowledge graph generated.\n",
      "Knowledge graph 9/16 generated.\n",
      "Generating knowledge graph...\n"
     ]
    },
    {
     "name": "stderr",
     "output_type": "stream",
     "text": [
      "INFO | 2025-08-11 14:02:58,657 | 11 mapping rules retrieved.\n",
      "INFO | 2025-08-11 14:02:58,670 | Mapping partition with 11 groups generated.\n",
      "INFO | 2025-08-11 14:02:58,671 | Maximum number of rules within mapping group: 1.\n",
      "INFO | 2025-08-11 14:02:58,672 | Mappings processed in 0.538 seconds.\n",
      "INFO | 2025-08-11 14:03:00,006 | Number of triples generated in total: 24788.\n"
     ]
    },
    {
     "name": "stdout",
     "output_type": "stream",
     "text": [
      "Knowledge graph generated.\n",
      "Knowledge graph 10/16 generated.\n",
      "Generating knowledge graph...\n"
     ]
    },
    {
     "name": "stderr",
     "output_type": "stream",
     "text": [
      "INFO | 2025-08-11 14:03:01,601 | 11 mapping rules retrieved.\n",
      "INFO | 2025-08-11 14:03:01,614 | Mapping partition with 11 groups generated.\n",
      "INFO | 2025-08-11 14:03:01,615 | Maximum number of rules within mapping group: 1.\n",
      "INFO | 2025-08-11 14:03:01,616 | Mappings processed in 0.540 seconds.\n",
      "INFO | 2025-08-11 14:03:02,935 | Number of triples generated in total: 23076.\n"
     ]
    },
    {
     "name": "stdout",
     "output_type": "stream",
     "text": [
      "Knowledge graph generated.\n",
      "Knowledge graph 11/16 generated.\n",
      "Generating knowledge graph...\n"
     ]
    },
    {
     "name": "stderr",
     "output_type": "stream",
     "text": [
      "INFO | 2025-08-11 14:03:04,020 | 11 mapping rules retrieved.\n",
      "INFO | 2025-08-11 14:03:04,033 | Mapping partition with 11 groups generated.\n",
      "INFO | 2025-08-11 14:03:04,035 | Maximum number of rules within mapping group: 1.\n",
      "INFO | 2025-08-11 14:03:04,036 | Mappings processed in 0.560 seconds.\n",
      "INFO | 2025-08-11 14:03:05,391 | Number of triples generated in total: 24960.\n"
     ]
    },
    {
     "name": "stdout",
     "output_type": "stream",
     "text": [
      "Knowledge graph generated.\n",
      "Knowledge graph 12/16 generated.\n",
      "Generating knowledge graph...\n"
     ]
    },
    {
     "name": "stderr",
     "output_type": "stream",
     "text": [
      "INFO | 2025-08-11 14:03:07,044 | 11 mapping rules retrieved.\n",
      "INFO | 2025-08-11 14:03:07,056 | Mapping partition with 11 groups generated.\n",
      "INFO | 2025-08-11 14:03:07,057 | Maximum number of rules within mapping group: 1.\n",
      "INFO | 2025-08-11 14:03:07,057 | Mappings processed in 0.519 seconds.\n",
      "INFO | 2025-08-11 14:03:08,370 | Number of triples generated in total: 22743.\n"
     ]
    },
    {
     "name": "stdout",
     "output_type": "stream",
     "text": [
      "Knowledge graph generated.\n",
      "Knowledge graph 13/16 generated.\n",
      "Generating knowledge graph...\n"
     ]
    },
    {
     "name": "stderr",
     "output_type": "stream",
     "text": [
      "INFO | 2025-08-11 14:03:09,425 | 11 mapping rules retrieved.\n",
      "INFO | 2025-08-11 14:03:09,439 | Mapping partition with 11 groups generated.\n",
      "INFO | 2025-08-11 14:03:09,441 | Maximum number of rules within mapping group: 1.\n",
      "INFO | 2025-08-11 14:03:09,441 | Mappings processed in 0.530 seconds.\n",
      "INFO | 2025-08-11 14:03:10,704 | Number of triples generated in total: 21217.\n"
     ]
    },
    {
     "name": "stdout",
     "output_type": "stream",
     "text": [
      "Knowledge graph generated.\n",
      "Knowledge graph 14/16 generated.\n",
      "Generating knowledge graph...\n"
     ]
    },
    {
     "name": "stderr",
     "output_type": "stream",
     "text": [
      "INFO | 2025-08-11 14:03:11,740 | 11 mapping rules retrieved.\n",
      "INFO | 2025-08-11 14:03:11,754 | Mapping partition with 11 groups generated.\n",
      "INFO | 2025-08-11 14:03:11,755 | Maximum number of rules within mapping group: 1.\n",
      "INFO | 2025-08-11 14:03:11,756 | Mappings processed in 0.540 seconds.\n",
      "INFO | 2025-08-11 14:03:13,130 | Number of triples generated in total: 22243.\n"
     ]
    },
    {
     "name": "stdout",
     "output_type": "stream",
     "text": [
      "Knowledge graph generated.\n",
      "Knowledge graph 15/16 generated.\n",
      "Generating knowledge graph...\n"
     ]
    },
    {
     "name": "stderr",
     "output_type": "stream",
     "text": [
      "INFO | 2025-08-11 14:03:15,046 | 11 mapping rules retrieved.\n",
      "INFO | 2025-08-11 14:03:15,057 | Mapping partition with 11 groups generated.\n",
      "INFO | 2025-08-11 14:03:15,058 | Maximum number of rules within mapping group: 1.\n",
      "INFO | 2025-08-11 14:03:15,059 | Mappings processed in 0.538 seconds.\n",
      "INFO | 2025-08-11 14:03:16,380 | Number of triples generated in total: 17015.\n"
     ]
    },
    {
     "name": "stdout",
     "output_type": "stream",
     "text": [
      "Knowledge graph generated.\n",
      "Knowledge graph 16/16 generated.\n",
      "Z3 literal set generated (1/16)\n",
      "Z3 literal set generated (2/16)\n",
      "Z3 literal set generated (3/16)\n",
      "Z3 literal set generated (4/16)\n",
      "Z3 literal set generated (5/16)\n",
      "Z3 literal set generated (6/16)\n",
      "Z3 literal set generated (7/16)\n",
      "Z3 literal set generated (8/16)\n",
      "Z3 literal set generated (9/16)\n",
      "Z3 literal set generated (10/16)\n",
      "Z3 literal set generated (11/16)\n",
      "Z3 literal set generated (12/16)\n",
      "Z3 literal set generated (13/16)\n",
      "Z3 literal set generated (14/16)\n",
      "Z3 literal set generated (15/16)\n",
      "Z3 literal set generated (16/16)\n"
     ]
    }
   ],
   "source": [
    "mapper = LogMapper(data=event_data, output_encoding='z3')\n",
    "z3_data = mapper.get_mapped_data()"
   ]
  },
  {
   "cell_type": "code",
   "execution_count": 14,
   "id": "b02bc947",
   "metadata": {},
   "outputs": [
    {
     "data": {
      "text/plain": [
       "359577"
      ]
     },
     "execution_count": 14,
     "metadata": {},
     "output_type": "execute_result"
    }
   ],
   "source": [
    "len(z3_data)"
   ]
  },
  {
   "cell_type": "code",
   "execution_count": null,
   "id": "b24b1faf",
   "metadata": {},
   "outputs": [
    {
     "data": {
      "text/plain": [
       "59801"
      ]
     },
     "execution_count": 12,
     "metadata": {},
     "output_type": "execute_result"
    }
   ],
   "source": [
    "len(mapper.data.data)"
   ]
  },
  {
   "cell_type": "code",
   "execution_count": 16,
   "id": "2a49a1b0",
   "metadata": {},
   "outputs": [
    {
     "data": {
      "text/plain": [
       "'hasResource(E_1174728, R_User_29)'"
      ]
     },
     "execution_count": 16,
     "metadata": {},
     "output_type": "execute_result"
    }
   ],
   "source": [
    "str(z3_data[5008])"
   ]
  },
  {
   "cell_type": "markdown",
   "id": "ba2133d9",
   "metadata": {},
   "source": [
    "### Creating a simple ontology and performing reasoning\n",
    "Some code here is taken from the opal library for testing purposes to demonstrate how reasoning works. The actual opal library usage will be much simpler"
   ]
  },
  {
   "cell_type": "code",
   "execution_count": null,
   "id": "b90ba08c",
   "metadata": {},
   "outputs": [],
   "source": [
    "# Define a fixed universe of constants and predicate symbols\n",
    "x = Const('x', z3_literal.Ind)\n",
    "\n",
    "# Mapping of logical operators\n",
    "logical_ops = {\n",
    "    'Or': z3.Or,\n",
    "    'And': z3.And,\n",
    "    'Not': z3.Not,\n",
    "    'Implies': z3.Implies,\n",
    "    'ForAll': z3.ForAll,\n",
    "    'Exists': z3.Exists\n",
    "}\n",
    "\n",
    "predicate_map = SIGNATURE_REGISTER\n",
    "\n",
    "# Recursive parser\n",
    "def parse_expr(expr_str, var_ctx={}):\n",
    "    expr_str = expr_str.strip()\n",
    "    if expr_str.startswith('ForAll') or expr_str.startswith('Exists'):\n",
    "        quantifier, inner = expr_str.split('(', 1)\n",
    "        args = inner.rsplit(')', 1)[0]\n",
    "        var_part, body_part = args.split(',', 1)\n",
    "        var_name = var_part.strip()\n",
    "        var = var_ctx.get(var_name, z3.Const(var_name, z3_literal.Ind))\n",
    "        return logical_ops[quantifier](var, parse_expr(body_part.strip(), {**var_ctx, var_name: var}))\n",
    "    elif '(' in expr_str:\n",
    "        func_name, inner = expr_str.split('(', 1)\n",
    "        inner_args = [parse_expr(arg.strip(), var_ctx) for arg in split_args(inner.rsplit(')', 1)[0])]\n",
    "        if func_name in logical_ops:\n",
    "            return logical_ops[func_name](*inner_args)\n",
    "        elif func_name in predicate_map:\n",
    "            return predicate_map[func_name](*inner_args)\n",
    "        else:\n",
    "            # otherwise, create a new z3 function symbol\n",
    "            func = Function(func_name, *([z3_literal.Ind] * len(inner_args)), BoolSort())\n",
    "            predicate_map[func_name] = func\n",
    "            return predicate_map[func_name](*inner_args)\n",
    "    else:\n",
    "        # It's a variable name\n",
    "        return var_ctx.get(expr_str, z3.Const(expr_str, z3.IntSort()))\n",
    "\n",
    "# Helper to split arguments in a safe way\n",
    "def split_args(s):\n",
    "    args, depth, current = [], 0, ''\n",
    "    for c in s:\n",
    "        if c == ',' and depth == 0:\n",
    "            args.append(current)\n",
    "            current = ''\n",
    "        else:\n",
    "            if c == '(':\n",
    "                depth += 1\n",
    "            elif c == ')':\n",
    "                depth -= 1\n",
    "            current += c\n",
    "    if current:\n",
    "        args.append(current)\n",
    "    return args"
   ]
  },
  {
   "cell_type": "code",
   "execution_count": null,
   "id": "68bb33f4",
   "metadata": {},
   "outputs": [
    {
     "name": "stdout",
     "output_type": "stream",
     "text": [
      "ForAll(x, Not(ActivityOccurrence(x)))\n"
     ]
    }
   ],
   "source": [
    "axiom_str = 'ForAll(x, Not(ActivityOccurrence(x)))'\n",
    "test_axiom = parse_expr(axiom_str)\n",
    "print(test_axiom)"
   ]
  },
  {
   "cell_type": "code",
   "execution_count": null,
   "id": "bcd62b2c",
   "metadata": {},
   "outputs": [],
   "source": [
    "# try the solver on basic axioms\n",
    "z3.set_param(proof=True)\n",
    "s = Solver()\n",
    "s.set(unsat_core=True)\n",
    "s.set(completion=True)\n",
    "for i,literal in enumerate(z3_data):\n",
    "  s.assert_and_track(literal.z3_expr, 'ind_'+str(i))\n",
    "s.assert_and_track(test_axiom, 'axiom')"
   ]
  },
  {
   "cell_type": "code",
   "execution_count": null,
   "id": "52283dc5",
   "metadata": {},
   "outputs": [
    {
     "name": "stdout",
     "output_type": "stream",
     "text": [
      "Model is consistent.\n",
      "[ind_231450 = True,\n",
      " ind_266179 = True,\n",
      " ind_262416 = True,\n",
      " ind_249560 = True,\n",
      " ind_136661 = True,\n",
      " ind_242604 = True,\n",
      " ind_340812 = True,\n",
      " E_383726 = Ind!val!3222,\n",
      " ind_247998 = True,\n",
      " ind_332867 = True,\n",
      " ind_177499 = True,\n",
      " ind_77003 = True,\n",
      " ind_350801 = True,\n",
      " ind_74937 = True,\n",
      " ind_187399 = True,\n",
      " ind_288339 = True,\n",
      " ind_651 = True,\n",
      " ind_324581 = True,\n",
      " E_1052929 = Ind!val!30392,\n",
      " ind_251959 = True,\n",
      " ind_112529 = True,\n",
      " E_667307 = Ind!val!10399,\n",
      " ind_249979 = True,\n",
      " ind_23714 = True,\n",
      " ind_216254 = True,\n",
      " ind_315838 = True,\n",
      " E_123675 = Ind!val!5886,\n",
      " ind_140653 = True,\n",
      " ind_118912 = True,\n",
      " ind_157310 = True,\n",
      " E_168459 = Ind!val!9547,\n",
      " ind_185260 = True,\n",
      " ind_293837 = True,\n",
      " ind_161476 = True,\n",
      " ind_212038 = True,\n",
      " ind_302014 = True,\n",
      " ind_362339 = True,\n",
      " ind_117731 = True,\n",
      " ind_346744 = True,\n",
      " ind_76577 = True,\n",
      " E_762664 = Ind!val!44378,\n",
      " ind_200572 = True,\n",
      " ind_359356 = True,\n",
      " E_192325 = Ind!val!1247,\n",
      " ind_169418 = True,\n",
      " ind_192775 = True,\n",
      " ind_323249 = True,\n",
      " ind_255358 = True,\n",
      " ind_124046 = True,\n",
      " ind_193516 = True,\n",
      " ind_209463 = True,\n",
      " ind_165616 = True,\n",
      " ind_157157 = True,\n",
      " ind_311562 = True,\n",
      " ind_143710 = True,\n",
      " ind_62805 = True,\n",
      " ind_276260 = True,\n",
      " ind_343157 = True,\n",
      " ind_100357 = True,\n",
      " ind_255061 = True,\n",
      " ind_21826 = True,\n",
      " ind_106653 = True,\n",
      " ind_302000 = True,\n",
      " ind_329425 = True,\n",
      " E_674922 = Ind!val!39836,\n",
      " ind_34766 = True,\n",
      " ind_353517 = True,\n",
      " ind_161167 = True,\n",
      " E_198918 = Ind!val!58798,\n",
      " ind_298278 = True,\n",
      " ind_110495 = True,\n",
      " ind_159408 = True,\n",
      " ind_160289 = True,\n",
      " ind_307824 = True,\n",
      " ind_60591 = True,\n",
      " ind_345258 = True,\n",
      " ind_120936 = True,\n",
      " E_979207 = Ind!val!56821,\n",
      " ind_173708 = True,\n",
      " ind_142055 = True,\n",
      " ind_309788 = True,\n",
      " ind_217141 = True,\n",
      " ind_116938 = True,\n",
      " ind_139929 = True,\n",
      " ind_173611 = True,\n",
      " E_761819 = Ind!val!180,\n",
      " ind_282165 = True,\n",
      " E_64086 = Ind!val!11352,\n",
      " ind_268634 = True,\n",
      " ind_335598 = True,\n",
      " ind_40874 = True,\n",
      " ind_67136 = True,\n",
      " ind_253261 = True,\n",
      " ind_131581 = True,\n",
      " ind_181650 = True,\n",
      " ind_185121 = True,\n",
      " ind_228223 = True,\n",
      " ind_97056 = True,\n",
      " ind_190210 = True,\n",
      " ind_37914 = True,\n",
      " ind_147276 = True,\n",
      " ind_71666 = True,\n",
      " ind_23351 = True,\n",
      " ind_363670 = True,\n",
      " ind_241149 = True,\n",
      " ind_151565 = True,\n",
      " ind_167123 = True,\n",
      " ind_163383 = True,\n",
      " ind_93705 = True,\n",
      " ind_73593 = True,\n",
      " ind_249339 = True,\n",
      " ind_209388 = True,\n",
      " ind_283116 = True,\n",
      " ind_227589 = True,\n",
      " ind_255658 = True,\n",
      " ind_188265 = True,\n",
      " ind_116756 = True,\n",
      " ind_252639 = True,\n",
      " ind_175948 = True,\n",
      " ind_36879 = True,\n",
      " ind_343899 = True,\n",
      " ind_325285 = True,\n",
      " ind_84094 = True,\n",
      " ind_103490 = True,\n",
      " ind_297093 = True,\n",
      " ind_43203 = True,\n",
      " ind_266506 = True,\n",
      " ind_107990 = True,\n",
      " ind_86143 = True,\n",
      " ...]\n"
     ]
    }
   ],
   "source": [
    "# model generation / satisfiability check\n",
    "if s.check() == sat:\n",
    "    m = s.model()\n",
    "    print(\"Theory is satisfiable -- model generated.\")\n",
    "    print(m)\n",
    "else:\n",
    "    print(\"Theory is unsatisfiable -- no model generated.\")\n",
    "    #pr = s.proof()\n",
    "    #pr_sexpr = pr.sexpr()\n",
    "    core = s.unsat_core()\n",
    "    print(core)"
   ]
  },
  {
   "cell_type": "markdown",
   "id": "52082d2c",
   "metadata": {},
   "source": [
    "# Loading PSL Ontology\n",
    "This is a work in progress"
   ]
  },
  {
   "cell_type": "code",
   "execution_count": null,
   "id": "61df2c0b",
   "metadata": {},
   "outputs": [
    {
     "name": "stdout",
     "output_type": "stream",
     "text": [
      "Adding axiom: ont_t_0_type_partition\n",
      "Parsing expression: ForAll([x], Or(activity(x), activity_occurrence(x), object_(x), event(x), transition(x))\n",
      "Parsing expression: Or(activity(x), activity_occurrence(x), object_(x), event(x), transition(x)\n",
      "Parsing expression: activity(x)\n",
      "Parsing expression: x\n",
      "Parsing expression: activity_occurrence(x)\n",
      "Parsing expression: x\n",
      "Parsing expression: object_(x)\n",
      "Parsing expression: x\n",
      "Parsing expression: event(x)\n",
      "Parsing expression: x\n",
      "Parsing expression: transition(x\n",
      "Parsing expression: x\n",
      "Adding axiom: ont_t_1_type_disjointness\n",
      "Parsing expression: ForAll([x], And(\n",
      "    Implies(activity(x), Not(Or(activity_occurrence(x), object_(x), event(x), transition(x)))),\n",
      "    Implies(activity_occurrence(x), Not(Or(object_(x), activity(x), event(x), transition(x)))),\n",
      "    Implies(object_(x), Not(Or(activity_occurrence(x), activity(x), event(x), transition(x)))),\n",
      "    Implies(event(x), Not(Or(activity_occurrence(x), activity(x), object_(x), transition(x)))),\n",
      "    Implies(transition(x), Not(Or(activity_occurrence(x), activity(x), object_(x), event(x))))))\n",
      "Parsing expression: And(\n",
      "    Implies(activity(x), Not(Or(activity_occurrence(x), object_(x), event(x), transition(x)))),\n",
      "    Implies(activity_occurrence(x), Not(Or(object_(x), activity(x), event(x), transition(x)))),\n",
      "    Implies(object_(x), Not(Or(activity_occurrence(x), activity(x), event(x), transition(x)))),\n",
      "    Implies(event(x), Not(Or(activity_occurrence(x), activity(x), object_(x), transition(x)))),\n",
      "    Implies(transition(x), Not(Or(activity_occurrence(x), activity(x), object_(x), event(x)))))\n",
      "Parsing expression: Implies(activity(x), Not(Or(activity_occurrence(x), object_(x), event(x), transition(x))))\n",
      "Parsing expression: activity(x)\n",
      "Parsing expression: x\n",
      "Parsing expression: Not(Or(activity_occurrence(x), object_(x), event(x), transition(x)))\n",
      "Parsing expression: Or(activity_occurrence(x), object_(x), event(x), transition(x))\n",
      "Parsing expression: activity_occurrence(x)\n",
      "Parsing expression: x\n",
      "Parsing expression: object_(x)\n",
      "Parsing expression: x\n",
      "Parsing expression: event(x)\n",
      "Parsing expression: x\n",
      "Parsing expression: transition(x)\n",
      "Parsing expression: x\n",
      "Parsing expression: Implies(activity_occurrence(x), Not(Or(object_(x), activity(x), event(x), transition(x))))\n",
      "Parsing expression: activity_occurrence(x)\n",
      "Parsing expression: x\n",
      "Parsing expression: Not(Or(object_(x), activity(x), event(x), transition(x)))\n",
      "Parsing expression: Or(object_(x), activity(x), event(x), transition(x))\n",
      "Parsing expression: object_(x)\n",
      "Parsing expression: x\n",
      "Parsing expression: activity(x)\n",
      "Parsing expression: x\n",
      "Parsing expression: event(x)\n",
      "Parsing expression: x\n",
      "Parsing expression: transition(x)\n",
      "Parsing expression: x\n",
      "Parsing expression: Implies(object_(x), Not(Or(activity_occurrence(x), activity(x), event(x), transition(x))))\n",
      "Parsing expression: object_(x)\n",
      "Parsing expression: x\n",
      "Parsing expression: Not(Or(activity_occurrence(x), activity(x), event(x), transition(x)))\n",
      "Parsing expression: Or(activity_occurrence(x), activity(x), event(x), transition(x))\n",
      "Parsing expression: activity_occurrence(x)\n",
      "Parsing expression: x\n",
      "Parsing expression: activity(x)\n",
      "Parsing expression: x\n",
      "Parsing expression: event(x)\n",
      "Parsing expression: x\n",
      "Parsing expression: transition(x)\n",
      "Parsing expression: x\n",
      "Parsing expression: Implies(event(x), Not(Or(activity_occurrence(x), activity(x), object_(x), transition(x))))\n",
      "Parsing expression: event(x)\n",
      "Parsing expression: x\n",
      "Parsing expression: Not(Or(activity_occurrence(x), activity(x), object_(x), transition(x)))\n",
      "Parsing expression: Or(activity_occurrence(x), activity(x), object_(x), transition(x))\n",
      "Parsing expression: activity_occurrence(x)\n",
      "Parsing expression: x\n",
      "Parsing expression: activity(x)\n",
      "Parsing expression: x\n",
      "Parsing expression: object_(x)\n",
      "Parsing expression: x\n",
      "Parsing expression: transition(x)\n",
      "Parsing expression: x\n",
      "Parsing expression: Implies(transition(x), Not(Or(activity_occurrence(x), activity(x), object_(x), event(x))))\n",
      "Parsing expression: transition(x)\n",
      "Parsing expression: x\n",
      "Parsing expression: Not(Or(activity_occurrence(x), activity(x), object_(x), event(x)))\n",
      "Parsing expression: Or(activity_occurrence(x), activity(x), object_(x), event(x))\n",
      "Parsing expression: activity_occurrence(x)\n",
      "Parsing expression: x\n",
      "Parsing expression: activity(x)\n",
      "Parsing expression: x\n",
      "Parsing expression: object_(x)\n",
      "Parsing expression: x\n",
      "Parsing expression: event(x)\n",
      "Parsing expression: x\n",
      "Adding axiom: ont_t_2_begin_unique\n",
      "Parsing expression: ForAll([x, t1, t2], Implies(And(begin_of(x) = t1, begin_of(x) = t2), (t1 = t2)))\n",
      "Parsing expression: Implies(And(begin_of(x) = t1, begin_of(x) = t2), (t1 = t2))\n",
      "Parsing expression: And(begin_of(x) = t1, begin_of(x) = t2)\n",
      "Parsing expression: begin_of(x) = t1\n",
      "Parsing expression: begin_of(x)\n",
      "Parsing expression: x\n",
      "Parsing expression: t1\n",
      "Parsing expression: begin_of(x) = t2\n",
      "Parsing expression: begin_of(x)\n",
      "Parsing expression: x\n",
      "Parsing expression: t2\n",
      "Parsing expression: (t1 = t2)\n",
      "Parsing expression: t1 = t2\n",
      "Parsing expression: t1\n",
      "Parsing expression: t2\n"
     ]
    },
    {
     "ename": "Z3Exception",
     "evalue": "Sort mismatch",
     "output_type": "error",
     "traceback": [
      "\u001b[0;31m---------------------------------------------------------------------------\u001b[0m",
      "\u001b[0;31mZ3Exception\u001b[0m                               Traceback (most recent call last)",
      "\u001b[0;32m/tmp/ipykernel_54495/2383874418.py\u001b[0m in \u001b[0;36m?\u001b[0;34m()\u001b[0m\n\u001b[0;32m----> 8\u001b[0;31m \u001b[0;32mfrom\u001b[0m \u001b[0mopal\u001b[0m\u001b[0;34m.\u001b[0m\u001b[0mlogic\u001b[0m\u001b[0;34m.\u001b[0m\u001b[0mz3\u001b[0m\u001b[0;34m.\u001b[0m\u001b[0mz3_ontology\u001b[0m \u001b[0;32mimport\u001b[0m \u001b[0mPSL_CORE_JSON\u001b[0m\u001b[0;34m\u001b[0m\u001b[0;34m\u001b[0m\u001b[0m\n\u001b[0m\u001b[1;32m      9\u001b[0m \u001b[0;32mfrom\u001b[0m \u001b[0mopal\u001b[0m\u001b[0;34m.\u001b[0m\u001b[0mlogic\u001b[0m\u001b[0;34m.\u001b[0m\u001b[0mz3\u001b[0m\u001b[0;34m.\u001b[0m\u001b[0mz3_ontology\u001b[0m \u001b[0;32mimport\u001b[0m \u001b[0mZ3Ontology\u001b[0m\u001b[0;34m\u001b[0m\u001b[0;34m\u001b[0m\u001b[0m\n\u001b[1;32m     10\u001b[0m \u001b[0;32mimport\u001b[0m \u001b[0mjson\u001b[0m\u001b[0;34m\u001b[0m\u001b[0;34m\u001b[0m\u001b[0m\n\u001b[1;32m     11\u001b[0m \u001b[0;34m\u001b[0m\u001b[0m\n",
      "\u001b[0;32m/workspaces/ProMean Lib/opal/logic/z3/z3_ontology.py\u001b[0m in \u001b[0;36m?\u001b[0;34m(cls, json_str, signature)\u001b[0m\n\u001b[1;32m     68\u001b[0m             \u001b[0;31m# Parse the axiom expression\u001b[0m\u001b[0;34m\u001b[0m\u001b[0;34m\u001b[0m\u001b[0m\n\u001b[1;32m     69\u001b[0m             \u001b[0ma_name\u001b[0m \u001b[0;34m=\u001b[0m \u001b[0;34mf\"ont_t_{i}_{axiom['name']}\"\u001b[0m\u001b[0;34m\u001b[0m\u001b[0;34m\u001b[0m\u001b[0m\n\u001b[1;32m     70\u001b[0m             \u001b[0mprint\u001b[0m\u001b[0;34m(\u001b[0m\u001b[0;34mf\"Adding axiom: {a_name}\"\u001b[0m\u001b[0;34m)\u001b[0m\u001b[0;34m\u001b[0m\u001b[0;34m\u001b[0m\u001b[0m\n\u001b[1;32m     71\u001b[0m             \u001b[0ma_description\u001b[0m \u001b[0;34m=\u001b[0m \u001b[0maxiom\u001b[0m\u001b[0;34m[\u001b[0m\u001b[0;34m'description'\u001b[0m\u001b[0;34m]\u001b[0m\u001b[0;34m\u001b[0m\u001b[0;34m\u001b[0m\u001b[0m\n\u001b[0;32m---> 72\u001b[0;31m             \u001b[0mexpr\u001b[0m \u001b[0;34m=\u001b[0m \u001b[0montology\u001b[0m\u001b[0;34m.\u001b[0m\u001b[0m_parse_expression\u001b[0m\u001b[0;34m(\u001b[0m\u001b[0maxiom\u001b[0m\u001b[0;34m[\u001b[0m\u001b[0;34m'axiom'\u001b[0m\u001b[0;34m]\u001b[0m\u001b[0;34m)\u001b[0m\u001b[0;34m\u001b[0m\u001b[0;34m\u001b[0m\u001b[0m\n\u001b[0m\u001b[1;32m     73\u001b[0m             axiom_dict = {\n\u001b[1;32m     74\u001b[0m             \u001b[0;34m'name'\u001b[0m\u001b[0;34m:\u001b[0m \u001b[0ma_name\u001b[0m\u001b[0;34m,\u001b[0m\u001b[0;34m\u001b[0m\u001b[0;34m\u001b[0m\u001b[0m\n\u001b[1;32m     75\u001b[0m             \u001b[0;34m'description'\u001b[0m\u001b[0;34m:\u001b[0m \u001b[0ma_description\u001b[0m\u001b[0;34m,\u001b[0m\u001b[0;34m\u001b[0m\u001b[0;34m\u001b[0m\u001b[0m\n",
      "\u001b[0;32m/workspaces/ProMean Lib/opal/logic/z3/z3_ontology.py\u001b[0m in \u001b[0;36m?\u001b[0;34m(self, expr_str, var_ctx)\u001b[0m\n\u001b[1;32m    183\u001b[0m                     \u001b[0;32melse\u001b[0m\u001b[0;34m:\u001b[0m\u001b[0;34m\u001b[0m\u001b[0;34m\u001b[0m\u001b[0m\n\u001b[1;32m    184\u001b[0m                         \u001b[0mvar_ctx\u001b[0m\u001b[0;34m[\u001b[0m\u001b[0mvar_name\u001b[0m\u001b[0;34m]\u001b[0m \u001b[0;34m=\u001b[0m \u001b[0mConst\u001b[0m\u001b[0;34m(\u001b[0m\u001b[0mvar_name\u001b[0m\u001b[0;34m,\u001b[0m \u001b[0mInd\u001b[0m\u001b[0;34m)\u001b[0m  \u001b[0;31m# default if not temporal\u001b[0m\u001b[0;34m\u001b[0m\u001b[0;34m\u001b[0m\u001b[0m\n\u001b[1;32m    185\u001b[0m                 \u001b[0mvars\u001b[0m\u001b[0;34m.\u001b[0m\u001b[0mappend\u001b[0m\u001b[0;34m(\u001b[0m\u001b[0mvar_ctx\u001b[0m\u001b[0;34m[\u001b[0m\u001b[0mvar_name\u001b[0m\u001b[0;34m]\u001b[0m\u001b[0;34m)\u001b[0m\u001b[0;34m\u001b[0m\u001b[0;34m\u001b[0m\u001b[0m\n\u001b[1;32m    186\u001b[0m \u001b[0;34m\u001b[0m\u001b[0m\n\u001b[0;32m--> 187\u001b[0;31m             \u001b[0;32mreturn\u001b[0m \u001b[0mLOGICAL_OPS\u001b[0m\u001b[0;34m[\u001b[0m\u001b[0mquantifier\u001b[0m\u001b[0;34m]\u001b[0m\u001b[0;34m(\u001b[0m\u001b[0mvars\u001b[0m\u001b[0;34m,\u001b[0m \u001b[0mself\u001b[0m\u001b[0;34m.\u001b[0m\u001b[0m_parse_expression\u001b[0m\u001b[0;34m(\u001b[0m\u001b[0mbody_part\u001b[0m\u001b[0;34m,\u001b[0m \u001b[0mvar_ctx\u001b[0m\u001b[0;34m)\u001b[0m\u001b[0;34m)\u001b[0m\u001b[0;34m\u001b[0m\u001b[0;34m\u001b[0m\u001b[0m\n\u001b[0m\u001b[1;32m    188\u001b[0m \u001b[0;34m\u001b[0m\u001b[0m\n\u001b[1;32m    189\u001b[0m         \u001b[0;31m# Function or logical operator with arguments (handle BEFORE binary operators)\u001b[0m\u001b[0;34m\u001b[0m\u001b[0;34m\u001b[0m\u001b[0m\n\u001b[1;32m    190\u001b[0m         \u001b[0;32mif\u001b[0m \u001b[0;34m'('\u001b[0m \u001b[0;32min\u001b[0m \u001b[0mexpr_str\u001b[0m \u001b[0;32mand\u001b[0m \u001b[0;32mnot\u001b[0m \u001b[0many\u001b[0m\u001b[0;34m(\u001b[0m\u001b[0mop\u001b[0m \u001b[0;32min\u001b[0m \u001b[0mexpr_str\u001b[0m \u001b[0;32mfor\u001b[0m \u001b[0mop\u001b[0m \u001b[0;32min\u001b[0m \u001b[0;34m[\u001b[0m\u001b[0;34m'>='\u001b[0m\u001b[0;34m,\u001b[0m \u001b[0;34m'<='\u001b[0m\u001b[0;34m,\u001b[0m \u001b[0;34m'=='\u001b[0m\u001b[0;34m,\u001b[0m \u001b[0;34m'>'\u001b[0m\u001b[0;34m,\u001b[0m \u001b[0;34m'<'\u001b[0m\u001b[0;34m,\u001b[0m \u001b[0;34m'='\u001b[0m\u001b[0;34m]\u001b[0m\u001b[0;34m)\u001b[0m\u001b[0;34m:\u001b[0m\u001b[0;34m\u001b[0m\u001b[0;34m\u001b[0m\u001b[0m\n",
      "\u001b[0;32m/workspaces/ProMean Lib/opal/logic/z3/z3_ontology.py\u001b[0m in \u001b[0;36m?\u001b[0;34m(self, expr_str, var_ctx)\u001b[0m\n\u001b[1;32m    224\u001b[0m \u001b[0;34m\u001b[0m\u001b[0m\n\u001b[1;32m    225\u001b[0m         \u001b[0;31m# Function calls with comparison operators inside\u001b[0m\u001b[0;34m\u001b[0m\u001b[0;34m\u001b[0m\u001b[0m\n\u001b[1;32m    226\u001b[0m         \u001b[0;32mif\u001b[0m \u001b[0;34m'('\u001b[0m \u001b[0;32min\u001b[0m \u001b[0mexpr_str\u001b[0m\u001b[0;34m:\u001b[0m\u001b[0;34m\u001b[0m\u001b[0;34m\u001b[0m\u001b[0m\n\u001b[1;32m    227\u001b[0m             \u001b[0mfunc_name\u001b[0m\u001b[0;34m,\u001b[0m \u001b[0minner\u001b[0m \u001b[0;34m=\u001b[0m \u001b[0mexpr_str\u001b[0m\u001b[0;34m.\u001b[0m\u001b[0msplit\u001b[0m\u001b[0;34m(\u001b[0m\u001b[0;34m'('\u001b[0m\u001b[0;34m,\u001b[0m \u001b[0;36m1\u001b[0m\u001b[0;34m)\u001b[0m\u001b[0;34m\u001b[0m\u001b[0;34m\u001b[0m\u001b[0m\n\u001b[0;32m--> 228\u001b[0;31m             \u001b[0minner_args\u001b[0m \u001b[0;34m=\u001b[0m \u001b[0;34m[\u001b[0m\u001b[0mself\u001b[0m\u001b[0;34m.\u001b[0m\u001b[0m_parse_expression\u001b[0m\u001b[0;34m(\u001b[0m\u001b[0marg\u001b[0m\u001b[0;34m.\u001b[0m\u001b[0mstrip\u001b[0m\u001b[0;34m(\u001b[0m\u001b[0;34m)\u001b[0m\u001b[0;34m,\u001b[0m \u001b[0mvar_ctx\u001b[0m\u001b[0;34m)\u001b[0m \u001b[0;32mfor\u001b[0m \u001b[0marg\u001b[0m \u001b[0;32min\u001b[0m \u001b[0mself\u001b[0m\u001b[0;34m.\u001b[0m\u001b[0m_split_arguments\u001b[0m\u001b[0;34m(\u001b[0m\u001b[0minner\u001b[0m\u001b[0;34m.\u001b[0m\u001b[0mrsplit\u001b[0m\u001b[0;34m(\u001b[0m\u001b[0;34m')'\u001b[0m\u001b[0;34m,\u001b[0m \u001b[0;36m1\u001b[0m\u001b[0;34m)\u001b[0m\u001b[0;34m[\u001b[0m\u001b[0;36m0\u001b[0m\u001b[0;34m]\u001b[0m\u001b[0;34m)\u001b[0m\u001b[0;34m]\u001b[0m\u001b[0;34m\u001b[0m\u001b[0;34m\u001b[0m\u001b[0m\n\u001b[0m\u001b[1;32m    229\u001b[0m             \u001b[0;32mif\u001b[0m \u001b[0mfunc_name\u001b[0m \u001b[0;32min\u001b[0m \u001b[0mLOGICAL_OPS\u001b[0m\u001b[0;34m:\u001b[0m\u001b[0;34m\u001b[0m\u001b[0;34m\u001b[0m\u001b[0m\n\u001b[1;32m    230\u001b[0m                 \u001b[0;32mreturn\u001b[0m \u001b[0mLOGICAL_OPS\u001b[0m\u001b[0;34m[\u001b[0m\u001b[0mfunc_name\u001b[0m\u001b[0;34m]\u001b[0m\u001b[0;34m(\u001b[0m\u001b[0;34m*\u001b[0m\u001b[0minner_args\u001b[0m\u001b[0;34m)\u001b[0m\u001b[0;34m\u001b[0m\u001b[0;34m\u001b[0m\u001b[0m\n\u001b[1;32m    231\u001b[0m             \u001b[0;32melif\u001b[0m \u001b[0mfunc_name\u001b[0m \u001b[0;32min\u001b[0m \u001b[0mself\u001b[0m\u001b[0;34m.\u001b[0m\u001b[0m_predicate_map\u001b[0m\u001b[0;34m:\u001b[0m\u001b[0;34m\u001b[0m\u001b[0;34m\u001b[0m\u001b[0m\n",
      "\u001b[0;32m/workspaces/ProMean Lib/opal/logic/z3/z3_ontology.py\u001b[0m in \u001b[0;36m?\u001b[0;34m(.0)\u001b[0m\n\u001b[0;32m--> 228\u001b[0;31m     \u001b[0;32mdef\u001b[0m \u001b[0m_parse_expression\u001b[0m\u001b[0;34m(\u001b[0m\u001b[0mself\u001b[0m\u001b[0;34m,\u001b[0m \u001b[0mexpr_str\u001b[0m\u001b[0;34m,\u001b[0m \u001b[0mvar_ctx\u001b[0m\u001b[0;34m=\u001b[0m\u001b[0;32mNone\u001b[0m\u001b[0;34m)\u001b[0m\u001b[0;34m:\u001b[0m\u001b[0;34m\u001b[0m\u001b[0;34m\u001b[0m\u001b[0m\n\u001b[0m\u001b[1;32m    229\u001b[0m         \"\"\"\n\u001b[1;32m    230\u001b[0m         \u001b[0mRecursively\u001b[0m \u001b[0mparses\u001b[0m \u001b[0ma\u001b[0m \u001b[0mlogical\u001b[0m \u001b[0mexpression\u001b[0m \u001b[0mstring\u001b[0m \u001b[0minto\u001b[0m \u001b[0mZ3\u001b[0m \u001b[0mobjects\u001b[0m\u001b[0;34m.\u001b[0m\u001b[0;34m\u001b[0m\u001b[0;34m\u001b[0m\u001b[0m\n\u001b[1;32m    231\u001b[0m \u001b[0;34m\u001b[0m\u001b[0m\n",
      "\u001b[0;32m/workspaces/ProMean Lib/opal/logic/z3/z3_ontology.py\u001b[0m in \u001b[0;36m?\u001b[0;34m(self, expr_str, var_ctx)\u001b[0m\n\u001b[1;32m    228\u001b[0m             \u001b[0minner_args\u001b[0m \u001b[0;34m=\u001b[0m \u001b[0;34m[\u001b[0m\u001b[0mself\u001b[0m\u001b[0;34m.\u001b[0m\u001b[0m_parse_expression\u001b[0m\u001b[0;34m(\u001b[0m\u001b[0marg\u001b[0m\u001b[0;34m.\u001b[0m\u001b[0mstrip\u001b[0m\u001b[0;34m(\u001b[0m\u001b[0;34m)\u001b[0m\u001b[0;34m,\u001b[0m \u001b[0mvar_ctx\u001b[0m\u001b[0;34m)\u001b[0m \u001b[0;32mfor\u001b[0m \u001b[0marg\u001b[0m \u001b[0;32min\u001b[0m \u001b[0mself\u001b[0m\u001b[0;34m.\u001b[0m\u001b[0m_split_arguments\u001b[0m\u001b[0;34m(\u001b[0m\u001b[0minner\u001b[0m\u001b[0;34m.\u001b[0m\u001b[0mrsplit\u001b[0m\u001b[0;34m(\u001b[0m\u001b[0;34m')'\u001b[0m\u001b[0;34m,\u001b[0m \u001b[0;36m1\u001b[0m\u001b[0;34m)\u001b[0m\u001b[0;34m[\u001b[0m\u001b[0;36m0\u001b[0m\u001b[0;34m]\u001b[0m\u001b[0;34m)\u001b[0m\u001b[0;34m]\u001b[0m\u001b[0;34m\u001b[0m\u001b[0;34m\u001b[0m\u001b[0m\n\u001b[1;32m    229\u001b[0m             \u001b[0;32mif\u001b[0m \u001b[0mfunc_name\u001b[0m \u001b[0;32min\u001b[0m \u001b[0mLOGICAL_OPS\u001b[0m\u001b[0;34m:\u001b[0m\u001b[0;34m\u001b[0m\u001b[0;34m\u001b[0m\u001b[0m\n\u001b[1;32m    230\u001b[0m                 \u001b[0;32mreturn\u001b[0m \u001b[0mLOGICAL_OPS\u001b[0m\u001b[0;34m[\u001b[0m\u001b[0mfunc_name\u001b[0m\u001b[0;34m]\u001b[0m\u001b[0;34m(\u001b[0m\u001b[0;34m*\u001b[0m\u001b[0minner_args\u001b[0m\u001b[0;34m)\u001b[0m\u001b[0;34m\u001b[0m\u001b[0;34m\u001b[0m\u001b[0m\n\u001b[1;32m    231\u001b[0m             \u001b[0;32melif\u001b[0m \u001b[0mfunc_name\u001b[0m \u001b[0;32min\u001b[0m \u001b[0mself\u001b[0m\u001b[0;34m.\u001b[0m\u001b[0m_predicate_map\u001b[0m\u001b[0;34m:\u001b[0m\u001b[0;34m\u001b[0m\u001b[0;34m\u001b[0m\u001b[0m\n\u001b[0;32m--> 232\u001b[0;31m                 \u001b[0;32mreturn\u001b[0m \u001b[0mself\u001b[0m\u001b[0;34m.\u001b[0m\u001b[0m_predicate_map\u001b[0m\u001b[0;34m[\u001b[0m\u001b[0mfunc_name\u001b[0m\u001b[0;34m]\u001b[0m\u001b[0;34m(\u001b[0m\u001b[0;34m*\u001b[0m\u001b[0minner_args\u001b[0m\u001b[0;34m)\u001b[0m\u001b[0;34m\u001b[0m\u001b[0;34m\u001b[0m\u001b[0m\n\u001b[0m\u001b[1;32m    233\u001b[0m             \u001b[0;32melse\u001b[0m\u001b[0;34m:\u001b[0m\u001b[0;34m\u001b[0m\u001b[0;34m\u001b[0m\u001b[0m\n\u001b[1;32m    234\u001b[0m                 \u001b[0mfunc\u001b[0m \u001b[0;34m=\u001b[0m \u001b[0mFunction\u001b[0m\u001b[0;34m(\u001b[0m\u001b[0mfunc_name\u001b[0m\u001b[0;34m,\u001b[0m \u001b[0;34m*\u001b[0m\u001b[0;34m(\u001b[0m\u001b[0;34m[\u001b[0m\u001b[0mInd\u001b[0m\u001b[0;34m]\u001b[0m \u001b[0;34m*\u001b[0m \u001b[0mlen\u001b[0m\u001b[0;34m(\u001b[0m\u001b[0minner_args\u001b[0m\u001b[0;34m)\u001b[0m\u001b[0;34m)\u001b[0m\u001b[0;34m,\u001b[0m \u001b[0mBoolSort\u001b[0m\u001b[0;34m(\u001b[0m\u001b[0;34m)\u001b[0m\u001b[0;34m)\u001b[0m\u001b[0;34m\u001b[0m\u001b[0;34m\u001b[0m\u001b[0m\n\u001b[1;32m    235\u001b[0m                 \u001b[0mself\u001b[0m\u001b[0;34m.\u001b[0m\u001b[0m_predicate_map\u001b[0m\u001b[0;34m[\u001b[0m\u001b[0mfunc_name\u001b[0m\u001b[0;34m]\u001b[0m \u001b[0;34m=\u001b[0m \u001b[0mfunc\u001b[0m\u001b[0;34m\u001b[0m\u001b[0;34m\u001b[0m\u001b[0m\n",
      "\u001b[0;32m~/.local/lib/python3.9/site-packages/z3/z3.py\u001b[0m in \u001b[0;36m?\u001b[0;34m(self, *args)\u001b[0m\n\u001b[1;32m    876\u001b[0m         \u001b[0msaved\u001b[0m \u001b[0;34m=\u001b[0m \u001b[0;34m[\u001b[0m\u001b[0;34m]\u001b[0m\u001b[0;34m\u001b[0m\u001b[0;34m\u001b[0m\u001b[0m\n\u001b[1;32m    877\u001b[0m         \u001b[0;32mfor\u001b[0m \u001b[0mi\u001b[0m \u001b[0;32min\u001b[0m \u001b[0mrange\u001b[0m\u001b[0;34m(\u001b[0m\u001b[0mnum\u001b[0m\u001b[0;34m)\u001b[0m\u001b[0;34m:\u001b[0m\u001b[0;34m\u001b[0m\u001b[0;34m\u001b[0m\u001b[0m\n\u001b[1;32m    878\u001b[0m             \u001b[0;31m# self.domain(i).cast(args[i]) may create a new Z3 expression,\u001b[0m\u001b[0;34m\u001b[0m\u001b[0;34m\u001b[0m\u001b[0m\n\u001b[1;32m    879\u001b[0m             \u001b[0;31m# then we must save in 'saved' to prevent it from being garbage collected.\u001b[0m\u001b[0;34m\u001b[0m\u001b[0;34m\u001b[0m\u001b[0m\n\u001b[0;32m--> 880\u001b[0;31m             \u001b[0mtmp\u001b[0m \u001b[0;34m=\u001b[0m \u001b[0mself\u001b[0m\u001b[0;34m.\u001b[0m\u001b[0mdomain\u001b[0m\u001b[0;34m(\u001b[0m\u001b[0mi\u001b[0m\u001b[0;34m)\u001b[0m\u001b[0;34m.\u001b[0m\u001b[0mcast\u001b[0m\u001b[0;34m(\u001b[0m\u001b[0margs\u001b[0m\u001b[0;34m[\u001b[0m\u001b[0mi\u001b[0m\u001b[0;34m]\u001b[0m\u001b[0;34m)\u001b[0m\u001b[0;34m\u001b[0m\u001b[0;34m\u001b[0m\u001b[0m\n\u001b[0m\u001b[1;32m    881\u001b[0m             \u001b[0msaved\u001b[0m\u001b[0;34m.\u001b[0m\u001b[0mappend\u001b[0m\u001b[0;34m(\u001b[0m\u001b[0mtmp\u001b[0m\u001b[0;34m)\u001b[0m\u001b[0;34m\u001b[0m\u001b[0;34m\u001b[0m\u001b[0m\n\u001b[1;32m    882\u001b[0m             \u001b[0m_args\u001b[0m\u001b[0;34m[\u001b[0m\u001b[0mi\u001b[0m\u001b[0;34m]\u001b[0m \u001b[0;34m=\u001b[0m \u001b[0mtmp\u001b[0m\u001b[0;34m.\u001b[0m\u001b[0mas_ast\u001b[0m\u001b[0;34m(\u001b[0m\u001b[0;34m)\u001b[0m\u001b[0;34m\u001b[0m\u001b[0;34m\u001b[0m\u001b[0m\n\u001b[1;32m    883\u001b[0m         \u001b[0;32mreturn\u001b[0m \u001b[0m_to_expr_ref\u001b[0m\u001b[0;34m(\u001b[0m\u001b[0mZ3_mk_app\u001b[0m\u001b[0;34m(\u001b[0m\u001b[0mself\u001b[0m\u001b[0;34m.\u001b[0m\u001b[0mctx_ref\u001b[0m\u001b[0;34m(\u001b[0m\u001b[0;34m)\u001b[0m\u001b[0;34m,\u001b[0m \u001b[0mself\u001b[0m\u001b[0;34m.\u001b[0m\u001b[0mast\u001b[0m\u001b[0;34m,\u001b[0m \u001b[0mlen\u001b[0m\u001b[0;34m(\u001b[0m\u001b[0margs\u001b[0m\u001b[0;34m)\u001b[0m\u001b[0;34m,\u001b[0m \u001b[0m_args\u001b[0m\u001b[0;34m)\u001b[0m\u001b[0;34m,\u001b[0m \u001b[0mself\u001b[0m\u001b[0;34m.\u001b[0m\u001b[0mctx\u001b[0m\u001b[0;34m)\u001b[0m\u001b[0;34m\u001b[0m\u001b[0;34m\u001b[0m\u001b[0m\n",
      "\u001b[0;32m~/.local/lib/python3.9/site-packages/z3/z3.py\u001b[0m in \u001b[0;36m?\u001b[0;34m(self, val)\u001b[0m\n\u001b[1;32m    615\u001b[0m         \u001b[0mToReal\u001b[0m\u001b[0;34m(\u001b[0m\u001b[0mx\u001b[0m\u001b[0;34m)\u001b[0m\u001b[0;34m\u001b[0m\u001b[0;34m\u001b[0m\u001b[0m\n\u001b[1;32m    616\u001b[0m         \"\"\"\n\u001b[1;32m    617\u001b[0m         \u001b[0;32mif\u001b[0m \u001b[0mz3_debug\u001b[0m\u001b[0;34m(\u001b[0m\u001b[0;34m)\u001b[0m\u001b[0;34m:\u001b[0m\u001b[0;34m\u001b[0m\u001b[0;34m\u001b[0m\u001b[0m\n\u001b[1;32m    618\u001b[0m             \u001b[0m_z3_assert\u001b[0m\u001b[0;34m(\u001b[0m\u001b[0mis_expr\u001b[0m\u001b[0;34m(\u001b[0m\u001b[0mval\u001b[0m\u001b[0;34m)\u001b[0m\u001b[0;34m,\u001b[0m \u001b[0;34m\"Z3 expression expected\"\u001b[0m\u001b[0;34m)\u001b[0m\u001b[0;34m\u001b[0m\u001b[0;34m\u001b[0m\u001b[0m\n\u001b[0;32m--> 619\u001b[0;31m             \u001b[0m_z3_assert\u001b[0m\u001b[0;34m(\u001b[0m\u001b[0mself\u001b[0m\u001b[0;34m.\u001b[0m\u001b[0meq\u001b[0m\u001b[0;34m(\u001b[0m\u001b[0mval\u001b[0m\u001b[0;34m.\u001b[0m\u001b[0msort\u001b[0m\u001b[0;34m(\u001b[0m\u001b[0;34m)\u001b[0m\u001b[0;34m)\u001b[0m\u001b[0;34m,\u001b[0m \u001b[0;34m\"Sort mismatch\"\u001b[0m\u001b[0;34m)\u001b[0m\u001b[0;34m\u001b[0m\u001b[0;34m\u001b[0m\u001b[0m\n\u001b[0m\u001b[1;32m    620\u001b[0m         \u001b[0;32mreturn\u001b[0m \u001b[0mval\u001b[0m\u001b[0;34m\u001b[0m\u001b[0;34m\u001b[0m\u001b[0m\n",
      "\u001b[0;32m~/.local/lib/python3.9/site-packages/z3/z3.py\u001b[0m in \u001b[0;36m?\u001b[0;34m(cond, msg)\u001b[0m\n\u001b[1;32m    113\u001b[0m \u001b[0;32mdef\u001b[0m \u001b[0m_z3_assert\u001b[0m\u001b[0;34m(\u001b[0m\u001b[0mcond\u001b[0m\u001b[0;34m,\u001b[0m \u001b[0mmsg\u001b[0m\u001b[0;34m)\u001b[0m\u001b[0;34m:\u001b[0m\u001b[0;34m\u001b[0m\u001b[0;34m\u001b[0m\u001b[0m\n\u001b[1;32m    114\u001b[0m     \u001b[0;32mif\u001b[0m \u001b[0;32mnot\u001b[0m \u001b[0mcond\u001b[0m\u001b[0;34m:\u001b[0m\u001b[0;34m\u001b[0m\u001b[0;34m\u001b[0m\u001b[0m\n\u001b[0;32m--> 115\u001b[0;31m         \u001b[0;32mraise\u001b[0m \u001b[0mZ3Exception\u001b[0m\u001b[0;34m(\u001b[0m\u001b[0mmsg\u001b[0m\u001b[0;34m)\u001b[0m\u001b[0;34m\u001b[0m\u001b[0;34m\u001b[0m\u001b[0m\n\u001b[0m",
      "\u001b[0;31mZ3Exception\u001b[0m: Sort mismatch"
     ]
    }
   ],
   "source": [
    "from opal.logic.z3.z3_ontology import Z3Ontology\n",
    "psl_core_smt2 = ''\n",
    "# Initialize the ontology\n",
    "ontology = Z3Ontology.from_smt2(psl_core_smt2)"
   ]
  },
  {
   "cell_type": "code",
   "execution_count": 9,
   "id": "45a75bf8",
   "metadata": {},
   "outputs": [],
   "source": [
    "#s = Solver()\n",
    "ref_taxonomy_path = '../../opal/logic/z3/ontologies/ref/reference_taxonomy.smt2'\n",
    "ref_z3 = parse_smt2_file(ref_taxonomy_path)"
   ]
  }
 ],
 "metadata": {
  "kernelspec": {
   "display_name": "base",
   "language": "python",
   "name": "python3"
  },
  "language_info": {
   "codemirror_mode": {
    "name": "ipython",
    "version": 3
   },
   "file_extension": ".py",
   "mimetype": "text/x-python",
   "name": "python",
   "nbconvert_exporter": "python",
   "pygments_lexer": "ipython3",
   "version": "3.9.21"
  }
 },
 "nbformat": 4,
 "nbformat_minor": 5
}
